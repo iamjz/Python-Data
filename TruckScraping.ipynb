{
 "cells": [
  {
   "cell_type": "code",
   "execution_count": 99,
   "metadata": {
    "collapsed": true
   },
   "outputs": [],
   "source": [
    "# import libraries\n",
    "import requests\n",
    "from bs4 import BeautifulSoup\n",
    "import pandas as pd\n",
    "import numpy as np"
   ]
  },
  {
   "cell_type": "code",
   "execution_count": 100,
   "metadata": {
    "collapsed": true
   },
   "outputs": [],
   "source": [
    "#url = \"http://www.truckstopsandservices.com/location_details.php?id=9796\"\n",
    "\n",
    "url = \"http://www.truckstopsandservices.com/location_details.php?id=5243\""
   ]
  },
  {
   "cell_type": "code",
   "execution_count": 101,
   "metadata": {},
   "outputs": [],
   "source": [
    "response = requests.get(url)"
   ]
  },
  {
   "cell_type": "code",
   "execution_count": 102,
   "metadata": {
    "collapsed": true
   },
   "outputs": [],
   "source": [
    "soup = BeautifulSoup(response.text, 'lxml')"
   ]
  },
  {
   "cell_type": "code",
   "execution_count": 115,
   "metadata": {
    "scrolled": false
   },
   "outputs": [],
   "source": [
    "##print(soup.get_text()[0:5000])\n",
    "\n",
    "##print(str(soup))"
   ]
  },
  {
   "cell_type": "code",
   "execution_count": 104,
   "metadata": {
    "collapsed": true
   },
   "outputs": [],
   "source": [
    "soupString = str(soup)"
   ]
  },
  {
   "cell_type": "code",
   "execution_count": 105,
   "metadata": {},
   "outputs": [],
   "source": [
    "lat = soupString.find(\"latitude\", 0)\n",
    "long = soupString.find(\"longitude\", 0)"
   ]
  },
  {
   "cell_type": "code",
   "execution_count": 106,
   "metadata": {},
   "outputs": [
    {
     "data": {
      "text/plain": [
       "'latitude\":\"35.899875'"
      ]
     },
     "execution_count": 106,
     "metadata": {},
     "output_type": "execute_result"
    }
   ],
   "source": [
    "soupString[lat:lat+20]"
   ]
  },
  {
   "cell_type": "code",
   "execution_count": 107,
   "metadata": {},
   "outputs": [
    {
     "data": {
      "text/plain": [
       "'longitude\":\"-84.781338\"'"
      ]
     },
     "execution_count": 107,
     "metadata": {},
     "output_type": "execute_result"
    }
   ],
   "source": [
    "soupString[long:long+23]"
   ]
  },
  {
   "cell_type": "code",
   "execution_count": 108,
   "metadata": {},
   "outputs": [
    {
     "data": {
      "text/plain": [
       "'name=\"keywords\"/>\\n<meta content=\"Find more information about Weigh Station and more businesses in ROCKWOOD on our large truck stop directory\" name=\"description\"/>\\n<link href=\"http://www.truckstopsands'"
      ]
     },
     "execution_count": 108,
     "metadata": {},
     "output_type": "execute_result"
    }
   ],
   "source": [
    "name = soupString.find(\"name\", 0)\n",
    "soupString[name:name+200]"
   ]
  },
  {
   "cell_type": "code",
   "execution_count": 109,
   "metadata": {},
   "outputs": [
    {
     "data": {
      "text/plain": [
       "'http://schema.org\",\"@type\":\"LocalBusiness\",\"@id\":\"//www.truckstopsandservices.com/location_details.php?id=5243\",\"name\":\"Weigh Station\",\"address\":{\"@type\":\"PostalAddress\",\"streetAddress\":\"\",\"addressLocality\":\"ROCKWOOD\",\"addressRegion\":\"TN\",\"postalCode\":\"\"},\"url\":\"\",\"geo\":{\"@type\":\"GeoCoordinates\",\"latitude\":\"35.899875\",\"longitude\":\"-84.781338\"},\"telephone\":\"\",\"image\":\"http://www.truckstopsandservices.com/use_images/ads/weighstation_new.jpg\"}</script></div><div class=\"innerwidth\"><div class=\"clearfix\"><div class=\"section centered\"><h2>This Trucking Database is Free Thanks to the Following Sponsors:</h2'"
      ]
     },
     "execution_count": 109,
     "metadata": {},
     "output_type": "execute_result"
    }
   ],
   "source": [
    "address = soupString.find(\"http://schema.org\", 0)\n",
    "\n",
    "soupString[address:address+700].replace(\"\\r\", \"\").replace(\"\\n\", \"\").replace(\"\\t\", \"\")"
   ]
  },
  {
   "cell_type": "code",
   "execution_count": 114,
   "metadata": {},
   "outputs": [
    {
     "data": {
      "text/plain": [
       "'WEIGH STATION'"
      ]
     },
     "execution_count": 114,
     "metadata": {},
     "output_type": "execute_result"
    }
   ],
   "source": [
    "pageType = soup.find(\"h1\", {\"class\", \"locdetupper\"})\n",
    "pageType.text"
   ]
  }
 ],
 "metadata": {
  "kernelspec": {
   "display_name": "Python 3",
   "language": "python",
   "name": "python3"
  },
  "language_info": {
   "codemirror_mode": {
    "name": "ipython",
    "version": 3
   },
   "file_extension": ".py",
   "mimetype": "text/x-python",
   "name": "python",
   "nbconvert_exporter": "python",
   "pygments_lexer": "ipython3",
   "version": "3.6.1"
  }
 },
 "nbformat": 4,
 "nbformat_minor": 2
}

{
 "cells": [
  {
   "cell_type": "code",
   "execution_count": 1,
   "metadata": {
    "collapsed": true
   },
   "outputs": [],
   "source": [
    "# import libraries\n",
    "import requests\n",
    "from bs4 import BeautifulSoup\n",
    "import pandas as pd\n",
    "import numpy as np"
   ]
  },
  {
   "cell_type": "code",
   "execution_count": 2,
   "metadata": {
    "collapsed": true,
    "scrolled": false
   },
   "outputs": [],
   "source": [
    "url = \"http://www.truckstopsandservices.com/location_details.php?id=5243\"\n",
    "response = requests.get(url)\n",
    "soup = BeautifulSoup(response.text, 'lxml')"
   ]
  },
  {
   "cell_type": "code",
   "execution_count": 3,
   "metadata": {},
   "outputs": [],
   "source": [
    "categoryLinks = soup.find(id=\"catlinks\")\n",
    "links = categoryLinks.findAll(\"a\")\n",
    "links = links"
   ]
  },
  {
   "cell_type": "code",
   "execution_count": 4,
   "metadata": {
    "scrolled": false
   },
   "outputs": [
    {
     "name": "stdout",
     "output_type": "stream",
     "text": [
      "*** Processing: Auto Repair\n",
      "Completed AutoRepair.csv | Count: 1671\n",
      "*** Processing: Axle Repairs\n",
      "Completed AxleRepairs.csv | Count: 2279\n",
      "*** Processing: Body Shop\n",
      "Completed BodyShop.csv | Count: 732\n",
      "*** Processing: Cartage Moves\n",
      "Completed CartageMoves.csv | Count: 459\n",
      "*** Processing: CAT Scale Locations\n",
      "Completed CATScaleLocations.csv | Count: 1586\n",
      "*** Processing: CB Shops\n",
      "Completed CBShops.csv | Count: 59\n",
      "*** Processing: Chrome Shops\n",
      "Completed ChromeShops.csv | Count: 268\n",
      "*** Processing: Environmental Clean up\n",
      "Completed EnvironmentalCleanup.csv | Count: 1474\n",
      "*** Processing: Fast Food With Truck Parking\n",
      "Completed FastFoodWithTruckParking.csv | Count: 1455\n",
      "*** Processing: Garages/Shops\n",
      "Completed GaragesShops.csv | Count: 4223\n",
      "*** Processing: Hydraulics\n",
      "Completed Hydraulics.csv | Count: 3100\n",
      "*** Processing: ICC Auth. - Insurance - Bonds - Permits\n",
      "Completed ICCAuthInsuranceBondsPermits.csv | Count: 49\n",
      "*** Processing: Load Storage - Cold or Dry\n",
      "Completed LoadStorageColdorDry.csv | Count: 1942\n",
      "*** Processing: Lock Out Services\n",
      "Completed LockOutServices.csv | Count: 3931\n",
      "*** Processing: Mobile Fueling\n",
      "Completed MobileFueling.csv | Count: 3774\n",
      "*** Processing: Mobile Truck/Trailer Repair\n",
      "Completed MobileTruckTrailerRepair.csv | Count: 5277\n",
      "*** Processing: Motels With Truck Parking / Specials\n",
      "Completed MotelsWithTruckParkingSpecials.csv | Count: 1072\n",
      "*** Processing: Oil and Lube\n",
      "Completed OilandLube.csv | Count: 3118\n",
      "*** Processing: Parts\n",
      "Completed Parts.csv | Count: 2280\n",
      "*** Processing: Pilot Car Companies\n",
      "Completed PilotCarCompanies.csv | Count: 1964\n",
      "*** Processing: Pilot Car Services & Insurance - Permits\n",
      "Completed PilotCarServicesInsurancePermits.csv | Count: 152\n",
      "*** Processing: Reefer Repairs\n",
      "Completed ReeferRepairs.csv | Count: 2433\n",
      "*** Processing: Rest Areas\n",
      "Completed RestAreas.csv | Count: 3328\n",
      "*** Processing: Restaurants With Truck Parking\n",
      "Completed RestaurantsWithTruckParking.csv | Count: 677\n",
      "*** Processing: RV Repair\n",
      "Completed RVRepair.csv | Count: 3145\n",
      "*** Processing: Secure Storage\n",
      "Completed SecureStorage.csv | Count: 3165\n",
      "*** Processing: Secure Trailer Drop Yard & Parking\n",
      "Completed SecureTrailerDropYardParking.csv | Count: 2167\n",
      "*** Processing: State Weigh Stations\n",
      "Completed StateWeighStations.csv | Count: 831\n",
      "*** Processing: Tire Repair / Sales\n",
      "Completed TireRepairSales.csv | Count: 4298\n",
      "*** Processing: Towing / Wrecker Service\n",
      "Completed TowingWreckerService.csv | Count: 4003\n",
      "*** Processing: Trailer Wash\n",
      "Completed TrailerWash.csv | Count: 352\n",
      "*** Processing: Trailer/ Tanker Wash Out\n",
      "Completed TrailerTankerWashOut.csv | Count: 517\n",
      "*** Processing: Transportation Brokers\n",
      "Completed TransportationBrokers.csv | Count: 395\n",
      "*** Processing: Truck / Trailer Dealers\n",
      "Completed TruckTrailerDealers.csv | Count: 895\n",
      "*** Processing: Truck / Trailer Repair\n",
      "Completed TruckTrailerRepair.csv | Count: 5003\n",
      "*** Processing: Truck Driving Jobs\n",
      "Completed TruckDrivingJobs.csv | Count: 67\n",
      "*** Processing: Truck Salvage\n",
      "Completed TruckSalvage.csv | Count: 516\n",
      "*** Processing: Truck Stops\n",
      "Completed TruckStops.csv | Count: 6305\n",
      "*** Processing: Truck Wash\n",
      "Completed TruckWash.csv | Count: 356\n",
      "*** Processing: Trucker Supplies/Acces./Safety Equip.\n",
      "Completed TruckerSuppliesAccesSafetyEquip.csv | Count: 334\n",
      "*** Processing: Wal Mart's With Truck Parking\n",
      "Completed WalMartsWithTruckParking.csv | Count: 769\n",
      "*** Processing: Wal Mart's Without Truck Parking\n",
      "Completed WalMartsWithoutTruckParking.csv | Count: 5128\n",
      "*** Processing: Welding\n",
      "Completed Welding.csv | Count: 4044\n"
     ]
    }
   ],
   "source": [
    "for l in links:\n",
    "    \n",
    "    businessType = []\n",
    "    businessId = []\n",
    "    businessName = []\n",
    "    \n",
    "    business_type = l.text\n",
    "    business_type_link = l[\"href\"]\n",
    "    \n",
    "    print(\"*** Processing:\", business_type)\n",
    "    \n",
    "    for x in range(1, 53):\n",
    "        business_type_link_state = business_type_link + \"&state=\" + str(x)\n",
    "        try:                       \n",
    "            response = requests.get(business_type_link_state)\n",
    "            soup = BeautifulSoup(response.text, 'lxml')\n",
    "\n",
    "            business_IDs = soup.find(id=\"locTable\")\n",
    "\n",
    "            if (business_IDs is not None):\n",
    "                business_IDs = business_IDs.findAll(\"a\")\n",
    "\n",
    "                for ids in business_IDs:\n",
    "                    business_name = ids.text\n",
    "                    business_id = ids[\"href\"]\n",
    "\n",
    "                    businessType.append(business_type)\n",
    "                    businessId.append(business_id)\n",
    "                    businessName.append(business_name)\n",
    "        except:\n",
    "            print(\"ERROR: \", business_type_link)\n",
    "            continue\n",
    "                \n",
    "\n",
    "    df = pd.DataFrame(businessType, columns = ['businessType'])\n",
    "    df[\"businessId\"] = businessId\n",
    "    df[\"businessName\"] = businessName\n",
    "    fileName = business_type.replace(\" \", \"\").replace(\"/\", \"\").replace(\".\", \"\").replace(\"-\", \"\").replace(\"'\", \"\").replace(\"&\",\"\") + \".csv\"\n",
    "\n",
    "    df.to_csv(\"datasets/trucking/\" + fileName, index=False)\n",
    "    print(\"Completed\", fileName, \"| Count:\", str(len(df)))\n"
   ]
  },
  {
   "cell_type": "code",
   "execution_count": null,
   "metadata": {
    "collapsed": true
   },
   "outputs": [],
   "source": []
  }
 ],
 "metadata": {
  "kernelspec": {
   "display_name": "Python 3",
   "language": "python",
   "name": "python3"
  },
  "language_info": {
   "codemirror_mode": {
    "name": "ipython",
    "version": 3
   },
   "file_extension": ".py",
   "mimetype": "text/x-python",
   "name": "python",
   "nbconvert_exporter": "python",
   "pygments_lexer": "ipython3",
   "version": "3.6.1"
  }
 },
 "nbformat": 4,
 "nbformat_minor": 2
}

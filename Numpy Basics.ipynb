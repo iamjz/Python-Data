{
 "cells": [
  {
   "cell_type": "code",
   "execution_count": 1,
   "metadata": {
    "collapsed": true
   },
   "outputs": [],
   "source": [
    "import csv\n",
    "\n",
    "with open('datasets/catsvdogs.csv') as f:\n",
    "    file = list(csv.reader(f, delimiter = ','))"
   ]
  },
  {
   "cell_type": "code",
   "execution_count": 2,
   "metadata": {
    "collapsed": false
   },
   "outputs": [
    {
     "name": "stdout",
     "output_type": "stream",
     "text": [
      "[['Location', 'Number of Households (in 1000)', 'Percentage of households with pets', 'Number of Pet Households (in 1000)', 'Percentage of Dog Owners', 'Dog Owning Households (1000s)', 'Mean Number of Dogs per household', 'Dog Population (in 1000)', 'Percentage of Cat Owners', 'Cat Owning Households', 'Mean Number of Cats', 'Cat Population'], ['Alabama', '1828', '60', '1088', '44', '807', '2', '1410', '27', '501', '3', '1252'], ['Arizona', '2515', '60', '1497', '40', '1008', '2', '1798', '30', '743', '2', '1438']]\n"
     ]
    }
   ],
   "source": [
    "print(file[:3])"
   ]
  },
  {
   "cell_type": "code",
   "execution_count": 3,
   "metadata": {
    "collapsed": false
   },
   "outputs": [
    {
     "name": "stdout",
     "output_type": "stream",
     "text": [
      "['Location', 'Number of Households (in 1000)', 'Percentage of households with pets', 'Number of Pet Households (in 1000)', 'Percentage of Dog Owners', 'Dog Owning Households (1000s)', 'Mean Number of Dogs per household', 'Dog Population (in 1000)', 'Percentage of Cat Owners', 'Cat Owning Households', 'Mean Number of Cats', 'Cat Population']\n"
     ]
    }
   ],
   "source": [
    "print(file[0])"
   ]
  },
  {
   "cell_type": "code",
   "execution_count": 4,
   "metadata": {
    "collapsed": false
   },
   "outputs": [
    {
     "name": "stdout",
     "output_type": "stream",
     "text": [
      "['Alabama', '1828', '60', '1088', '44', '807', '2', '1410', '27', '501', '3', '1252']\n"
     ]
    }
   ],
   "source": [
    "print(file[1])"
   ]
  },
  {
   "cell_type": "code",
   "execution_count": 8,
   "metadata": {
    "collapsed": false
   },
   "outputs": [],
   "source": [
    "pets_n = [int(item[3]) for item in file[1:]]"
   ]
  },
  {
   "cell_type": "code",
   "execution_count": 9,
   "metadata": {
    "collapsed": false
   },
   "outputs": [
    {
     "name": "stdout",
     "output_type": "stream",
     "text": [
      "1342.591836734694\n"
     ]
    }
   ],
   "source": [
    "print(sum(pets_n)/len(pets_n))"
   ]
  },
  {
   "cell_type": "code",
   "execution_count": 11,
   "metadata": {
    "collapsed": true
   },
   "outputs": [],
   "source": [
    "nums = [item[1:-1] for item in file[1:]]"
   ]
  },
  {
   "cell_type": "code",
   "execution_count": 12,
   "metadata": {
    "collapsed": true
   },
   "outputs": [],
   "source": [
    "states = [item[0] for item in file[1:]]"
   ]
  },
  {
   "cell_type": "code",
   "execution_count": 15,
   "metadata": {
    "collapsed": false
   },
   "outputs": [
    {
     "name": "stdout",
     "output_type": "stream",
     "text": [
      "[['1828', '60', '1088', '44', '807', '2', '1410', '27', '501', '3'], ['2515', '60', '1497', '40', '1008', '2', '1798', '30', '743', '2'], ['1148', '62', '716', '48', '550', '2', '1097', '31', '351', '2'], ['12974', '53', '6865', '33', '4260', '2', '6687', '28', '3687', '2'], ['1986', '61', '1217', '43', '845', '2', '1349', '32', '642', '2'], ['1337', '54', '728', '28', '379', '1', '507', '32', '427', '2'], ['334', '57', '189', '34', '113', '1', '163', '34', '113', '2'], ['287', '22', '63', '13', '38', '1', '42', '12', '33', '2'], ['7609', '54', '4138', '36', '2718', '2', '4210', '27', '2079', '2'], ['3798', '55', '2093', '40', '1522', '2', '2479', '27', '1037', '2']]\n"
     ]
    }
   ],
   "source": [
    "print(nums[:10])"
   ]
  },
  {
   "cell_type": "code",
   "execution_count": 16,
   "metadata": {
    "collapsed": false
   },
   "outputs": [
    {
     "name": "stdout",
     "output_type": "stream",
     "text": [
      "['Alabama', 'Arizona', 'Arkansas', 'California', 'Colorado', 'Connecticut', 'Delaware', 'District of Columbia', 'Florida', 'Georgia']\n"
     ]
    }
   ],
   "source": [
    "print(states[:10])"
   ]
  },
  {
   "cell_type": "markdown",
   "metadata": {},
   "source": [
    "## Arrays"
   ]
  },
  {
   "cell_type": "code",
   "execution_count": 18,
   "metadata": {
    "collapsed": true
   },
   "outputs": [],
   "source": [
    "import numpy as np"
   ]
  },
  {
   "cell_type": "code",
   "execution_count": 21,
   "metadata": {
    "collapsed": false
   },
   "outputs": [
    {
     "data": {
      "text/plain": [
       "array([[ 1828,    60,  1088,    44,   807,     2,  1410,    27,   501,\n",
       "            3],\n",
       "       [ 2515,    60,  1497,    40,  1008,     2,  1798,    30,   743,\n",
       "            2],\n",
       "       [ 1148,    62,   716,    48,   550,     2,  1097,    31,   351,\n",
       "            2],\n",
       "       [12974,    53,  6865,    33,  4260,     2,  6687,    28,  3687,\n",
       "            2],\n",
       "       [ 1986,    61,  1217,    43,   845,     2,  1349,    32,   642,\n",
       "            2]])"
      ]
     },
     "execution_count": 21,
     "metadata": {},
     "output_type": "execute_result"
    }
   ],
   "source": [
    "pets = np.array(nums, dtype = np.int)\n",
    "pets[:5]"
   ]
  },
  {
   "cell_type": "code",
   "execution_count": 22,
   "metadata": {
    "collapsed": false
   },
   "outputs": [
    {
     "data": {
      "text/plain": [
       "(49, 10)"
      ]
     },
     "execution_count": 22,
     "metadata": {},
     "output_type": "execute_result"
    }
   ],
   "source": [
    "pets.shape"
   ]
  },
  {
   "cell_type": "code",
   "execution_count": 23,
   "metadata": {
    "collapsed": false
   },
   "outputs": [
    {
     "data": {
      "text/plain": [
       "array([2, 3, 1, 0])"
      ]
     },
     "execution_count": 23,
     "metadata": {},
     "output_type": "execute_result"
    }
   ],
   "source": [
    "np.array([2, 3, 1, 0])"
   ]
  },
  {
   "cell_type": "code",
   "execution_count": 26,
   "metadata": {
    "collapsed": false
   },
   "outputs": [
    {
     "data": {
      "text/plain": [
       "array([[ 1.,  2.],\n",
       "       [ 0.,  0.],\n",
       "       [ 6.,  3.]])"
      ]
     },
     "execution_count": 26,
     "metadata": {},
     "output_type": "execute_result"
    }
   ],
   "source": [
    "np.array([[1,2.0], [0,0], (1+5, 3.0)])"
   ]
  },
  {
   "cell_type": "code",
   "execution_count": 27,
   "metadata": {
    "collapsed": false
   },
   "outputs": [
    {
     "data": {
      "text/plain": [
       "array(['x', 'y', '0', '1'], \n",
       "      dtype='<U1')"
      ]
     },
     "execution_count": 27,
     "metadata": {},
     "output_type": "execute_result"
    }
   ],
   "source": [
    "np.array(['x', 'y', 0, 1])"
   ]
  },
  {
   "cell_type": "code",
   "execution_count": 28,
   "metadata": {
    "collapsed": false
   },
   "outputs": [
    {
     "data": {
      "text/plain": [
       "array([[ 0.,  0.,  0.,  0.,  0.],\n",
       "       [ 0.,  0.,  0.,  0.,  0.],\n",
       "       [ 0.,  0.,  0.,  0.,  0.],\n",
       "       [ 0.,  0.,  0.,  0.,  0.]])"
      ]
     },
     "execution_count": 28,
     "metadata": {},
     "output_type": "execute_result"
    }
   ],
   "source": [
    "np.zeros((4, 5))"
   ]
  },
  {
   "cell_type": "code",
   "execution_count": 30,
   "metadata": {
    "collapsed": false
   },
   "outputs": [
    {
     "data": {
      "text/plain": [
       "array([0, 1, 2, 3, 4, 5])"
      ]
     },
     "execution_count": 30,
     "metadata": {},
     "output_type": "execute_result"
    }
   ],
   "source": [
    "np.arange(6)"
   ]
  },
  {
   "cell_type": "code",
   "execution_count": 31,
   "metadata": {
    "collapsed": false
   },
   "outputs": [
    {
     "data": {
      "text/plain": [
       "array([ 2.,  3.,  4.,  5.,  6.,  7.,  8.,  9.])"
      ]
     },
     "execution_count": 31,
     "metadata": {},
     "output_type": "execute_result"
    }
   ],
   "source": [
    "np.arange(2, 10, dtype = np.float)"
   ]
  },
  {
   "cell_type": "code",
   "execution_count": 36,
   "metadata": {
    "collapsed": false
   },
   "outputs": [
    {
     "data": {
      "text/plain": [
       "array([ 2. ,  2.5,  3. ,  3.5,  4. ,  4.5,  5. ,  5.5])"
      ]
     },
     "execution_count": 36,
     "metadata": {},
     "output_type": "execute_result"
    }
   ],
   "source": [
    "# the third parameter becomes interval spacing\n",
    "\n",
    "np.arange(2, 6, 0.5)"
   ]
  },
  {
   "cell_type": "code",
   "execution_count": 37,
   "metadata": {
    "collapsed": false
   },
   "outputs": [
    {
     "data": {
      "text/plain": [
       "array([[ 0.46953145,  0.87071054],\n",
       "       [ 0.51315535,  0.6050161 ]])"
      ]
     },
     "execution_count": 37,
     "metadata": {},
     "output_type": "execute_result"
    }
   ],
   "source": [
    "np.random.rand(2,2)"
   ]
  },
  {
   "cell_type": "markdown",
   "metadata": {},
   "source": [
    "### Array Indexing"
   ]
  },
  {
   "cell_type": "code",
   "execution_count": 40,
   "metadata": {
    "collapsed": false
   },
   "outputs": [
    {
     "data": {
      "text/plain": [
       "1217"
      ]
     },
     "execution_count": 40,
     "metadata": {},
     "output_type": "execute_result"
    }
   ],
   "source": [
    "# get row index = 4 and column index = 2\n",
    "pets[4, 2]"
   ]
  },
  {
   "cell_type": "code",
   "execution_count": 42,
   "metadata": {
    "collapsed": false
   },
   "outputs": [
    {
     "data": {
      "text/plain": [
       "array([44, 40, 48, 33, 43, 28, 34, 13, 36, 40])"
      ]
     },
     "execution_count": 42,
     "metadata": {},
     "output_type": "execute_result"
    }
   ],
   "source": [
    "# get first 10 rows, and only the 4th column\n",
    "pets[0:10, 3] "
   ]
  },
  {
   "cell_type": "code",
   "execution_count": 43,
   "metadata": {
    "collapsed": false
   },
   "outputs": [
    {
     "data": {
      "text/plain": [
       "array([12974,    53,  6865,    33,  4260,     2,  6687,    28,  3687,     2])"
      ]
     },
     "execution_count": 43,
     "metadata": {},
     "output_type": "execute_result"
    }
   ],
   "source": [
    "# get entire 4th column\n",
    "pets[3,]"
   ]
  },
  {
   "cell_type": "markdown",
   "metadata": {},
   "source": [
    "### Modifying Array"
   ]
  },
  {
   "cell_type": "code",
   "execution_count": 44,
   "metadata": {
    "collapsed": true
   },
   "outputs": [],
   "source": [
    "pets_cp = np.copy(pets)"
   ]
  },
  {
   "cell_type": "code",
   "execution_count": 47,
   "metadata": {
    "collapsed": false
   },
   "outputs": [
    {
     "name": "stdout",
     "output_type": "stream",
     "text": [
      "2\n",
      "40\n"
     ]
    }
   ],
   "source": [
    "pets_cp[4, 5] = 40\n",
    "\n",
    "print(pets[4, 5])\n",
    "print(pets_cp[4, 5])"
   ]
  },
  {
   "cell_type": "code",
   "execution_count": 51,
   "metadata": {
    "collapsed": false
   },
   "outputs": [
    {
     "name": "stdout",
     "output_type": "stream",
     "text": [
      "[400 400 400 400 400]\n"
     ]
    }
   ],
   "source": [
    "# change enite 4th column to values of 400\n",
    "pets_cp[:,3] = 400\n",
    "\n",
    "print(pets_cp[0:5, 3])"
   ]
  },
  {
   "cell_type": "markdown",
   "metadata": {},
   "source": [
    "### Math"
   ]
  },
  {
   "cell_type": "code",
   "execution_count": 52,
   "metadata": {
    "collapsed": false
   },
   "outputs": [
    {
     "data": {
      "text/plain": [
       "array([44, 40, 48, 33, 43, 28, 34, 13, 36, 40, 43, 32, 40, 33, 42, 46, 36,\n",
       "       35, 31, 24, 35, 32, 45, 46, 41, 34, 37, 30, 32, 46, 29, 40, 36, 37,\n",
       "       43, 39, 33, 29, 39, 43, 44, 44, 29, 38, 35, 36, 46, 34, 39])"
      ]
     },
     "execution_count": 52,
     "metadata": {},
     "output_type": "execute_result"
    }
   ],
   "source": [
    "pets[:,3]"
   ]
  },
  {
   "cell_type": "code",
   "execution_count": 53,
   "metadata": {
    "collapsed": false
   },
   "outputs": [
    {
     "data": {
      "text/plain": [
       "array([144, 140, 148, 133, 143, 128, 134, 113, 136, 140, 143, 132, 140,\n",
       "       133, 142, 146, 136, 135, 131, 124, 135, 132, 145, 146, 141, 134,\n",
       "       137, 130, 132, 146, 129, 140, 136, 137, 143, 139, 133, 129, 139,\n",
       "       143, 144, 144, 129, 138, 135, 136, 146, 134, 139])"
      ]
     },
     "execution_count": 53,
     "metadata": {},
     "output_type": "execute_result"
    }
   ],
   "source": [
    "pets[:, 3] + 100"
   ]
  },
  {
   "cell_type": "code",
   "execution_count": 55,
   "metadata": {
    "collapsed": false
   },
   "outputs": [
    {
     "data": {
      "text/plain": [
       "array([43, 39, 47, 32, 42, 27, 33, 12, 35, 39, 42, 31, 39, 32, 41, 45, 35,\n",
       "       34, 30, 23, 34, 31, 44, 45, 40, 33, 36, 29, 31, 45, 28, 39, 35, 36,\n",
       "       42, 38, 32, 28, 38, 42, 43, 43, 28, 37, 34, 35, 45, 33, 38])"
      ]
     },
     "execution_count": 55,
     "metadata": {},
     "output_type": "execute_result"
    }
   ],
   "source": [
    "pets[:,3] - 1"
   ]
  },
  {
   "cell_type": "code",
   "execution_count": 56,
   "metadata": {
    "collapsed": false
   },
   "outputs": [
    {
     "data": {
      "text/plain": [
       "array([ 0.44,  0.4 ,  0.48,  0.33,  0.43,  0.28,  0.34,  0.13,  0.36,\n",
       "        0.4 ,  0.43,  0.32,  0.4 ,  0.33,  0.42,  0.46,  0.36,  0.35,\n",
       "        0.31,  0.24,  0.35,  0.32,  0.45,  0.46,  0.41,  0.34,  0.37,\n",
       "        0.3 ,  0.32,  0.46,  0.29,  0.4 ,  0.36,  0.37,  0.43,  0.39,\n",
       "        0.33,  0.29,  0.39,  0.43,  0.44,  0.44,  0.29,  0.38,  0.35,\n",
       "        0.36,  0.46,  0.34,  0.39])"
      ]
     },
     "execution_count": 56,
     "metadata": {},
     "output_type": "execute_result"
    }
   ],
   "source": [
    "pets[:,3] * 0.01"
   ]
  },
  {
   "cell_type": "code",
   "execution_count": 57,
   "metadata": {
    "collapsed": false
   },
   "outputs": [
    {
     "data": {
      "text/plain": [
       "array([ 0.44,  0.4 ,  0.48,  0.33,  0.43,  0.28,  0.34,  0.13,  0.36,\n",
       "        0.4 ,  0.43,  0.32,  0.4 ,  0.33,  0.42,  0.46,  0.36,  0.35,\n",
       "        0.31,  0.24,  0.35,  0.32,  0.45,  0.46,  0.41,  0.34,  0.37,\n",
       "        0.3 ,  0.32,  0.46,  0.29,  0.4 ,  0.36,  0.37,  0.43,  0.39,\n",
       "        0.33,  0.29,  0.39,  0.43,  0.44,  0.44,  0.29,  0.38,  0.35,\n",
       "        0.36,  0.46,  0.34,  0.39])"
      ]
     },
     "execution_count": 57,
     "metadata": {},
     "output_type": "execute_result"
    }
   ],
   "source": [
    "pets[:,3] / 100"
   ]
  },
  {
   "cell_type": "code",
   "execution_count": 58,
   "metadata": {
    "collapsed": false
   },
   "outputs": [
    {
     "data": {
      "text/plain": [
       "array([1936, 1600, 2304, 1089, 1849,  784, 1156,  169, 1296, 1600, 1849,\n",
       "       1024, 1600, 1089, 1764, 2116, 1296, 1225,  961,  576, 1225, 1024,\n",
       "       2025, 2116, 1681, 1156, 1369,  900, 1024, 2116,  841, 1600, 1296,\n",
       "       1369, 1849, 1521, 1089,  841, 1521, 1849, 1936, 1936,  841, 1444,\n",
       "       1225, 1296, 2116, 1156, 1521])"
      ]
     },
     "execution_count": 58,
     "metadata": {},
     "output_type": "execute_result"
    }
   ],
   "source": [
    "pets[:, 3] * pets[:, 3]"
   ]
  },
  {
   "cell_type": "code",
   "execution_count": 59,
   "metadata": {
    "collapsed": false
   },
   "outputs": [
    {
     "data": {
      "text/plain": [
       "1812"
      ]
     },
     "execution_count": 59,
     "metadata": {},
     "output_type": "execute_result"
    }
   ],
   "source": [
    "pets[:, 3].sum()"
   ]
  },
  {
   "cell_type": "code",
   "execution_count": 60,
   "metadata": {
    "collapsed": false
   },
   "outputs": [
    {
     "data": {
      "text/plain": [
       "36.979591836734691"
      ]
     },
     "execution_count": 60,
     "metadata": {},
     "output_type": "execute_result"
    }
   ],
   "source": [
    "pets[:, 3].mean()"
   ]
  },
  {
   "cell_type": "code",
   "execution_count": 61,
   "metadata": {
    "collapsed": false
   },
   "outputs": [
    {
     "data": {
      "text/plain": [
       "36.979591836734691"
      ]
     },
     "execution_count": 61,
     "metadata": {},
     "output_type": "execute_result"
    }
   ],
   "source": [
    "pets[:, 3].sum()/len(pets[:, 3])"
   ]
  },
  {
   "cell_type": "code",
   "execution_count": 62,
   "metadata": {
    "collapsed": false
   },
   "outputs": [
    {
     "data": {
      "text/plain": [
       "6.6378315733881088"
      ]
     },
     "execution_count": 62,
     "metadata": {},
     "output_type": "execute_result"
    }
   ],
   "source": [
    "pets[:,3].std()"
   ]
  },
  {
   "cell_type": "code",
   "execution_count": 63,
   "metadata": {
    "collapsed": false
   },
   "outputs": [
    {
     "data": {
      "text/plain": [
       "13"
      ]
     },
     "execution_count": 63,
     "metadata": {},
     "output_type": "execute_result"
    }
   ],
   "source": [
    "pets[:, 3].min()"
   ]
  },
  {
   "cell_type": "code",
   "execution_count": 64,
   "metadata": {
    "collapsed": false
   },
   "outputs": [
    {
     "data": {
      "text/plain": [
       "48"
      ]
     },
     "execution_count": 64,
     "metadata": {},
     "output_type": "execute_result"
    }
   ],
   "source": [
    "pets[:, 3].max()"
   ]
  },
  {
   "cell_type": "code",
   "execution_count": 69,
   "metadata": {
    "collapsed": false
   },
   "outputs": [
    {
     "name": "stdout",
     "output_type": "stream",
     "text": [
      "(10, 49)\n"
     ]
    }
   ],
   "source": [
    "pets_transposed = pets.transpose()\n",
    "print(pets_transposed.shape)"
   ]
  },
  {
   "cell_type": "markdown",
   "metadata": {},
   "source": [
    "### Subsets"
   ]
  },
  {
   "cell_type": "code",
   "execution_count": 70,
   "metadata": {
    "collapsed": false
   },
   "outputs": [
    {
     "data": {
      "text/plain": [
       "array([False, False,  True, False, False, False, False, False, False,\n",
       "       False, False, False, False, False, False,  True, False, False,\n",
       "       False, False, False, False, False,  True, False, False, False,\n",
       "       False, False,  True, False, False, False, False, False, False,\n",
       "       False, False, False, False, False, False, False, False, False,\n",
       "       False,  True, False, False], dtype=bool)"
      ]
     },
     "execution_count": 70,
     "metadata": {},
     "output_type": "execute_result"
    }
   ],
   "source": [
    "pets[:, 3] > 45"
   ]
  },
  {
   "cell_type": "code",
   "execution_count": 72,
   "metadata": {
    "collapsed": false
   },
   "outputs": [
    {
     "data": {
      "text/plain": [
       "array([[1148,   62,  716,   48,  550,    2, 1097,   31,  351,    2],\n",
       "       [1777,   62, 1094,   46,  816,    2, 1531,   37,  654,    2],\n",
       "       [2498,   61, 1534,   46, 1148,    2, 1978,   32,  805,    2],\n",
       "       [ 773,   68,  523,   46,  356,    2,  703,   32,  247,    2],\n",
       "       [ 765,   62,  475,   46,  350,    2,  648,   38,  291,    2]])"
      ]
     },
     "execution_count": 72,
     "metadata": {},
     "output_type": "execute_result"
    }
   ],
   "source": [
    "many_dogs = pets[:, 3] > 45\n",
    "pets[many_dogs, :]"
   ]
  },
  {
   "cell_type": "code",
   "execution_count": 75,
   "metadata": {
    "collapsed": false
   },
   "outputs": [
    {
     "data": {
      "text/plain": [
       "array([[1148,   62,  716,   48,  550,    2, 1097,   31,  351,    2],\n",
       "       [1986,   61, 1217,   43,  845,    2, 1349,   32,  642,    2],\n",
       "       [ 568,   62,  352,   43,  242,    2,  357,   35,  196,    2],\n",
       "       [1133,   61,  691,   42,  480,    2,  774,   33,  378,    2],\n",
       "       [1777,   62, 1094,   46,  816,    2, 1531,   37,  654,    2],\n",
       "       [2498,   61, 1534,   46, 1148,    2, 1978,   32,  805,    2],\n",
       "       [ 410,   61,  251,   41,  169,    2,  282,   34,  138,    2],\n",
       "       [ 773,   68,  523,   46,  356,    2,  703,   32,  247,    2],\n",
       "       [1479,   59,  872,   43,  638,    2, 1327,   33,  482,    2],\n",
       "       [ 333,   66,  219,   43,  143,    2,  220,   39,  130,    2],\n",
       "       [ 765,   62,  475,   46,  350,    2,  648,   38,  291,    2]])"
      ]
     },
     "execution_count": 75,
     "metadata": {},
     "output_type": "execute_result"
    }
   ],
   "source": [
    "many_pets = (pets[:,3] > 40) & (pets[:,7] > 30)\n",
    "pets[many_pets, :]"
   ]
  },
  {
   "cell_type": "code",
   "execution_count": 76,
   "metadata": {
    "collapsed": true
   },
   "outputs": [],
   "source": [
    "states_arr = np.array(states)"
   ]
  },
  {
   "cell_type": "code",
   "execution_count": 77,
   "metadata": {
    "collapsed": false
   },
   "outputs": [
    {
     "name": "stdout",
     "output_type": "stream",
     "text": [
      "['Alabama' 'Arizona' 'Arkansas' 'California' 'Colorado' 'Connecticut'\n",
      " 'Delaware' 'District of Columbia' 'Florida' 'Georgia' 'Idaho' 'Illinois'\n",
      " 'Indiana' 'Iowa' 'Kansas' 'Kentucky' 'Louisiana' 'Maine' 'Maryland'\n",
      " 'Massachusetts' 'Michigan' 'Minnesota' 'Mississippi' 'Missouri' 'Montana'\n",
      " 'Nebraska' 'Nevada' 'New Hampshire' 'New Jersey' 'New Mexico' 'New York'\n",
      " 'North Carolina' 'North Dakota' 'Ohio' 'Oklahoma' 'Oregon' 'Pennsylvania'\n",
      " 'Rhode Island' 'South Carolina' 'South Dakota' 'Tennessee' 'Texas' 'Utah'\n",
      " 'Vermont' 'Virginia' 'Washington' 'West Virginia' 'Wisconsin' 'Wyoming']\n"
     ]
    }
   ],
   "source": [
    "print(states_arr)"
   ]
  },
  {
   "cell_type": "code",
   "execution_count": 78,
   "metadata": {
    "collapsed": true
   },
   "outputs": [],
   "source": [
    "states_reshape = states_arr.reshape(49, 1)"
   ]
  },
  {
   "cell_type": "code",
   "execution_count": 79,
   "metadata": {
    "collapsed": false
   },
   "outputs": [
    {
     "name": "stdout",
     "output_type": "stream",
     "text": [
      "[['Alabama']\n",
      " ['Arizona']\n",
      " ['Arkansas']\n",
      " ['California']\n",
      " ['Colorado']\n",
      " ['Connecticut']\n",
      " ['Delaware']\n",
      " ['District of Columbia']\n",
      " ['Florida']\n",
      " ['Georgia']\n",
      " ['Idaho']\n",
      " ['Illinois']\n",
      " ['Indiana']\n",
      " ['Iowa']\n",
      " ['Kansas']\n",
      " ['Kentucky']\n",
      " ['Louisiana']\n",
      " ['Maine']\n",
      " ['Maryland']\n",
      " ['Massachusetts']\n",
      " ['Michigan']\n",
      " ['Minnesota']\n",
      " ['Mississippi']\n",
      " ['Missouri']\n",
      " ['Montana']\n",
      " ['Nebraska']\n",
      " ['Nevada']\n",
      " ['New Hampshire']\n",
      " ['New Jersey']\n",
      " ['New Mexico']\n",
      " ['New York']\n",
      " ['North Carolina']\n",
      " ['North Dakota']\n",
      " ['Ohio']\n",
      " ['Oklahoma']\n",
      " ['Oregon']\n",
      " ['Pennsylvania']\n",
      " ['Rhode Island']\n",
      " ['South Carolina']\n",
      " ['South Dakota']\n",
      " ['Tennessee']\n",
      " ['Texas']\n",
      " ['Utah']\n",
      " ['Vermont']\n",
      " ['Virginia']\n",
      " ['Washington']\n",
      " ['West Virginia']\n",
      " ['Wisconsin']\n",
      " ['Wyoming']]\n"
     ]
    }
   ],
   "source": [
    "print(states_reshape)"
   ]
  },
  {
   "cell_type": "code",
   "execution_count": 81,
   "metadata": {
    "collapsed": false
   },
   "outputs": [
    {
     "name": "stdout",
     "output_type": "stream",
     "text": [
      "['Alabama' 'Arizona' 'Arkansas' 'California' 'Colorado' 'Connecticut'\n",
      " 'Delaware' 'District of Columbia' 'Florida' 'Georgia' 'Idaho' 'Illinois'\n",
      " 'Indiana' 'Iowa' 'Kansas' 'Kentucky' 'Louisiana' 'Maine' 'Maryland'\n",
      " 'Massachusetts' 'Michigan' 'Minnesota' 'Mississippi' 'Missouri' 'Montana'\n",
      " 'Nebraska' 'Nevada' 'New Hampshire' 'New Jersey' 'New Mexico' 'New York'\n",
      " 'North Carolina' 'North Dakota' 'Ohio' 'Oklahoma' 'Oregon' 'Pennsylvania'\n",
      " 'Rhode Island' 'South Carolina' 'South Dakota' 'Tennessee' 'Texas' 'Utah'\n",
      " 'Vermont' 'Virginia' 'Washington' 'West Virginia' 'Wisconsin' 'Wyoming']\n"
     ]
    }
   ],
   "source": [
    "states_transposed = states_arr.transpose()\n",
    "print(states_transposed)"
   ]
  },
  {
   "cell_type": "markdown",
   "metadata": {},
   "source": [
    "### Joining Arrays"
   ]
  },
  {
   "cell_type": "code",
   "execution_count": 83,
   "metadata": {
    "collapsed": false
   },
   "outputs": [
    {
     "name": "stdout",
     "output_type": "stream",
     "text": [
      "[['1828' '60' '1088' '44' '807' '2' '1410' '27' '501' '3' 'Alabama']\n",
      " ['2515' '60' '1497' '40' '1008' '2' '1798' '30' '743' '2' 'Arizona']\n",
      " ['1148' '62' '716' '48' '550' '2' '1097' '31' '351' '2' 'Arkansas']\n",
      " ['12974' '53' '6865' '33' '4260' '2' '6687' '28' '3687' '2' 'California']\n",
      " ['1986' '61' '1217' '43' '845' '2' '1349' '32' '642' '2' 'Colorado']\n",
      " ['1337' '54' '728' '28' '379' '1' '507' '32' '427' '2' 'Connecticut']\n",
      " ['334' '57' '189' '34' '113' '1' '163' '34' '113' '2' 'Delaware']\n",
      " ['287' '22' '63' '13' '38' '1' '42' '12' '33' '2' 'District of Columbia']\n",
      " ['7609' '54' '4138' '36' '2718' '2' '4210' '27' '2079' '2' 'Florida']\n",
      " ['3798' '55' '2093' '40' '1522' '2' '2479' '27' '1037' '2' 'Georgia']\n",
      " ['568' '62' '352' '43' '242' '2' '357' '35' '196' '2' 'Idaho']\n",
      " ['5026' '52' '2602' '32' '1627' '2' '2365' '26' '1321' '2' 'Illinois']\n",
      " ['2478' '60' '1484' '40' '989' '2' '1619' '34' '852' '2' 'Indiana']\n",
      " ['1219' '54' '654' '33' '407' '2' '610' '30' '370' '2' 'Iowa']\n",
      " ['1133' '61' '691' '42' '480' '2' '774' '33' '378' '2' 'Kansas']\n",
      " ['1777' '62' '1094' '46' '816' '2' '1531' '37' '654' '2' 'Kentucky']\n",
      " ['1702' '55' '937' '36' '619' '2' '1115' '26' '441' '2' 'Louisiana']\n",
      " ['548' '63' '345' '35' '190' '2' '300' '46' '254' '2' 'Maine']\n",
      " ['2169' '52' '1134' '31' '667' '1' '915' '30' '645' '3' 'Maryland']\n",
      " ['2618' '50' '1318' '24' '618' '1' '850' '34' '892' '2' 'Massachusetts']\n",
      " ['3804' '55' '2108' '35' '1318' '2' '2036' '31' '1192' '2' 'Michigan']\n",
      " ['2163' '53' '1146' '32' '690' '1' '934' '30' '643' '2' 'Minnesota']\n",
      " ['1115' '56' '629' '45' '504' '2' '846' '29' '324' '2' 'Mississippi']\n",
      " ['2498' '61' '1534' '46' '1148' '2' '1978' '32' '805' '2' 'Missouri']\n",
      " ['410' '61' '251' '41' '169' '2' '282' '34' '138' '2' 'Montana']\n",
      " ['710' '51' '364' '34' '240' '2' '374' '31' '222' '2' 'Nebraska']\n",
      " ['986' '56' '548' '37' '366' '2' '578' '30' '299' '2' 'Nevada']\n",
      " ['508' '57' '289' '30' '154' '1' '212' '34' '174' '2' 'New Hampshire']\n",
      " ['3177' '51' '1611' '32' '1028' '1' '1340' '25' '803' '2' 'New Jersey']\n",
      " ['773' '68' '523' '46' '356' '2' '703' '32' '247' '2' 'New Mexico']\n",
      " ['7512' '51' '3802' '29' '2177' '1' '3054' '29' '2189' '2' 'New York']\n",
      " ['3701' '56' '2089' '40' '1491' '2' '2518' '30' '1090' '2'\n",
      "  'North Carolina']\n",
      " ['272' '54' '147' '36' '98' '1' '139' '31' '85' '2' 'North Dakota']\n",
      " ['4661' '57' '2677' '37' '1708' '2' '2730' '33' '1553' '2' 'Ohio']\n",
      " ['1479' '59' '872' '43' '638' '2' '1327' '33' '482' '2' 'Oklahoma']\n",
      " ['1505' '64' '957' '39' '584' '2' '917' '40' '605' '2' 'Oregon']\n",
      " ['5172' '57' '2942' '33' '1702' '2' '2485' '34' '1748' '2' 'Pennsylvania']\n",
      " ['434' '53' '230' '29' '127' '1' '161' '28' '120' '2' 'Rhode Island']\n",
      " ['1759' '54' '951' '39' '678' '2' '1191' '28' '490' '2' 'South Carolina']\n",
      " ['333' '66' '219' '43' '143' '2' '220' '39' '130' '2' 'South Dakota']\n",
      " ['2583' '60' '1540' '44' '1140' '2' '2157' '30' '770' '2' 'Tennessee']\n",
      " ['9002' '59' '5265' '44' '3960' '2' '7163' '28' '2544' '2' 'Texas']\n",
      " ['930' '51' '476' '29' '273' '2' '410' '25' '229' '2' 'Utah']\n",
      " ['265' '71' '188' '38' '100' '1' '142' '50' '131' '2' 'Vermont']\n",
      " ['3017' '53' '1611' '35' '1069' '2' '1699' '29' '876' '2' 'Virginia']\n",
      " ['2632' '63' '1649' '36' '954' '2' '1609' '39' '1028' '2' 'Washington']\n",
      " ['765' '62' '475' '46' '350' '2' '648' '38' '291' '2' 'West Virginia']\n",
      " ['2350' '58' '1352' '34' '796' '1' '1138' '33' '776' '2' 'Wisconsin']\n",
      " ['221' '62' '137' '39' '86' '2' '125' '34' '75' '2' 'Wyoming']]\n"
     ]
    }
   ],
   "source": [
    "joined = np.hstack((pets, states_reshape))\n",
    "\n",
    "# horizontal stack = number of rows have to match because you're placing them side by side.\n",
    "\n",
    "print(joined)"
   ]
  }
 ],
 "metadata": {
  "kernelspec": {
   "display_name": "Python 3",
   "language": "python",
   "name": "python3"
  },
  "language_info": {
   "codemirror_mode": {
    "name": "ipython",
    "version": 3
   },
   "file_extension": ".py",
   "mimetype": "text/x-python",
   "name": "python",
   "nbconvert_exporter": "python",
   "pygments_lexer": "ipython3",
   "version": "3.6.0"
  }
 },
 "nbformat": 4,
 "nbformat_minor": 2
}

{
 "cells": [
  {
   "cell_type": "code",
   "execution_count": 359,
   "metadata": {
    "collapsed": true
   },
   "outputs": [],
   "source": [
    "import pandas as pd\n",
    "import numpy as np"
   ]
  },
  {
   "cell_type": "code",
   "execution_count": 360,
   "metadata": {
    "collapsed": true
   },
   "outputs": [],
   "source": [
    "df = pd.read_csv(\"datasets/ncaa_2018_players.csv\").reset_index(drop = True)"
   ]
  },
  {
   "cell_type": "code",
   "execution_count": 361,
   "metadata": {},
   "outputs": [
    {
     "data": {
      "text/html": [
       "<div>\n",
       "<style>\n",
       "    .dataframe thead tr:only-child th {\n",
       "        text-align: right;\n",
       "    }\n",
       "\n",
       "    .dataframe thead th {\n",
       "        text-align: left;\n",
       "    }\n",
       "\n",
       "    .dataframe tbody tr th {\n",
       "        vertical-align: top;\n",
       "    }\n",
       "</style>\n",
       "<table border=\"1\" class=\"dataframe\">\n",
       "  <thead>\n",
       "    <tr style=\"text-align: right;\">\n",
       "      <th></th>\n",
       "      <th>TeamName</th>\n",
       "      <th>Player</th>\n",
       "      <th>Position</th>\n",
       "      <th>Height</th>\n",
       "      <th>Weights</th>\n",
       "      <th>Class</th>\n",
       "    </tr>\n",
       "  </thead>\n",
       "  <tbody>\n",
       "    <tr>\n",
       "      <th>0</th>\n",
       "      <td>Albany Great Danes</td>\n",
       "      <td>Xavier Cochran</td>\n",
       "      <td>G</td>\n",
       "      <td>6.6</td>\n",
       "      <td>195</td>\n",
       "      <td>SO</td>\n",
       "    </tr>\n",
       "    <tr>\n",
       "      <th>1</th>\n",
       "      <td>Albany Great Danes</td>\n",
       "      <td>Costa Anderson</td>\n",
       "      <td>G</td>\n",
       "      <td>6.2</td>\n",
       "      <td>195</td>\n",
       "      <td>SR</td>\n",
       "    </tr>\n",
       "    <tr>\n",
       "      <th>2</th>\n",
       "      <td>Albany Great Danes</td>\n",
       "      <td>Ahmad Clark</td>\n",
       "      <td>G</td>\n",
       "      <td>6.1</td>\n",
       "      <td>175</td>\n",
       "      <td>SO</td>\n",
       "    </tr>\n",
       "    <tr>\n",
       "      <th>3</th>\n",
       "      <td>Albany Great Danes</td>\n",
       "      <td>Brent Hank</td>\n",
       "      <td>F</td>\n",
       "      <td>6.1</td>\n",
       "      <td>265</td>\n",
       "      <td>FR</td>\n",
       "    </tr>\n",
       "    <tr>\n",
       "      <th>4</th>\n",
       "      <td>Albany Great Danes</td>\n",
       "      <td>Cameron Healy</td>\n",
       "      <td>G</td>\n",
       "      <td>6.3</td>\n",
       "      <td>190</td>\n",
       "      <td>FR</td>\n",
       "    </tr>\n",
       "  </tbody>\n",
       "</table>\n",
       "</div>"
      ],
      "text/plain": [
       "             TeamName          Player Position Height Weights Class\n",
       "0  Albany Great Danes  Xavier Cochran        G    6.6     195    SO\n",
       "1  Albany Great Danes  Costa Anderson        G    6.2     195    SR\n",
       "2  Albany Great Danes     Ahmad Clark        G    6.1     175    SO\n",
       "3  Albany Great Danes      Brent Hank        F    6.1     265    FR\n",
       "4  Albany Great Danes   Cameron Healy        G    6.3     190    FR"
      ]
     },
     "execution_count": 361,
     "metadata": {},
     "output_type": "execute_result"
    }
   ],
   "source": [
    "df.head()"
   ]
  },
  {
   "cell_type": "code",
   "execution_count": 362,
   "metadata": {},
   "outputs": [],
   "source": [
    "df[\"TeamNameLower\"] = df[\"TeamName\"].str.lower()"
   ]
  },
  {
   "cell_type": "code",
   "execution_count": 363,
   "metadata": {},
   "outputs": [
    {
     "data": {
      "text/html": [
       "<div>\n",
       "<style>\n",
       "    .dataframe thead tr:only-child th {\n",
       "        text-align: right;\n",
       "    }\n",
       "\n",
       "    .dataframe thead th {\n",
       "        text-align: left;\n",
       "    }\n",
       "\n",
       "    .dataframe tbody tr th {\n",
       "        vertical-align: top;\n",
       "    }\n",
       "</style>\n",
       "<table border=\"1\" class=\"dataframe\">\n",
       "  <thead>\n",
       "    <tr style=\"text-align: right;\">\n",
       "      <th></th>\n",
       "      <th>TeamName</th>\n",
       "      <th>Player</th>\n",
       "      <th>Position</th>\n",
       "      <th>Height</th>\n",
       "      <th>Weights</th>\n",
       "      <th>Class</th>\n",
       "      <th>TeamNameLower</th>\n",
       "      <th>Found</th>\n",
       "    </tr>\n",
       "  </thead>\n",
       "  <tbody>\n",
       "    <tr>\n",
       "      <th>0</th>\n",
       "      <td>Albany Great Danes</td>\n",
       "      <td>Xavier Cochran</td>\n",
       "      <td>G</td>\n",
       "      <td>6.6</td>\n",
       "      <td>195</td>\n",
       "      <td>SO</td>\n",
       "      <td>albany great danes</td>\n",
       "      <td>-1</td>\n",
       "    </tr>\n",
       "    <tr>\n",
       "      <th>1</th>\n",
       "      <td>Albany Great Danes</td>\n",
       "      <td>Costa Anderson</td>\n",
       "      <td>G</td>\n",
       "      <td>6.2</td>\n",
       "      <td>195</td>\n",
       "      <td>SR</td>\n",
       "      <td>albany great danes</td>\n",
       "      <td>-1</td>\n",
       "    </tr>\n",
       "    <tr>\n",
       "      <th>2</th>\n",
       "      <td>Albany Great Danes</td>\n",
       "      <td>Ahmad Clark</td>\n",
       "      <td>G</td>\n",
       "      <td>6.1</td>\n",
       "      <td>175</td>\n",
       "      <td>SO</td>\n",
       "      <td>albany great danes</td>\n",
       "      <td>-1</td>\n",
       "    </tr>\n",
       "    <tr>\n",
       "      <th>3</th>\n",
       "      <td>Albany Great Danes</td>\n",
       "      <td>Brent Hank</td>\n",
       "      <td>F</td>\n",
       "      <td>6.1</td>\n",
       "      <td>265</td>\n",
       "      <td>FR</td>\n",
       "      <td>albany great danes</td>\n",
       "      <td>-1</td>\n",
       "    </tr>\n",
       "    <tr>\n",
       "      <th>4</th>\n",
       "      <td>Albany Great Danes</td>\n",
       "      <td>Cameron Healy</td>\n",
       "      <td>G</td>\n",
       "      <td>6.3</td>\n",
       "      <td>190</td>\n",
       "      <td>FR</td>\n",
       "      <td>albany great danes</td>\n",
       "      <td>-1</td>\n",
       "    </tr>\n",
       "    <tr>\n",
       "      <th>5</th>\n",
       "      <td>Albany Great Danes</td>\n",
       "      <td>Devonte Campbell</td>\n",
       "      <td>F</td>\n",
       "      <td>6.6</td>\n",
       "      <td>220</td>\n",
       "      <td>JR</td>\n",
       "      <td>albany great danes</td>\n",
       "      <td>-1</td>\n",
       "    </tr>\n",
       "    <tr>\n",
       "      <th>6</th>\n",
       "      <td>Albany Great Danes</td>\n",
       "      <td>David Nichols</td>\n",
       "      <td>G</td>\n",
       "      <td>6</td>\n",
       "      <td>190</td>\n",
       "      <td>JR</td>\n",
       "      <td>albany great danes</td>\n",
       "      <td>-1</td>\n",
       "    </tr>\n",
       "    <tr>\n",
       "      <th>7</th>\n",
       "      <td>Albany Great Danes</td>\n",
       "      <td>Adam Lulka</td>\n",
       "      <td>F</td>\n",
       "      <td>6.8</td>\n",
       "      <td>235</td>\n",
       "      <td>FR</td>\n",
       "      <td>albany great danes</td>\n",
       "      <td>-1</td>\n",
       "    </tr>\n",
       "    <tr>\n",
       "      <th>8</th>\n",
       "      <td>Albany Great Danes</td>\n",
       "      <td>Nick Fruscio</td>\n",
       "      <td>G</td>\n",
       "      <td>5.1</td>\n",
       "      <td>155</td>\n",
       "      <td>SO</td>\n",
       "      <td>albany great danes</td>\n",
       "      <td>-1</td>\n",
       "    </tr>\n",
       "    <tr>\n",
       "      <th>9</th>\n",
       "      <td>Albany Great Danes</td>\n",
       "      <td>Joe Cremo</td>\n",
       "      <td>G</td>\n",
       "      <td>6.4</td>\n",
       "      <td>185</td>\n",
       "      <td>JR</td>\n",
       "      <td>albany great danes</td>\n",
       "      <td>-1</td>\n",
       "    </tr>\n",
       "  </tbody>\n",
       "</table>\n",
       "</div>"
      ],
      "text/plain": [
       "             TeamName            Player Position Height Weights Class  \\\n",
       "0  Albany Great Danes    Xavier Cochran        G    6.6     195    SO   \n",
       "1  Albany Great Danes    Costa Anderson        G    6.2     195    SR   \n",
       "2  Albany Great Danes       Ahmad Clark        G    6.1     175    SO   \n",
       "3  Albany Great Danes        Brent Hank        F    6.1     265    FR   \n",
       "4  Albany Great Danes     Cameron Healy        G    6.3     190    FR   \n",
       "5  Albany Great Danes  Devonte Campbell        F    6.6     220    JR   \n",
       "6  Albany Great Danes     David Nichols        G      6     190    JR   \n",
       "7  Albany Great Danes        Adam Lulka        F    6.8     235    FR   \n",
       "8  Albany Great Danes      Nick Fruscio        G    5.1     155    SO   \n",
       "9  Albany Great Danes         Joe Cremo        G    6.4     185    JR   \n",
       "\n",
       "        TeamNameLower  Found  \n",
       "0  albany great danes     -1  \n",
       "1  albany great danes     -1  \n",
       "2  albany great danes     -1  \n",
       "3  albany great danes     -1  \n",
       "4  albany great danes     -1  \n",
       "5  albany great danes     -1  \n",
       "6  albany great danes     -1  \n",
       "7  albany great danes     -1  \n",
       "8  albany great danes     -1  \n",
       "9  albany great danes     -1  "
      ]
     },
     "execution_count": 363,
     "metadata": {},
     "output_type": "execute_result"
    }
   ],
   "source": [
    "df[\"Found\"] = list(map(lambda x: x.find(\"michigan wolverines\".lower()), df[\"TeamNameLower\"]))\n",
    "df.head(10)"
   ]
  },
  {
   "cell_type": "code",
   "execution_count": 364,
   "metadata": {},
   "outputs": [
    {
     "data": {
      "text/html": [
       "<div>\n",
       "<style>\n",
       "    .dataframe thead tr:only-child th {\n",
       "        text-align: right;\n",
       "    }\n",
       "\n",
       "    .dataframe thead th {\n",
       "        text-align: left;\n",
       "    }\n",
       "\n",
       "    .dataframe tbody tr th {\n",
       "        vertical-align: top;\n",
       "    }\n",
       "</style>\n",
       "<table border=\"1\" class=\"dataframe\">\n",
       "  <thead>\n",
       "    <tr style=\"text-align: right;\">\n",
       "      <th></th>\n",
       "      <th>TeamName</th>\n",
       "      <th>Player</th>\n",
       "      <th>Position</th>\n",
       "      <th>Height</th>\n",
       "      <th>Weights</th>\n",
       "      <th>Class</th>\n",
       "      <th>TeamNameLower</th>\n",
       "      <th>Found</th>\n",
       "    </tr>\n",
       "  </thead>\n",
       "  <tbody>\n",
       "    <tr>\n",
       "      <th>1586</th>\n",
       "      <td>Michigan Wolverines</td>\n",
       "      <td>Brent Hibbitts</td>\n",
       "      <td>F</td>\n",
       "      <td>6.8</td>\n",
       "      <td>220</td>\n",
       "      <td>JR</td>\n",
       "      <td>michigan wolverines</td>\n",
       "      <td>0</td>\n",
       "    </tr>\n",
       "    <tr>\n",
       "      <th>1587</th>\n",
       "      <td>Michigan Wolverines</td>\n",
       "      <td>Charles Matthews</td>\n",
       "      <td>G</td>\n",
       "      <td>6.6</td>\n",
       "      <td>200</td>\n",
       "      <td>JR</td>\n",
       "      <td>michigan wolverines</td>\n",
       "      <td>0</td>\n",
       "    </tr>\n",
       "    <tr>\n",
       "      <th>1588</th>\n",
       "      <td>Michigan Wolverines</td>\n",
       "      <td>Jordan Poole</td>\n",
       "      <td>G</td>\n",
       "      <td>6.4</td>\n",
       "      <td>190</td>\n",
       "      <td>FR</td>\n",
       "      <td>michigan wolverines</td>\n",
       "      <td>0</td>\n",
       "    </tr>\n",
       "    <tr>\n",
       "      <th>1589</th>\n",
       "      <td>Michigan Wolverines</td>\n",
       "      <td>Zavier Simpson</td>\n",
       "      <td>G</td>\n",
       "      <td>6</td>\n",
       "      <td>185</td>\n",
       "      <td>SO</td>\n",
       "      <td>michigan wolverines</td>\n",
       "      <td>0</td>\n",
       "    </tr>\n",
       "    <tr>\n",
       "      <th>1590</th>\n",
       "      <td>Michigan Wolverines</td>\n",
       "      <td>Isaiah Livers</td>\n",
       "      <td>F</td>\n",
       "      <td>6.7</td>\n",
       "      <td>230</td>\n",
       "      <td>FR</td>\n",
       "      <td>michigan wolverines</td>\n",
       "      <td>0</td>\n",
       "    </tr>\n",
       "    <tr>\n",
       "      <th>1591</th>\n",
       "      <td>Michigan Wolverines</td>\n",
       "      <td>Jaaron Simmons</td>\n",
       "      <td>G</td>\n",
       "      <td>6.1</td>\n",
       "      <td>185</td>\n",
       "      <td>SR</td>\n",
       "      <td>michigan wolverines</td>\n",
       "      <td>0</td>\n",
       "    </tr>\n",
       "    <tr>\n",
       "      <th>1592</th>\n",
       "      <td>Michigan Wolverines</td>\n",
       "      <td>Luke Wilson</td>\n",
       "      <td>G</td>\n",
       "      <td>6</td>\n",
       "      <td>165</td>\n",
       "      <td>FR</td>\n",
       "      <td>michigan wolverines</td>\n",
       "      <td>0</td>\n",
       "    </tr>\n",
       "    <tr>\n",
       "      <th>1593</th>\n",
       "      <td>Michigan Wolverines</td>\n",
       "      <td>Muhammad-Ali Abdur-Rahkman</td>\n",
       "      <td>G</td>\n",
       "      <td>6.4</td>\n",
       "      <td>190</td>\n",
       "      <td>SR</td>\n",
       "      <td>michigan wolverines</td>\n",
       "      <td>0</td>\n",
       "    </tr>\n",
       "    <tr>\n",
       "      <th>1594</th>\n",
       "      <td>Michigan Wolverines</td>\n",
       "      <td>Moritz Wagner</td>\n",
       "      <td>F</td>\n",
       "      <td>6.11</td>\n",
       "      <td>245</td>\n",
       "      <td>JR</td>\n",
       "      <td>michigan wolverines</td>\n",
       "      <td>0</td>\n",
       "    </tr>\n",
       "    <tr>\n",
       "      <th>1595</th>\n",
       "      <td>Michigan Wolverines</td>\n",
       "      <td>Rico Ozuna-Harrison</td>\n",
       "      <td>G</td>\n",
       "      <td>5.11</td>\n",
       "      <td>165</td>\n",
       "      <td>FR</td>\n",
       "      <td>michigan wolverines</td>\n",
       "      <td>0</td>\n",
       "    </tr>\n",
       "    <tr>\n",
       "      <th>1596</th>\n",
       "      <td>Michigan Wolverines</td>\n",
       "      <td>Jon Teske</td>\n",
       "      <td>C</td>\n",
       "      <td>7.1</td>\n",
       "      <td>255</td>\n",
       "      <td>SO</td>\n",
       "      <td>michigan wolverines</td>\n",
       "      <td>0</td>\n",
       "    </tr>\n",
       "    <tr>\n",
       "      <th>1597</th>\n",
       "      <td>Michigan Wolverines</td>\n",
       "      <td>Duncan Robinson</td>\n",
       "      <td>G</td>\n",
       "      <td>6.8</td>\n",
       "      <td>215</td>\n",
       "      <td>SR</td>\n",
       "      <td>michigan wolverines</td>\n",
       "      <td>0</td>\n",
       "    </tr>\n",
       "    <tr>\n",
       "      <th>1598</th>\n",
       "      <td>Michigan Wolverines</td>\n",
       "      <td>Ibi Watson</td>\n",
       "      <td>G</td>\n",
       "      <td>6.5</td>\n",
       "      <td>200</td>\n",
       "      <td>SO</td>\n",
       "      <td>michigan wolverines</td>\n",
       "      <td>0</td>\n",
       "    </tr>\n",
       "    <tr>\n",
       "      <th>1599</th>\n",
       "      <td>Michigan Wolverines</td>\n",
       "      <td>C.J. Baird</td>\n",
       "      <td>F</td>\n",
       "      <td>6.5</td>\n",
       "      <td>220</td>\n",
       "      <td>FR</td>\n",
       "      <td>michigan wolverines</td>\n",
       "      <td>0</td>\n",
       "    </tr>\n",
       "    <tr>\n",
       "      <th>1600</th>\n",
       "      <td>Michigan Wolverines</td>\n",
       "      <td>Naji Ozeir</td>\n",
       "      <td>F</td>\n",
       "      <td>6.8</td>\n",
       "      <td>225</td>\n",
       "      <td>FR</td>\n",
       "      <td>michigan wolverines</td>\n",
       "      <td>0</td>\n",
       "    </tr>\n",
       "    <tr>\n",
       "      <th>1601</th>\n",
       "      <td>Michigan Wolverines</td>\n",
       "      <td>Austin Davis</td>\n",
       "      <td>F</td>\n",
       "      <td>6.1</td>\n",
       "      <td>245</td>\n",
       "      <td>SO</td>\n",
       "      <td>michigan wolverines</td>\n",
       "      <td>0</td>\n",
       "    </tr>\n",
       "    <tr>\n",
       "      <th>1602</th>\n",
       "      <td>Michigan Wolverines</td>\n",
       "      <td>Eli Brooks</td>\n",
       "      <td>G</td>\n",
       "      <td>6</td>\n",
       "      <td>170</td>\n",
       "      <td>FR</td>\n",
       "      <td>michigan wolverines</td>\n",
       "      <td>0</td>\n",
       "    </tr>\n",
       "  </tbody>\n",
       "</table>\n",
       "</div>"
      ],
      "text/plain": [
       "                 TeamName                      Player Position Height Weights  \\\n",
       "1586  Michigan Wolverines              Brent Hibbitts        F    6.8     220   \n",
       "1587  Michigan Wolverines            Charles Matthews        G    6.6     200   \n",
       "1588  Michigan Wolverines                Jordan Poole        G    6.4     190   \n",
       "1589  Michigan Wolverines              Zavier Simpson        G      6     185   \n",
       "1590  Michigan Wolverines               Isaiah Livers        F    6.7     230   \n",
       "1591  Michigan Wolverines              Jaaron Simmons        G    6.1     185   \n",
       "1592  Michigan Wolverines                 Luke Wilson        G      6     165   \n",
       "1593  Michigan Wolverines  Muhammad-Ali Abdur-Rahkman        G    6.4     190   \n",
       "1594  Michigan Wolverines               Moritz Wagner        F   6.11     245   \n",
       "1595  Michigan Wolverines         Rico Ozuna-Harrison        G   5.11     165   \n",
       "1596  Michigan Wolverines                   Jon Teske        C    7.1     255   \n",
       "1597  Michigan Wolverines             Duncan Robinson        G    6.8     215   \n",
       "1598  Michigan Wolverines                  Ibi Watson        G    6.5     200   \n",
       "1599  Michigan Wolverines                  C.J. Baird        F    6.5     220   \n",
       "1600  Michigan Wolverines                  Naji Ozeir        F    6.8     225   \n",
       "1601  Michigan Wolverines                Austin Davis        F    6.1     245   \n",
       "1602  Michigan Wolverines                  Eli Brooks        G      6     170   \n",
       "\n",
       "     Class        TeamNameLower  Found  \n",
       "1586    JR  michigan wolverines      0  \n",
       "1587    JR  michigan wolverines      0  \n",
       "1588    FR  michigan wolverines      0  \n",
       "1589    SO  michigan wolverines      0  \n",
       "1590    FR  michigan wolverines      0  \n",
       "1591    SR  michigan wolverines      0  \n",
       "1592    FR  michigan wolverines      0  \n",
       "1593    SR  michigan wolverines      0  \n",
       "1594    JR  michigan wolverines      0  \n",
       "1595    FR  michigan wolverines      0  \n",
       "1596    SO  michigan wolverines      0  \n",
       "1597    SR  michigan wolverines      0  \n",
       "1598    SO  michigan wolverines      0  \n",
       "1599    FR  michigan wolverines      0  \n",
       "1600    FR  michigan wolverines      0  \n",
       "1601    SO  michigan wolverines      0  \n",
       "1602    FR  michigan wolverines      0  "
      ]
     },
     "execution_count": 364,
     "metadata": {},
     "output_type": "execute_result"
    }
   ],
   "source": [
    "playersFound = df[df[\"Found\"] > -1]\n",
    "playersFound.head(20)"
   ]
  },
  {
   "cell_type": "code",
   "execution_count": 365,
   "metadata": {},
   "outputs": [
    {
     "data": {
      "text/plain": [
       "1"
      ]
     },
     "execution_count": 365,
     "metadata": {},
     "output_type": "execute_result"
    }
   ],
   "source": [
    "len(playersFound[\"TeamName\"].unique())"
   ]
  },
  {
   "cell_type": "code",
   "execution_count": 366,
   "metadata": {},
   "outputs": [
    {
     "data": {
      "text/plain": [
       "['Michigan Wolverines']"
      ]
     },
     "execution_count": 366,
     "metadata": {},
     "output_type": "execute_result"
    }
   ],
   "source": [
    "playersFound[\"TeamName\"].unique().tolist()"
   ]
  },
  {
   "cell_type": "code",
   "execution_count": 367,
   "metadata": {
    "collapsed": true
   },
   "outputs": [],
   "source": [
    "def find_team(team):\n",
    "    if (len(team) < 1):\n",
    "        return\n",
    "    \n",
    "    working_df = df.copy()\n",
    "    working_df[\"TeamNameLower\"] = working_df[\"TeamName\"].str.lower()\n",
    "    working_df[\"Found\"] = list(map(lambda x: x.find(team.lower()), df[\"TeamNameLower\"]))\n",
    "    teamFound = working_df[working_df[\"Found\"] > -1]\n",
    "    teamFound = teamFound[teamFound[\"Height\"] != \"..\"]\n",
    "    \n",
    "    if (len(teamFound[\"TeamName\"].unique()) == 0):\n",
    "        print(\"ERROR: No team found with name:\", team)\n",
    "        return\n",
    "        \n",
    "    if (len(teamFound[\"TeamName\"].unique()) > 1):\n",
    "        print(\"ERROR: More than one team found with name:\", team)\n",
    "        print(teamFound[\"TeamName\"].unique().tolist())\n",
    "        return\n",
    "    \n",
    "    return(teamFound)"
   ]
  },
  {
   "cell_type": "code",
   "execution_count": 368,
   "metadata": {},
   "outputs": [],
   "source": [
    "def pick(team1, team2):\n",
    "    \n",
    "    team1 = team1.lower()\n",
    "    team2 = team2.lower()\n",
    "    \n",
    "    team1_df = find_team(team1)\n",
    "    team2_df = find_team(team2)\n",
    "    \n",
    "    if (team1_df is None or len(team1_df) < 1):\n",
    "        return\n",
    "    \n",
    "    if (team2_df is None or len(team2_df) < 1):\n",
    "        return\n",
    "    \n",
    "    # get the tallest 3 players and average them out\n",
    "    \n",
    "    team1_df = team1_df.sort_values(by='Height', ascending=False)\n",
    "    top3_team1 = np.array(team1_df[\"Height\"].head(3))\n",
    "    top3_team1 = top3_team1.astype(np.float)\n",
    "    team1_avg = round(np.mean(top3_team1), 3)\n",
    "    team1_allavg = round(np.mean(np.array(team1_df[\"Height\"]).astype(np.float)), 3)\n",
    "    \n",
    "    team2_df = team2_df.sort_values(by='Height', ascending=False)\n",
    "    top3_team2 = np.array(team2_df[\"Height\"].head(3))\n",
    "    top3_team2 = top3_team2.astype(np.float)\n",
    "    team2_avg = round(np.mean(top3_team2), 3)\n",
    "    team2_allavg = round(np.mean(np.array(team2_df[\"Height\"]).astype(np.float)), 3)\n",
    "    \n",
    "    if (team1_avg > team2_avg):\n",
    "        print(\"PICK: \", team1)\n",
    "        \n",
    "    if (team2_avg > team1_avg):\n",
    "        print(\"PICK:\", team2)\n",
    "        \n",
    "    if (team1_avg == team2_avg):\n",
    "        if (team1_allavg >= team2_allavg):\n",
    "            print(\"PICK: \", team1)\n",
    "        else:\n",
    "            print(\"PICK:\", team2)\n",
    "    \n",
    "    print(\"\")\n",
    "    print(team1, \":\", team1_avg, \"|\", team1_allavg)\n",
    "    print(team2, \":\", team2_avg, \"|\", team2_allavg)\n",
    "    print(\"------------------------------------------\")\n",
    "    "
   ]
  },
  {
   "cell_type": "code",
   "execution_count": 369,
   "metadata": {},
   "outputs": [
    {
     "name": "stdout",
     "output_type": "stream",
     "text": [
      "PICK:  virginia cavaliers\n",
      "\n",
      "virginia cavaliers : 6.9 | 6.521\n",
      "umbc : 6.9 | 6.456\n",
      "------------------------------------------\n"
     ]
    }
   ],
   "source": [
    "pick(\"Virginia Cavaliers\", \"umbc\")"
   ]
  },
  {
   "cell_type": "code",
   "execution_count": 370,
   "metadata": {},
   "outputs": [
    {
     "name": "stdout",
     "output_type": "stream",
     "text": [
      "PICK:  kansas state wildcats\n",
      "\n",
      "kansas state wildcats : 6.9 | 6.417\n",
      "creighton : 6.7 | 6.351\n",
      "------------------------------------------\n"
     ]
    }
   ],
   "source": [
    "pick(\"Kansas State Wildcats\", \"Creighton\")"
   ]
  },
  {
   "cell_type": "code",
   "execution_count": 371,
   "metadata": {},
   "outputs": [
    {
     "name": "stdout",
     "output_type": "stream",
     "text": [
      "PICK: kentucky wildcats\n",
      "\n",
      "davidson : 6.833 | 6.276\n",
      "kentucky wildcats : 6.9 | 6.408\n",
      "------------------------------------------\n"
     ]
    }
   ],
   "source": [
    "pick(\"davidson\", \"Kentucky Wildcats\")"
   ]
  },
  {
   "cell_type": "code",
   "execution_count": 372,
   "metadata": {},
   "outputs": [
    {
     "name": "stdout",
     "output_type": "stream",
     "text": [
      "PICK:  arizona wildcats\n",
      "\n",
      "arizona wildcats : 7.0 | 6.407\n",
      "buffalo bulls : 6.667 | 6.314\n",
      "------------------------------------------\n"
     ]
    }
   ],
   "source": [
    "pick(\"Arizona Wildcats\", \"Buffalo Bulls\")"
   ]
  },
  {
   "cell_type": "code",
   "execution_count": 373,
   "metadata": {},
   "outputs": [
    {
     "name": "stdout",
     "output_type": "stream",
     "text": [
      "PICK: loyola (chi) ramblers\n",
      "\n",
      "miami hurricanes : 6.867 | 6.301\n",
      "loyola (chi) ramblers : 6.867 | 6.525\n",
      "------------------------------------------\n"
     ]
    }
   ],
   "source": [
    "pick(\"Miami Hurricanes\", \"Loyola (Chi) Ramblers\")"
   ]
  },
  {
   "cell_type": "code",
   "execution_count": 374,
   "metadata": {},
   "outputs": [
    {
     "name": "stdout",
     "output_type": "stream",
     "text": [
      "PICK: tennessee volunteers\n",
      "\n",
      "wright state : 6.767 | 6.276\n",
      "tennessee volunteers : 6.8 | 6.382\n",
      "------------------------------------------\n"
     ]
    }
   ],
   "source": [
    "pick(\"Wright State\", \"Tennessee Volunteers\")"
   ]
  },
  {
   "cell_type": "code",
   "execution_count": 375,
   "metadata": {},
   "outputs": [
    {
     "name": "stdout",
     "output_type": "stream",
     "text": [
      "PICK: texas longhorns\n",
      "\n",
      "nevada : 6.733 | 6.371\n",
      "texas longhorns : 6.867 | 6.401\n",
      "------------------------------------------\n"
     ]
    }
   ],
   "source": [
    "pick(\"nevada\", \"Texas Longhorns\")"
   ]
  },
  {
   "cell_type": "code",
   "execution_count": 376,
   "metadata": {},
   "outputs": [
    {
     "name": "stdout",
     "output_type": "stream",
     "text": [
      "PICK: georgia state\n",
      "\n",
      "cincinnati : 6.9 | 6.354\n",
      "georgia state : 6.9 | 6.5\n",
      "------------------------------------------\n"
     ]
    }
   ],
   "source": [
    "pick(\"cincinnati\", \"georgia state\")"
   ]
  },
  {
   "cell_type": "code",
   "execution_count": 377,
   "metadata": {},
   "outputs": [
    {
     "name": "stdout",
     "output_type": "stream",
     "text": [
      "PICK: central eagles\n",
      "\n",
      "xavier : 6.8 | 6.446\n",
      "central eagles : 6.833 | 6.374\n",
      "------------------------------------------\n"
     ]
    }
   ],
   "source": [
    "pick(\"xavier\", \"Central Eagles\")"
   ]
  },
  {
   "cell_type": "code",
   "execution_count": 378,
   "metadata": {},
   "outputs": [
    {
     "name": "stdout",
     "output_type": "stream",
     "text": [
      "PICK: florida state\n",
      "\n",
      "missouri tigers : 6.7 | 6.347\n",
      "florida state : 7.1 | 6.644\n",
      "------------------------------------------\n"
     ]
    }
   ],
   "source": [
    "pick(\"missouri tigers\", \"florida state\")"
   ]
  },
  {
   "cell_type": "code",
   "execution_count": 379,
   "metadata": {},
   "outputs": [
    {
     "name": "stdout",
     "output_type": "stream",
     "text": [
      "PICK: south dakota state jackrabbits\n",
      "\n",
      "ohio state : 6.867 | 6.443\n",
      "south dakota state jackrabbits : 6.867 | 6.46\n",
      "------------------------------------------\n"
     ]
    }
   ],
   "source": [
    "pick(\"ohio state\", \"South Dakota State Jackrabbits\")"
   ]
  },
  {
   "cell_type": "code",
   "execution_count": 380,
   "metadata": {},
   "outputs": [
    {
     "name": "stdout",
     "output_type": "stream",
     "text": [
      "PICK: unc greensboro spartans\n",
      "\n",
      "gonzaga : 6.833 | 6.447\n",
      "unc greensboro spartans : 6.867 | 6.332\n",
      "------------------------------------------\n"
     ]
    }
   ],
   "source": [
    "pick(\"gonzaga\", \"UNC Greensboro Spartans\")"
   ]
  },
  {
   "cell_type": "code",
   "execution_count": 381,
   "metadata": {},
   "outputs": [
    {
     "name": "stdout",
     "output_type": "stream",
     "text": [
      "PICK: san diego state aztecs\n",
      "\n",
      "houston : 6.767 | 6.433\n",
      "san diego state aztecs : 6.867 | 6.393\n",
      "------------------------------------------\n"
     ]
    }
   ],
   "source": [
    "pick(\"houston\", \"San Diego State Aztecs\")"
   ]
  },
  {
   "cell_type": "code",
   "execution_count": 382,
   "metadata": {},
   "outputs": [
    {
     "name": "stdout",
     "output_type": "stream",
     "text": [
      "PICK:  michigan wolverines\n",
      "\n",
      "michigan wolverines : 6.9 | 6.354\n",
      "montana grizzlies : 6.867 | 6.507\n",
      "------------------------------------------\n"
     ]
    }
   ],
   "source": [
    "pick(\"Michigan Wolverines\", \"Montana Grizzlies\")"
   ]
  },
  {
   "cell_type": "code",
   "execution_count": 383,
   "metadata": {},
   "outputs": [
    {
     "name": "stdout",
     "output_type": "stream",
     "text": [
      "PICK: providence\n",
      "\n",
      "texas a&m aggies : 6.9 | 6.256\n",
      "providence : 6.9 | 6.465\n",
      "------------------------------------------\n"
     ]
    }
   ],
   "source": [
    "pick(\"Texas A&M Aggies\", \"providence\")"
   ]
  },
  {
   "cell_type": "code",
   "execution_count": 384,
   "metadata": {},
   "outputs": [
    {
     "name": "stdout",
     "output_type": "stream",
     "text": [
      "PICK:  north carolina tar heels\n",
      "\n",
      "north carolina tar heels : 6.833 | 6.376\n",
      "lipscomb : 6.8 | 6.247\n",
      "------------------------------------------\n"
     ]
    }
   ],
   "source": [
    "pick(\"North Carolina Tar Heels\", \"lipscomb\")"
   ]
  },
  {
   "cell_type": "code",
   "execution_count": 385,
   "metadata": {},
   "outputs": [
    {
     "name": "stdout",
     "output_type": "stream",
     "text": [
      "PICK:  virginia cavaliers\n",
      "\n",
      "virginia cavaliers : 6.9 | 6.521\n",
      "kansas state wildcats : 6.9 | 6.417\n",
      "------------------------------------------\n"
     ]
    }
   ],
   "source": [
    "pick(\"Virginia Cavaliers\", \"Kansas State Wildcats\")"
   ]
  },
  {
   "cell_type": "code",
   "execution_count": 386,
   "metadata": {},
   "outputs": [
    {
     "name": "stdout",
     "output_type": "stream",
     "text": [
      "PICK: arizona wildcats\n",
      "\n",
      "kentucky wildcats : 6.9 | 6.408\n",
      "arizona wildcats : 7.0 | 6.407\n",
      "------------------------------------------\n"
     ]
    }
   ],
   "source": [
    "pick(\"Kentucky Wildcats\", \"Arizona Wildcats\")"
   ]
  },
  {
   "cell_type": "code",
   "execution_count": 387,
   "metadata": {},
   "outputs": [
    {
     "name": "stdout",
     "output_type": "stream",
     "text": [
      "PICK:  loyola (chi) ramblers\n",
      "\n",
      "loyola (chi) ramblers : 6.867 | 6.525\n",
      "tennessee volunteers : 6.8 | 6.382\n",
      "------------------------------------------\n"
     ]
    }
   ],
   "source": [
    "pick(\"Loyola (Chi) Ramblers\", \"Tennessee Volunteers\")"
   ]
  },
  {
   "cell_type": "code",
   "execution_count": 388,
   "metadata": {},
   "outputs": [
    {
     "name": "stdout",
     "output_type": "stream",
     "text": [
      "PICK: georgia state\n",
      "\n",
      "texas longhorns : 6.867 | 6.401\n",
      "georgia state : 6.9 | 6.5\n",
      "------------------------------------------\n"
     ]
    }
   ],
   "source": [
    "pick(\"texas longhorns\", \"georgia state\")"
   ]
  },
  {
   "cell_type": "code",
   "execution_count": 389,
   "metadata": {},
   "outputs": [
    {
     "name": "stdout",
     "output_type": "stream",
     "text": [
      "PICK: florida state\n",
      "\n",
      "central eagles : 6.833 | 6.374\n",
      "florida state : 7.1 | 6.644\n",
      "------------------------------------------\n"
     ]
    }
   ],
   "source": [
    "pick(\"Central Eagles\", \"florida state\")"
   ]
  },
  {
   "cell_type": "code",
   "execution_count": 390,
   "metadata": {},
   "outputs": [
    {
     "name": "stdout",
     "output_type": "stream",
     "text": [
      "PICK:  south dakota state jackrabbits\n",
      "\n",
      "south dakota state jackrabbits : 6.867 | 6.46\n",
      "unc greensboro spartans : 6.867 | 6.332\n",
      "------------------------------------------\n"
     ]
    }
   ],
   "source": [
    "pick(\"South Dakota State Jackrabbits\", \"UNC Greensboro Spartans\")"
   ]
  },
  {
   "cell_type": "code",
   "execution_count": 391,
   "metadata": {},
   "outputs": [
    {
     "name": "stdout",
     "output_type": "stream",
     "text": [
      "PICK: michigan wolverines\n",
      "\n",
      "san diego state : 6.867 | 6.393\n",
      "michigan wolverines : 6.9 | 6.354\n",
      "------------------------------------------\n"
     ]
    }
   ],
   "source": [
    "pick(\"san diego state\", \"michigan wolverines\")"
   ]
  },
  {
   "cell_type": "code",
   "execution_count": 392,
   "metadata": {},
   "outputs": [
    {
     "name": "stdout",
     "output_type": "stream",
     "text": [
      "PICK:  providence\n",
      "\n",
      "providence : 6.9 | 6.465\n",
      "north carolina tar : 6.833 | 6.376\n",
      "------------------------------------------\n"
     ]
    }
   ],
   "source": [
    "pick(\"providence\", \"north carolina tar\")"
   ]
  },
  {
   "cell_type": "code",
   "execution_count": 393,
   "metadata": {},
   "outputs": [
    {
     "name": "stdout",
     "output_type": "stream",
     "text": [
      "PICK: arizona wildcats\n",
      "\n",
      "virginia cavaliers : 6.9 | 6.521\n",
      "arizona wildcats : 7.0 | 6.407\n",
      "------------------------------------------\n"
     ]
    }
   ],
   "source": [
    "pick(\"Virginia Cavaliers\", \"arizona wildcats\")"
   ]
  },
  {
   "cell_type": "code",
   "execution_count": 394,
   "metadata": {},
   "outputs": [
    {
     "name": "stdout",
     "output_type": "stream",
     "text": [
      "PICK: georgia state\n",
      "\n",
      "loyola (chi) ramblers : 6.867 | 6.525\n",
      "georgia state : 6.9 | 6.5\n",
      "------------------------------------------\n"
     ]
    }
   ],
   "source": [
    "pick(\"Loyola (Chi) Ramblers\", \"georgia state\")"
   ]
  },
  {
   "cell_type": "code",
   "execution_count": 395,
   "metadata": {},
   "outputs": [
    {
     "name": "stdout",
     "output_type": "stream",
     "text": [
      "PICK:  florida state\n",
      "\n",
      "florida state : 7.1 | 6.644\n",
      "south dakota state : 6.867 | 6.46\n",
      "------------------------------------------\n"
     ]
    }
   ],
   "source": [
    "pick(\"florida state\", \"South Dakota State\")"
   ]
  },
  {
   "cell_type": "code",
   "execution_count": 396,
   "metadata": {},
   "outputs": [
    {
     "name": "stdout",
     "output_type": "stream",
     "text": [
      "PICK: providence\n",
      "\n",
      "michigan wolverines : 6.9 | 6.354\n",
      "providence : 6.9 | 6.465\n",
      "------------------------------------------\n"
     ]
    }
   ],
   "source": [
    "pick(\"michigan wolverines\", \"providence\")"
   ]
  },
  {
   "cell_type": "code",
   "execution_count": 397,
   "metadata": {},
   "outputs": [
    {
     "name": "stdout",
     "output_type": "stream",
     "text": [
      "PICK:  arizona wildcats\n",
      "\n",
      "arizona wildcats : 7.0 | 6.407\n",
      "georgia state : 6.9 | 6.5\n",
      "------------------------------------------\n"
     ]
    }
   ],
   "source": [
    "pick(\"Arizona Wildcats\", \"georgia state\")"
   ]
  },
  {
   "cell_type": "code",
   "execution_count": 398,
   "metadata": {},
   "outputs": [
    {
     "name": "stdout",
     "output_type": "stream",
     "text": [
      "PICK:  villanova\n",
      "\n",
      "villanova : 6.9 | 6.388\n",
      "radford : 6.767 | 6.362\n",
      "------------------------------------------\n"
     ]
    }
   ],
   "source": [
    "pick(\"villanova\", \"radford\")"
   ]
  },
  {
   "cell_type": "code",
   "execution_count": 399,
   "metadata": {},
   "outputs": [
    {
     "name": "stdout",
     "output_type": "stream",
     "text": [
      "PICK: alabama crimson tide\n",
      "\n",
      "virginia tech : 6.567 | 6.329\n",
      "alabama crimson tide : 6.9 | 6.464\n",
      "------------------------------------------\n"
     ]
    }
   ],
   "source": [
    "pick(\"virginia tech\", \"Alabama Crimson Tide\")"
   ]
  },
  {
   "cell_type": "code",
   "execution_count": 400,
   "metadata": {},
   "outputs": [
    {
     "name": "stdout",
     "output_type": "stream",
     "text": [
      "PICK: murray state\n",
      "\n",
      "west virginia : 6.8 | 6.408\n",
      "murray state : 6.833 | 6.477\n",
      "------------------------------------------\n"
     ]
    }
   ],
   "source": [
    "pick(\"west virginia\", \"murray state\")"
   ]
  },
  {
   "cell_type": "code",
   "execution_count": 401,
   "metadata": {},
   "outputs": [
    {
     "name": "stdout",
     "output_type": "stream",
     "text": [
      "PICK:  wichita state\n",
      "\n",
      "wichita state : 6.933 | 6.471\n",
      "marshall : 6.9 | 6.434\n",
      "------------------------------------------\n"
     ]
    }
   ],
   "source": [
    "pick(\"wichita state\", \"marshall\")"
   ]
  },
  {
   "cell_type": "code",
   "execution_count": 402,
   "metadata": {},
   "outputs": [
    {
     "name": "stdout",
     "output_type": "stream",
     "text": [
      "PICK:  florida gators\n",
      "\n",
      "florida gators : 6.9 | 6.395\n",
      "bona : 6.667 | 6.193\n",
      "------------------------------------------\n"
     ]
    }
   ],
   "source": [
    "pick(\"florida gators\", \"bona\")"
   ]
  },
  {
   "cell_type": "code",
   "execution_count": 403,
   "metadata": {},
   "outputs": [
    {
     "name": "stdout",
     "output_type": "stream",
     "text": [
      "PICK: austin\n",
      "\n",
      "texas tech : 6.767 | 6.441\n",
      "austin : 6.833 | 6.413\n",
      "------------------------------------------\n"
     ]
    }
   ],
   "source": [
    "pick(\"texas tech\", \"austin\")"
   ]
  },
  {
   "cell_type": "code",
   "execution_count": 404,
   "metadata": {},
   "outputs": [
    {
     "name": "stdout",
     "output_type": "stream",
     "text": [
      "PICK:  arkansas razorbacks\n",
      "\n",
      "arkansas razorbacks : 6.833 | 6.344\n",
      "butler : 6.7 | 6.277\n",
      "------------------------------------------\n"
     ]
    }
   ],
   "source": [
    "pick(\"Arkansas Razorbacks\", \"butler\")"
   ]
  },
  {
   "cell_type": "code",
   "execution_count": 405,
   "metadata": {},
   "outputs": [
    {
     "name": "stdout",
     "output_type": "stream",
     "text": [
      "PICK:  purdue\n",
      "\n",
      "purdue : 7.133 | 6.4\n",
      "fullerton : 6.833 | 6.425\n",
      "------------------------------------------\n"
     ]
    }
   ],
   "source": [
    "pick(\"purdue\", \"fullerton\")"
   ]
  },
  {
   "cell_type": "code",
   "execution_count": 406,
   "metadata": {},
   "outputs": [
    {
     "name": "stdout",
     "output_type": "stream",
     "text": [
      "PICK: pennsylvania quakers\n",
      "\n",
      "kansas jayhawks : 6.933 | 6.534\n",
      "pennsylvania quakers : 6.967 | 6.495\n",
      "------------------------------------------\n"
     ]
    }
   ],
   "source": [
    "pick(\"Kansas Jayhawks\", \"Pennsylvania Quakers\")"
   ]
  },
  {
   "cell_type": "code",
   "execution_count": 407,
   "metadata": {},
   "outputs": [
    {
     "name": "stdout",
     "output_type": "stream",
     "text": [
      "PICK:  seton hall\n",
      "\n",
      "seton hall : 6.933 | 6.354\n",
      "nc state : 6.867 | 6.429\n",
      "------------------------------------------\n"
     ]
    }
   ],
   "source": [
    "pick(\"seton hall\", \"nc state\")"
   ]
  },
  {
   "cell_type": "code",
   "execution_count": 408,
   "metadata": {},
   "outputs": [
    {
     "name": "stdout",
     "output_type": "stream",
     "text": [
      "PICK:  clemson\n",
      "\n",
      "clemson : 6.867 | 6.465\n",
      "new mexico state aggies : 6.8 | 6.383\n",
      "------------------------------------------\n"
     ]
    }
   ],
   "source": [
    "pick(\"clemson\", \"New Mexico State Aggies\")"
   ]
  },
  {
   "cell_type": "code",
   "execution_count": 409,
   "metadata": {},
   "outputs": [
    {
     "name": "stdout",
     "output_type": "stream",
     "text": [
      "PICK:  auburn\n",
      "\n",
      "auburn : 6.867 | 6.406\n",
      "charleston cougars : 6.733 | 6.289\n",
      "------------------------------------------\n"
     ]
    }
   ],
   "source": [
    "pick(\"auburn\", \"Charleston Cougars\")"
   ]
  },
  {
   "cell_type": "code",
   "execution_count": 410,
   "metadata": {},
   "outputs": [
    {
     "name": "stdout",
     "output_type": "stream",
     "text": [
      "PICK:  tcu\n",
      "\n",
      "tcu : 6.833 | 6.439\n",
      "arizona state : 6.833 | 6.219\n",
      "------------------------------------------\n"
     ]
    }
   ],
   "source": [
    "pick(\"tcu\", \"arizona state\")"
   ]
  },
  {
   "cell_type": "code",
   "execution_count": 411,
   "metadata": {},
   "outputs": [
    {
     "name": "stdout",
     "output_type": "stream",
     "text": [
      "PICK: bucknell\n",
      "\n",
      "michigan st : 6.867 | 6.332\n",
      "bucknell : 6.9 | 6.384\n",
      "------------------------------------------\n"
     ]
    }
   ],
   "source": [
    "pick(\"michigan st\", \"bucknell\")"
   ]
  },
  {
   "cell_type": "code",
   "execution_count": 412,
   "metadata": {},
   "outputs": [
    {
     "name": "stdout",
     "output_type": "stream",
     "text": [
      "PICK: oklahoma sooners\n",
      "\n",
      "rhode island : 6.8 | 6.32\n",
      "oklahoma sooners : 6.9 | 6.482\n",
      "------------------------------------------\n"
     ]
    }
   ],
   "source": [
    "pick(\"rhode island\", \"Oklahoma Sooners\")"
   ]
  },
  {
   "cell_type": "code",
   "execution_count": 413,
   "metadata": {},
   "outputs": [
    {
     "name": "stdout",
     "output_type": "stream",
     "text": [
      "PICK:  duke blue devils\n",
      "\n",
      "duke blue devils : 6.867 | 6.441\n",
      "iona : 6.867 | 6.425\n",
      "------------------------------------------\n"
     ]
    }
   ],
   "source": [
    "pick(\"Duke Blue Devils\", \"Iona\")"
   ]
  },
  {
   "cell_type": "code",
   "execution_count": 414,
   "metadata": {},
   "outputs": [
    {
     "name": "stdout",
     "output_type": "stream",
     "text": [
      "PICK: alabama crimson tide\n",
      "\n",
      "villanova : 6.9 | 6.388\n",
      "alabama crimson tide : 6.9 | 6.464\n",
      "------------------------------------------\n"
     ]
    }
   ],
   "source": [
    "pick(\"villanova\", \"Alabama Crimson Tide\")"
   ]
  },
  {
   "cell_type": "code",
   "execution_count": 415,
   "metadata": {},
   "outputs": [
    {
     "name": "stdout",
     "output_type": "stream",
     "text": [
      "PICK: wichita\n",
      "\n",
      "murray state : 6.833 | 6.477\n",
      "wichita : 6.933 | 6.471\n",
      "------------------------------------------\n"
     ]
    }
   ],
   "source": [
    "pick(\"murray state\", \"wichita\")"
   ]
  },
  {
   "cell_type": "code",
   "execution_count": 416,
   "metadata": {},
   "outputs": [
    {
     "name": "stdout",
     "output_type": "stream",
     "text": [
      "PICK:  florida gators\n",
      "\n",
      "florida gators : 6.9 | 6.395\n",
      "austin : 6.833 | 6.413\n",
      "------------------------------------------\n"
     ]
    }
   ],
   "source": [
    "pick(\"florida gators\", \"austin\")"
   ]
  },
  {
   "cell_type": "code",
   "execution_count": 417,
   "metadata": {},
   "outputs": [
    {
     "name": "stdout",
     "output_type": "stream",
     "text": [
      "PICK: purdue\n",
      "\n",
      "arkansas razorbacks : 6.833 | 6.344\n",
      "purdue : 7.133 | 6.4\n",
      "------------------------------------------\n"
     ]
    }
   ],
   "source": [
    "pick(\"Arkansas Razorbacks\", \"purdue\")"
   ]
  },
  {
   "cell_type": "code",
   "execution_count": 418,
   "metadata": {},
   "outputs": [
    {
     "name": "stdout",
     "output_type": "stream",
     "text": [
      "PICK:  pennsylvania quakers\n",
      "\n",
      "pennsylvania quakers : 6.967 | 6.495\n",
      "seton : 6.933 | 6.354\n",
      "------------------------------------------\n"
     ]
    }
   ],
   "source": [
    "pick(\"Pennsylvania Quakers\", \"seton\")"
   ]
  },
  {
   "cell_type": "code",
   "execution_count": 419,
   "metadata": {},
   "outputs": [
    {
     "name": "stdout",
     "output_type": "stream",
     "text": [
      "PICK:  clemson\n",
      "\n",
      "clemson : 6.867 | 6.465\n",
      "auburn : 6.867 | 6.406\n",
      "------------------------------------------\n"
     ]
    }
   ],
   "source": [
    "pick(\"clemson\", \"auburn\")"
   ]
  },
  {
   "cell_type": "code",
   "execution_count": 420,
   "metadata": {},
   "outputs": [
    {
     "name": "stdout",
     "output_type": "stream",
     "text": [
      "PICK: bucknell\n",
      "\n",
      "tcu : 6.833 | 6.439\n",
      "bucknell : 6.9 | 6.384\n",
      "------------------------------------------\n"
     ]
    }
   ],
   "source": [
    "pick(\"tcu\", \"bucknell\")"
   ]
  },
  {
   "cell_type": "code",
   "execution_count": 421,
   "metadata": {},
   "outputs": [
    {
     "name": "stdout",
     "output_type": "stream",
     "text": [
      "PICK:  oklahoma sooners\n",
      "\n",
      "oklahoma sooners : 6.9 | 6.482\n",
      "duke blue devils : 6.867 | 6.441\n",
      "------------------------------------------\n"
     ]
    }
   ],
   "source": [
    "pick(\"Oklahoma Sooners\", \"Duke Blue Devils\")"
   ]
  },
  {
   "cell_type": "code",
   "execution_count": 422,
   "metadata": {},
   "outputs": [
    {
     "name": "stdout",
     "output_type": "stream",
     "text": [
      "PICK: oklahoma sooners\n",
      "\n",
      "bucknell : 6.9 | 6.384\n",
      "oklahoma sooners : 6.9 | 6.482\n",
      "------------------------------------------\n"
     ]
    }
   ],
   "source": [
    "pick(\"bucknell\", \"oklahoma sooners\")"
   ]
  },
  {
   "cell_type": "code",
   "execution_count": 423,
   "metadata": {},
   "outputs": [
    {
     "name": "stdout",
     "output_type": "stream",
     "text": [
      "PICK:  quakers\n",
      "\n",
      "quakers : 6.967 | 6.495\n",
      "clemson : 6.867 | 6.465\n",
      "------------------------------------------\n"
     ]
    }
   ],
   "source": [
    "pick(\"quakers\", \"clemson\")"
   ]
  },
  {
   "cell_type": "code",
   "execution_count": 424,
   "metadata": {},
   "outputs": [
    {
     "name": "stdout",
     "output_type": "stream",
     "text": [
      "PICK: wichita\n",
      "\n",
      "alabama crimson : 6.9 | 6.464\n",
      "wichita : 6.933 | 6.471\n",
      "------------------------------------------\n"
     ]
    }
   ],
   "source": [
    "pick(\"alabama crimson\", \"wichita\")"
   ]
  },
  {
   "cell_type": "code",
   "execution_count": 425,
   "metadata": {},
   "outputs": [
    {
     "name": "stdout",
     "output_type": "stream",
     "text": [
      "PICK: purdue\n",
      "\n",
      "florida gators : 6.9 | 6.395\n",
      "purdue : 7.133 | 6.4\n",
      "------------------------------------------\n"
     ]
    }
   ],
   "source": [
    "pick(\"florida gators\", \"purdue\")"
   ]
  },
  {
   "cell_type": "code",
   "execution_count": 426,
   "metadata": {},
   "outputs": [
    {
     "name": "stdout",
     "output_type": "stream",
     "text": [
      "PICK:  quakers\n",
      "\n",
      "quakers : 6.967 | 6.495\n",
      "sooners : 6.9 | 6.482\n",
      "------------------------------------------\n"
     ]
    }
   ],
   "source": [
    "pick(\"quakers\", \"sooners\")"
   ]
  },
  {
   "cell_type": "code",
   "execution_count": 427,
   "metadata": {},
   "outputs": [
    {
     "name": "stdout",
     "output_type": "stream",
     "text": [
      "PICK:  purdue\n",
      "\n",
      "purdue : 7.133 | 6.4\n",
      "wichita : 6.933 | 6.471\n",
      "------------------------------------------\n"
     ]
    }
   ],
   "source": [
    "pick(\"purdue\", \"wichita\")"
   ]
  },
  {
   "cell_type": "code",
   "execution_count": 428,
   "metadata": {},
   "outputs": [
    {
     "name": "stdout",
     "output_type": "stream",
     "text": [
      "PICK:  purdue\n",
      "\n",
      "purdue : 7.133 | 6.4\n",
      "quakers : 6.967 | 6.495\n",
      "------------------------------------------\n"
     ]
    }
   ],
   "source": [
    "pick(\"purdue\", \"quakers\")"
   ]
  }
 ],
 "metadata": {
  "kernelspec": {
   "display_name": "Python 3",
   "language": "python",
   "name": "python3"
  },
  "language_info": {
   "codemirror_mode": {
    "name": "ipython",
    "version": 3
   },
   "file_extension": ".py",
   "mimetype": "text/x-python",
   "name": "python",
   "nbconvert_exporter": "python",
   "pygments_lexer": "ipython3",
   "version": "3.6.1"
  }
 },
 "nbformat": 4,
 "nbformat_minor": 2
}

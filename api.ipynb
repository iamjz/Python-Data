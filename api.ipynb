{
 "cells": [
  {
   "cell_type": "markdown",
   "metadata": {},
   "source": [
    "## Beginner's guide to the `scikit` API\n",
    "\n",
    "![Choosing the right estimator](http://scikit-learn.org/stable/_static/ml_map.png)\n",
    "\n",
    "[Link to the interactive map from above](http://scikit-learn.org/stable/tutorial/machine_learning_map/index.html)\n",
    "\n",
    "`scikit-learn` is a library (or collection) of Python resources for use in machine learning (ML). \n",
    "It is well-suited to a wide variety of ML tasks, and as such, \n",
    "the codebase is relatively complex on a cursory viewing. \n",
    "Fortunately, `scikit` was designed to be (more or less) intuitive to use once the basics of the API are understood. "
   ]
  },
  {
   "cell_type": "markdown",
   "metadata": {},
   "source": [
    "## Validation splits / training vs. test data\n",
    "\n",
    "For statistical learning, it is important to separate your dataset into dependent and independent variables, \n",
    "and then to separate the data further into training and test sets.\n",
    "Selecting features is entirely on the user, \n",
    "but the training/test split is accomodated within `sklearn.model_selection` via `train_test_split()`. \n",
    "\n",
    "```python\n",
    "from sklearn.model_selection import train_test_split\n",
    "\n",
    "X, Y = (some data, some response data)\n",
    "# f is some decimal value between 0 and 1 representing the percentage of data to reserve for testing\n",
    "X_train, X_test, Y_train, Y_test = train_test_split(X, Y, test_size=f)\n",
    "\n",
    "```\n",
    "\n",
    "With long references such as these, it can be useful to use the `as` keyword for imports - \n",
    "just be considerate of anyone else who may later be reading or working with your code."
   ]
  },
  {
   "cell_type": "markdown",
   "metadata": {},
   "source": [
    "## Model construction\n",
    "\n",
    "Aside from data preparation (covered above), \n",
    "the first step to solving a machine learning problem in `scikit` is to construct a model. \n",
    "All of the green boxes in the flowchart above represent separate (though often similar) \n",
    "modeling algorithms within the `scikit` API. \n",
    "As long as the relevant modules were correctly imported, \n",
    "actually declaring and initializing a model looks the same for all of those model types:\n",
    "\n",
    "```python\n",
    "from sklearn.(model_category) import model_type\n",
    "...\n",
    "model = ModelType()\n",
    "# to fit model with training data:\n",
    "fitted_model = model.fit(X, Y)\n",
    "```\n",
    "\n",
    "For example:\n",
    "\n",
    "```python\n",
    "from sklearn.cluster import KMeans\n",
    "from sklearn.datasets import load_iris\n",
    "\n",
    "X = (predictor variable data)\n",
    "Y = (response variable data)\n",
    "\n",
    "# with dot notation, you can declare and fit on one line\n",
    "model = KMeans().fit(X, Y)\n",
    "```"
   ]
  },
  {
   "cell_type": "markdown",
   "metadata": {},
   "source": [
    "## Using a fitted model for prediction\n",
    "\n",
    "Once a model has been fitted to the training data, \n",
    "you can typically use it to make predictions with `model.predict()` \n",
    "(see each model's documentation for return types, variant functions and notes on their usage).\n",
    "\n",
    "```python\n",
    "# validation split\n",
    "X, Y = (some data, some response variable)\n",
    "X_train, X_test, Y_train, Y_test = train_test_split(X, Y, test_size=f)\n",
    "\n",
    "# fit model \n",
    "fitted_model = (some model).fit(X_train, Y_train)\n",
    "\n",
    "# predict\n",
    "Y_predict = fitted_model.predict(X_test)\n",
    "\n",
    "# probabilistic:\n",
    "Y_pred_proba = fitted_model.predict_proba(X_test)\n",
    "```"
   ]
  },
  {
   "cell_type": "markdown",
   "metadata": {},
   "source": [
    "## General notes\n",
    "\n",
    "The [scikit documentation](http://scikit-learn.org/stable/index.html) is rather consistently good. \n",
    "Most questions about algorithm selection and what parameters can/should be tuned with each model \n",
    "can be resolved with a good look at the relevant doc pages. \n",
    "It also contains information on the library's wide array of preprocessing and dimensionality reduction resources\n",
    "(this may not mean anything yet, but it should as you begin to tackle more complicated ML problems).\n",
    "\n",
    "Specific similarities between different parts of the API will be discussed as they arise in the rest of this lab's examples."
   ]
  }
 ],
 "metadata": {
  "kernelspec": {
   "display_name": "Python 3",
   "language": "python",
   "name": "python3"
  },
  "language_info": {
   "codemirror_mode": {
    "name": "ipython",
    "version": 3
   },
   "file_extension": ".py",
   "mimetype": "text/x-python",
   "name": "python",
   "nbconvert_exporter": "python",
   "pygments_lexer": "ipython3",
   "version": "3.4.5"
  }
 },
 "nbformat": 4,
 "nbformat_minor": 2
}

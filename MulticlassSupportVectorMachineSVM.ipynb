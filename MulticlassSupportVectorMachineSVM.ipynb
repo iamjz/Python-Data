{
 "cells": [
  {
   "cell_type": "markdown",
   "metadata": {},
   "source": [
    "# Multi-class suport vector machine (SVM)"
   ]
  },
  {
   "cell_type": "markdown",
   "metadata": {},
   "source": [
    "We'll fit a multi-class linear SVM on red wine with the typical train/validate workflow. \n",
    "\n",
    "SVM only supports binary classification by itself. The multiclass support can be handled according to a one vs one or a one vs rest scheme. (http://scikit-learn.org/stable/modules/classes.html#module-sklearn.multiclass)\n",
    "\n",
    "Here, we'll use the single class linear SVM from Tensorflow and construct a one vs one multiclass SVM based on that. "
   ]
  },
  {
   "cell_type": "code",
   "execution_count": 30,
   "metadata": {
    "collapsed": true
   },
   "outputs": [],
   "source": [
    "import matplotlib.pyplot as plt\n",
    "%matplotlib inline\n",
    "\n",
    "import os, sys\n",
    "import itertools\n",
    "import numpy as np\n",
    "import pandas as pd\n",
    "import tensorflow as tf\n",
    "\n",
    "from sklearn.preprocessing import scale\n",
    "from sklearn.model_selection import train_test_split\n",
    "from sklearn.metrics import accuracy_score, confusion_matrix\n",
    "\n",
    "tf.logging.set_verbosity(tf.logging.ERROR)"
   ]
  },
  {
   "cell_type": "code",
   "execution_count": 31,
   "metadata": {},
   "outputs": [
    {
     "name": "stdout",
     "output_type": "stream",
     "text": [
      "True\n"
     ]
    }
   ],
   "source": [
    "datasource = \"datasets/winequality-red.csv\"\n",
    "print(os.path.exists(datasource))"
   ]
  },
  {
   "cell_type": "code",
   "execution_count": 32,
   "metadata": {
    "collapsed": true
   },
   "outputs": [],
   "source": [
    "dataset = pd.read_csv(datasource).sample(frac = 1).reset_index(drop = True)\n",
    "del dataset[\"Unnamed: 0\"]"
   ]
  },
  {
   "cell_type": "code",
   "execution_count": 33,
   "metadata": {},
   "outputs": [
    {
     "data": {
      "text/html": [
       "<div>\n",
       "<style>\n",
       "    .dataframe thead tr:only-child th {\n",
       "        text-align: right;\n",
       "    }\n",
       "\n",
       "    .dataframe thead th {\n",
       "        text-align: left;\n",
       "    }\n",
       "\n",
       "    .dataframe tbody tr th {\n",
       "        vertical-align: top;\n",
       "    }\n",
       "</style>\n",
       "<table border=\"1\" class=\"dataframe\">\n",
       "  <thead>\n",
       "    <tr style=\"text-align: right;\">\n",
       "      <th></th>\n",
       "      <th>fixed acidity</th>\n",
       "      <th>volatile acidity</th>\n",
       "      <th>citric acid</th>\n",
       "      <th>residual sugar</th>\n",
       "      <th>chlorides</th>\n",
       "      <th>free sulfur dioxide</th>\n",
       "      <th>total sulfur dioxide</th>\n",
       "      <th>density</th>\n",
       "      <th>pH</th>\n",
       "      <th>sulphates</th>\n",
       "      <th>alcohol</th>\n",
       "      <th>quality</th>\n",
       "    </tr>\n",
       "  </thead>\n",
       "  <tbody>\n",
       "    <tr>\n",
       "      <th>0</th>\n",
       "      <td>7.1</td>\n",
       "      <td>0.430</td>\n",
       "      <td>0.42</td>\n",
       "      <td>5.5</td>\n",
       "      <td>0.070</td>\n",
       "      <td>29.0</td>\n",
       "      <td>129.0</td>\n",
       "      <td>0.99730</td>\n",
       "      <td>3.42</td>\n",
       "      <td>0.72</td>\n",
       "      <td>10.5</td>\n",
       "      <td>5</td>\n",
       "    </tr>\n",
       "    <tr>\n",
       "      <th>1</th>\n",
       "      <td>9.9</td>\n",
       "      <td>0.720</td>\n",
       "      <td>0.55</td>\n",
       "      <td>1.7</td>\n",
       "      <td>0.136</td>\n",
       "      <td>24.0</td>\n",
       "      <td>52.0</td>\n",
       "      <td>0.99752</td>\n",
       "      <td>3.35</td>\n",
       "      <td>0.94</td>\n",
       "      <td>10.0</td>\n",
       "      <td>5</td>\n",
       "    </tr>\n",
       "    <tr>\n",
       "      <th>2</th>\n",
       "      <td>8.1</td>\n",
       "      <td>0.825</td>\n",
       "      <td>0.24</td>\n",
       "      <td>2.1</td>\n",
       "      <td>0.084</td>\n",
       "      <td>5.0</td>\n",
       "      <td>13.0</td>\n",
       "      <td>0.99720</td>\n",
       "      <td>3.37</td>\n",
       "      <td>0.77</td>\n",
       "      <td>10.7</td>\n",
       "      <td>6</td>\n",
       "    </tr>\n",
       "    <tr>\n",
       "      <th>3</th>\n",
       "      <td>8.1</td>\n",
       "      <td>1.330</td>\n",
       "      <td>0.00</td>\n",
       "      <td>1.8</td>\n",
       "      <td>0.082</td>\n",
       "      <td>3.0</td>\n",
       "      <td>12.0</td>\n",
       "      <td>0.99640</td>\n",
       "      <td>3.54</td>\n",
       "      <td>0.48</td>\n",
       "      <td>10.9</td>\n",
       "      <td>5</td>\n",
       "    </tr>\n",
       "    <tr>\n",
       "      <th>4</th>\n",
       "      <td>7.1</td>\n",
       "      <td>0.270</td>\n",
       "      <td>0.60</td>\n",
       "      <td>2.1</td>\n",
       "      <td>0.074</td>\n",
       "      <td>17.0</td>\n",
       "      <td>25.0</td>\n",
       "      <td>0.99814</td>\n",
       "      <td>3.38</td>\n",
       "      <td>0.72</td>\n",
       "      <td>10.6</td>\n",
       "      <td>6</td>\n",
       "    </tr>\n",
       "  </tbody>\n",
       "</table>\n",
       "</div>"
      ],
      "text/plain": [
       "   fixed acidity  volatile acidity  citric acid  residual sugar  chlorides  \\\n",
       "0            7.1             0.430         0.42             5.5      0.070   \n",
       "1            9.9             0.720         0.55             1.7      0.136   \n",
       "2            8.1             0.825         0.24             2.1      0.084   \n",
       "3            8.1             1.330         0.00             1.8      0.082   \n",
       "4            7.1             0.270         0.60             2.1      0.074   \n",
       "\n",
       "   free sulfur dioxide  total sulfur dioxide  density    pH  sulphates  \\\n",
       "0                 29.0                 129.0  0.99730  3.42       0.72   \n",
       "1                 24.0                  52.0  0.99752  3.35       0.94   \n",
       "2                  5.0                  13.0  0.99720  3.37       0.77   \n",
       "3                  3.0                  12.0  0.99640  3.54       0.48   \n",
       "4                 17.0                  25.0  0.99814  3.38       0.72   \n",
       "\n",
       "   alcohol  quality  \n",
       "0     10.5        5  \n",
       "1     10.0        5  \n",
       "2     10.7        6  \n",
       "3     10.9        5  \n",
       "4     10.6        6  "
      ]
     },
     "execution_count": 33,
     "metadata": {},
     "output_type": "execute_result"
    }
   ],
   "source": [
    "dataset.head()"
   ]
  },
  {
   "cell_type": "code",
   "execution_count": 34,
   "metadata": {
    "collapsed": true
   },
   "outputs": [],
   "source": [
    "selected_features = [1, 6, 9, 10]"
   ]
  },
  {
   "cell_type": "code",
   "execution_count": 35,
   "metadata": {
    "collapsed": true
   },
   "outputs": [],
   "source": [
    "X = scale(np.array(dataset.iloc[:, selected_features]))\n",
    "y = np.array(dataset[\"quality\"])"
   ]
  },
  {
   "cell_type": "code",
   "execution_count": 36,
   "metadata": {
    "collapsed": true
   },
   "outputs": [],
   "source": [
    "X_train, X_test, y_train, y_test = train_test_split(X, y, test_size = 0.25)"
   ]
  },
  {
   "cell_type": "code",
   "execution_count": 37,
   "metadata": {},
   "outputs": [
    {
     "data": {
      "text/html": [
       "<div>\n",
       "<style>\n",
       "    .dataframe thead tr:only-child th {\n",
       "        text-align: right;\n",
       "    }\n",
       "\n",
       "    .dataframe thead th {\n",
       "        text-align: left;\n",
       "    }\n",
       "\n",
       "    .dataframe tbody tr th {\n",
       "        vertical-align: top;\n",
       "    }\n",
       "</style>\n",
       "<table border=\"1\" class=\"dataframe\">\n",
       "  <thead>\n",
       "    <tr style=\"text-align: right;\">\n",
       "      <th></th>\n",
       "      <th>fixed acidity</th>\n",
       "      <th>volatile acidity</th>\n",
       "      <th>citric acid</th>\n",
       "      <th>residual sugar</th>\n",
       "      <th>chlorides</th>\n",
       "      <th>free sulfur dioxide</th>\n",
       "      <th>total sulfur dioxide</th>\n",
       "      <th>density</th>\n",
       "      <th>pH</th>\n",
       "      <th>sulphates</th>\n",
       "      <th>alcohol</th>\n",
       "      <th>quality</th>\n",
       "    </tr>\n",
       "  </thead>\n",
       "  <tbody>\n",
       "    <tr>\n",
       "      <th>count</th>\n",
       "      <td>1599.000000</td>\n",
       "      <td>1599.000000</td>\n",
       "      <td>1599.000000</td>\n",
       "      <td>1599.000000</td>\n",
       "      <td>1599.000000</td>\n",
       "      <td>1599.000000</td>\n",
       "      <td>1599.000000</td>\n",
       "      <td>1599.000000</td>\n",
       "      <td>1599.000000</td>\n",
       "      <td>1599.000000</td>\n",
       "      <td>1599.000000</td>\n",
       "      <td>1599.000000</td>\n",
       "    </tr>\n",
       "    <tr>\n",
       "      <th>mean</th>\n",
       "      <td>8.319637</td>\n",
       "      <td>0.527821</td>\n",
       "      <td>0.270976</td>\n",
       "      <td>2.538806</td>\n",
       "      <td>0.087467</td>\n",
       "      <td>15.874922</td>\n",
       "      <td>46.467792</td>\n",
       "      <td>0.996747</td>\n",
       "      <td>3.311113</td>\n",
       "      <td>0.658149</td>\n",
       "      <td>10.422983</td>\n",
       "      <td>5.636023</td>\n",
       "    </tr>\n",
       "    <tr>\n",
       "      <th>std</th>\n",
       "      <td>1.741096</td>\n",
       "      <td>0.179060</td>\n",
       "      <td>0.194801</td>\n",
       "      <td>1.409928</td>\n",
       "      <td>0.047065</td>\n",
       "      <td>10.460157</td>\n",
       "      <td>32.895324</td>\n",
       "      <td>0.001887</td>\n",
       "      <td>0.154386</td>\n",
       "      <td>0.169507</td>\n",
       "      <td>1.065668</td>\n",
       "      <td>0.807569</td>\n",
       "    </tr>\n",
       "    <tr>\n",
       "      <th>min</th>\n",
       "      <td>4.600000</td>\n",
       "      <td>0.120000</td>\n",
       "      <td>0.000000</td>\n",
       "      <td>0.900000</td>\n",
       "      <td>0.012000</td>\n",
       "      <td>1.000000</td>\n",
       "      <td>6.000000</td>\n",
       "      <td>0.990070</td>\n",
       "      <td>2.740000</td>\n",
       "      <td>0.330000</td>\n",
       "      <td>8.400000</td>\n",
       "      <td>3.000000</td>\n",
       "    </tr>\n",
       "    <tr>\n",
       "      <th>25%</th>\n",
       "      <td>7.100000</td>\n",
       "      <td>0.390000</td>\n",
       "      <td>0.090000</td>\n",
       "      <td>1.900000</td>\n",
       "      <td>0.070000</td>\n",
       "      <td>7.000000</td>\n",
       "      <td>22.000000</td>\n",
       "      <td>0.995600</td>\n",
       "      <td>3.210000</td>\n",
       "      <td>0.550000</td>\n",
       "      <td>9.500000</td>\n",
       "      <td>5.000000</td>\n",
       "    </tr>\n",
       "    <tr>\n",
       "      <th>50%</th>\n",
       "      <td>7.900000</td>\n",
       "      <td>0.520000</td>\n",
       "      <td>0.260000</td>\n",
       "      <td>2.200000</td>\n",
       "      <td>0.079000</td>\n",
       "      <td>14.000000</td>\n",
       "      <td>38.000000</td>\n",
       "      <td>0.996750</td>\n",
       "      <td>3.310000</td>\n",
       "      <td>0.620000</td>\n",
       "      <td>10.200000</td>\n",
       "      <td>6.000000</td>\n",
       "    </tr>\n",
       "    <tr>\n",
       "      <th>75%</th>\n",
       "      <td>9.200000</td>\n",
       "      <td>0.640000</td>\n",
       "      <td>0.420000</td>\n",
       "      <td>2.600000</td>\n",
       "      <td>0.090000</td>\n",
       "      <td>21.000000</td>\n",
       "      <td>62.000000</td>\n",
       "      <td>0.997835</td>\n",
       "      <td>3.400000</td>\n",
       "      <td>0.730000</td>\n",
       "      <td>11.100000</td>\n",
       "      <td>6.000000</td>\n",
       "    </tr>\n",
       "    <tr>\n",
       "      <th>max</th>\n",
       "      <td>15.900000</td>\n",
       "      <td>1.580000</td>\n",
       "      <td>1.000000</td>\n",
       "      <td>15.500000</td>\n",
       "      <td>0.611000</td>\n",
       "      <td>72.000000</td>\n",
       "      <td>289.000000</td>\n",
       "      <td>1.003690</td>\n",
       "      <td>4.010000</td>\n",
       "      <td>2.000000</td>\n",
       "      <td>14.900000</td>\n",
       "      <td>8.000000</td>\n",
       "    </tr>\n",
       "  </tbody>\n",
       "</table>\n",
       "</div>"
      ],
      "text/plain": [
       "       fixed acidity  volatile acidity  citric acid  residual sugar  \\\n",
       "count    1599.000000       1599.000000  1599.000000     1599.000000   \n",
       "mean        8.319637          0.527821     0.270976        2.538806   \n",
       "std         1.741096          0.179060     0.194801        1.409928   \n",
       "min         4.600000          0.120000     0.000000        0.900000   \n",
       "25%         7.100000          0.390000     0.090000        1.900000   \n",
       "50%         7.900000          0.520000     0.260000        2.200000   \n",
       "75%         9.200000          0.640000     0.420000        2.600000   \n",
       "max        15.900000          1.580000     1.000000       15.500000   \n",
       "\n",
       "         chlorides  free sulfur dioxide  total sulfur dioxide      density  \\\n",
       "count  1599.000000          1599.000000           1599.000000  1599.000000   \n",
       "mean      0.087467            15.874922             46.467792     0.996747   \n",
       "std       0.047065            10.460157             32.895324     0.001887   \n",
       "min       0.012000             1.000000              6.000000     0.990070   \n",
       "25%       0.070000             7.000000             22.000000     0.995600   \n",
       "50%       0.079000            14.000000             38.000000     0.996750   \n",
       "75%       0.090000            21.000000             62.000000     0.997835   \n",
       "max       0.611000            72.000000            289.000000     1.003690   \n",
       "\n",
       "                pH    sulphates      alcohol      quality  \n",
       "count  1599.000000  1599.000000  1599.000000  1599.000000  \n",
       "mean      3.311113     0.658149    10.422983     5.636023  \n",
       "std       0.154386     0.169507     1.065668     0.807569  \n",
       "min       2.740000     0.330000     8.400000     3.000000  \n",
       "25%       3.210000     0.550000     9.500000     5.000000  \n",
       "50%       3.310000     0.620000    10.200000     6.000000  \n",
       "75%       3.400000     0.730000    11.100000     6.000000  \n",
       "max       4.010000     2.000000    14.900000     8.000000  "
      ]
     },
     "execution_count": 37,
     "metadata": {},
     "output_type": "execute_result"
    }
   ],
   "source": [
    "dataset.describe()"
   ]
  },
  {
   "cell_type": "markdown",
   "metadata": {},
   "source": [
    "## Create multi-class SVM model\n",
    "\n",
    "Create an array containing names of the feature columns."
   ]
  },
  {
   "cell_type": "code",
   "execution_count": 38,
   "metadata": {},
   "outputs": [
    {
     "name": "stdout",
     "output_type": "stream",
     "text": [
      "['volatile_acidity', 'total_sulfur_dioxide', 'sulphates', 'alcohol']\n"
     ]
    }
   ],
   "source": [
    "feature_names = [dataset.columns[i].replace(\"\\x20\", \"_\") for i in selected_features] # \\x20 is a space\n",
    "print(feature_names)"
   ]
  },
  {
   "cell_type": "markdown",
   "metadata": {},
   "source": [
    "Create feature columns, which is similar to tensorflow placeholders that takes data from training loop. They must be fed training data during training. "
   ]
  },
  {
   "cell_type": "code",
   "execution_count": 39,
   "metadata": {},
   "outputs": [],
   "source": [
    "feature_columns = [tf.contrib.layers.real_valued_column(i) for i in feature_names]"
   ]
  },
  {
   "cell_type": "code",
   "execution_count": 40,
   "metadata": {},
   "outputs": [
    {
     "data": {
      "text/plain": [
       "[_RealValuedColumn(column_name='volatile_acidity', dimension=1, default_value=None, dtype=tf.float32, normalizer=None),\n",
       " _RealValuedColumn(column_name='total_sulfur_dioxide', dimension=1, default_value=None, dtype=tf.float32, normalizer=None),\n",
       " _RealValuedColumn(column_name='sulphates', dimension=1, default_value=None, dtype=tf.float32, normalizer=None),\n",
       " _RealValuedColumn(column_name='alcohol', dimension=1, default_value=None, dtype=tf.float32, normalizer=None)]"
      ]
     },
     "execution_count": 40,
     "metadata": {},
     "output_type": "execute_result"
    }
   ],
   "source": [
    "feature_columns"
   ]
  },
  {
   "cell_type": "markdown",
   "metadata": {},
   "source": [
    "## Note:\n",
    "\n",
    "One vs one multi-class SVM is essentially a collection of binary linear SVMs, each created for predicting a pair of classes against each other. Therefore, for each pair of classes, there needs to be an SVM. In other words, given 4 classes {A, B, C, D}, there will need to be the following classifiers. \n",
    "\n",
    "* A vs B\n",
    "* A vs C\n",
    "* A vs D\n",
    "* B vs C\n",
    "* B vs D\n",
    "* C vs D\n",
    "\n",
    "For N classes, it would be N choose 2, pair-wise classifiers"
   ]
  },
  {
   "cell_type": "code",
   "execution_count": 41,
   "metadata": {},
   "outputs": [
    {
     "name": "stdout",
     "output_type": "stream",
     "text": [
      "Class distribution {6: 638, 7: 199, 5: 681, 4: 53, 3: 10, 8: 18}\n"
     ]
    }
   ],
   "source": [
    "class_labels = np.unique(y_train)\n",
    "print(\"Class distribution\", {i: np.sum(y == i) for i in y_train})"
   ]
  },
  {
   "cell_type": "code",
   "execution_count": 42,
   "metadata": {},
   "outputs": [
    {
     "name": "stdout",
     "output_type": "stream",
     "text": [
      "Class pairs [(3, 4), (3, 5), (3, 6), (3, 7), (3, 8), (4, 5), (4, 6), (4, 7), (4, 8), (5, 6), (5, 7), (5, 8), (6, 7), (6, 8), (7, 8)]\n"
     ]
    }
   ],
   "source": [
    "class_pairs = [(i, j) for i, j in itertools.product(class_labels, class_labels) if j > i]\n",
    "print(\"Class pairs\", class_pairs)"
   ]
  },
  {
   "cell_type": "markdown",
   "metadata": {},
   "source": [
    "Now, we traverse all pairs of classes and create an SVM dedicated to each pair"
   ]
  },
  {
   "cell_type": "code",
   "execution_count": 43,
   "metadata": {},
   "outputs": [],
   "source": [
    "classifiers = {\n",
    "    pair: tf.contrib.learn.SVM(\"example_id\", feature_columns = feature_columns, l2_regularization = 1.0)\n",
    "        for pair in class_pairs\n",
    "}"
   ]
  },
  {
   "cell_type": "markdown",
   "metadata": {},
   "source": [
    "## Training and preparation\n",
    "\n",
    "Accordingly, we are going to need a my_input_fn() for each SVM. It's done by creating the following function that returns a my_input_fn() for any given pair. "
   ]
  },
  {
   "cell_type": "code",
   "execution_count": 44,
   "metadata": {
    "collapsed": true
   },
   "outputs": [],
   "source": [
    "def get_input_fn(pair):\n",
    "    \n",
    "    # subset out all relevant data to this pair of classes\n",
    "    sample = np.logical_or(y_train == pair[0], y_train == pair[1])\n",
    "    X_subset = X_train[sample, :]\n",
    "    y_subset = y_train[sample] == pair[1]\n",
    "    \n",
    "    # creating my_input_fn() that works on a subset of training data\n",
    "    def my_input_fn():\n",
    "        columns = {\n",
    "            feature_name: tf.constant(np.expand_dims(X_subset[:, i], 1))\n",
    "                for i, feature_name in enumerate(feature_names)\n",
    "        }\n",
    "        \n",
    "        columns[\"example_id\"] = tf.constant([str(i + 1) for i in range(len(X_subset))])\n",
    "        labels = tf.constant(y_subset)\n",
    "        return columns, labels\n",
    "    \n",
    "    return my_input_fn, len(y_subset)"
   ]
  },
  {
   "cell_type": "markdown",
   "metadata": {},
   "source": [
    "Fit all SVM classifiers. "
   ]
  },
  {
   "cell_type": "code",
   "execution_count": 45,
   "metadata": {},
   "outputs": [
    {
     "name": "stdout",
     "output_type": "stream",
     "text": [
      "Fitting an SVM to classes (3, 4) with 54 samples.\n",
      "Fitting an SVM to classes (3, 5) with 513 samples.\n",
      "Fitting an SVM to classes (3, 6) with 486 samples.\n",
      "Fitting an SVM to classes (3, 7) with 159 samples.\n",
      "Fitting an SVM to classes (3, 8) with 23 samples.\n",
      "Fitting an SVM to classes (4, 5) with 549 samples.\n",
      "Fitting an SVM to classes (4, 6) with 522 samples.\n",
      "Fitting an SVM to classes (4, 7) with 195 samples.\n",
      "Fitting an SVM to classes (4, 8) with 59 samples.\n",
      "Fitting an SVM to classes (5, 6) with 981 samples.\n",
      "Fitting an SVM to classes (5, 7) with 654 samples.\n",
      "Fitting an SVM to classes (5, 8) with 518 samples.\n",
      "Fitting an SVM to classes (6, 7) with 627 samples.\n",
      "Fitting an SVM to classes (6, 8) with 491 samples.\n",
      "Fitting an SVM to classes (7, 8) with 164 samples.\n"
     ]
    }
   ],
   "source": [
    "for pair in class_pairs:\n",
    "    this_input_fn, sample_size = get_input_fn(pair)\n",
    "    print(\"Fitting an SVM to classes\", pair, \"with\", sample_size, \"samples.\")\n",
    "    classifiers[pair].fit(input_fn = this_input_fn, steps = 30)"
   ]
  },
  {
   "cell_type": "markdown",
   "metadata": {},
   "source": [
    "## Evaluation\n",
    "\n",
    "Below defines a set of functions that facilitate making predictions of this multi-class SVM"
   ]
  },
  {
   "cell_type": "code",
   "execution_count": 46,
   "metadata": {
    "collapsed": true
   },
   "outputs": [],
   "source": [
    "def svm_pred_to_class(predictions, pair):\n",
    "    \"\"\" Convert SVM prediction into class labels\n",
    "           1. Take 'classes' attribute from each prediction\n",
    "           2. Use the binary prediction as index to find out original label from pair\n",
    "           \n",
    "        Example:\n",
    "            a prediction of 1 resulting from an SVM dedicated to classes (3, 4)\n",
    "            will be translated into 4, which is the original class label instead\n",
    "            of binary label 0 or 1.\n",
    "    \"\"\"\n",
    "    return list(map(lambda i: pair[i[\"classes\"]], predictions))"
   ]
  },
  {
   "cell_type": "code",
   "execution_count": 47,
   "metadata": {},
   "outputs": [],
   "source": [
    "def predict_fn():\n",
    "    \"\"\" Prepare test data from X_test \"\"\"\n",
    "    return {\n",
    "        feature_name: tf.constant(np.expand_dims(X_test[:, i], 1))\n",
    "            for i, feature_name in enumerate(feature_names)\n",
    "    }"
   ]
  },
  {
   "cell_type": "code",
   "execution_count": 48,
   "metadata": {
    "collapsed": true
   },
   "outputs": [],
   "source": [
    "def vote(labels):\n",
    "    \"\"\" Aggregate prediction results from one-vs-one SVMs by counting votes per class \"\"\"\n",
    "    hist, bins = np.histogram(labels, class_labels)\n",
    "    return bins[np.argmax(hist)]"
   ]
  },
  {
   "cell_type": "code",
   "execution_count": 49,
   "metadata": {
    "collapsed": true
   },
   "outputs": [],
   "source": [
    "def get_predictions(X_test):\n",
    "    \"\"\" Make predictions using all SVMs and aggregrate results. \"\"\"\n",
    "    \n",
    "    # make predictions with all SVMs and stack results in columns\n",
    "    # this results in a matrix in shape (num_samples, num_class_pairs)\n",
    "    \n",
    "    predictions = np.column_stack([\n",
    "        svm_pred_to_class(classifiers[pair].predict(input_fn = predict_fn), pair)\n",
    "            for pair in class_pairs\n",
    "    ])\n",
    "    \n",
    "    print(\"predictions\", predictions.shape)\n",
    "    \n",
    "    # aggregate results along axis = 1 into a final prediction for each sample\n",
    "    return np.array([vote(row) for row in predictions])"
   ]
  },
  {
   "cell_type": "markdown",
   "metadata": {},
   "source": [
    "Now we make a prediction on the test dataset"
   ]
  },
  {
   "cell_type": "code",
   "execution_count": 50,
   "metadata": {},
   "outputs": [
    {
     "name": "stdout",
     "output_type": "stream",
     "text": [
      "predictions (400, 15)\n"
     ]
    }
   ],
   "source": [
    "y_pred = get_predictions(X_test)"
   ]
  },
  {
   "cell_type": "markdown",
   "metadata": {},
   "source": [
    "Evaluate"
   ]
  },
  {
   "cell_type": "code",
   "execution_count": 51,
   "metadata": {},
   "outputs": [
    {
     "name": "stdout",
     "output_type": "stream",
     "text": [
      "Accuracy 0.5525\n"
     ]
    },
    {
     "data": {
      "text/plain": [
       "<matplotlib.image.AxesImage at 0x1e53db29da0>"
      ]
     },
     "execution_count": 51,
     "metadata": {},
     "output_type": "execute_result"
    },
    {
     "data": {
      "image/png": "[encoded data removed]",
      "text/plain": [
       "<matplotlib.figure.Figure at 0x1e53d8f50f0>"
      ]
     },
     "metadata": {},
     "output_type": "display_data"
    }
   ],
   "source": [
    "print(\"Accuracy\", accuracy_score(y_test, y_pred))\n",
    "plt.imshow(confusion_matrix(y_test, y_pred))"
   ]
  },
  {
   "cell_type": "code",
   "execution_count": null,
   "metadata": {
    "collapsed": true
   },
   "outputs": [],
   "source": []
  }
 ],
 "metadata": {
  "kernelspec": {
   "display_name": "Python 3",
   "language": "python",
   "name": "python3"
  },
  "language_info": {
   "codemirror_mode": {
    "name": "ipython",
    "version": 3
   },
   "file_extension": ".py",
   "mimetype": "text/x-python",
   "name": "python",
   "nbconvert_exporter": "python",
   "pygments_lexer": "ipython3",
   "version": "3.6.1"
  }
 },
 "nbformat": 4,
 "nbformat_minor": 2
}

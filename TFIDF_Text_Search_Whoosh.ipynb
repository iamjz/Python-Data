{
 "cells": [
  {
   "cell_type": "markdown",
   "metadata": {},
   "source": [
    "## 1. Buiding Whoosh Schema"
   ]
  },
  {
   "cell_type": "code",
   "execution_count": 19,
   "metadata": {
    "collapsed": true
   },
   "outputs": [],
   "source": [
    "from whoosh.fields import Schema, TEXT, KEYWORD, ID, STORED\n",
    "from whoosh.analysis import StemmingAnalyzer\n",
    "\n",
    "schema = Schema(filename=ID(stored=True),\n",
    "                line_num=ID(stored=True),\n",
    "                content=TEXT(analyzer=StemmingAnalyzer(), stored=True)\n",
    "               )"
   ]
  },
  {
   "cell_type": "markdown",
   "metadata": {},
   "source": [
    "## 2. Loading Data"
   ]
  },
  {
   "cell_type": "code",
   "execution_count": 20,
   "metadata": {},
   "outputs": [],
   "source": [
    "import os, os.path\n",
    "from whoosh import index\n",
    "\n",
    "# Note, this clears the existing index in the directory\n",
    "ix = index.create_in(\"hp\", schema)\n",
    "\n",
    "# Get a writer form the created index in \n",
    "writer = ix.writer()"
   ]
  },
  {
   "cell_type": "code",
   "execution_count": 21,
   "metadata": {},
   "outputs": [],
   "source": [
    "def loadFile(writer, fname):\n",
    "    '''\n",
    "    Read file contents, load into database.\n",
    "    '''\n",
    "    line_no = 1\n",
    "    with open(fname, 'r') as infile:\n",
    "        # TODO: create indexes for each line in the input file\n",
    "        \n",
    "        for line in infile:\n",
    "            line = line.rstrip(\"\\n\")\n",
    "            line_no += 1\n",
    "            writer.add_document(filename = fname, \\\n",
    "                               line_num = str(line_no), \\\n",
    "                                content = line\n",
    "                               )\n",
    "        \n",
    "        print(\"Indexed: \", fname)\n",
    "\n",
    "\n",
    "def processFolder(writer,folder):\n",
    "    print('Processing folder: ',folder)\n",
    "    for root, dirs, files in os.walk(folder):\n",
    "        print(\"root = \", root)\n",
    "        # Process Files\n",
    "        for file in files:\n",
    "            if file.endswith(\".txt\"):\n",
    "                filename = os.path.join(root, file)\n",
    "                loadFile(writer,filename)\n",
    "            else:\n",
    "                print(\"Unhandled File\")\n",
    "        # Recurse into subfolders\n",
    "        for d in dirs:\n",
    "            print(\"recursing into \",d)\n",
    "            processFolder(writer,d)"
   ]
  },
  {
   "cell_type": "code",
   "execution_count": 22,
   "metadata": {},
   "outputs": [
    {
     "name": "stdout",
     "output_type": "stream",
     "text": [
      "Processing folder:  hp\n",
      "root =  hp\n",
      "Indexed:  hp/CHAPTER 1.txt\n",
      "Indexed:  hp/CHAPTER 2.txt\n",
      "Indexed:  hp/CHAPTER 3.txt\n",
      "Indexed:  hp/CHAPTER 4.txt\n",
      "Indexed:  hp/CHAPTER 5.txt\n",
      "Indexed:  hp/CHAPTER 6.txt\n",
      "Indexed:  hp/CHAPTER 7.txt\n",
      "Indexed:  hp/CHAPTER 8.txt\n",
      "Unhandled File\n",
      "Unhandled File\n",
      "Unhandled File\n",
      "Unhandled File\n",
      "Unhandled File\n",
      "recursing into  MAIN.tmp\n",
      "Processing folder:  MAIN.tmp\n",
      "root =  hp/MAIN.tmp\n",
      "Unhandled File\n"
     ]
    }
   ],
   "source": [
    "processFolder(writer,\"hp\")\n",
    "writer.commit() # save changes"
   ]
  },
  {
   "cell_type": "markdown",
   "metadata": {},
   "source": [
    "## 3. Executing Queries"
   ]
  },
  {
   "cell_type": "code",
   "execution_count": 26,
   "metadata": {},
   "outputs": [
    {
     "name": "stdout",
     "output_type": "stream",
     "text": [
      "hp/CHAPTER 6.txt 708     \"Harry Potter,\" said Harry.\n",
      "hp/CHAPTER 2.txt 396 \"Harry was talking to it, weren't you, Harry?\"\n",
      "hp/CHAPTER 1.txt 97 son, Harry\"\n",
      "hp/CHAPTER 2.txt 45     Harry groaned.\n",
      "hp/CHAPTER 3.txt 18 Harry Hunting.\n",
      "hp/CHAPTER 3.txt 339 Harry in amazement.\n",
      "hp/CHAPTER 5.txt 916     Harry swallowed.\n",
      "hp/CHAPTER 6.txt 349     \"Harry Potter!\"\n",
      "hp/CHAPTER 6.txt 424     Harry nodded.\n",
      "hp/CHAPTER 6.txt 756     Harry stared.\n"
     ]
    }
   ],
   "source": [
    "from whoosh.qparser import QueryParser\n",
    "\n",
    "qp = QueryParser(\"content\", schema = ix.schema)\n",
    "q = qp.parse(u\"Harry\")\n",
    "\n",
    "with ix.searcher() as s:\n",
    "    results = s.search(q)\n",
    "    for hit in results:\n",
    "        print(hit[\"filename\"], hit[\"line_num\"], hit[\"content\"])\n",
    "\n",
    "# Find the indexes of lines where the \n",
    "# string 'Harry' is appearing. "
   ]
  },
  {
   "cell_type": "code",
   "execution_count": 29,
   "metadata": {},
   "outputs": [
    {
     "name": "stdout",
     "output_type": "stream",
     "text": [
      "hp/CHAPTER 2.txt 91 newspaper and shouted that Harry needed a haircut. Harry must have\n",
      "hp/CHAPTER 2.txt 258 to complain about things: people at work, Harry, the council, Harry,\n",
      "hp/CHAPTER 2.txt 396 \"Harry was talking to it, weren't you, Harry?\"\n",
      "hp/CHAPTER 5.txt 296 his great hand on Harry's shoulder and making Harry's knees buckle.\n",
      "hp/CHAPTER 5.txt 750 supply of some basic potion ingredients for Harry, Harry himself\n",
      "hp/CHAPTER 5.txt 809     Mr. Ollivander moved closer to Harry. Harry wished he would\n",
      "hp/CHAPTER 5.txt 933 Harry's lap. Up another escalator, out into Paddington station; Harry\n",
      "hp/CHAPTER 6.txt 402     Harry shook his head and the boy sat down. He glanced at Harry\n",
      "hp/CHAPTER 6.txt 708     \"Harry Potter,\" said Harry.\n",
      "hp/CHAPTER 6.txt 809     He held out his hand to shake Harry's, but Harry didn't take it.\n"
     ]
    }
   ],
   "source": [
    "from whoosh.qparser import QueryParser\n",
    "from whoosh import scoring\n",
    "\n",
    "qp = QueryParser(\"content\", schema = ix.schema)\n",
    "q = qp.parse(u\"Harry\")\n",
    "\n",
    "with ix.searcher(weighting = scoring.TF_IDF()) as s:\n",
    "    results = s.search(q)\n",
    "    for hit in results:\n",
    "        print(hit[\"filename\"], hit[\"line_num\"], hit[\"content\"])\n",
    "\n",
    "# Find the indexes of lines where the string\n",
    "#'Harry' using TF_IDF as the scoring mechanism. "
   ]
  },
  {
   "cell_type": "code",
   "execution_count": 30,
   "metadata": {},
   "outputs": [
    {
     "name": "stdout",
     "output_type": "stream",
     "text": [
      "hp/CHAPTER 6.txt 402     Harry shook his head and the boy sat down. He glanced at Harry\n",
      "hp/CHAPTER 6.txt 708     \"Harry Potter,\" said Harry.\n",
      "hp/CHAPTER 6.txt 809     He held out his hand to shake Harry's, but Harry didn't take it.\n",
      "hp/CHAPTER 6.txt 6     Harry's last month with the Dursleys wasn't fun. True, Dudley was\n",
      "hp/CHAPTER 6.txt 7 now so scared of Harry he wouldn't stay in the same room, while Aunt\n",
      "hp/CHAPTER 6.txt 8 Petunia and Uncle Vernon didn't shut Harry in his cupboard, force\n",
      "hp/CHAPTER 6.txt 11 chair with Harry in it were empty. Although this was an improvement\n",
      "hp/CHAPTER 6.txt 14     Harry kept to his room, with his new owl for company. He had\n",
      "hp/CHAPTER 6.txt 20 mice. Every night before he went to sleep, Harry ticked off another\n",
      "hp/CHAPTER 6.txt 41     Grunt. Harry supposed that meant yes.\n"
     ]
    }
   ],
   "source": [
    "from whoosh.query import *\n",
    "\n",
    "with ix.searcher(weighting = scoring.TF_IDF()) as s:\n",
    "    qp = QueryParser(\"content\", ix.schema)\n",
    "    user_q = qp.parse(u\"Harry\")\n",
    "    \n",
    "    allow_q = Term(\"filename\", \"hp/CHAPTER 6.txt\")\n",
    "    \n",
    "    results = s.search(user_q, filter = allow_q)\n",
    "    \n",
    "    for hit in results:\n",
    "        print(hit[\"filename\"], hit[\"line_num\"], hit[\"content\"])\n",
    "\n",
    "# Use a filter to list the indexes in chapter 6 \n",
    "# corresponding to the search string 'Harry' \n",
    "# using TF_IDF as the scoring mechanism. "
   ]
  },
  {
   "cell_type": "code",
   "execution_count": null,
   "metadata": {
    "collapsed": true
   },
   "outputs": [],
   "source": []
  }
 ],
 "metadata": {
  "kernelspec": {
   "display_name": "Python 3",
   "language": "python",
   "name": "python3"
  },
  "language_info": {
   "codemirror_mode": {
    "name": "ipython",
    "version": 3
   },
   "file_extension": ".py",
   "mimetype": "text/x-python",
   "name": "python",
   "nbconvert_exporter": "python",
   "pygments_lexer": "ipython3",
   "version": "3.4.5"
  }
 },
 "nbformat": 4,
 "nbformat_minor": 2
}

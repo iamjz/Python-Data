{
 "cells": [
  {
   "cell_type": "markdown",
   "metadata": {},
   "source": [
    "### Let's scrape the following wiki page:\n",
    "https://en.wikipedia.org/wiki/List_of_countries_by_GDP_sector_composition"
   ]
  },
  {
   "cell_type": "code",
   "execution_count": 1,
   "metadata": {
    "collapsed": true
   },
   "outputs": [],
   "source": [
    "# import libraries\n",
    "import requests\n",
    "from bs4 import BeautifulSoup\n",
    "import pandas as pd\n",
    "import numpy as np"
   ]
  },
  {
   "cell_type": "code",
   "execution_count": 2,
   "metadata": {
    "collapsed": true
   },
   "outputs": [],
   "source": [
    "url = \"https://en.wikipedia.org/wiki/List_of_countries_by_GDP_sector_composition\""
   ]
  },
  {
   "cell_type": "code",
   "execution_count": 3,
   "metadata": {
    "collapsed": true
   },
   "outputs": [],
   "source": [
    "response = requests.get(url)"
   ]
  },
  {
   "cell_type": "code",
   "execution_count": 4,
   "metadata": {
    "collapsed": true
   },
   "outputs": [],
   "source": [
    "wiki = BeautifulSoup(response.text, 'lxml')"
   ]
  },
  {
   "cell_type": "code",
   "execution_count": 21,
   "metadata": {
    "scrolled": true
   },
   "outputs": [
    {
     "name": "stdout",
     "output_type": "stream",
     "text": [
      "\n",
      "\n",
      "\n",
      "List of countries by GDP sector composition - Wikipedia\n",
      "document.documentElement.className = document.documentElement.className.replace( /(^|\\s)client-nojs(\\s|$)/, \"$1client-js$2\" );\n",
      "(window.RLQ=window.RLQ||[]).push(function(){mw.config.set({\"wgCanonicalNamespace\":\"\",\"wgCanonicalSpecialPageName\":false,\"wgNamespaceNumber\":0,\"wgPageName\":\"List_of_countries_by_GDP_sector_composition\",\"wgTitle\":\"List of countries by GDP sector composition\",\"wgCurRevisionId\":833711656,\"wgRevisionId\":833711656,\"wgA\n"
     ]
    }
   ],
   "source": [
    "print(wiki.get_text()[0:500])"
   ]
  },
  {
   "cell_type": "code",
   "execution_count": 23,
   "metadata": {},
   "outputs": [
    {
     "name": "stdout",
     "output_type": "stream",
     "text": [
      "<!DOCTYPE html>\n",
      "<html class=\"client-nojs\" dir=\"ltr\" lang=\"en\">\n",
      "<head>\n",
      "<meta charset=\"utf-8\"/>\n",
      "<title\n"
     ]
    }
   ],
   "source": [
    "print(str(wiki)[0:100])"
   ]
  },
  {
   "cell_type": "code",
   "execution_count": 24,
   "metadata": {
    "collapsed": true
   },
   "outputs": [],
   "source": [
    "# print(wiki.prettify)"
   ]
  },
  {
   "cell_type": "markdown",
   "metadata": {},
   "source": [
    "Now let's grab the \"GDP from natural resources\" table"
   ]
  },
  {
   "cell_type": "code",
   "execution_count": 15,
   "metadata": {
    "collapsed": true
   },
   "outputs": [],
   "source": [
    "all_tables = wiki.find_all('table')"
   ]
  },
  {
   "cell_type": "code",
   "execution_count": 20,
   "metadata": {},
   "outputs": [
    {
     "name": "stdout",
     "output_type": "stream",
     "text": [
      "[<table class=\"plainlinks metadata ambox ambox-content ambox-Update\" role=\"presentation\">\n",
      "<tr>\n",
      "<td class=\"mbox-image\">\n",
      "<div style=\"width:52px\"><img alt=\"Ambox current red.svg\" data-file-height=\"290\" data-file-width=\"360\" height=\"34\" src=\"//upload.wikimedia.org/wikipedia/commons/thumb/9/98/Ambox_current_red.svg/42px-Ambox_current_red.svg.png\" srcset=\"//upload.wikimedia.org/wikipedia/commons/thumb/9/98/Ambox_current_red.svg/63px-Ambox_current_red.svg.png 1.5x, //upload.wikimedia.org/wikipedia/commons/thumb/9/98/Ambox_current_red.svg/84px-Ambox_current_red.svg.png 2x\" width=\"42\"/></div>\n",
      "</td>\n",
      "<td class=\"mbox-text\">\n",
      "<div class=\"mbox-text-span\">This article needs to be <b>updated</b>. <span class=\"hide-when-compact\">Please update this article to reflect recent events or newly available information.</span> <small><i>(May 2017)</i></small></div>\n",
      "</td>\n",
      "</tr>\n",
      "</table>]\n"
     ]
    }
   ],
   "source": [
    "print(all_tables[0:1])"
   ]
  },
  {
   "cell_type": "code",
   "execution_count": 25,
   "metadata": {},
   "outputs": [],
   "source": [
    "correctTable = all_tables[3]\n",
    "# print(correctTable.prettify)"
   ]
  },
  {
   "cell_type": "markdown",
   "metadata": {},
   "source": [
    "Now, let's create a dataframe from the extracted table. Use the same columns as the table on the wiki page but make them proper. "
   ]
  },
  {
   "cell_type": "code",
   "execution_count": 24,
   "metadata": {},
   "outputs": [
    {
     "data": {
      "text/html": [
       "<div>\n",
       "<style>\n",
       "    .dataframe thead tr:only-child th {\n",
       "        text-align: right;\n",
       "    }\n",
       "\n",
       "    .dataframe thead th {\n",
       "        text-align: left;\n",
       "    }\n",
       "\n",
       "    .dataframe tbody tr th {\n",
       "        vertical-align: top;\n",
       "    }\n",
       "</style>\n",
       "<table border=\"1\" class=\"dataframe\">\n",
       "  <thead>\n",
       "    <tr style=\"text-align: right;\">\n",
       "      <th></th>\n",
       "      <th>Country</th>\n",
       "      <th>TotalNaturalResources</th>\n",
       "      <th>Oil</th>\n",
       "      <th>NaturalGas</th>\n",
       "      <th>Coal</th>\n",
       "      <th>Mineral</th>\n",
       "      <th>Forest</th>\n",
       "    </tr>\n",
       "  </thead>\n",
       "  <tbody>\n",
       "    <tr>\n",
       "      <th>0</th>\n",
       "      <td>Afghanistan</td>\n",
       "      <td>2.1</td>\n",
       "      <td>..</td>\n",
       "      <td>..</td>\n",
       "      <td>0</td>\n",
       "      <td>0</td>\n",
       "      <td>2.1</td>\n",
       "    </tr>\n",
       "    <tr>\n",
       "      <th>1</th>\n",
       "      <td>Albania</td>\n",
       "      <td>5.1</td>\n",
       "      <td>4.6</td>\n",
       "      <td>0</td>\n",
       "      <td>0</td>\n",
       "      <td>0.5</td>\n",
       "      <td>0.1</td>\n",
       "    </tr>\n",
       "    <tr>\n",
       "      <th>2</th>\n",
       "      <td>Algeria</td>\n",
       "      <td>26.3</td>\n",
       "      <td>19</td>\n",
       "      <td>7</td>\n",
       "      <td>0</td>\n",
       "      <td>0.3</td>\n",
       "      <td>0.1</td>\n",
       "    </tr>\n",
       "    <tr>\n",
       "      <th>3</th>\n",
       "      <td>Angola</td>\n",
       "      <td>46.6</td>\n",
       "      <td>46.3</td>\n",
       "      <td>0.1</td>\n",
       "      <td>..</td>\n",
       "      <td>0</td>\n",
       "      <td>0.2</td>\n",
       "    </tr>\n",
       "    <tr>\n",
       "      <th>4</th>\n",
       "      <td>Antigua and Barbuda</td>\n",
       "      <td>0</td>\n",
       "      <td>..</td>\n",
       "      <td>..</td>\n",
       "      <td>..</td>\n",
       "      <td>0</td>\n",
       "      <td>..</td>\n",
       "    </tr>\n",
       "  </tbody>\n",
       "</table>\n",
       "</div>"
      ],
      "text/plain": [
       "               Country TotalNaturalResources   Oil NaturalGas Coal Mineral  \\\n",
       "0          Afghanistan                   2.1    ..         ..    0       0   \n",
       "1              Albania                   5.1   4.6          0    0     0.5   \n",
       "2              Algeria                  26.3    19          7    0     0.3   \n",
       "3               Angola                  46.6  46.3        0.1   ..       0   \n",
       "4  Antigua and Barbuda                     0    ..         ..   ..       0   \n",
       "\n",
       "  Forest  \n",
       "0    2.1  \n",
       "1    0.1  \n",
       "2    0.1  \n",
       "3    0.2  \n",
       "4     ..  "
      ]
     },
     "execution_count": 24,
     "metadata": {},
     "output_type": "execute_result"
    }
   ],
   "source": [
    "country = []\n",
    "totalNaturalResources = []\n",
    "oil = []\n",
    "naturalGas = []\n",
    "coal = []\n",
    "mineral = []\n",
    "forest = []\n",
    "\n",
    "for row in correctTable.findAll('tr')[1:]:\n",
    "    cells = row.findAll('td')\n",
    "    if (len(cells) > 0):\n",
    "        country.append(cells[0].find('a')['title'])\n",
    "        totalNaturalResources.append(cells[1].find(text = True))\n",
    "        oil.append(cells[2].find(text = True))\n",
    "        naturalGas.append(cells[3].find(text = True))\n",
    "        coal.append(cells[4].find(text = True))\n",
    "        mineral.append(cells[5].find(text = True))\n",
    "        forest.append(cells[6].find(text = True))\n",
    "        \n",
    "resources_df = pd.DataFrame(country, columns = [\"Country\"])\n",
    "resources_df[\"TotalNaturalResources\"] = totalNaturalResources\n",
    "resources_df[\"Oil\"] = oil\n",
    "resources_df[\"NaturalGas\"] = naturalGas\n",
    "resources_df[\"Coal\"] = coal\n",
    "resources_df[\"Mineral\"] = mineral\n",
    "resources_df[\"Forest\"] = forest\n",
    "\n",
    "resources_df.head()"
   ]
  },
  {
   "cell_type": "markdown",
   "metadata": {},
   "source": [
    "Extract the \"list by percentage\" table. Create a dataframe out of it. "
   ]
  },
  {
   "cell_type": "code",
   "execution_count": 25,
   "metadata": {},
   "outputs": [
    {
     "data": {
      "text/html": [
       "<div>\n",
       "<style>\n",
       "    .dataframe thead tr:only-child th {\n",
       "        text-align: right;\n",
       "    }\n",
       "\n",
       "    .dataframe thead th {\n",
       "        text-align: left;\n",
       "    }\n",
       "\n",
       "    .dataframe tbody tr th {\n",
       "        vertical-align: top;\n",
       "    }\n",
       "</style>\n",
       "<table border=\"1\" class=\"dataframe\">\n",
       "  <thead>\n",
       "    <tr style=\"text-align: right;\">\n",
       "      <th></th>\n",
       "      <th>Country</th>\n",
       "      <th>Agriculture</th>\n",
       "      <th>Industry</th>\n",
       "      <th>Services</th>\n",
       "      <th>Year</th>\n",
       "    </tr>\n",
       "  </thead>\n",
       "  <tbody>\n",
       "    <tr>\n",
       "      <th>0</th>\n",
       "      <td>Afghanistan</td>\n",
       "      <td>24</td>\n",
       "      <td>21</td>\n",
       "      <td>55</td>\n",
       "      <td>2014</td>\n",
       "    </tr>\n",
       "    <tr>\n",
       "      <th>1</th>\n",
       "      <td>Albania</td>\n",
       "      <td>21.6</td>\n",
       "      <td>14.9</td>\n",
       "      <td>63.5</td>\n",
       "      <td>2016</td>\n",
       "    </tr>\n",
       "    <tr>\n",
       "      <th>2</th>\n",
       "      <td>Algeria</td>\n",
       "      <td>13.1</td>\n",
       "      <td>38.7</td>\n",
       "      <td>48.2</td>\n",
       "      <td>2016</td>\n",
       "    </tr>\n",
       "    <tr>\n",
       "      <th>3</th>\n",
       "      <td>American Samoa</td>\n",
       "      <td>27.4</td>\n",
       "      <td>12.4</td>\n",
       "      <td>60.2</td>\n",
       "      <td>2012</td>\n",
       "    </tr>\n",
       "    <tr>\n",
       "      <th>4</th>\n",
       "      <td>Andorra</td>\n",
       "      <td>14</td>\n",
       "      <td>79</td>\n",
       "      <td>6</td>\n",
       "      <td>2011</td>\n",
       "    </tr>\n",
       "  </tbody>\n",
       "</table>\n",
       "</div>"
      ],
      "text/plain": [
       "          Country Agriculture Industry Services   Year\n",
       "0     Afghanistan          24       21       55  2014 \n",
       "1         Albania        21.6     14.9     63.5  2016 \n",
       "2         Algeria        13.1     38.7     48.2  2016 \n",
       "3  American Samoa        27.4     12.4     60.2  2012 \n",
       "4         Andorra          14       79        6  2011 "
      ]
     },
     "execution_count": 25,
     "metadata": {},
     "output_type": "execute_result"
    }
   ],
   "source": [
    "country = []\n",
    "agriculture = []\n",
    "industry = []\n",
    "services = []\n",
    "year = [] \n",
    "\n",
    "pct = wiki.findAll('table')[4]\n",
    "\n",
    "for row in pct.findAll('tr')[1:]:\n",
    "    cells = row.findAll('td')\n",
    "    if (len(cells) > 1):\n",
    "        country.append(cells[0].find('a').find(text = True))\n",
    "        agriculture.append(cells[1].find(text = True))\n",
    "        industry.append(cells[2].find(text = True))\n",
    "        services.append(cells[3].find(text = True))\n",
    "        year.append(cells[4].find(text = True))\n",
    "        \n",
    "gdp = pd.DataFrame(country, columns = ['Country'])\n",
    "gdp[\"Agriculture\"] = agriculture\n",
    "gdp[\"Industry\"] = industry\n",
    "gdp[\"Services\"] = services\n",
    "gdp[\"Year\"] = year\n",
    "\n",
    "gdp.head()"
   ]
  },
  {
   "cell_type": "markdown",
   "metadata": {},
   "source": [
    "Let's combine the 2 dataframes together"
   ]
  },
  {
   "cell_type": "code",
   "execution_count": 26,
   "metadata": {
    "collapsed": true
   },
   "outputs": [],
   "source": [
    "combined = pd.merge(resources_df, gdp, how = \"outer\", on = \"Country\")"
   ]
  },
  {
   "cell_type": "code",
   "execution_count": 27,
   "metadata": {},
   "outputs": [
    {
     "name": "stdout",
     "output_type": "stream",
     "text": [
      "(234, 11)\n"
     ]
    }
   ],
   "source": [
    "print(combined.shape)"
   ]
  },
  {
   "cell_type": "code",
   "execution_count": 28,
   "metadata": {},
   "outputs": [
    {
     "name": "stdout",
     "output_type": "stream",
     "text": [
      "(182, 7)\n"
     ]
    }
   ],
   "source": [
    "print(resources_df.shape)"
   ]
  },
  {
   "cell_type": "code",
   "execution_count": 29,
   "metadata": {},
   "outputs": [
    {
     "name": "stdout",
     "output_type": "stream",
     "text": [
      "(222, 5)\n"
     ]
    }
   ],
   "source": [
    "print(gdp.shape)"
   ]
  },
  {
   "cell_type": "code",
   "execution_count": 30,
   "metadata": {},
   "outputs": [
    {
     "data": {
      "text/html": [
       "<div>\n",
       "<style>\n",
       "    .dataframe thead tr:only-child th {\n",
       "        text-align: right;\n",
       "    }\n",
       "\n",
       "    .dataframe thead th {\n",
       "        text-align: left;\n",
       "    }\n",
       "\n",
       "    .dataframe tbody tr th {\n",
       "        vertical-align: top;\n",
       "    }\n",
       "</style>\n",
       "<table border=\"1\" class=\"dataframe\">\n",
       "  <thead>\n",
       "    <tr style=\"text-align: right;\">\n",
       "      <th></th>\n",
       "      <th>Country</th>\n",
       "      <th>TotalNaturalResources</th>\n",
       "      <th>Oil</th>\n",
       "      <th>NaturalGas</th>\n",
       "      <th>Coal</th>\n",
       "      <th>Mineral</th>\n",
       "      <th>Forest</th>\n",
       "      <th>Agriculture</th>\n",
       "      <th>Industry</th>\n",
       "      <th>Services</th>\n",
       "      <th>Year</th>\n",
       "    </tr>\n",
       "  </thead>\n",
       "  <tbody>\n",
       "    <tr>\n",
       "      <th>0</th>\n",
       "      <td>Afghanistan</td>\n",
       "      <td>2.1</td>\n",
       "      <td>..</td>\n",
       "      <td>..</td>\n",
       "      <td>0</td>\n",
       "      <td>0</td>\n",
       "      <td>2.1</td>\n",
       "      <td>24</td>\n",
       "      <td>21</td>\n",
       "      <td>55</td>\n",
       "      <td>2014</td>\n",
       "    </tr>\n",
       "    <tr>\n",
       "      <th>1</th>\n",
       "      <td>Albania</td>\n",
       "      <td>5.1</td>\n",
       "      <td>4.6</td>\n",
       "      <td>0</td>\n",
       "      <td>0</td>\n",
       "      <td>0.5</td>\n",
       "      <td>0.1</td>\n",
       "      <td>21.6</td>\n",
       "      <td>14.9</td>\n",
       "      <td>63.5</td>\n",
       "      <td>2016</td>\n",
       "    </tr>\n",
       "    <tr>\n",
       "      <th>2</th>\n",
       "      <td>Algeria</td>\n",
       "      <td>26.3</td>\n",
       "      <td>19</td>\n",
       "      <td>7</td>\n",
       "      <td>0</td>\n",
       "      <td>0.3</td>\n",
       "      <td>0.1</td>\n",
       "      <td>13.1</td>\n",
       "      <td>38.7</td>\n",
       "      <td>48.2</td>\n",
       "      <td>2016</td>\n",
       "    </tr>\n",
       "    <tr>\n",
       "      <th>3</th>\n",
       "      <td>Angola</td>\n",
       "      <td>46.6</td>\n",
       "      <td>46.3</td>\n",
       "      <td>0.1</td>\n",
       "      <td>..</td>\n",
       "      <td>0</td>\n",
       "      <td>0.2</td>\n",
       "      <td>10.2</td>\n",
       "      <td>61.4</td>\n",
       "      <td>28.4</td>\n",
       "      <td>2011</td>\n",
       "    </tr>\n",
       "    <tr>\n",
       "      <th>4</th>\n",
       "      <td>Antigua and Barbuda</td>\n",
       "      <td>0</td>\n",
       "      <td>..</td>\n",
       "      <td>..</td>\n",
       "      <td>..</td>\n",
       "      <td>0</td>\n",
       "      <td>..</td>\n",
       "      <td>2.2</td>\n",
       "      <td>17.8</td>\n",
       "      <td>80</td>\n",
       "      <td>2016</td>\n",
       "    </tr>\n",
       "  </tbody>\n",
       "</table>\n",
       "</div>"
      ],
      "text/plain": [
       "               Country TotalNaturalResources   Oil NaturalGas Coal Mineral  \\\n",
       "0          Afghanistan                   2.1    ..         ..    0       0   \n",
       "1              Albania                   5.1   4.6          0    0     0.5   \n",
       "2              Algeria                  26.3    19          7    0     0.3   \n",
       "3               Angola                  46.6  46.3        0.1   ..       0   \n",
       "4  Antigua and Barbuda                     0    ..         ..   ..       0   \n",
       "\n",
       "  Forest Agriculture Industry Services   Year  \n",
       "0    2.1          24       21       55  2014   \n",
       "1    0.1        21.6     14.9     63.5  2016   \n",
       "2    0.1        13.1     38.7     48.2  2016   \n",
       "3    0.2        10.2     61.4     28.4  2011   \n",
       "4     ..         2.2     17.8       80  2016   "
      ]
     },
     "execution_count": 30,
     "metadata": {},
     "output_type": "execute_result"
    }
   ],
   "source": [
    "combined.head()"
   ]
  },
  {
   "cell_type": "markdown",
   "metadata": {},
   "source": [
    "Let's replace invalid \"..\" values with NaNs"
   ]
  },
  {
   "cell_type": "code",
   "execution_count": 32,
   "metadata": {},
   "outputs": [
    {
     "data": {
      "text/html": [
       "<div>\n",
       "<style>\n",
       "    .dataframe thead tr:only-child th {\n",
       "        text-align: right;\n",
       "    }\n",
       "\n",
       "    .dataframe thead th {\n",
       "        text-align: left;\n",
       "    }\n",
       "\n",
       "    .dataframe tbody tr th {\n",
       "        vertical-align: top;\n",
       "    }\n",
       "</style>\n",
       "<table border=\"1\" class=\"dataframe\">\n",
       "  <thead>\n",
       "    <tr style=\"text-align: right;\">\n",
       "      <th></th>\n",
       "      <th>Country</th>\n",
       "      <th>TotalNaturalResources</th>\n",
       "      <th>Oil</th>\n",
       "      <th>NaturalGas</th>\n",
       "      <th>Coal</th>\n",
       "      <th>Mineral</th>\n",
       "      <th>Forest</th>\n",
       "      <th>Agriculture</th>\n",
       "      <th>Industry</th>\n",
       "      <th>Services</th>\n",
       "      <th>Year</th>\n",
       "    </tr>\n",
       "  </thead>\n",
       "  <tbody>\n",
       "    <tr>\n",
       "      <th>0</th>\n",
       "      <td>Afghanistan</td>\n",
       "      <td>2.1</td>\n",
       "      <td>NaN</td>\n",
       "      <td>NaN</td>\n",
       "      <td>0</td>\n",
       "      <td>0</td>\n",
       "      <td>2.1</td>\n",
       "      <td>24</td>\n",
       "      <td>21</td>\n",
       "      <td>55</td>\n",
       "      <td>2014</td>\n",
       "    </tr>\n",
       "    <tr>\n",
       "      <th>1</th>\n",
       "      <td>Albania</td>\n",
       "      <td>5.1</td>\n",
       "      <td>4.6</td>\n",
       "      <td>0</td>\n",
       "      <td>0</td>\n",
       "      <td>0.5</td>\n",
       "      <td>0.1</td>\n",
       "      <td>21.6</td>\n",
       "      <td>14.9</td>\n",
       "      <td>63.5</td>\n",
       "      <td>2016</td>\n",
       "    </tr>\n",
       "    <tr>\n",
       "      <th>2</th>\n",
       "      <td>Algeria</td>\n",
       "      <td>26.3</td>\n",
       "      <td>19</td>\n",
       "      <td>7</td>\n",
       "      <td>0</td>\n",
       "      <td>0.3</td>\n",
       "      <td>0.1</td>\n",
       "      <td>13.1</td>\n",
       "      <td>38.7</td>\n",
       "      <td>48.2</td>\n",
       "      <td>2016</td>\n",
       "    </tr>\n",
       "    <tr>\n",
       "      <th>3</th>\n",
       "      <td>Angola</td>\n",
       "      <td>46.6</td>\n",
       "      <td>46.3</td>\n",
       "      <td>0.1</td>\n",
       "      <td>NaN</td>\n",
       "      <td>0</td>\n",
       "      <td>0.2</td>\n",
       "      <td>10.2</td>\n",
       "      <td>61.4</td>\n",
       "      <td>28.4</td>\n",
       "      <td>2011</td>\n",
       "    </tr>\n",
       "    <tr>\n",
       "      <th>4</th>\n",
       "      <td>Antigua and Barbuda</td>\n",
       "      <td>0</td>\n",
       "      <td>NaN</td>\n",
       "      <td>NaN</td>\n",
       "      <td>NaN</td>\n",
       "      <td>0</td>\n",
       "      <td>NaN</td>\n",
       "      <td>2.2</td>\n",
       "      <td>17.8</td>\n",
       "      <td>80</td>\n",
       "      <td>2016</td>\n",
       "    </tr>\n",
       "  </tbody>\n",
       "</table>\n",
       "</div>"
      ],
      "text/plain": [
       "               Country TotalNaturalResources   Oil NaturalGas Coal Mineral  \\\n",
       "0          Afghanistan                   2.1   NaN        NaN    0       0   \n",
       "1              Albania                   5.1   4.6          0    0     0.5   \n",
       "2              Algeria                  26.3    19          7    0     0.3   \n",
       "3               Angola                  46.6  46.3        0.1  NaN       0   \n",
       "4  Antigua and Barbuda                     0   NaN        NaN  NaN       0   \n",
       "\n",
       "  Forest Agriculture Industry Services   Year  \n",
       "0    2.1          24       21       55  2014   \n",
       "1    0.1        21.6     14.9     63.5  2016   \n",
       "2    0.1        13.1     38.7     48.2  2016   \n",
       "3    0.2        10.2     61.4     28.4  2011   \n",
       "4    NaN         2.2     17.8       80  2016   "
      ]
     },
     "execution_count": 32,
     "metadata": {},
     "output_type": "execute_result"
    }
   ],
   "source": [
    "combined = combined.replace(\"..\", np.NaN)\n",
    "combined.head()"
   ]
  },
  {
   "cell_type": "code",
   "execution_count": null,
   "metadata": {
    "collapsed": true
   },
   "outputs": [],
   "source": []
  }
 ],
 "metadata": {
  "kernelspec": {
   "display_name": "Python 3",
   "language": "python",
   "name": "python3"
  },
  "language_info": {
   "codemirror_mode": {
    "name": "ipython",
    "version": 3
   },
   "file_extension": ".py",
   "mimetype": "text/x-python",
   "name": "python",
   "nbconvert_exporter": "python",
   "pygments_lexer": "ipython3",
   "version": "3.6.1"
  }
 },
 "nbformat": 4,
 "nbformat_minor": 2
}

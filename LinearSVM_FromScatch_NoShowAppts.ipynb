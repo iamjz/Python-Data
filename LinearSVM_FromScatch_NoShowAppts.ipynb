{
 "cells": [
  {
   "cell_type": "markdown",
   "metadata": {},
   "source": [
    "# Linear SVM\n",
    "\n",
    "https://www.kaggle.com/joniarroba/noshowappointments   "
   ]
  },
  {
   "cell_type": "code",
   "execution_count": null,
   "metadata": {
    "collapsed": true
   },
   "outputs": [],
   "source": [
    "import matplotlib.pyplot as plt\n",
    "%matplotlib inline\n",
    "\n",
    "import os, sys\n",
    "import itertools\n",
    "import numpy as np\n",
    "import pandas as pd\n"
   ]
  },
  {
   "cell_type": "code",
   "execution_count": 37,
   "metadata": {
    "collapsed": true
   },
   "outputs": [],
   "source": [
    "datasource = \"datasets/appointment_noshow.csv\""
   ]
  },
  {
   "cell_type": "code",
   "execution_count": 38,
   "metadata": {},
   "outputs": [
    {
     "name": "stdout",
     "output_type": "stream",
     "text": [
      "True\n"
     ]
    }
   ],
   "source": [
    "print(os.path.exists(datasource))"
   ]
  },
  {
   "cell_type": "code",
   "execution_count": 39,
   "metadata": {
    "collapsed": true
   },
   "outputs": [],
   "source": [
    "dataset = pd.read_csv(datasource)\n",
    "del dataset[\"Unnamed: 0\"]"
   ]
  },
  {
   "cell_type": "code",
   "execution_count": 40,
   "metadata": {},
   "outputs": [
    {
     "data": {
      "text/html": [
       "<div>\n",
       "<style>\n",
       "    .dataframe thead tr:only-child th {\n",
       "        text-align: right;\n",
       "    }\n",
       "\n",
       "    .dataframe thead th {\n",
       "        text-align: left;\n",
       "    }\n",
       "\n",
       "    .dataframe tbody tr th {\n",
       "        vertical-align: top;\n",
       "    }\n",
       "</style>\n",
       "<table border=\"1\" class=\"dataframe\">\n",
       "  <thead>\n",
       "    <tr style=\"text-align: right;\">\n",
       "      <th></th>\n",
       "      <th>PatientId</th>\n",
       "      <th>AppointmentID</th>\n",
       "      <th>Gender</th>\n",
       "      <th>ScheduledDay</th>\n",
       "      <th>AppointmentDay</th>\n",
       "      <th>Age</th>\n",
       "      <th>Neighbourhood</th>\n",
       "      <th>Scholarship</th>\n",
       "      <th>Hipertension</th>\n",
       "      <th>Diabetes</th>\n",
       "      <th>Alcoholism</th>\n",
       "      <th>Handcap</th>\n",
       "      <th>SMS_received</th>\n",
       "      <th>No-show</th>\n",
       "    </tr>\n",
       "  </thead>\n",
       "  <tbody>\n",
       "    <tr>\n",
       "      <th>0</th>\n",
       "      <td>9.145449e+14</td>\n",
       "      <td>5548703</td>\n",
       "      <td>F</td>\n",
       "      <td>2016-04-06T08:52:26Z</td>\n",
       "      <td>2016-05-02T00:00:00Z</td>\n",
       "      <td>26</td>\n",
       "      <td>SANTA TEREZA</td>\n",
       "      <td>0</td>\n",
       "      <td>0</td>\n",
       "      <td>0</td>\n",
       "      <td>0</td>\n",
       "      <td>0</td>\n",
       "      <td>1</td>\n",
       "      <td>No</td>\n",
       "    </tr>\n",
       "    <tr>\n",
       "      <th>1</th>\n",
       "      <td>9.536895e+13</td>\n",
       "      <td>5702942</td>\n",
       "      <td>M</td>\n",
       "      <td>2016-05-16T13:17:59Z</td>\n",
       "      <td>2016-05-31T00:00:00Z</td>\n",
       "      <td>4</td>\n",
       "      <td>TABUAZEIRO</td>\n",
       "      <td>0</td>\n",
       "      <td>0</td>\n",
       "      <td>0</td>\n",
       "      <td>0</td>\n",
       "      <td>0</td>\n",
       "      <td>0</td>\n",
       "      <td>No</td>\n",
       "    </tr>\n",
       "    <tr>\n",
       "      <th>2</th>\n",
       "      <td>4.887647e+12</td>\n",
       "      <td>5705960</td>\n",
       "      <td>F</td>\n",
       "      <td>2016-05-17T07:40:33Z</td>\n",
       "      <td>2016-05-18T00:00:00Z</td>\n",
       "      <td>1</td>\n",
       "      <td>NOVA PALESTINA</td>\n",
       "      <td>0</td>\n",
       "      <td>0</td>\n",
       "      <td>0</td>\n",
       "      <td>0</td>\n",
       "      <td>0</td>\n",
       "      <td>0</td>\n",
       "      <td>Yes</td>\n",
       "    </tr>\n",
       "    <tr>\n",
       "      <th>3</th>\n",
       "      <td>6.541438e+12</td>\n",
       "      <td>5681110</td>\n",
       "      <td>M</td>\n",
       "      <td>2016-05-10T13:35:24Z</td>\n",
       "      <td>2016-05-10T00:00:00Z</td>\n",
       "      <td>0</td>\n",
       "      <td>SÃO JOSÉ</td>\n",
       "      <td>0</td>\n",
       "      <td>0</td>\n",
       "      <td>0</td>\n",
       "      <td>0</td>\n",
       "      <td>0</td>\n",
       "      <td>0</td>\n",
       "      <td>No</td>\n",
       "    </tr>\n",
       "    <tr>\n",
       "      <th>4</th>\n",
       "      <td>6.296736e+12</td>\n",
       "      <td>5621693</td>\n",
       "      <td>F</td>\n",
       "      <td>2016-04-26T10:40:18Z</td>\n",
       "      <td>2016-04-29T00:00:00Z</td>\n",
       "      <td>20</td>\n",
       "      <td>MARUÍPE</td>\n",
       "      <td>0</td>\n",
       "      <td>0</td>\n",
       "      <td>0</td>\n",
       "      <td>0</td>\n",
       "      <td>0</td>\n",
       "      <td>1</td>\n",
       "      <td>No</td>\n",
       "    </tr>\n",
       "  </tbody>\n",
       "</table>\n",
       "</div>"
      ],
      "text/plain": [
       "      PatientId  AppointmentID Gender          ScheduledDay  \\\n",
       "0  9.145449e+14        5548703      F  2016-04-06T08:52:26Z   \n",
       "1  9.536895e+13        5702942      M  2016-05-16T13:17:59Z   \n",
       "2  4.887647e+12        5705960      F  2016-05-17T07:40:33Z   \n",
       "3  6.541438e+12        5681110      M  2016-05-10T13:35:24Z   \n",
       "4  6.296736e+12        5621693      F  2016-04-26T10:40:18Z   \n",
       "\n",
       "         AppointmentDay  Age   Neighbourhood  Scholarship  Hipertension  \\\n",
       "0  2016-05-02T00:00:00Z   26    SANTA TEREZA            0             0   \n",
       "1  2016-05-31T00:00:00Z    4      TABUAZEIRO            0             0   \n",
       "2  2016-05-18T00:00:00Z    1  NOVA PALESTINA            0             0   \n",
       "3  2016-05-10T00:00:00Z    0        SÃO JOSÉ            0             0   \n",
       "4  2016-04-29T00:00:00Z   20         MARUÍPE            0             0   \n",
       "\n",
       "   Diabetes  Alcoholism  Handcap  SMS_received No-show  \n",
       "0         0           0        0             1      No  \n",
       "1         0           0        0             0      No  \n",
       "2         0           0        0             0     Yes  \n",
       "3         0           0        0             0      No  \n",
       "4         0           0        0             1      No  "
      ]
     },
     "execution_count": 40,
     "metadata": {},
     "output_type": "execute_result"
    }
   ],
   "source": [
    "dataset.head()"
   ]
  },
  {
   "cell_type": "code",
   "execution_count": 41,
   "metadata": {},
   "outputs": [
    {
     "data": {
      "text/html": [
       "<div>\n",
       "<style>\n",
       "    .dataframe thead tr:only-child th {\n",
       "        text-align: right;\n",
       "    }\n",
       "\n",
       "    .dataframe thead th {\n",
       "        text-align: left;\n",
       "    }\n",
       "\n",
       "    .dataframe tbody tr th {\n",
       "        vertical-align: top;\n",
       "    }\n",
       "</style>\n",
       "<table border=\"1\" class=\"dataframe\">\n",
       "  <thead>\n",
       "    <tr style=\"text-align: right;\">\n",
       "      <th></th>\n",
       "      <th>PatientId</th>\n",
       "      <th>AppointmentID</th>\n",
       "      <th>Age</th>\n",
       "      <th>Scholarship</th>\n",
       "      <th>Hipertension</th>\n",
       "      <th>Diabetes</th>\n",
       "      <th>Alcoholism</th>\n",
       "      <th>Handcap</th>\n",
       "      <th>SMS_received</th>\n",
       "    </tr>\n",
       "  </thead>\n",
       "  <tbody>\n",
       "    <tr>\n",
       "      <th>count</th>\n",
       "      <td>1.105270e+05</td>\n",
       "      <td>1.105270e+05</td>\n",
       "      <td>110527.000000</td>\n",
       "      <td>110527.000000</td>\n",
       "      <td>110527.000000</td>\n",
       "      <td>110527.000000</td>\n",
       "      <td>110527.000000</td>\n",
       "      <td>110527.000000</td>\n",
       "      <td>110527.000000</td>\n",
       "    </tr>\n",
       "    <tr>\n",
       "      <th>mean</th>\n",
       "      <td>1.474963e+14</td>\n",
       "      <td>5.675305e+06</td>\n",
       "      <td>37.088874</td>\n",
       "      <td>0.098266</td>\n",
       "      <td>0.197246</td>\n",
       "      <td>0.071865</td>\n",
       "      <td>0.030400</td>\n",
       "      <td>0.022248</td>\n",
       "      <td>0.321026</td>\n",
       "    </tr>\n",
       "    <tr>\n",
       "      <th>std</th>\n",
       "      <td>2.560949e+14</td>\n",
       "      <td>7.129575e+04</td>\n",
       "      <td>23.110205</td>\n",
       "      <td>0.297675</td>\n",
       "      <td>0.397921</td>\n",
       "      <td>0.258265</td>\n",
       "      <td>0.171686</td>\n",
       "      <td>0.161543</td>\n",
       "      <td>0.466873</td>\n",
       "    </tr>\n",
       "    <tr>\n",
       "      <th>min</th>\n",
       "      <td>3.921784e+04</td>\n",
       "      <td>5.030230e+06</td>\n",
       "      <td>-1.000000</td>\n",
       "      <td>0.000000</td>\n",
       "      <td>0.000000</td>\n",
       "      <td>0.000000</td>\n",
       "      <td>0.000000</td>\n",
       "      <td>0.000000</td>\n",
       "      <td>0.000000</td>\n",
       "    </tr>\n",
       "    <tr>\n",
       "      <th>25%</th>\n",
       "      <td>4.172614e+12</td>\n",
       "      <td>5.640286e+06</td>\n",
       "      <td>18.000000</td>\n",
       "      <td>0.000000</td>\n",
       "      <td>0.000000</td>\n",
       "      <td>0.000000</td>\n",
       "      <td>0.000000</td>\n",
       "      <td>0.000000</td>\n",
       "      <td>0.000000</td>\n",
       "    </tr>\n",
       "    <tr>\n",
       "      <th>50%</th>\n",
       "      <td>3.173184e+13</td>\n",
       "      <td>5.680573e+06</td>\n",
       "      <td>37.000000</td>\n",
       "      <td>0.000000</td>\n",
       "      <td>0.000000</td>\n",
       "      <td>0.000000</td>\n",
       "      <td>0.000000</td>\n",
       "      <td>0.000000</td>\n",
       "      <td>0.000000</td>\n",
       "    </tr>\n",
       "    <tr>\n",
       "      <th>75%</th>\n",
       "      <td>9.439172e+13</td>\n",
       "      <td>5.725524e+06</td>\n",
       "      <td>55.000000</td>\n",
       "      <td>0.000000</td>\n",
       "      <td>0.000000</td>\n",
       "      <td>0.000000</td>\n",
       "      <td>0.000000</td>\n",
       "      <td>0.000000</td>\n",
       "      <td>1.000000</td>\n",
       "    </tr>\n",
       "    <tr>\n",
       "      <th>max</th>\n",
       "      <td>9.999816e+14</td>\n",
       "      <td>5.790484e+06</td>\n",
       "      <td>115.000000</td>\n",
       "      <td>1.000000</td>\n",
       "      <td>1.000000</td>\n",
       "      <td>1.000000</td>\n",
       "      <td>1.000000</td>\n",
       "      <td>4.000000</td>\n",
       "      <td>1.000000</td>\n",
       "    </tr>\n",
       "  </tbody>\n",
       "</table>\n",
       "</div>"
      ],
      "text/plain": [
       "          PatientId  AppointmentID            Age    Scholarship  \\\n",
       "count  1.105270e+05   1.105270e+05  110527.000000  110527.000000   \n",
       "mean   1.474963e+14   5.675305e+06      37.088874       0.098266   \n",
       "std    2.560949e+14   7.129575e+04      23.110205       0.297675   \n",
       "min    3.921784e+04   5.030230e+06      -1.000000       0.000000   \n",
       "25%    4.172614e+12   5.640286e+06      18.000000       0.000000   \n",
       "50%    3.173184e+13   5.680573e+06      37.000000       0.000000   \n",
       "75%    9.439172e+13   5.725524e+06      55.000000       0.000000   \n",
       "max    9.999816e+14   5.790484e+06     115.000000       1.000000   \n",
       "\n",
       "        Hipertension       Diabetes     Alcoholism        Handcap  \\\n",
       "count  110527.000000  110527.000000  110527.000000  110527.000000   \n",
       "mean        0.197246       0.071865       0.030400       0.022248   \n",
       "std         0.397921       0.258265       0.171686       0.161543   \n",
       "min         0.000000       0.000000       0.000000       0.000000   \n",
       "25%         0.000000       0.000000       0.000000       0.000000   \n",
       "50%         0.000000       0.000000       0.000000       0.000000   \n",
       "75%         0.000000       0.000000       0.000000       0.000000   \n",
       "max         1.000000       1.000000       1.000000       4.000000   \n",
       "\n",
       "        SMS_received  \n",
       "count  110527.000000  \n",
       "mean        0.321026  \n",
       "std         0.466873  \n",
       "min         0.000000  \n",
       "25%         0.000000  \n",
       "50%         0.000000  \n",
       "75%         1.000000  \n",
       "max         1.000000  "
      ]
     },
     "execution_count": 41,
     "metadata": {},
     "output_type": "execute_result"
    }
   ],
   "source": [
    "dataset.describe()"
   ]
  },
  {
   "cell_type": "markdown",
   "metadata": {},
   "source": [
    "## Preprocessing"
   ]
  },
  {
   "cell_type": "markdown",
   "metadata": {},
   "source": [
    "We don't need PatientId and AppointmentId so let's remove it"
   ]
  },
  {
   "cell_type": "code",
   "execution_count": 42,
   "metadata": {},
   "outputs": [
    {
     "data": {
      "text/html": [
       "<div>\n",
       "<style>\n",
       "    .dataframe thead tr:only-child th {\n",
       "        text-align: right;\n",
       "    }\n",
       "\n",
       "    .dataframe thead th {\n",
       "        text-align: left;\n",
       "    }\n",
       "\n",
       "    .dataframe tbody tr th {\n",
       "        vertical-align: top;\n",
       "    }\n",
       "</style>\n",
       "<table border=\"1\" class=\"dataframe\">\n",
       "  <thead>\n",
       "    <tr style=\"text-align: right;\">\n",
       "      <th></th>\n",
       "      <th>Gender</th>\n",
       "      <th>ScheduledDay</th>\n",
       "      <th>AppointmentDay</th>\n",
       "      <th>Age</th>\n",
       "      <th>Neighbourhood</th>\n",
       "      <th>Scholarship</th>\n",
       "      <th>Hipertension</th>\n",
       "      <th>Diabetes</th>\n",
       "      <th>Alcoholism</th>\n",
       "      <th>Handcap</th>\n",
       "      <th>SMS_received</th>\n",
       "      <th>No-show</th>\n",
       "    </tr>\n",
       "  </thead>\n",
       "  <tbody>\n",
       "    <tr>\n",
       "      <th>0</th>\n",
       "      <td>F</td>\n",
       "      <td>2016-04-06T08:52:26Z</td>\n",
       "      <td>2016-05-02T00:00:00Z</td>\n",
       "      <td>26</td>\n",
       "      <td>SANTA TEREZA</td>\n",
       "      <td>0</td>\n",
       "      <td>0</td>\n",
       "      <td>0</td>\n",
       "      <td>0</td>\n",
       "      <td>0</td>\n",
       "      <td>1</td>\n",
       "      <td>No</td>\n",
       "    </tr>\n",
       "    <tr>\n",
       "      <th>1</th>\n",
       "      <td>M</td>\n",
       "      <td>2016-05-16T13:17:59Z</td>\n",
       "      <td>2016-05-31T00:00:00Z</td>\n",
       "      <td>4</td>\n",
       "      <td>TABUAZEIRO</td>\n",
       "      <td>0</td>\n",
       "      <td>0</td>\n",
       "      <td>0</td>\n",
       "      <td>0</td>\n",
       "      <td>0</td>\n",
       "      <td>0</td>\n",
       "      <td>No</td>\n",
       "    </tr>\n",
       "    <tr>\n",
       "      <th>2</th>\n",
       "      <td>F</td>\n",
       "      <td>2016-05-17T07:40:33Z</td>\n",
       "      <td>2016-05-18T00:00:00Z</td>\n",
       "      <td>1</td>\n",
       "      <td>NOVA PALESTINA</td>\n",
       "      <td>0</td>\n",
       "      <td>0</td>\n",
       "      <td>0</td>\n",
       "      <td>0</td>\n",
       "      <td>0</td>\n",
       "      <td>0</td>\n",
       "      <td>Yes</td>\n",
       "    </tr>\n",
       "    <tr>\n",
       "      <th>3</th>\n",
       "      <td>M</td>\n",
       "      <td>2016-05-10T13:35:24Z</td>\n",
       "      <td>2016-05-10T00:00:00Z</td>\n",
       "      <td>0</td>\n",
       "      <td>SÃO JOSÉ</td>\n",
       "      <td>0</td>\n",
       "      <td>0</td>\n",
       "      <td>0</td>\n",
       "      <td>0</td>\n",
       "      <td>0</td>\n",
       "      <td>0</td>\n",
       "      <td>No</td>\n",
       "    </tr>\n",
       "    <tr>\n",
       "      <th>4</th>\n",
       "      <td>F</td>\n",
       "      <td>2016-04-26T10:40:18Z</td>\n",
       "      <td>2016-04-29T00:00:00Z</td>\n",
       "      <td>20</td>\n",
       "      <td>MARUÍPE</td>\n",
       "      <td>0</td>\n",
       "      <td>0</td>\n",
       "      <td>0</td>\n",
       "      <td>0</td>\n",
       "      <td>0</td>\n",
       "      <td>1</td>\n",
       "      <td>No</td>\n",
       "    </tr>\n",
       "  </tbody>\n",
       "</table>\n",
       "</div>"
      ],
      "text/plain": [
       "  Gender          ScheduledDay        AppointmentDay  Age   Neighbourhood  \\\n",
       "0      F  2016-04-06T08:52:26Z  2016-05-02T00:00:00Z   26    SANTA TEREZA   \n",
       "1      M  2016-05-16T13:17:59Z  2016-05-31T00:00:00Z    4      TABUAZEIRO   \n",
       "2      F  2016-05-17T07:40:33Z  2016-05-18T00:00:00Z    1  NOVA PALESTINA   \n",
       "3      M  2016-05-10T13:35:24Z  2016-05-10T00:00:00Z    0        SÃO JOSÉ   \n",
       "4      F  2016-04-26T10:40:18Z  2016-04-29T00:00:00Z   20         MARUÍPE   \n",
       "\n",
       "   Scholarship  Hipertension  Diabetes  Alcoholism  Handcap  SMS_received  \\\n",
       "0            0             0         0           0        0             1   \n",
       "1            0             0         0           0        0             0   \n",
       "2            0             0         0           0        0             0   \n",
       "3            0             0         0           0        0             0   \n",
       "4            0             0         0           0        0             1   \n",
       "\n",
       "  No-show  \n",
       "0      No  \n",
       "1      No  \n",
       "2     Yes  \n",
       "3      No  \n",
       "4      No  "
      ]
     },
     "execution_count": 42,
     "metadata": {},
     "output_type": "execute_result"
    }
   ],
   "source": [
    "deleteCols = [\"PatientId\", \"AppointmentID\"]\n",
    "\n",
    "dataset.drop(deleteCols, axis = 1, inplace = True)\n",
    "\n",
    "dataset.head()"
   ]
  },
  {
   "cell_type": "markdown",
   "metadata": {},
   "source": [
    "Now, we need to convert Gender and No-show to binaries"
   ]
  },
  {
   "cell_type": "code",
   "execution_count": 43,
   "metadata": {},
   "outputs": [
    {
     "data": {
      "text/html": [
       "<div>\n",
       "<style>\n",
       "    .dataframe thead tr:only-child th {\n",
       "        text-align: right;\n",
       "    }\n",
       "\n",
       "    .dataframe thead th {\n",
       "        text-align: left;\n",
       "    }\n",
       "\n",
       "    .dataframe tbody tr th {\n",
       "        vertical-align: top;\n",
       "    }\n",
       "</style>\n",
       "<table border=\"1\" class=\"dataframe\">\n",
       "  <thead>\n",
       "    <tr style=\"text-align: right;\">\n",
       "      <th></th>\n",
       "      <th>Gender</th>\n",
       "      <th>ScheduledDay</th>\n",
       "      <th>AppointmentDay</th>\n",
       "      <th>Age</th>\n",
       "      <th>Neighbourhood</th>\n",
       "      <th>Scholarship</th>\n",
       "      <th>Hipertension</th>\n",
       "      <th>Diabetes</th>\n",
       "      <th>Alcoholism</th>\n",
       "      <th>Handcap</th>\n",
       "      <th>SMS_received</th>\n",
       "      <th>No-show</th>\n",
       "    </tr>\n",
       "  </thead>\n",
       "  <tbody>\n",
       "    <tr>\n",
       "      <th>0</th>\n",
       "      <td>1</td>\n",
       "      <td>2016-04-06T08:52:26Z</td>\n",
       "      <td>2016-05-02T00:00:00Z</td>\n",
       "      <td>26</td>\n",
       "      <td>SANTA TEREZA</td>\n",
       "      <td>0</td>\n",
       "      <td>0</td>\n",
       "      <td>0</td>\n",
       "      <td>0</td>\n",
       "      <td>0</td>\n",
       "      <td>1</td>\n",
       "      <td>0</td>\n",
       "    </tr>\n",
       "    <tr>\n",
       "      <th>1</th>\n",
       "      <td>0</td>\n",
       "      <td>2016-05-16T13:17:59Z</td>\n",
       "      <td>2016-05-31T00:00:00Z</td>\n",
       "      <td>4</td>\n",
       "      <td>TABUAZEIRO</td>\n",
       "      <td>0</td>\n",
       "      <td>0</td>\n",
       "      <td>0</td>\n",
       "      <td>0</td>\n",
       "      <td>0</td>\n",
       "      <td>0</td>\n",
       "      <td>0</td>\n",
       "    </tr>\n",
       "    <tr>\n",
       "      <th>2</th>\n",
       "      <td>1</td>\n",
       "      <td>2016-05-17T07:40:33Z</td>\n",
       "      <td>2016-05-18T00:00:00Z</td>\n",
       "      <td>1</td>\n",
       "      <td>NOVA PALESTINA</td>\n",
       "      <td>0</td>\n",
       "      <td>0</td>\n",
       "      <td>0</td>\n",
       "      <td>0</td>\n",
       "      <td>0</td>\n",
       "      <td>0</td>\n",
       "      <td>1</td>\n",
       "    </tr>\n",
       "    <tr>\n",
       "      <th>3</th>\n",
       "      <td>0</td>\n",
       "      <td>2016-05-10T13:35:24Z</td>\n",
       "      <td>2016-05-10T00:00:00Z</td>\n",
       "      <td>0</td>\n",
       "      <td>SÃO JOSÉ</td>\n",
       "      <td>0</td>\n",
       "      <td>0</td>\n",
       "      <td>0</td>\n",
       "      <td>0</td>\n",
       "      <td>0</td>\n",
       "      <td>0</td>\n",
       "      <td>0</td>\n",
       "    </tr>\n",
       "    <tr>\n",
       "      <th>4</th>\n",
       "      <td>1</td>\n",
       "      <td>2016-04-26T10:40:18Z</td>\n",
       "      <td>2016-04-29T00:00:00Z</td>\n",
       "      <td>20</td>\n",
       "      <td>MARUÍPE</td>\n",
       "      <td>0</td>\n",
       "      <td>0</td>\n",
       "      <td>0</td>\n",
       "      <td>0</td>\n",
       "      <td>0</td>\n",
       "      <td>1</td>\n",
       "      <td>0</td>\n",
       "    </tr>\n",
       "  </tbody>\n",
       "</table>\n",
       "</div>"
      ],
      "text/plain": [
       "   Gender          ScheduledDay        AppointmentDay  Age   Neighbourhood  \\\n",
       "0       1  2016-04-06T08:52:26Z  2016-05-02T00:00:00Z   26    SANTA TEREZA   \n",
       "1       0  2016-05-16T13:17:59Z  2016-05-31T00:00:00Z    4      TABUAZEIRO   \n",
       "2       1  2016-05-17T07:40:33Z  2016-05-18T00:00:00Z    1  NOVA PALESTINA   \n",
       "3       0  2016-05-10T13:35:24Z  2016-05-10T00:00:00Z    0        SÃO JOSÉ   \n",
       "4       1  2016-04-26T10:40:18Z  2016-04-29T00:00:00Z   20         MARUÍPE   \n",
       "\n",
       "   Scholarship  Hipertension  Diabetes  Alcoholism  Handcap  SMS_received  \\\n",
       "0            0             0         0           0        0             1   \n",
       "1            0             0         0           0        0             0   \n",
       "2            0             0         0           0        0             0   \n",
       "3            0             0         0           0        0             0   \n",
       "4            0             0         0           0        0             1   \n",
       "\n",
       "   No-show  \n",
       "0        0  \n",
       "1        0  \n",
       "2        1  \n",
       "3        0  \n",
       "4        0  "
      ]
     },
     "execution_count": 43,
     "metadata": {},
     "output_type": "execute_result"
    }
   ],
   "source": [
    "dataset[\"Gender\"] = dataset[\"Gender\"].apply([\"M\", \"F\"].index)\n",
    "dataset[\"No-show\"] = dataset[\"No-show\"].apply([\"No\", \"Yes\"].index)\n",
    "#dataset[\"No-show\"] = list(map([\"No\", \"Yes\"].index, dataset[\"No-show\"]))\n",
    "\n",
    "dataset.head()"
   ]
  },
  {
   "cell_type": "code",
   "execution_count": 44,
   "metadata": {},
   "outputs": [
    {
     "data": {
      "text/plain": [
       "dtype('O')"
      ]
     },
     "execution_count": 44,
     "metadata": {},
     "output_type": "execute_result"
    }
   ],
   "source": [
    "dataset[\"ScheduledDay\"].dtype"
   ]
  },
  {
   "cell_type": "code",
   "execution_count": 45,
   "metadata": {},
   "outputs": [
    {
     "data": {
      "text/plain": [
       "dtype('O')"
      ]
     },
     "execution_count": 45,
     "metadata": {},
     "output_type": "execute_result"
    }
   ],
   "source": [
    "dataset[\"AppointmentDay\"].dtype"
   ]
  },
  {
   "cell_type": "markdown",
   "metadata": {},
   "source": [
    "Both are in object = string format. We'd have to convert them to datetime"
   ]
  },
  {
   "cell_type": "code",
   "execution_count": 46,
   "metadata": {},
   "outputs": [
    {
     "data": {
      "text/html": [
       "<div>\n",
       "<style>\n",
       "    .dataframe thead tr:only-child th {\n",
       "        text-align: right;\n",
       "    }\n",
       "\n",
       "    .dataframe thead th {\n",
       "        text-align: left;\n",
       "    }\n",
       "\n",
       "    .dataframe tbody tr th {\n",
       "        vertical-align: top;\n",
       "    }\n",
       "</style>\n",
       "<table border=\"1\" class=\"dataframe\">\n",
       "  <thead>\n",
       "    <tr style=\"text-align: right;\">\n",
       "      <th></th>\n",
       "      <th>Gender</th>\n",
       "      <th>ScheduledDay</th>\n",
       "      <th>AppointmentDay</th>\n",
       "      <th>Age</th>\n",
       "      <th>Neighbourhood</th>\n",
       "      <th>Scholarship</th>\n",
       "      <th>Hipertension</th>\n",
       "      <th>Diabetes</th>\n",
       "      <th>Alcoholism</th>\n",
       "      <th>Handcap</th>\n",
       "      <th>SMS_received</th>\n",
       "      <th>No-show</th>\n",
       "    </tr>\n",
       "  </thead>\n",
       "  <tbody>\n",
       "    <tr>\n",
       "      <th>0</th>\n",
       "      <td>1</td>\n",
       "      <td>2016-04-06 08:52:26</td>\n",
       "      <td>2016-05-02</td>\n",
       "      <td>26</td>\n",
       "      <td>SANTA TEREZA</td>\n",
       "      <td>0</td>\n",
       "      <td>0</td>\n",
       "      <td>0</td>\n",
       "      <td>0</td>\n",
       "      <td>0</td>\n",
       "      <td>1</td>\n",
       "      <td>0</td>\n",
       "    </tr>\n",
       "    <tr>\n",
       "      <th>1</th>\n",
       "      <td>0</td>\n",
       "      <td>2016-05-16 13:17:59</td>\n",
       "      <td>2016-05-31</td>\n",
       "      <td>4</td>\n",
       "      <td>TABUAZEIRO</td>\n",
       "      <td>0</td>\n",
       "      <td>0</td>\n",
       "      <td>0</td>\n",
       "      <td>0</td>\n",
       "      <td>0</td>\n",
       "      <td>0</td>\n",
       "      <td>0</td>\n",
       "    </tr>\n",
       "    <tr>\n",
       "      <th>2</th>\n",
       "      <td>1</td>\n",
       "      <td>2016-05-17 07:40:33</td>\n",
       "      <td>2016-05-18</td>\n",
       "      <td>1</td>\n",
       "      <td>NOVA PALESTINA</td>\n",
       "      <td>0</td>\n",
       "      <td>0</td>\n",
       "      <td>0</td>\n",
       "      <td>0</td>\n",
       "      <td>0</td>\n",
       "      <td>0</td>\n",
       "      <td>1</td>\n",
       "    </tr>\n",
       "    <tr>\n",
       "      <th>3</th>\n",
       "      <td>0</td>\n",
       "      <td>2016-05-10 13:35:24</td>\n",
       "      <td>2016-05-10</td>\n",
       "      <td>0</td>\n",
       "      <td>SÃO JOSÉ</td>\n",
       "      <td>0</td>\n",
       "      <td>0</td>\n",
       "      <td>0</td>\n",
       "      <td>0</td>\n",
       "      <td>0</td>\n",
       "      <td>0</td>\n",
       "      <td>0</td>\n",
       "    </tr>\n",
       "    <tr>\n",
       "      <th>4</th>\n",
       "      <td>1</td>\n",
       "      <td>2016-04-26 10:40:18</td>\n",
       "      <td>2016-04-29</td>\n",
       "      <td>20</td>\n",
       "      <td>MARUÍPE</td>\n",
       "      <td>0</td>\n",
       "      <td>0</td>\n",
       "      <td>0</td>\n",
       "      <td>0</td>\n",
       "      <td>0</td>\n",
       "      <td>1</td>\n",
       "      <td>0</td>\n",
       "    </tr>\n",
       "  </tbody>\n",
       "</table>\n",
       "</div>"
      ],
      "text/plain": [
       "   Gender        ScheduledDay AppointmentDay  Age   Neighbourhood  \\\n",
       "0       1 2016-04-06 08:52:26     2016-05-02   26    SANTA TEREZA   \n",
       "1       0 2016-05-16 13:17:59     2016-05-31    4      TABUAZEIRO   \n",
       "2       1 2016-05-17 07:40:33     2016-05-18    1  NOVA PALESTINA   \n",
       "3       0 2016-05-10 13:35:24     2016-05-10    0        SÃO JOSÉ   \n",
       "4       1 2016-04-26 10:40:18     2016-04-29   20         MARUÍPE   \n",
       "\n",
       "   Scholarship  Hipertension  Diabetes  Alcoholism  Handcap  SMS_received  \\\n",
       "0            0             0         0           0        0             1   \n",
       "1            0             0         0           0        0             0   \n",
       "2            0             0         0           0        0             0   \n",
       "3            0             0         0           0        0             0   \n",
       "4            0             0         0           0        0             1   \n",
       "\n",
       "   No-show  \n",
       "0        0  \n",
       "1        0  \n",
       "2        1  \n",
       "3        0  \n",
       "4        0  "
      ]
     },
     "execution_count": 46,
     "metadata": {},
     "output_type": "execute_result"
    }
   ],
   "source": [
    "dataset[\"ScheduledDay\"] = dataset[\"ScheduledDay\"].apply(np.datetime64)\n",
    "dataset[\"AppointmentDay\"] = dataset[\"AppointmentDay\"].apply(np.datetime64)\n",
    "\n",
    "dataset.head()"
   ]
  },
  {
   "cell_type": "code",
   "execution_count": 47,
   "metadata": {},
   "outputs": [
    {
     "name": "stdout",
     "output_type": "stream",
     "text": [
      "ScheduledDay datetime64[ns]\n",
      "AppointmentDay datetime64[ns]\n"
     ]
    }
   ],
   "source": [
    "print(\"ScheduledDay\", dataset[\"ScheduledDay\"].dtype)\n",
    "print(\"AppointmentDay\", dataset[\"AppointmentDay\"].dtype)"
   ]
  },
  {
   "cell_type": "markdown",
   "metadata": {},
   "source": [
    "We'll add another column for the time difference between scheduledDay and AppointmentDay"
   ]
  },
  {
   "cell_type": "code",
   "execution_count": 48,
   "metadata": {
    "collapsed": true
   },
   "outputs": [],
   "source": [
    "dataset[\"AwaitingTime\"] = (dataset[\"AppointmentDay\"] - dataset[\"ScheduledDay\"]).apply(lambda dt: dt.days)"
   ]
  },
  {
   "cell_type": "code",
   "execution_count": 49,
   "metadata": {},
   "outputs": [
    {
     "data": {
      "text/html": [
       "<div>\n",
       "<style>\n",
       "    .dataframe thead tr:only-child th {\n",
       "        text-align: right;\n",
       "    }\n",
       "\n",
       "    .dataframe thead th {\n",
       "        text-align: left;\n",
       "    }\n",
       "\n",
       "    .dataframe tbody tr th {\n",
       "        vertical-align: top;\n",
       "    }\n",
       "</style>\n",
       "<table border=\"1\" class=\"dataframe\">\n",
       "  <thead>\n",
       "    <tr style=\"text-align: right;\">\n",
       "      <th></th>\n",
       "      <th>Gender</th>\n",
       "      <th>ScheduledDay</th>\n",
       "      <th>AppointmentDay</th>\n",
       "      <th>Age</th>\n",
       "      <th>Neighbourhood</th>\n",
       "      <th>Scholarship</th>\n",
       "      <th>Hipertension</th>\n",
       "      <th>Diabetes</th>\n",
       "      <th>Alcoholism</th>\n",
       "      <th>Handcap</th>\n",
       "      <th>SMS_received</th>\n",
       "      <th>No-show</th>\n",
       "      <th>AwaitingTime</th>\n",
       "    </tr>\n",
       "  </thead>\n",
       "  <tbody>\n",
       "    <tr>\n",
       "      <th>0</th>\n",
       "      <td>1</td>\n",
       "      <td>2016-04-06 08:52:26</td>\n",
       "      <td>2016-05-02</td>\n",
       "      <td>26</td>\n",
       "      <td>SANTA TEREZA</td>\n",
       "      <td>0</td>\n",
       "      <td>0</td>\n",
       "      <td>0</td>\n",
       "      <td>0</td>\n",
       "      <td>0</td>\n",
       "      <td>1</td>\n",
       "      <td>0</td>\n",
       "      <td>25</td>\n",
       "    </tr>\n",
       "    <tr>\n",
       "      <th>1</th>\n",
       "      <td>0</td>\n",
       "      <td>2016-05-16 13:17:59</td>\n",
       "      <td>2016-05-31</td>\n",
       "      <td>4</td>\n",
       "      <td>TABUAZEIRO</td>\n",
       "      <td>0</td>\n",
       "      <td>0</td>\n",
       "      <td>0</td>\n",
       "      <td>0</td>\n",
       "      <td>0</td>\n",
       "      <td>0</td>\n",
       "      <td>0</td>\n",
       "      <td>14</td>\n",
       "    </tr>\n",
       "    <tr>\n",
       "      <th>2</th>\n",
       "      <td>1</td>\n",
       "      <td>2016-05-17 07:40:33</td>\n",
       "      <td>2016-05-18</td>\n",
       "      <td>1</td>\n",
       "      <td>NOVA PALESTINA</td>\n",
       "      <td>0</td>\n",
       "      <td>0</td>\n",
       "      <td>0</td>\n",
       "      <td>0</td>\n",
       "      <td>0</td>\n",
       "      <td>0</td>\n",
       "      <td>1</td>\n",
       "      <td>0</td>\n",
       "    </tr>\n",
       "    <tr>\n",
       "      <th>3</th>\n",
       "      <td>0</td>\n",
       "      <td>2016-05-10 13:35:24</td>\n",
       "      <td>2016-05-10</td>\n",
       "      <td>0</td>\n",
       "      <td>SÃO JOSÉ</td>\n",
       "      <td>0</td>\n",
       "      <td>0</td>\n",
       "      <td>0</td>\n",
       "      <td>0</td>\n",
       "      <td>0</td>\n",
       "      <td>0</td>\n",
       "      <td>0</td>\n",
       "      <td>-1</td>\n",
       "    </tr>\n",
       "    <tr>\n",
       "      <th>4</th>\n",
       "      <td>1</td>\n",
       "      <td>2016-04-26 10:40:18</td>\n",
       "      <td>2016-04-29</td>\n",
       "      <td>20</td>\n",
       "      <td>MARUÍPE</td>\n",
       "      <td>0</td>\n",
       "      <td>0</td>\n",
       "      <td>0</td>\n",
       "      <td>0</td>\n",
       "      <td>0</td>\n",
       "      <td>1</td>\n",
       "      <td>0</td>\n",
       "      <td>2</td>\n",
       "    </tr>\n",
       "  </tbody>\n",
       "</table>\n",
       "</div>"
      ],
      "text/plain": [
       "   Gender        ScheduledDay AppointmentDay  Age   Neighbourhood  \\\n",
       "0       1 2016-04-06 08:52:26     2016-05-02   26    SANTA TEREZA   \n",
       "1       0 2016-05-16 13:17:59     2016-05-31    4      TABUAZEIRO   \n",
       "2       1 2016-05-17 07:40:33     2016-05-18    1  NOVA PALESTINA   \n",
       "3       0 2016-05-10 13:35:24     2016-05-10    0        SÃO JOSÉ   \n",
       "4       1 2016-04-26 10:40:18     2016-04-29   20         MARUÍPE   \n",
       "\n",
       "   Scholarship  Hipertension  Diabetes  Alcoholism  Handcap  SMS_received  \\\n",
       "0            0             0         0           0        0             1   \n",
       "1            0             0         0           0        0             0   \n",
       "2            0             0         0           0        0             0   \n",
       "3            0             0         0           0        0             0   \n",
       "4            0             0         0           0        0             1   \n",
       "\n",
       "   No-show  AwaitingTime  \n",
       "0        0            25  \n",
       "1        0            14  \n",
       "2        1             0  \n",
       "3        0            -1  \n",
       "4        0             2  "
      ]
     },
     "execution_count": 49,
     "metadata": {},
     "output_type": "execute_result"
    }
   ],
   "source": [
    "dataset.head()"
   ]
  },
  {
   "cell_type": "markdown",
   "metadata": {},
   "source": [
    "### Explore the values to see if there are any \"bad\" values"
   ]
  },
  {
   "cell_type": "code",
   "execution_count": 50,
   "metadata": {},
   "outputs": [
    {
     "name": "stdout",
     "output_type": "stream",
     "text": [
      "Scholarship \n",
      " ================================ \n",
      " [0, 1]\n",
      "Alcoholism \n",
      " ================================ \n",
      " [0, 1]\n",
      "Neighbourhood \n",
      " ================================ \n",
      " ['AEROPORTO', 'ANDORINHAS', 'ANTÔNIO HONÓRIO', 'ARIOVALDO FAVALESSA', 'BARRO VERMELHO', 'BELA VISTA', 'BENTO FERREIRA', 'BOA VISTA', 'BONFIM', 'CARATOÍRA', 'CENTRO', 'COMDUSA', 'CONQUISTA', 'CONSOLAÇÃO', 'CRUZAMENTO', 'DA PENHA', 'DE LOURDES', 'DO CABRAL', 'DO MOSCOSO', 'DO QUADRO', 'ENSEADA DO SUÁ', 'ESTRELINHA', 'FONTE GRANDE', 'FORTE SÃO JOÃO', 'FRADINHOS', 'GOIABEIRAS', 'GRANDE VITÓRIA', 'GURIGICA', 'HORTO', 'ILHA DAS CAIEIRAS', 'ILHA DE SANTA MARIA', 'ILHA DO BOI', 'ILHA DO FRADE', 'ILHA DO PRÍNCIPE', 'ILHAS OCEÂNICAS DE TRINDADE', 'INHANGUETÁ', 'ITARARÉ', 'JABOUR', 'JARDIM CAMBURI', 'JARDIM DA PENHA', 'JESUS DE NAZARETH', 'JOANA D´ARC', 'JUCUTUQUARA', 'MARIA ORTIZ', 'MARUÍPE', 'MATA DA PRAIA', 'MONTE BELO', 'MORADA DE CAMBURI', 'MÁRIO CYPRESTE', 'NAZARETH', 'NOVA PALESTINA', 'PARQUE INDUSTRIAL', 'PARQUE MOSCOSO', 'PIEDADE', 'PONTAL DE CAMBURI', 'PRAIA DO CANTO', 'PRAIA DO SUÁ', 'REDENÇÃO', 'REPÚBLICA', 'RESISTÊNCIA', 'ROMÃO', 'SANTA CECÍLIA', 'SANTA CLARA', 'SANTA HELENA', 'SANTA LUÍZA', 'SANTA LÚCIA', 'SANTA MARTHA', 'SANTA TEREZA', 'SANTO ANDRÉ', 'SANTO ANTÔNIO', 'SANTOS DUMONT', 'SANTOS REIS', 'SEGURANÇA DO LAR', 'SOLON BORGES', 'SÃO BENEDITO', 'SÃO CRISTÓVÃO', 'SÃO JOSÉ', 'SÃO PEDRO', 'TABUAZEIRO', 'UNIVERSITÁRIO', 'VILA RUBIM']\n",
      "Age \n",
      " ================================ \n",
      " [-1, 0, 1, 2, 3, 4, 5, 6, 7, 8, 9, 10, 11, 12, 13, 14, 15, 16, 17, 18, 19, 20, 21, 22, 23, 24, 25, 26, 27, 28, 29, 30, 31, 32, 33, 34, 35, 36, 37, 38, 39, 40, 41, 42, 43, 44, 45, 46, 47, 48, 49, 50, 51, 52, 53, 54, 55, 56, 57, 58, 59, 60, 61, 62, 63, 64, 65, 66, 67, 68, 69, 70, 71, 72, 73, 74, 75, 76, 77, 78, 79, 80, 81, 82, 83, 84, 85, 86, 87, 88, 89, 90, 91, 92, 93, 94, 95, 96, 97, 98, 99, 100, 102, 115]\n",
      "SMS_received \n",
      " ================================ \n",
      " [0, 1]\n",
      "Handcap \n",
      " ================================ \n",
      " [0, 1, 2, 3, 4]\n",
      "Diabetes \n",
      " ================================ \n",
      " [0, 1]\n",
      "Hipertension \n",
      " ================================ \n",
      " [0, 1]\n",
      "AwaitingTime \n",
      " ================================ \n",
      " [-7, -2, -1, 0, 1, 2, 3, 4, 5, 6, 7, 8, 9, 10, 11, 12, 13, 14, 15, 16, 17, 18, 19, 20, 21, 22, 23, 24, 25, 26, 27, 28, 29, 30, 31, 32, 33, 34, 35, 36, 37, 38, 39, 40, 41, 42, 43, 44, 45, 46, 47, 48, 49, 50, 51, 52, 53, 54, 55, 56, 57, 58, 59, 60, 61, 62, 63, 64, 65, 66, 67, 68, 69, 70, 71, 72, 73, 74, 75, 76, 77, 78, 79, 80, 81, 82, 83, 84, 85, 86, 87, 88, 89, 90, 91, 92, 93, 94, 95, 96, 97, 100, 101, 102, 103, 104, 106, 107, 108, 109, 110, 111, 114, 116, 118, 121, 122, 124, 125, 126, 131, 132, 138, 141, 145, 150, 154, 161, 168, 175, 178]\n",
      "Gender \n",
      " ================================ \n",
      " [0, 1]\n",
      "No-show \n",
      " ================================ \n",
      " [0, 1]\n"
     ]
    }
   ],
   "source": [
    "for column_name in set(dataset.columns) - {\"ScheduledDay\", \"AppointmentDay\"}:\n",
    "    print(column_name, \"\\n ================================ \\n\", sorted(np.unique(dataset[column_name])))"
   ]
  },
  {
   "cell_type": "markdown",
   "metadata": {},
   "source": [
    "## Remove outliers"
   ]
  },
  {
   "cell_type": "code",
   "execution_count": 51,
   "metadata": {
    "collapsed": true
   },
   "outputs": [],
   "source": [
    "from sklearn.svm import OneClassSVM\n",
    "from sklearn.neighbors import LocalOutlierFactor\n",
    "from sklearn.covariance import EllipticEnvelope\n",
    "from sklearn.ensemble import IsolationForest"
   ]
  },
  {
   "cell_type": "markdown",
   "metadata": {},
   "source": [
    "Age cannot be less than 1 so let's remove those rows first"
   ]
  },
  {
   "cell_type": "code",
   "execution_count": 52,
   "metadata": {},
   "outputs": [
    {
     "name": "stdout",
     "output_type": "stream",
     "text": [
      "Number of records 106987\n",
      "Age [  1   2   3   4   5   6   7   8   9  10  11  12  13  14  15  16  17  18\n",
      "  19  20  21  22  23  24  25  26  27  28  29  30  31  32  33  34  35  36\n",
      "  37  38  39  40  41  42  43  44  45  46  47  48  49  50  51  52  53  54\n",
      "  55  56  57  58  59  60  61  62  63  64  65  66  67  68  69  70  71  72\n",
      "  73  74  75  76  77  78  79  80  81  82  83  84  85  86  87  88  89  90\n",
      "  91  92  93  94  95  96  97  98  99 100 102 115]\n"
     ]
    }
   ],
   "source": [
    "dataset = dataset[dataset[\"Age\"] >= 1]\n",
    "dataset = dataset.reset_index(drop = True)\n",
    "\n",
    "print(\"Number of records\", len(dataset))\n",
    "print(\"Age\", np.unique(dataset[\"Age\"]))"
   ]
  },
  {
   "cell_type": "markdown",
   "metadata": {},
   "source": [
    "Removing outliers for Awaiting Time with EllipticEnvelope"
   ]
  },
  {
   "cell_type": "code",
   "execution_count": 53,
   "metadata": {},
   "outputs": [
    {
     "data": {
      "text/plain": [
       "0    25\n",
       "1    14\n",
       "2     0\n",
       "3     2\n",
       "4    30\n",
       "5    12\n",
       "6    -1\n",
       "7    20\n",
       "8    -1\n",
       "9     5\n",
       "Name: AwaitingTime, dtype: int64"
      ]
     },
     "execution_count": 53,
     "metadata": {},
     "output_type": "execute_result"
    }
   ],
   "source": [
    "dataset[\"AwaitingTime\"].head(10)"
   ]
  },
  {
   "cell_type": "code",
   "execution_count": 54,
   "metadata": {},
   "outputs": [
    {
     "data": {
      "text/plain": [
       "array([[25],\n",
       "       [14],\n",
       "       [ 0],\n",
       "       [ 2],\n",
       "       [30],\n",
       "       [12],\n",
       "       [-1],\n",
       "       [20],\n",
       "       [-1],\n",
       "       [ 5]], dtype=int64)"
      ]
     },
     "execution_count": 54,
     "metadata": {},
     "output_type": "execute_result"
    }
   ],
   "source": [
    "awaiting_time = np.array(dataset[\"AwaitingTime\"]).reshape((-1, 1))\n",
    "awaiting_time[:10]"
   ]
  },
  {
   "cell_type": "code",
   "execution_count": 55,
   "metadata": {},
   "outputs": [
    {
     "data": {
      "text/plain": [
       "(106987, 1)"
      ]
     },
     "execution_count": 55,
     "metadata": {},
     "output_type": "execute_result"
    }
   ],
   "source": [
    "awaiting_time.shape"
   ]
  },
  {
   "cell_type": "code",
   "execution_count": 56,
   "metadata": {},
   "outputs": [
    {
     "data": {
      "text/plain": [
       "EllipticEnvelope(assume_centered=False, contamination=0.003,\n",
       "         random_state=None, store_precision=True, support_fraction=None)"
      ]
     },
     "execution_count": 56,
     "metadata": {},
     "output_type": "execute_result"
    }
   ],
   "source": [
    "envelope = EllipticEnvelope(contamination = 0.003)\n",
    "envelope.fit(awaiting_time)"
   ]
  },
  {
   "cell_type": "code",
   "execution_count": 57,
   "metadata": {
    "collapsed": true
   },
   "outputs": [],
   "source": [
    "outliers = envelope.predict(awaiting_time) == -1"
   ]
  },
  {
   "cell_type": "code",
   "execution_count": 58,
   "metadata": {
    "collapsed": true
   },
   "outputs": [],
   "source": [
    "dataset.drop(np.flatnonzero(outliers), inplace = True)\n",
    "dataset.reset_index(drop = True, inplace = True)"
   ]
  },
  {
   "cell_type": "code",
   "execution_count": 60,
   "metadata": {},
   "outputs": [
    {
     "data": {
      "text/plain": [
       "array([False, False, False, False, False, False, False, False, False, False], dtype=bool)"
      ]
     },
     "execution_count": 60,
     "metadata": {},
     "output_type": "execute_result"
    }
   ],
   "source": [
    "outliers[0:10]"
   ]
  },
  {
   "cell_type": "code",
   "execution_count": 61,
   "metadata": {},
   "outputs": [
    {
     "name": "stdout",
     "output_type": "stream",
     "text": [
      "{'inliers': 106670, 'outliers': 317}\n"
     ]
    }
   ],
   "source": [
    "print({\"inliers\": np.sum(~ outliers), \"outliers\": np.sum(outliers)})"
   ]
  },
  {
   "cell_type": "code",
   "execution_count": 62,
   "metadata": {},
   "outputs": [
    {
     "name": "stdout",
     "output_type": "stream",
     "text": [
      "Number of records 106670\n"
     ]
    }
   ],
   "source": [
    "print(\"Number of records\", len(dataset))"
   ]
  },
  {
   "cell_type": "code",
   "execution_count": 66,
   "metadata": {},
   "outputs": [
    {
     "name": "stdout",
     "output_type": "stream",
     "text": [
      "AwaitingTime: \n",
      "\n",
      " [-7 -2 -1  0  1  2  3  4  5  6  7  8  9 10 11 12 13 14 15 16 17 18 19 20 21\n",
      " 22 23 24 25 26 27 28 29 30 31 32 33 34 35 36 37 38 39 40 41 42 43 44 45 46\n",
      " 47 48 49 50 51 52 53 54 55 56 57 58 59 60 61 62 63 64 65 66 67 68 69 70 71\n",
      " 72 73 74 75 76 77 78 79 80 81 82 83 84 85]\n"
     ]
    }
   ],
   "source": [
    "print(\"AwaitingTime: \\n\\n\", np.unique(dataset[\"AwaitingTime\"]))"
   ]
  },
  {
   "cell_type": "markdown",
   "metadata": {},
   "source": [
    "## Encoding\n",
    "\n",
    "Dealing with datetimes suck so let's create the day and month from the AppointmentDay column. We'll remove the ScheduledDay column because it can be derived from the 2 columns we'll create"
   ]
  },
  {
   "cell_type": "code",
   "execution_count": 67,
   "metadata": {
    "collapsed": true
   },
   "outputs": [],
   "source": [
    "dataset[\"AppointmentDate_day\"] = dataset[\"AppointmentDay\"].apply(lambda d: d.day)\n",
    "dataset[\"AppointmentDate_month\"] = dataset[\"AppointmentDay\"].apply(lambda d: d.month)"
   ]
  },
  {
   "cell_type": "code",
   "execution_count": 68,
   "metadata": {
    "collapsed": true
   },
   "outputs": [],
   "source": [
    "colRemove = [\"AppointmentDay\", \"ScheduledDay\"]\n",
    "dataset.drop(colRemove, inplace = True, axis = 1)"
   ]
  },
  {
   "cell_type": "code",
   "execution_count": 71,
   "metadata": {
    "scrolled": true
   },
   "outputs": [
    {
     "data": {
      "text/html": [
       "<div>\n",
       "<style>\n",
       "    .dataframe thead tr:only-child th {\n",
       "        text-align: right;\n",
       "    }\n",
       "\n",
       "    .dataframe thead th {\n",
       "        text-align: left;\n",
       "    }\n",
       "\n",
       "    .dataframe tbody tr th {\n",
       "        vertical-align: top;\n",
       "    }\n",
       "</style>\n",
       "<table border=\"1\" class=\"dataframe\">\n",
       "  <thead>\n",
       "    <tr style=\"text-align: right;\">\n",
       "      <th></th>\n",
       "      <th>Gender</th>\n",
       "      <th>Age</th>\n",
       "      <th>Neighbourhood</th>\n",
       "      <th>Scholarship</th>\n",
       "      <th>Hipertension</th>\n",
       "      <th>Diabetes</th>\n",
       "      <th>Alcoholism</th>\n",
       "      <th>Handcap</th>\n",
       "      <th>SMS_received</th>\n",
       "      <th>No-show</th>\n",
       "      <th>AwaitingTime</th>\n",
       "      <th>AppointmentDate_day</th>\n",
       "      <th>AppointmentDate_month</th>\n",
       "    </tr>\n",
       "  </thead>\n",
       "  <tbody>\n",
       "    <tr>\n",
       "      <th>0</th>\n",
       "      <td>1</td>\n",
       "      <td>26</td>\n",
       "      <td>SANTA TEREZA</td>\n",
       "      <td>0</td>\n",
       "      <td>0</td>\n",
       "      <td>0</td>\n",
       "      <td>0</td>\n",
       "      <td>0</td>\n",
       "      <td>1</td>\n",
       "      <td>0</td>\n",
       "      <td>25</td>\n",
       "      <td>2</td>\n",
       "      <td>5</td>\n",
       "    </tr>\n",
       "    <tr>\n",
       "      <th>1</th>\n",
       "      <td>0</td>\n",
       "      <td>4</td>\n",
       "      <td>TABUAZEIRO</td>\n",
       "      <td>0</td>\n",
       "      <td>0</td>\n",
       "      <td>0</td>\n",
       "      <td>0</td>\n",
       "      <td>0</td>\n",
       "      <td>0</td>\n",
       "      <td>0</td>\n",
       "      <td>14</td>\n",
       "      <td>31</td>\n",
       "      <td>5</td>\n",
       "    </tr>\n",
       "    <tr>\n",
       "      <th>2</th>\n",
       "      <td>1</td>\n",
       "      <td>1</td>\n",
       "      <td>NOVA PALESTINA</td>\n",
       "      <td>0</td>\n",
       "      <td>0</td>\n",
       "      <td>0</td>\n",
       "      <td>0</td>\n",
       "      <td>0</td>\n",
       "      <td>0</td>\n",
       "      <td>1</td>\n",
       "      <td>0</td>\n",
       "      <td>18</td>\n",
       "      <td>5</td>\n",
       "    </tr>\n",
       "    <tr>\n",
       "      <th>3</th>\n",
       "      <td>1</td>\n",
       "      <td>20</td>\n",
       "      <td>MARUÍPE</td>\n",
       "      <td>0</td>\n",
       "      <td>0</td>\n",
       "      <td>0</td>\n",
       "      <td>0</td>\n",
       "      <td>0</td>\n",
       "      <td>1</td>\n",
       "      <td>0</td>\n",
       "      <td>2</td>\n",
       "      <td>29</td>\n",
       "      <td>4</td>\n",
       "    </tr>\n",
       "    <tr>\n",
       "      <th>4</th>\n",
       "      <td>1</td>\n",
       "      <td>6</td>\n",
       "      <td>CARATOÍRA</td>\n",
       "      <td>0</td>\n",
       "      <td>0</td>\n",
       "      <td>0</td>\n",
       "      <td>0</td>\n",
       "      <td>0</td>\n",
       "      <td>0</td>\n",
       "      <td>1</td>\n",
       "      <td>30</td>\n",
       "      <td>16</td>\n",
       "      <td>5</td>\n",
       "    </tr>\n",
       "  </tbody>\n",
       "</table>\n",
       "</div>"
      ],
      "text/plain": [
       "   Gender  Age   Neighbourhood  Scholarship  Hipertension  Diabetes  \\\n",
       "0       1   26    SANTA TEREZA            0             0         0   \n",
       "1       0    4      TABUAZEIRO            0             0         0   \n",
       "2       1    1  NOVA PALESTINA            0             0         0   \n",
       "3       1   20         MARUÍPE            0             0         0   \n",
       "4       1    6       CARATOÍRA            0             0         0   \n",
       "\n",
       "   Alcoholism  Handcap  SMS_received  No-show  AwaitingTime  \\\n",
       "0           0        0             1        0            25   \n",
       "1           0        0             0        0            14   \n",
       "2           0        0             0        1             0   \n",
       "3           0        0             1        0             2   \n",
       "4           0        0             0        1            30   \n",
       "\n",
       "   AppointmentDate_day  AppointmentDate_month  \n",
       "0                    2                      5  \n",
       "1                   31                      5  \n",
       "2                   18                      5  \n",
       "3                   29                      4  \n",
       "4                   16                      5  "
      ]
     },
     "execution_count": 71,
     "metadata": {},
     "output_type": "execute_result"
    }
   ],
   "source": [
    "dataset.head()"
   ]
  },
  {
   "cell_type": "markdown",
   "metadata": {},
   "source": [
    "We'll create a one-hot encoding for the Neighborhood feature because we don't like to work with strings"
   ]
  },
  {
   "cell_type": "code",
   "execution_count": 72,
   "metadata": {
    "collapsed": true
   },
   "outputs": [],
   "source": [
    "from sklearn.preprocessing import LabelBinarizer"
   ]
  },
  {
   "cell_type": "code",
   "execution_count": 73,
   "metadata": {
    "collapsed": true
   },
   "outputs": [],
   "source": [
    "encoder = LabelBinarizer()"
   ]
  },
  {
   "cell_type": "code",
   "execution_count": 74,
   "metadata": {
    "collapsed": true
   },
   "outputs": [],
   "source": [
    "Neighbourhood_onehot = encoder.fit_transform(dataset[\"Neighbourhood\"])"
   ]
  },
  {
   "cell_type": "code",
   "execution_count": 75,
   "metadata": {},
   "outputs": [
    {
     "data": {
      "text/plain": [
       "array([[0, 0, 0, ..., 0, 0, 0],\n",
       "       [0, 0, 0, ..., 1, 0, 0],\n",
       "       [0, 0, 0, ..., 0, 0, 0],\n",
       "       ..., \n",
       "       [0, 0, 0, ..., 0, 0, 0],\n",
       "       [0, 0, 0, ..., 0, 0, 0],\n",
       "       [0, 0, 0, ..., 0, 0, 0]])"
      ]
     },
     "execution_count": 75,
     "metadata": {},
     "output_type": "execute_result"
    }
   ],
   "source": [
    "Neighbourhood_onehot"
   ]
  },
  {
   "cell_type": "code",
   "execution_count": 77,
   "metadata": {},
   "outputs": [
    {
     "data": {
      "text/plain": [
       "81"
      ]
     },
     "execution_count": 77,
     "metadata": {},
     "output_type": "execute_result"
    }
   ],
   "source": [
    "len(Neighbourhood_onehot[0])"
   ]
  },
  {
   "cell_type": "code",
   "execution_count": 78,
   "metadata": {},
   "outputs": [
    {
     "data": {
      "text/plain": [
       "array(['AEROPORTO', 'ANDORINHAS', 'ANTÔNIO HONÓRIO', 'ARIOVALDO FAVALESSA',\n",
       "       'BARRO VERMELHO', 'BELA VISTA', 'BENTO FERREIRA', 'BOA VISTA',\n",
       "       'BONFIM', 'CARATOÍRA', 'CENTRO', 'COMDUSA', 'CONQUISTA',\n",
       "       'CONSOLAÇÃO', 'CRUZAMENTO', 'DA PENHA', 'DE LOURDES', 'DO CABRAL',\n",
       "       'DO MOSCOSO', 'DO QUADRO', 'ENSEADA DO SUÁ', 'ESTRELINHA',\n",
       "       'FONTE GRANDE', 'FORTE SÃO JOÃO', 'FRADINHOS', 'GOIABEIRAS',\n",
       "       'GRANDE VITÓRIA', 'GURIGICA', 'HORTO', 'ILHA DAS CAIEIRAS',\n",
       "       'ILHA DE SANTA MARIA', 'ILHA DO BOI', 'ILHA DO FRADE',\n",
       "       'ILHA DO PRÍNCIPE', 'ILHAS OCEÂNICAS DE TRINDADE', 'INHANGUETÁ',\n",
       "       'ITARARÉ', 'JABOUR', 'JARDIM CAMBURI', 'JARDIM DA PENHA',\n",
       "       'JESUS DE NAZARETH', 'JOANA D´ARC', 'JUCUTUQUARA', 'MARIA ORTIZ',\n",
       "       'MARUÍPE', 'MATA DA PRAIA', 'MONTE BELO', 'MORADA DE CAMBURI',\n",
       "       'MÁRIO CYPRESTE', 'NAZARETH', 'NOVA PALESTINA', 'PARQUE INDUSTRIAL',\n",
       "       'PARQUE MOSCOSO', 'PIEDADE', 'PONTAL DE CAMBURI', 'PRAIA DO CANTO',\n",
       "       'PRAIA DO SUÁ', 'REDENÇÃO', 'REPÚBLICA', 'RESISTÊNCIA', 'ROMÃO',\n",
       "       'SANTA CECÍLIA', 'SANTA CLARA', 'SANTA HELENA', 'SANTA LUÍZA',\n",
       "       'SANTA LÚCIA', 'SANTA MARTHA', 'SANTA TEREZA', 'SANTO ANDRÉ',\n",
       "       'SANTO ANTÔNIO', 'SANTOS DUMONT', 'SANTOS REIS', 'SEGURANÇA DO LAR',\n",
       "       'SOLON BORGES', 'SÃO BENEDITO', 'SÃO CRISTÓVÃO', 'SÃO JOSÉ',\n",
       "       'SÃO PEDRO', 'TABUAZEIRO', 'UNIVERSITÁRIO', 'VILA RUBIM'],\n",
       "      dtype='<U27')"
      ]
     },
     "execution_count": 78,
     "metadata": {},
     "output_type": "execute_result"
    }
   ],
   "source": [
    "encoder.classes_"
   ]
  },
  {
   "cell_type": "code",
   "execution_count": 79,
   "metadata": {},
   "outputs": [
    {
     "data": {
      "text/plain": [
       "81"
      ]
     },
     "execution_count": 79,
     "metadata": {},
     "output_type": "execute_result"
    }
   ],
   "source": [
    "len(encoder.classes_)"
   ]
  },
  {
   "cell_type": "code",
   "execution_count": 80,
   "metadata": {
    "collapsed": true
   },
   "outputs": [],
   "source": [
    "for j, neighborhood in enumerate(encoder.classes_):\n",
    "    dataset[\"Neighborhood ({})\".format(neighborhood)] = Neighbourhood_onehot[:, j]"
   ]
  },
  {
   "cell_type": "code",
   "execution_count": 84,
   "metadata": {},
   "outputs": [
    {
     "data": {
      "text/html": [
       "<div>\n",
       "<style>\n",
       "    .dataframe thead tr:only-child th {\n",
       "        text-align: right;\n",
       "    }\n",
       "\n",
       "    .dataframe thead th {\n",
       "        text-align: left;\n",
       "    }\n",
       "\n",
       "    .dataframe tbody tr th {\n",
       "        vertical-align: top;\n",
       "    }\n",
       "</style>\n",
       "<table border=\"1\" class=\"dataframe\">\n",
       "  <thead>\n",
       "    <tr style=\"text-align: right;\">\n",
       "      <th></th>\n",
       "      <th>Gender</th>\n",
       "      <th>Age</th>\n",
       "      <th>Neighbourhood</th>\n",
       "      <th>Scholarship</th>\n",
       "      <th>Hipertension</th>\n",
       "      <th>Diabetes</th>\n",
       "      <th>Alcoholism</th>\n",
       "      <th>Handcap</th>\n",
       "      <th>SMS_received</th>\n",
       "      <th>No-show</th>\n",
       "      <th>...</th>\n",
       "      <th>Neighborhood (SANTOS REIS)</th>\n",
       "      <th>Neighborhood (SEGURANÇA DO LAR)</th>\n",
       "      <th>Neighborhood (SOLON BORGES)</th>\n",
       "      <th>Neighborhood (SÃO BENEDITO)</th>\n",
       "      <th>Neighborhood (SÃO CRISTÓVÃO)</th>\n",
       "      <th>Neighborhood (SÃO JOSÉ)</th>\n",
       "      <th>Neighborhood (SÃO PEDRO)</th>\n",
       "      <th>Neighborhood (TABUAZEIRO)</th>\n",
       "      <th>Neighborhood (UNIVERSITÁRIO)</th>\n",
       "      <th>Neighborhood (VILA RUBIM)</th>\n",
       "    </tr>\n",
       "  </thead>\n",
       "  <tbody>\n",
       "    <tr>\n",
       "      <th>0</th>\n",
       "      <td>1</td>\n",
       "      <td>26</td>\n",
       "      <td>SANTA TEREZA</td>\n",
       "      <td>0</td>\n",
       "      <td>0</td>\n",
       "      <td>0</td>\n",
       "      <td>0</td>\n",
       "      <td>0</td>\n",
       "      <td>1</td>\n",
       "      <td>0</td>\n",
       "      <td>...</td>\n",
       "      <td>0</td>\n",
       "      <td>0</td>\n",
       "      <td>0</td>\n",
       "      <td>0</td>\n",
       "      <td>0</td>\n",
       "      <td>0</td>\n",
       "      <td>0</td>\n",
       "      <td>0</td>\n",
       "      <td>0</td>\n",
       "      <td>0</td>\n",
       "    </tr>\n",
       "    <tr>\n",
       "      <th>1</th>\n",
       "      <td>0</td>\n",
       "      <td>4</td>\n",
       "      <td>TABUAZEIRO</td>\n",
       "      <td>0</td>\n",
       "      <td>0</td>\n",
       "      <td>0</td>\n",
       "      <td>0</td>\n",
       "      <td>0</td>\n",
       "      <td>0</td>\n",
       "      <td>0</td>\n",
       "      <td>...</td>\n",
       "      <td>0</td>\n",
       "      <td>0</td>\n",
       "      <td>0</td>\n",
       "      <td>0</td>\n",
       "      <td>0</td>\n",
       "      <td>0</td>\n",
       "      <td>0</td>\n",
       "      <td>1</td>\n",
       "      <td>0</td>\n",
       "      <td>0</td>\n",
       "    </tr>\n",
       "    <tr>\n",
       "      <th>2</th>\n",
       "      <td>1</td>\n",
       "      <td>1</td>\n",
       "      <td>NOVA PALESTINA</td>\n",
       "      <td>0</td>\n",
       "      <td>0</td>\n",
       "      <td>0</td>\n",
       "      <td>0</td>\n",
       "      <td>0</td>\n",
       "      <td>0</td>\n",
       "      <td>1</td>\n",
       "      <td>...</td>\n",
       "      <td>0</td>\n",
       "      <td>0</td>\n",
       "      <td>0</td>\n",
       "      <td>0</td>\n",
       "      <td>0</td>\n",
       "      <td>0</td>\n",
       "      <td>0</td>\n",
       "      <td>0</td>\n",
       "      <td>0</td>\n",
       "      <td>0</td>\n",
       "    </tr>\n",
       "    <tr>\n",
       "      <th>3</th>\n",
       "      <td>1</td>\n",
       "      <td>20</td>\n",
       "      <td>MARUÍPE</td>\n",
       "      <td>0</td>\n",
       "      <td>0</td>\n",
       "      <td>0</td>\n",
       "      <td>0</td>\n",
       "      <td>0</td>\n",
       "      <td>1</td>\n",
       "      <td>0</td>\n",
       "      <td>...</td>\n",
       "      <td>0</td>\n",
       "      <td>0</td>\n",
       "      <td>0</td>\n",
       "      <td>0</td>\n",
       "      <td>0</td>\n",
       "      <td>0</td>\n",
       "      <td>0</td>\n",
       "      <td>0</td>\n",
       "      <td>0</td>\n",
       "      <td>0</td>\n",
       "    </tr>\n",
       "    <tr>\n",
       "      <th>4</th>\n",
       "      <td>1</td>\n",
       "      <td>6</td>\n",
       "      <td>CARATOÍRA</td>\n",
       "      <td>0</td>\n",
       "      <td>0</td>\n",
       "      <td>0</td>\n",
       "      <td>0</td>\n",
       "      <td>0</td>\n",
       "      <td>0</td>\n",
       "      <td>1</td>\n",
       "      <td>...</td>\n",
       "      <td>0</td>\n",
       "      <td>0</td>\n",
       "      <td>0</td>\n",
       "      <td>0</td>\n",
       "      <td>0</td>\n",
       "      <td>0</td>\n",
       "      <td>0</td>\n",
       "      <td>0</td>\n",
       "      <td>0</td>\n",
       "      <td>0</td>\n",
       "    </tr>\n",
       "  </tbody>\n",
       "</table>\n",
       "<p>5 rows × 94 columns</p>\n",
       "</div>"
      ],
      "text/plain": [
       "   Gender  Age   Neighbourhood  Scholarship  Hipertension  Diabetes  \\\n",
       "0       1   26    SANTA TEREZA            0             0         0   \n",
       "1       0    4      TABUAZEIRO            0             0         0   \n",
       "2       1    1  NOVA PALESTINA            0             0         0   \n",
       "3       1   20         MARUÍPE            0             0         0   \n",
       "4       1    6       CARATOÍRA            0             0         0   \n",
       "\n",
       "   Alcoholism  Handcap  SMS_received  No-show            ...              \\\n",
       "0           0        0             1        0            ...               \n",
       "1           0        0             0        0            ...               \n",
       "2           0        0             0        1            ...               \n",
       "3           0        0             1        0            ...               \n",
       "4           0        0             0        1            ...               \n",
       "\n",
       "   Neighborhood (SANTOS REIS)  Neighborhood (SEGURANÇA DO LAR)  \\\n",
       "0                           0                                0   \n",
       "1                           0                                0   \n",
       "2                           0                                0   \n",
       "3                           0                                0   \n",
       "4                           0                                0   \n",
       "\n",
       "   Neighborhood (SOLON BORGES)  Neighborhood (SÃO BENEDITO)  \\\n",
       "0                            0                            0   \n",
       "1                            0                            0   \n",
       "2                            0                            0   \n",
       "3                            0                            0   \n",
       "4                            0                            0   \n",
       "\n",
       "   Neighborhood (SÃO CRISTÓVÃO)  Neighborhood (SÃO JOSÉ)  \\\n",
       "0                             0                        0   \n",
       "1                             0                        0   \n",
       "2                             0                        0   \n",
       "3                             0                        0   \n",
       "4                             0                        0   \n",
       "\n",
       "   Neighborhood (SÃO PEDRO)  Neighborhood (TABUAZEIRO)  \\\n",
       "0                         0                          0   \n",
       "1                         0                          1   \n",
       "2                         0                          0   \n",
       "3                         0                          0   \n",
       "4                         0                          0   \n",
       "\n",
       "   Neighborhood (UNIVERSITÁRIO)  Neighborhood (VILA RUBIM)  \n",
       "0                             0                          0  \n",
       "1                             0                          0  \n",
       "2                             0                          0  \n",
       "3                             0                          0  \n",
       "4                             0                          0  \n",
       "\n",
       "[5 rows x 94 columns]"
      ]
     },
     "execution_count": 84,
     "metadata": {},
     "output_type": "execute_result"
    }
   ],
   "source": [
    "dataset.head()"
   ]
  },
  {
   "cell_type": "code",
   "execution_count": 85,
   "metadata": {
    "collapsed": true
   },
   "outputs": [],
   "source": [
    "del dataset[\"Neighbourhood\"]"
   ]
  },
  {
   "cell_type": "code",
   "execution_count": 86,
   "metadata": {},
   "outputs": [
    {
     "name": "stdout",
     "output_type": "stream",
     "text": [
      "<class 'pandas.core.frame.DataFrame'>\n",
      "RangeIndex: 106670 entries, 0 to 106669\n",
      "Data columns (total 93 columns):\n",
      "Gender                                        106670 non-null int64\n",
      "Age                                           106670 non-null int64\n",
      "Scholarship                                   106670 non-null int64\n",
      "Hipertension                                  106670 non-null int64\n",
      "Diabetes                                      106670 non-null int64\n",
      "Alcoholism                                    106670 non-null int64\n",
      "Handcap                                       106670 non-null int64\n",
      "SMS_received                                  106670 non-null int64\n",
      "No-show                                       106670 non-null int64\n",
      "AwaitingTime                                  106670 non-null int64\n",
      "AppointmentDate_day                           106670 non-null int64\n",
      "AppointmentDate_month                         106670 non-null int64\n",
      "Neighborhood (AEROPORTO)                      106670 non-null int32\n",
      "Neighborhood (ANDORINHAS)                     106670 non-null int32\n",
      "Neighborhood (ANTÔNIO HONÓRIO)                106670 non-null int32\n",
      "Neighborhood (ARIOVALDO FAVALESSA)            106670 non-null int32\n",
      "Neighborhood (BARRO VERMELHO)                 106670 non-null int32\n",
      "Neighborhood (BELA VISTA)                     106670 non-null int32\n",
      "Neighborhood (BENTO FERREIRA)                 106670 non-null int32\n",
      "Neighborhood (BOA VISTA)                      106670 non-null int32\n",
      "Neighborhood (BONFIM)                         106670 non-null int32\n",
      "Neighborhood (CARATOÍRA)                      106670 non-null int32\n",
      "Neighborhood (CENTRO)                         106670 non-null int32\n",
      "Neighborhood (COMDUSA)                        106670 non-null int32\n",
      "Neighborhood (CONQUISTA)                      106670 non-null int32\n",
      "Neighborhood (CONSOLAÇÃO)                     106670 non-null int32\n",
      "Neighborhood (CRUZAMENTO)                     106670 non-null int32\n",
      "Neighborhood (DA PENHA)                       106670 non-null int32\n",
      "Neighborhood (DE LOURDES)                     106670 non-null int32\n",
      "Neighborhood (DO CABRAL)                      106670 non-null int32\n",
      "Neighborhood (DO MOSCOSO)                     106670 non-null int32\n",
      "Neighborhood (DO QUADRO)                      106670 non-null int32\n",
      "Neighborhood (ENSEADA DO SUÁ)                 106670 non-null int32\n",
      "Neighborhood (ESTRELINHA)                     106670 non-null int32\n",
      "Neighborhood (FONTE GRANDE)                   106670 non-null int32\n",
      "Neighborhood (FORTE SÃO JOÃO)                 106670 non-null int32\n",
      "Neighborhood (FRADINHOS)                      106670 non-null int32\n",
      "Neighborhood (GOIABEIRAS)                     106670 non-null int32\n",
      "Neighborhood (GRANDE VITÓRIA)                 106670 non-null int32\n",
      "Neighborhood (GURIGICA)                       106670 non-null int32\n",
      "Neighborhood (HORTO)                          106670 non-null int32\n",
      "Neighborhood (ILHA DAS CAIEIRAS)              106670 non-null int32\n",
      "Neighborhood (ILHA DE SANTA MARIA)            106670 non-null int32\n",
      "Neighborhood (ILHA DO BOI)                    106670 non-null int32\n",
      "Neighborhood (ILHA DO FRADE)                  106670 non-null int32\n",
      "Neighborhood (ILHA DO PRÍNCIPE)               106670 non-null int32\n",
      "Neighborhood (ILHAS OCEÂNICAS DE TRINDADE)    106670 non-null int32\n",
      "Neighborhood (INHANGUETÁ)                     106670 non-null int32\n",
      "Neighborhood (ITARARÉ)                        106670 non-null int32\n",
      "Neighborhood (JABOUR)                         106670 non-null int32\n",
      "Neighborhood (JARDIM CAMBURI)                 106670 non-null int32\n",
      "Neighborhood (JARDIM DA PENHA)                106670 non-null int32\n",
      "Neighborhood (JESUS DE NAZARETH)              106670 non-null int32\n",
      "Neighborhood (JOANA D´ARC)                    106670 non-null int32\n",
      "Neighborhood (JUCUTUQUARA)                    106670 non-null int32\n",
      "Neighborhood (MARIA ORTIZ)                    106670 non-null int32\n",
      "Neighborhood (MARUÍPE)                        106670 non-null int32\n",
      "Neighborhood (MATA DA PRAIA)                  106670 non-null int32\n",
      "Neighborhood (MONTE BELO)                     106670 non-null int32\n",
      "Neighborhood (MORADA DE CAMBURI)              106670 non-null int32\n",
      "Neighborhood (MÁRIO CYPRESTE)                 106670 non-null int32\n",
      "Neighborhood (NAZARETH)                       106670 non-null int32\n",
      "Neighborhood (NOVA PALESTINA)                 106670 non-null int32\n",
      "Neighborhood (PARQUE INDUSTRIAL)              106670 non-null int32\n",
      "Neighborhood (PARQUE MOSCOSO)                 106670 non-null int32\n",
      "Neighborhood (PIEDADE)                        106670 non-null int32\n",
      "Neighborhood (PONTAL DE CAMBURI)              106670 non-null int32\n",
      "Neighborhood (PRAIA DO CANTO)                 106670 non-null int32\n",
      "Neighborhood (PRAIA DO SUÁ)                   106670 non-null int32\n",
      "Neighborhood (REDENÇÃO)                       106670 non-null int32\n",
      "Neighborhood (REPÚBLICA)                      106670 non-null int32\n",
      "Neighborhood (RESISTÊNCIA)                    106670 non-null int32\n",
      "Neighborhood (ROMÃO)                          106670 non-null int32\n",
      "Neighborhood (SANTA CECÍLIA)                  106670 non-null int32\n",
      "Neighborhood (SANTA CLARA)                    106670 non-null int32\n",
      "Neighborhood (SANTA HELENA)                   106670 non-null int32\n",
      "Neighborhood (SANTA LUÍZA)                    106670 non-null int32\n",
      "Neighborhood (SANTA LÚCIA)                    106670 non-null int32\n",
      "Neighborhood (SANTA MARTHA)                   106670 non-null int32\n",
      "Neighborhood (SANTA TEREZA)                   106670 non-null int32\n",
      "Neighborhood (SANTO ANDRÉ)                    106670 non-null int32\n",
      "Neighborhood (SANTO ANTÔNIO)                  106670 non-null int32\n",
      "Neighborhood (SANTOS DUMONT)                  106670 non-null int32\n",
      "Neighborhood (SANTOS REIS)                    106670 non-null int32\n",
      "Neighborhood (SEGURANÇA DO LAR)               106670 non-null int32\n",
      "Neighborhood (SOLON BORGES)                   106670 non-null int32\n",
      "Neighborhood (SÃO BENEDITO)                   106670 non-null int32\n",
      "Neighborhood (SÃO CRISTÓVÃO)                  106670 non-null int32\n",
      "Neighborhood (SÃO JOSÉ)                       106670 non-null int32\n",
      "Neighborhood (SÃO PEDRO)                      106670 non-null int32\n",
      "Neighborhood (TABUAZEIRO)                     106670 non-null int32\n",
      "Neighborhood (UNIVERSITÁRIO)                  106670 non-null int32\n",
      "Neighborhood (VILA RUBIM)                     106670 non-null int32\n",
      "dtypes: int32(81), int64(12)\n",
      "memory usage: 42.7 MB\n"
     ]
    }
   ],
   "source": [
    "dataset.info()"
   ]
  },
  {
   "cell_type": "markdown",
   "metadata": {},
   "source": [
    "## Statistics\n",
    "\n",
    "Let's check the statistics on the features"
   ]
  },
  {
   "cell_type": "code",
   "execution_count": 88,
   "metadata": {},
   "outputs": [
    {
     "data": {
      "text/html": [
       "<div>\n",
       "<style>\n",
       "    .dataframe thead tr:only-child th {\n",
       "        text-align: right;\n",
       "    }\n",
       "\n",
       "    .dataframe thead th {\n",
       "        text-align: left;\n",
       "    }\n",
       "\n",
       "    .dataframe tbody tr th {\n",
       "        vertical-align: top;\n",
       "    }\n",
       "</style>\n",
       "<table border=\"1\" class=\"dataframe\">\n",
       "  <thead>\n",
       "    <tr style=\"text-align: right;\">\n",
       "      <th></th>\n",
       "      <th>Gender</th>\n",
       "      <th>Age</th>\n",
       "      <th>Scholarship</th>\n",
       "      <th>Hipertension</th>\n",
       "      <th>Diabetes</th>\n",
       "      <th>Alcoholism</th>\n",
       "      <th>Handcap</th>\n",
       "      <th>SMS_received</th>\n",
       "      <th>No-show</th>\n",
       "      <th>AwaitingTime</th>\n",
       "      <th>AppointmentDate_day</th>\n",
       "      <th>AppointmentDate_month</th>\n",
       "    </tr>\n",
       "  </thead>\n",
       "  <tbody>\n",
       "    <tr>\n",
       "      <th>count</th>\n",
       "      <td>106670.000000</td>\n",
       "      <td>106670.000000</td>\n",
       "      <td>106670.000000</td>\n",
       "      <td>106670.000000</td>\n",
       "      <td>106670.000000</td>\n",
       "      <td>106670.000000</td>\n",
       "      <td>106670.000000</td>\n",
       "      <td>106670.000000</td>\n",
       "      <td>106670.000000</td>\n",
       "      <td>106670.000000</td>\n",
       "      <td>106670.000000</td>\n",
       "      <td>106670.000000</td>\n",
       "    </tr>\n",
       "    <tr>\n",
       "      <th>mean</th>\n",
       "      <td>0.655161</td>\n",
       "      <td>38.248317</td>\n",
       "      <td>0.101191</td>\n",
       "      <td>0.203019</td>\n",
       "      <td>0.074088</td>\n",
       "      <td>0.031452</td>\n",
       "      <td>0.022874</td>\n",
       "      <td>0.322162</td>\n",
       "      <td>0.202447</td>\n",
       "      <td>8.867067</td>\n",
       "      <td>12.469195</td>\n",
       "      <td>5.211278</td>\n",
       "    </tr>\n",
       "    <tr>\n",
       "      <th>std</th>\n",
       "      <td>0.475318</td>\n",
       "      <td>22.428750</td>\n",
       "      <td>0.301582</td>\n",
       "      <td>0.402248</td>\n",
       "      <td>0.261916</td>\n",
       "      <td>0.174537</td>\n",
       "      <td>0.163863</td>\n",
       "      <td>0.467307</td>\n",
       "      <td>0.401825</td>\n",
       "      <td>14.165951</td>\n",
       "      <td>9.046689</td>\n",
       "      <td>0.473975</td>\n",
       "    </tr>\n",
       "    <tr>\n",
       "      <th>min</th>\n",
       "      <td>0.000000</td>\n",
       "      <td>1.000000</td>\n",
       "      <td>0.000000</td>\n",
       "      <td>0.000000</td>\n",
       "      <td>0.000000</td>\n",
       "      <td>0.000000</td>\n",
       "      <td>0.000000</td>\n",
       "      <td>0.000000</td>\n",
       "      <td>0.000000</td>\n",
       "      <td>-7.000000</td>\n",
       "      <td>1.000000</td>\n",
       "      <td>4.000000</td>\n",
       "    </tr>\n",
       "    <tr>\n",
       "      <th>25%</th>\n",
       "      <td>0.000000</td>\n",
       "      <td>19.000000</td>\n",
       "      <td>0.000000</td>\n",
       "      <td>0.000000</td>\n",
       "      <td>0.000000</td>\n",
       "      <td>0.000000</td>\n",
       "      <td>0.000000</td>\n",
       "      <td>0.000000</td>\n",
       "      <td>0.000000</td>\n",
       "      <td>-1.000000</td>\n",
       "      <td>5.000000</td>\n",
       "      <td>5.000000</td>\n",
       "    </tr>\n",
       "    <tr>\n",
       "      <th>50%</th>\n",
       "      <td>1.000000</td>\n",
       "      <td>38.000000</td>\n",
       "      <td>0.000000</td>\n",
       "      <td>0.000000</td>\n",
       "      <td>0.000000</td>\n",
       "      <td>0.000000</td>\n",
       "      <td>0.000000</td>\n",
       "      <td>0.000000</td>\n",
       "      <td>0.000000</td>\n",
       "      <td>3.000000</td>\n",
       "      <td>10.000000</td>\n",
       "      <td>5.000000</td>\n",
       "    </tr>\n",
       "    <tr>\n",
       "      <th>75%</th>\n",
       "      <td>1.000000</td>\n",
       "      <td>56.000000</td>\n",
       "      <td>0.000000</td>\n",
       "      <td>0.000000</td>\n",
       "      <td>0.000000</td>\n",
       "      <td>0.000000</td>\n",
       "      <td>0.000000</td>\n",
       "      <td>1.000000</td>\n",
       "      <td>0.000000</td>\n",
       "      <td>13.000000</td>\n",
       "      <td>19.000000</td>\n",
       "      <td>5.000000</td>\n",
       "    </tr>\n",
       "    <tr>\n",
       "      <th>max</th>\n",
       "      <td>1.000000</td>\n",
       "      <td>115.000000</td>\n",
       "      <td>1.000000</td>\n",
       "      <td>1.000000</td>\n",
       "      <td>1.000000</td>\n",
       "      <td>1.000000</td>\n",
       "      <td>4.000000</td>\n",
       "      <td>1.000000</td>\n",
       "      <td>1.000000</td>\n",
       "      <td>85.000000</td>\n",
       "      <td>31.000000</td>\n",
       "      <td>6.000000</td>\n",
       "    </tr>\n",
       "  </tbody>\n",
       "</table>\n",
       "</div>"
      ],
      "text/plain": [
       "              Gender            Age    Scholarship   Hipertension  \\\n",
       "count  106670.000000  106670.000000  106670.000000  106670.000000   \n",
       "mean        0.655161      38.248317       0.101191       0.203019   \n",
       "std         0.475318      22.428750       0.301582       0.402248   \n",
       "min         0.000000       1.000000       0.000000       0.000000   \n",
       "25%         0.000000      19.000000       0.000000       0.000000   \n",
       "50%         1.000000      38.000000       0.000000       0.000000   \n",
       "75%         1.000000      56.000000       0.000000       0.000000   \n",
       "max         1.000000     115.000000       1.000000       1.000000   \n",
       "\n",
       "            Diabetes     Alcoholism        Handcap   SMS_received  \\\n",
       "count  106670.000000  106670.000000  106670.000000  106670.000000   \n",
       "mean        0.074088       0.031452       0.022874       0.322162   \n",
       "std         0.261916       0.174537       0.163863       0.467307   \n",
       "min         0.000000       0.000000       0.000000       0.000000   \n",
       "25%         0.000000       0.000000       0.000000       0.000000   \n",
       "50%         0.000000       0.000000       0.000000       0.000000   \n",
       "75%         0.000000       0.000000       0.000000       1.000000   \n",
       "max         1.000000       1.000000       4.000000       1.000000   \n",
       "\n",
       "             No-show   AwaitingTime  AppointmentDate_day  \\\n",
       "count  106670.000000  106670.000000        106670.000000   \n",
       "mean        0.202447       8.867067            12.469195   \n",
       "std         0.401825      14.165951             9.046689   \n",
       "min         0.000000      -7.000000             1.000000   \n",
       "25%         0.000000      -1.000000             5.000000   \n",
       "50%         0.000000       3.000000            10.000000   \n",
       "75%         0.000000      13.000000            19.000000   \n",
       "max         1.000000      85.000000            31.000000   \n",
       "\n",
       "       AppointmentDate_month  \n",
       "count          106670.000000  \n",
       "mean                5.211278  \n",
       "std                 0.473975  \n",
       "min                 4.000000  \n",
       "25%                 5.000000  \n",
       "50%                 5.000000  \n",
       "75%                 5.000000  \n",
       "max                 6.000000  "
      ]
     },
     "execution_count": 88,
     "metadata": {},
     "output_type": "execute_result"
    }
   ],
   "source": [
    "dataset.loc[:, [column_name for column_name in dataset.columns\n",
    "                   if not column_name.startswith(\"Neighborhood\")]].describe()"
   ]
  },
  {
   "cell_type": "markdown",
   "metadata": {},
   "source": [
    "We'll have to check the class balance. This dataset is used to predict No-show from the factors encoded. No-shows are a miniority so this dataset is very imbalanced. We want to understand how balanced it is between the number of positive and negative samples"
   ]
  },
  {
   "cell_type": "code",
   "execution_count": 90,
   "metadata": {},
   "outputs": [
    {
     "data": {
      "text/plain": [
       "21595"
      ]
     },
     "execution_count": 90,
     "metadata": {},
     "output_type": "execute_result"
    }
   ],
   "source": [
    "num_noshow = np.sum(dataset[\"No-show\"])\n",
    "num_noshow"
   ]
  },
  {
   "cell_type": "code",
   "execution_count": 91,
   "metadata": {},
   "outputs": [
    {
     "name": "stdout",
     "output_type": "stream",
     "text": [
      "no-show ratio: 21595 / 106670 = 0.2024467985375457\n"
     ]
    }
   ],
   "source": [
    "print(\"no-show ratio:\", num_noshow, \"/\", len(dataset), \"=\", num_noshow/len(dataset))"
   ]
  },
  {
   "cell_type": "markdown",
   "metadata": {},
   "source": [
    "The dataset is pretty much divided 80:20 for show:no-show. We'll have to resample the no-shows for the sake of fairness. "
   ]
  },
  {
   "cell_type": "code",
   "execution_count": 92,
   "metadata": {},
   "outputs": [
    {
     "name": "stdout",
     "output_type": "stream",
     "text": [
      "upsample_rate: 3.9395693447557303\n"
     ]
    }
   ],
   "source": [
    "upsample_rate = (len(dataset) - num_noshow) / num_noshow\n",
    "print(\"upsample_rate:\", upsample_rate)"
   ]
  },
  {
   "cell_type": "code",
   "execution_count": 93,
   "metadata": {},
   "outputs": [
    {
     "name": "stdout",
     "output_type": "stream",
     "text": [
      "85075 85075\n"
     ]
    }
   ],
   "source": [
    "print(int(num_noshow * upsample_rate), len(dataset) - num_noshow)"
   ]
  },
  {
   "cell_type": "code",
   "execution_count": 101,
   "metadata": {
    "collapsed": true
   },
   "outputs": [],
   "source": [
    "dataset_resampled = pd.concat([\n",
    "    dataset[dataset[\"No-show\"] == 1].sample(frac = upsample_rate, replace = True).reset_index(drop = True),\n",
    "    dataset[dataset[\"No-show\"] == 0]\n",
    "])\n",
    "\n",
    "dataset_resampled = dataset_resampled.sample(frac = 1).reset_index(drop = True) # shuffle"
   ]
  },
  {
   "cell_type": "code",
   "execution_count": 102,
   "metadata": {},
   "outputs": [
    {
     "data": {
      "text/plain": [
       "(170150, 93)"
      ]
     },
     "execution_count": 102,
     "metadata": {},
     "output_type": "execute_result"
    }
   ],
   "source": [
    "dataset_resampled.shape"
   ]
  },
  {
   "cell_type": "code",
   "execution_count": 104,
   "metadata": {},
   "outputs": [
    {
     "data": {
      "text/plain": [
       "170150"
      ]
     },
     "execution_count": 104,
     "metadata": {},
     "output_type": "execute_result"
    }
   ],
   "source": [
    "85075 * 2"
   ]
  },
  {
   "cell_type": "code",
   "execution_count": 105,
   "metadata": {},
   "outputs": [
    {
     "name": "stdout",
     "output_type": "stream",
     "text": [
      "noshow ratio: 0.5\n"
     ]
    }
   ],
   "source": [
    "# verifying the balance rate:\n",
    "\n",
    "print('noshow ratio:', np.sum(dataset_resampled['No-show'] == 1) / len(dataset_resampled))"
   ]
  },
  {
   "cell_type": "code",
   "execution_count": 107,
   "metadata": {
    "collapsed": true
   },
   "outputs": [],
   "source": [
    "# replace dataset_resampled with dataset\n",
    "\n",
    "dataset = dataset_resampled\n",
    "del dataset_resampled"
   ]
  },
  {
   "cell_type": "markdown",
   "metadata": {},
   "source": [
    "## PCA on the neighborhood columns\n",
    "\n",
    "Let's try to compress these columns down a bit"
   ]
  },
  {
   "cell_type": "code",
   "execution_count": 109,
   "metadata": {
    "collapsed": true
   },
   "outputs": [],
   "source": [
    "from sklearn.decomposition import PCA, FactorAnalysis\n",
    "from sklearn.preprocessing import scale, LabelEncoder, OneHotEncoder, LabelBinarizer\n",
    "from sklearn.feature_selection import SelectKBest, chi2, f_classif, mutual_info_classif"
   ]
  },
  {
   "cell_type": "code",
   "execution_count": 112,
   "metadata": {
    "collapsed": true
   },
   "outputs": [],
   "source": [
    "# selecting all the neighborhood columns\n",
    "\n",
    "X_neighbors = np.array(dataset.loc[:, [column_name for column_name in dataset.columns\n",
    "                                      if column_name.startswith(\"Neighborhood\")]])"
   ]
  },
  {
   "cell_type": "code",
   "execution_count": 113,
   "metadata": {},
   "outputs": [
    {
     "data": {
      "text/plain": [
       "(170150, 81)"
      ]
     },
     "execution_count": 113,
     "metadata": {},
     "output_type": "execute_result"
    }
   ],
   "source": [
    "X_neighbors.shape"
   ]
  },
  {
   "cell_type": "code",
   "execution_count": 114,
   "metadata": {},
   "outputs": [
    {
     "data": {
      "text/plain": [
       "array([[0, 0, 0, ..., 0, 0, 0],\n",
       "       [0, 0, 0, ..., 0, 0, 0],\n",
       "       [0, 0, 1, ..., 0, 0, 0],\n",
       "       ..., \n",
       "       [0, 0, 0, ..., 0, 0, 0],\n",
       "       [0, 0, 0, ..., 0, 0, 0],\n",
       "       [0, 0, 0, ..., 0, 0, 0]])"
      ]
     },
     "execution_count": 114,
     "metadata": {},
     "output_type": "execute_result"
    }
   ],
   "source": [
    "X_neighbors"
   ]
  },
  {
   "cell_type": "markdown",
   "metadata": {},
   "source": [
    "Applying PCA to X_neighbors with 60 principal components"
   ]
  },
  {
   "cell_type": "code",
   "execution_count": 115,
   "metadata": {
    "collapsed": true
   },
   "outputs": [],
   "source": [
    "pca = PCA(n_components = 60)\n",
    "X_neighbors_PCA = pca.fit_transform(X_neighbors[:, :60])"
   ]
  },
  {
   "cell_type": "code",
   "execution_count": 116,
   "metadata": {},
   "outputs": [
    {
     "data": {
      "text/plain": [
       "(170150, 60)"
      ]
     },
     "execution_count": 116,
     "metadata": {},
     "output_type": "execute_result"
    }
   ],
   "source": [
    "X_neighbors_PCA.shape"
   ]
  },
  {
   "cell_type": "code",
   "execution_count": 117,
   "metadata": {},
   "outputs": [
    {
     "data": {
      "text/plain": [
       "1.0000000000000002"
      ]
     },
     "execution_count": 117,
     "metadata": {},
     "output_type": "execute_result"
    }
   ],
   "source": [
    "np.sum(pca.explained_variance_ratio_)"
   ]
  },
  {
   "cell_type": "code",
   "execution_count": 125,
   "metadata": {},
   "outputs": [
    {
     "data": {
      "text/plain": [
       "(170150, 93)"
      ]
     },
     "execution_count": 125,
     "metadata": {},
     "output_type": "execute_result"
    }
   ],
   "source": [
    "dataset.shape"
   ]
  },
  {
   "cell_type": "markdown",
   "metadata": {},
   "source": [
    "Let's delete all the original Neighborhood columns and replace them with the 60 PCs. "
   ]
  },
  {
   "cell_type": "code",
   "execution_count": 122,
   "metadata": {
    "collapsed": true
   },
   "outputs": [],
   "source": [
    "c = np.array([column_name for column_name in dataset.columns\n",
    "                 if column_name.startswith(\"Neighborhood\")])"
   ]
  },
  {
   "cell_type": "code",
   "execution_count": 123,
   "metadata": {},
   "outputs": [
    {
     "data": {
      "text/plain": [
       "(81,)"
      ]
     },
     "execution_count": 123,
     "metadata": {},
     "output_type": "execute_result"
    }
   ],
   "source": [
    "c.shape"
   ]
  },
  {
   "cell_type": "code",
   "execution_count": 124,
   "metadata": {},
   "outputs": [
    {
     "data": {
      "text/plain": [
       "array(['Neighborhood (AEROPORTO)', 'Neighborhood (ANDORINHAS)',\n",
       "       'Neighborhood (ANTÔNIO HONÓRIO)',\n",
       "       'Neighborhood (ARIOVALDO FAVALESSA)',\n",
       "       'Neighborhood (BARRO VERMELHO)', 'Neighborhood (BELA VISTA)',\n",
       "       'Neighborhood (BENTO FERREIRA)', 'Neighborhood (BOA VISTA)',\n",
       "       'Neighborhood (BONFIM)', 'Neighborhood (CARATOÍRA)',\n",
       "       'Neighborhood (CENTRO)', 'Neighborhood (COMDUSA)',\n",
       "       'Neighborhood (CONQUISTA)', 'Neighborhood (CONSOLAÇÃO)',\n",
       "       'Neighborhood (CRUZAMENTO)', 'Neighborhood (DA PENHA)',\n",
       "       'Neighborhood (DE LOURDES)', 'Neighborhood (DO CABRAL)',\n",
       "       'Neighborhood (DO MOSCOSO)', 'Neighborhood (DO QUADRO)',\n",
       "       'Neighborhood (ENSEADA DO SUÁ)', 'Neighborhood (ESTRELINHA)',\n",
       "       'Neighborhood (FONTE GRANDE)', 'Neighborhood (FORTE SÃO JOÃO)',\n",
       "       'Neighborhood (FRADINHOS)', 'Neighborhood (GOIABEIRAS)',\n",
       "       'Neighborhood (GRANDE VITÓRIA)', 'Neighborhood (GURIGICA)',\n",
       "       'Neighborhood (HORTO)', 'Neighborhood (ILHA DAS CAIEIRAS)',\n",
       "       'Neighborhood (ILHA DE SANTA MARIA)', 'Neighborhood (ILHA DO BOI)',\n",
       "       'Neighborhood (ILHA DO FRADE)', 'Neighborhood (ILHA DO PRÍNCIPE)',\n",
       "       'Neighborhood (ILHAS OCEÂNICAS DE TRINDADE)',\n",
       "       'Neighborhood (INHANGUETÁ)', 'Neighborhood (ITARARÉ)',\n",
       "       'Neighborhood (JABOUR)', 'Neighborhood (JARDIM CAMBURI)',\n",
       "       'Neighborhood (JARDIM DA PENHA)',\n",
       "       'Neighborhood (JESUS DE NAZARETH)', 'Neighborhood (JOANA D´ARC)',\n",
       "       'Neighborhood (JUCUTUQUARA)', 'Neighborhood (MARIA ORTIZ)',\n",
       "       'Neighborhood (MARUÍPE)', 'Neighborhood (MATA DA PRAIA)',\n",
       "       'Neighborhood (MONTE BELO)', 'Neighborhood (MORADA DE CAMBURI)',\n",
       "       'Neighborhood (MÁRIO CYPRESTE)', 'Neighborhood (NAZARETH)',\n",
       "       'Neighborhood (NOVA PALESTINA)', 'Neighborhood (PARQUE INDUSTRIAL)',\n",
       "       'Neighborhood (PARQUE MOSCOSO)', 'Neighborhood (PIEDADE)',\n",
       "       'Neighborhood (PONTAL DE CAMBURI)', 'Neighborhood (PRAIA DO CANTO)',\n",
       "       'Neighborhood (PRAIA DO SUÁ)', 'Neighborhood (REDENÇÃO)',\n",
       "       'Neighborhood (REPÚBLICA)', 'Neighborhood (RESISTÊNCIA)',\n",
       "       'Neighborhood (ROMÃO)', 'Neighborhood (SANTA CECÍLIA)',\n",
       "       'Neighborhood (SANTA CLARA)', 'Neighborhood (SANTA HELENA)',\n",
       "       'Neighborhood (SANTA LUÍZA)', 'Neighborhood (SANTA LÚCIA)',\n",
       "       'Neighborhood (SANTA MARTHA)', 'Neighborhood (SANTA TEREZA)',\n",
       "       'Neighborhood (SANTO ANDRÉ)', 'Neighborhood (SANTO ANTÔNIO)',\n",
       "       'Neighborhood (SANTOS DUMONT)', 'Neighborhood (SANTOS REIS)',\n",
       "       'Neighborhood (SEGURANÇA DO LAR)', 'Neighborhood (SOLON BORGES)',\n",
       "       'Neighborhood (SÃO BENEDITO)', 'Neighborhood (SÃO CRISTÓVÃO)',\n",
       "       'Neighborhood (SÃO JOSÉ)', 'Neighborhood (SÃO PEDRO)',\n",
       "       'Neighborhood (TABUAZEIRO)', 'Neighborhood (UNIVERSITÁRIO)',\n",
       "       'Neighborhood (VILA RUBIM)'],\n",
       "      dtype='<U42')"
      ]
     },
     "execution_count": 124,
     "metadata": {},
     "output_type": "execute_result"
    }
   ],
   "source": [
    "c"
   ]
  },
  {
   "cell_type": "code",
   "execution_count": 126,
   "metadata": {
    "collapsed": true
   },
   "outputs": [],
   "source": [
    "dataset.drop(c, axis = 1, inplace = True)"
   ]
  },
  {
   "cell_type": "code",
   "execution_count": 127,
   "metadata": {},
   "outputs": [
    {
     "name": "stdout",
     "output_type": "stream",
     "text": [
      "(170150, 12)\n"
     ]
    }
   ],
   "source": [
    "print(dataset.shape)"
   ]
  },
  {
   "cell_type": "markdown",
   "metadata": {},
   "source": [
    "Now, we still have to add the PC to the dataset"
   ]
  },
  {
   "cell_type": "code",
   "execution_count": 128,
   "metadata": {
    "collapsed": true
   },
   "outputs": [],
   "source": [
    "for j in range(X_neighbors_PCA.shape[1]):\n",
    "    dataset[\"N{}\".format(j)] = X_neighbors_PCA[:, j]"
   ]
  },
  {
   "cell_type": "code",
   "execution_count": 129,
   "metadata": {},
   "outputs": [
    {
     "data": {
      "text/plain": [
       "(170150, 72)"
      ]
     },
     "execution_count": 129,
     "metadata": {},
     "output_type": "execute_result"
    }
   ],
   "source": [
    "dataset.shape"
   ]
  },
  {
   "cell_type": "code",
   "execution_count": 130,
   "metadata": {},
   "outputs": [
    {
     "data": {
      "text/html": [
       "<div>\n",
       "<style>\n",
       "    .dataframe thead tr:only-child th {\n",
       "        text-align: right;\n",
       "    }\n",
       "\n",
       "    .dataframe thead th {\n",
       "        text-align: left;\n",
       "    }\n",
       "\n",
       "    .dataframe tbody tr th {\n",
       "        vertical-align: top;\n",
       "    }\n",
       "</style>\n",
       "<table border=\"1\" class=\"dataframe\">\n",
       "  <thead>\n",
       "    <tr style=\"text-align: right;\">\n",
       "      <th></th>\n",
       "      <th>Gender</th>\n",
       "      <th>Age</th>\n",
       "      <th>Scholarship</th>\n",
       "      <th>Hipertension</th>\n",
       "      <th>Diabetes</th>\n",
       "      <th>Alcoholism</th>\n",
       "      <th>Handcap</th>\n",
       "      <th>SMS_received</th>\n",
       "      <th>No-show</th>\n",
       "      <th>AwaitingTime</th>\n",
       "      <th>...</th>\n",
       "      <th>N50</th>\n",
       "      <th>N51</th>\n",
       "      <th>N52</th>\n",
       "      <th>N53</th>\n",
       "      <th>N54</th>\n",
       "      <th>N55</th>\n",
       "      <th>N56</th>\n",
       "      <th>N57</th>\n",
       "      <th>N58</th>\n",
       "      <th>N59</th>\n",
       "    </tr>\n",
       "  </thead>\n",
       "  <tbody>\n",
       "    <tr>\n",
       "      <th>0</th>\n",
       "      <td>1</td>\n",
       "      <td>7</td>\n",
       "      <td>0</td>\n",
       "      <td>0</td>\n",
       "      <td>0</td>\n",
       "      <td>0</td>\n",
       "      <td>0</td>\n",
       "      <td>0</td>\n",
       "      <td>1</td>\n",
       "      <td>6</td>\n",
       "      <td>...</td>\n",
       "      <td>0.007920</td>\n",
       "      <td>0.001866</td>\n",
       "      <td>0.001243</td>\n",
       "      <td>0.000357</td>\n",
       "      <td>0.000173</td>\n",
       "      <td>0.000026</td>\n",
       "      <td>0.000005</td>\n",
       "      <td>1.154041e-06</td>\n",
       "      <td>9.130991e-07</td>\n",
       "      <td>1.405271e-08</td>\n",
       "    </tr>\n",
       "    <tr>\n",
       "      <th>1</th>\n",
       "      <td>1</td>\n",
       "      <td>51</td>\n",
       "      <td>0</td>\n",
       "      <td>1</td>\n",
       "      <td>0</td>\n",
       "      <td>0</td>\n",
       "      <td>0</td>\n",
       "      <td>0</td>\n",
       "      <td>0</td>\n",
       "      <td>21</td>\n",
       "      <td>...</td>\n",
       "      <td>0.001581</td>\n",
       "      <td>0.000394</td>\n",
       "      <td>0.000269</td>\n",
       "      <td>0.000081</td>\n",
       "      <td>0.000040</td>\n",
       "      <td>0.000006</td>\n",
       "      <td>0.000001</td>\n",
       "      <td>2.774949e-07</td>\n",
       "      <td>2.196602e-07</td>\n",
       "      <td>3.391468e-09</td>\n",
       "    </tr>\n",
       "    <tr>\n",
       "      <th>2</th>\n",
       "      <td>0</td>\n",
       "      <td>20</td>\n",
       "      <td>0</td>\n",
       "      <td>0</td>\n",
       "      <td>0</td>\n",
       "      <td>0</td>\n",
       "      <td>0</td>\n",
       "      <td>0</td>\n",
       "      <td>1</td>\n",
       "      <td>28</td>\n",
       "      <td>...</td>\n",
       "      <td>0.231071</td>\n",
       "      <td>0.018403</td>\n",
       "      <td>0.009823</td>\n",
       "      <td>0.002038</td>\n",
       "      <td>0.000888</td>\n",
       "      <td>0.000114</td>\n",
       "      <td>0.000020</td>\n",
       "      <td>4.820661e-06</td>\n",
       "      <td>3.806874e-06</td>\n",
       "      <td>5.781486e-08</td>\n",
       "    </tr>\n",
       "    <tr>\n",
       "      <th>3</th>\n",
       "      <td>1</td>\n",
       "      <td>37</td>\n",
       "      <td>1</td>\n",
       "      <td>0</td>\n",
       "      <td>0</td>\n",
       "      <td>1</td>\n",
       "      <td>0</td>\n",
       "      <td>1</td>\n",
       "      <td>1</td>\n",
       "      <td>13</td>\n",
       "      <td>...</td>\n",
       "      <td>0.005577</td>\n",
       "      <td>0.001342</td>\n",
       "      <td>0.000901</td>\n",
       "      <td>0.000263</td>\n",
       "      <td>0.000128</td>\n",
       "      <td>0.000019</td>\n",
       "      <td>0.000004</td>\n",
       "      <td>8.671078e-07</td>\n",
       "      <td>6.861752e-07</td>\n",
       "      <td>1.057141e-08</td>\n",
       "    </tr>\n",
       "    <tr>\n",
       "      <th>4</th>\n",
       "      <td>0</td>\n",
       "      <td>34</td>\n",
       "      <td>0</td>\n",
       "      <td>0</td>\n",
       "      <td>0</td>\n",
       "      <td>0</td>\n",
       "      <td>0</td>\n",
       "      <td>0</td>\n",
       "      <td>1</td>\n",
       "      <td>12</td>\n",
       "      <td>...</td>\n",
       "      <td>0.003902</td>\n",
       "      <td>0.000953</td>\n",
       "      <td>0.000644</td>\n",
       "      <td>0.000190</td>\n",
       "      <td>0.000093</td>\n",
       "      <td>0.000014</td>\n",
       "      <td>0.000003</td>\n",
       "      <td>6.372721e-07</td>\n",
       "      <td>5.043584e-07</td>\n",
       "      <td>7.776832e-09</td>\n",
       "    </tr>\n",
       "  </tbody>\n",
       "</table>\n",
       "<p>5 rows × 72 columns</p>\n",
       "</div>"
      ],
      "text/plain": [
       "   Gender  Age  Scholarship  Hipertension  Diabetes  Alcoholism  Handcap  \\\n",
       "0       1    7            0             0         0           0        0   \n",
       "1       1   51            0             1         0           0        0   \n",
       "2       0   20            0             0         0           0        0   \n",
       "3       1   37            1             0         0           1        0   \n",
       "4       0   34            0             0         0           0        0   \n",
       "\n",
       "   SMS_received  No-show  AwaitingTime      ...            N50       N51  \\\n",
       "0             0        1             6      ...       0.007920  0.001866   \n",
       "1             0        0            21      ...       0.001581  0.000394   \n",
       "2             0        1            28      ...       0.231071  0.018403   \n",
       "3             1        1            13      ...       0.005577  0.001342   \n",
       "4             0        1            12      ...       0.003902  0.000953   \n",
       "\n",
       "        N52       N53       N54       N55       N56           N57  \\\n",
       "0  0.001243  0.000357  0.000173  0.000026  0.000005  1.154041e-06   \n",
       "1  0.000269  0.000081  0.000040  0.000006  0.000001  2.774949e-07   \n",
       "2  0.009823  0.002038  0.000888  0.000114  0.000020  4.820661e-06   \n",
       "3  0.000901  0.000263  0.000128  0.000019  0.000004  8.671078e-07   \n",
       "4  0.000644  0.000190  0.000093  0.000014  0.000003  6.372721e-07   \n",
       "\n",
       "            N58           N59  \n",
       "0  9.130991e-07  1.405271e-08  \n",
       "1  2.196602e-07  3.391468e-09  \n",
       "2  3.806874e-06  5.781486e-08  \n",
       "3  6.861752e-07  1.057141e-08  \n",
       "4  5.043584e-07  7.776832e-09  \n",
       "\n",
       "[5 rows x 72 columns]"
      ]
     },
     "execution_count": 130,
     "metadata": {},
     "output_type": "execute_result"
    }
   ],
   "source": [
    "dataset.head()"
   ]
  },
  {
   "cell_type": "code",
   "execution_count": 131,
   "metadata": {},
   "outputs": [
    {
     "name": "stdout",
     "output_type": "stream",
     "text": [
      "<class 'pandas.core.frame.DataFrame'>\n",
      "RangeIndex: 170150 entries, 0 to 170149\n",
      "Data columns (total 72 columns):\n",
      "Gender                   170150 non-null int64\n",
      "Age                      170150 non-null int64\n",
      "Scholarship              170150 non-null int64\n",
      "Hipertension             170150 non-null int64\n",
      "Diabetes                 170150 non-null int64\n",
      "Alcoholism               170150 non-null int64\n",
      "Handcap                  170150 non-null int64\n",
      "SMS_received             170150 non-null int64\n",
      "No-show                  170150 non-null int64\n",
      "AwaitingTime             170150 non-null int64\n",
      "AppointmentDate_day      170150 non-null int64\n",
      "AppointmentDate_month    170150 non-null int64\n",
      "N0                       170150 non-null float64\n",
      "N1                       170150 non-null float64\n",
      "N2                       170150 non-null float64\n",
      "N3                       170150 non-null float64\n",
      "N4                       170150 non-null float64\n",
      "N5                       170150 non-null float64\n",
      "N6                       170150 non-null float64\n",
      "N7                       170150 non-null float64\n",
      "N8                       170150 non-null float64\n",
      "N9                       170150 non-null float64\n",
      "N10                      170150 non-null float64\n",
      "N11                      170150 non-null float64\n",
      "N12                      170150 non-null float64\n",
      "N13                      170150 non-null float64\n",
      "N14                      170150 non-null float64\n",
      "N15                      170150 non-null float64\n",
      "N16                      170150 non-null float64\n",
      "N17                      170150 non-null float64\n",
      "N18                      170150 non-null float64\n",
      "N19                      170150 non-null float64\n",
      "N20                      170150 non-null float64\n",
      "N21                      170150 non-null float64\n",
      "N22                      170150 non-null float64\n",
      "N23                      170150 non-null float64\n",
      "N24                      170150 non-null float64\n",
      "N25                      170150 non-null float64\n",
      "N26                      170150 non-null float64\n",
      "N27                      170150 non-null float64\n",
      "N28                      170150 non-null float64\n",
      "N29                      170150 non-null float64\n",
      "N30                      170150 non-null float64\n",
      "N31                      170150 non-null float64\n",
      "N32                      170150 non-null float64\n",
      "N33                      170150 non-null float64\n",
      "N34                      170150 non-null float64\n",
      "N35                      170150 non-null float64\n",
      "N36                      170150 non-null float64\n",
      "N37                      170150 non-null float64\n",
      "N38                      170150 non-null float64\n",
      "N39                      170150 non-null float64\n",
      "N40                      170150 non-null float64\n",
      "N41                      170150 non-null float64\n",
      "N42                      170150 non-null float64\n",
      "N43                      170150 non-null float64\n",
      "N44                      170150 non-null float64\n",
      "N45                      170150 non-null float64\n",
      "N46                      170150 non-null float64\n",
      "N47                      170150 non-null float64\n",
      "N48                      170150 non-null float64\n",
      "N49                      170150 non-null float64\n",
      "N50                      170150 non-null float64\n",
      "N51                      170150 non-null float64\n",
      "N52                      170150 non-null float64\n",
      "N53                      170150 non-null float64\n",
      "N54                      170150 non-null float64\n",
      "N55                      170150 non-null float64\n",
      "N56                      170150 non-null float64\n",
      "N57                      170150 non-null float64\n",
      "N58                      170150 non-null float64\n",
      "N59                      170150 non-null float64\n",
      "dtypes: float64(60), int64(12)\n",
      "memory usage: 93.5 MB\n"
     ]
    }
   ],
   "source": [
    "dataset.info()"
   ]
  },
  {
   "cell_type": "markdown",
   "metadata": {},
   "source": [
    "## Feature selection"
   ]
  },
  {
   "cell_type": "code",
   "execution_count": 133,
   "metadata": {
    "collapsed": true
   },
   "outputs": [],
   "source": [
    "column_names = np.array(dataset.columns)\n",
    "original_features = column_names != \"No-show\""
   ]
  },
  {
   "cell_type": "code",
   "execution_count": 134,
   "metadata": {},
   "outputs": [
    {
     "data": {
      "text/plain": [
       "array(['Gender', 'Age', 'Scholarship', 'Hipertension', 'Diabetes',\n",
       "       'Alcoholism', 'Handcap', 'SMS_received', 'No-show', 'AwaitingTime',\n",
       "       'AppointmentDate_day', 'AppointmentDate_month', 'N0', 'N1', 'N2',\n",
       "       'N3', 'N4', 'N5', 'N6', 'N7', 'N8', 'N9', 'N10', 'N11', 'N12',\n",
       "       'N13', 'N14', 'N15', 'N16', 'N17', 'N18', 'N19', 'N20', 'N21',\n",
       "       'N22', 'N23', 'N24', 'N25', 'N26', 'N27', 'N28', 'N29', 'N30',\n",
       "       'N31', 'N32', 'N33', 'N34', 'N35', 'N36', 'N37', 'N38', 'N39',\n",
       "       'N40', 'N41', 'N42', 'N43', 'N44', 'N45', 'N46', 'N47', 'N48',\n",
       "       'N49', 'N50', 'N51', 'N52', 'N53', 'N54', 'N55', 'N56', 'N57',\n",
       "       'N58', 'N59'], dtype=object)"
      ]
     },
     "execution_count": 134,
     "metadata": {},
     "output_type": "execute_result"
    }
   ],
   "source": [
    "column_names"
   ]
  },
  {
   "cell_type": "code",
   "execution_count": 136,
   "metadata": {},
   "outputs": [
    {
     "data": {
      "text/plain": [
       "array([ True,  True,  True,  True,  True,  True,  True,  True, False,\n",
       "        True,  True,  True,  True,  True,  True,  True,  True,  True,\n",
       "        True,  True,  True,  True,  True,  True,  True,  True,  True,\n",
       "        True,  True,  True,  True,  True,  True,  True,  True,  True,\n",
       "        True,  True,  True,  True,  True,  True,  True,  True,  True,\n",
       "        True,  True,  True,  True,  True,  True,  True,  True,  True,\n",
       "        True,  True,  True,  True,  True,  True,  True,  True,  True,\n",
       "        True,  True,  True,  True,  True,  True,  True,  True,  True], dtype=bool)"
      ]
     },
     "execution_count": 136,
     "metadata": {},
     "output_type": "execute_result"
    }
   ],
   "source": [
    "original_features"
   ]
  },
  {
   "cell_type": "code",
   "execution_count": 139,
   "metadata": {},
   "outputs": [
    {
     "data": {
      "text/plain": [
       "Index(['Gender', 'Age', 'Scholarship', 'Hipertension', 'Diabetes',\n",
       "       'Alcoholism', 'Handcap', 'SMS_received', 'AwaitingTime',\n",
       "       'AppointmentDate_day', 'AppointmentDate_month', 'N0', 'N1', 'N2', 'N3',\n",
       "       'N4', 'N5', 'N6', 'N7', 'N8', 'N9', 'N10', 'N11', 'N12', 'N13', 'N14',\n",
       "       'N15', 'N16', 'N17', 'N18', 'N19', 'N20', 'N21', 'N22', 'N23', 'N24',\n",
       "       'N25', 'N26', 'N27', 'N28', 'N29', 'N30', 'N31', 'N32', 'N33', 'N34',\n",
       "       'N35', 'N36', 'N37', 'N38', 'N39', 'N40', 'N41', 'N42', 'N43', 'N44',\n",
       "       'N45', 'N46', 'N47', 'N48', 'N49', 'N50', 'N51', 'N52', 'N53', 'N54',\n",
       "       'N55', 'N56', 'N57', 'N58', 'N59'],\n",
       "      dtype='object')"
      ]
     },
     "execution_count": 139,
     "metadata": {},
     "output_type": "execute_result"
    }
   ],
   "source": [
    "cols = dataset.loc[:, original_features].columns\n",
    "cols"
   ]
  },
  {
   "cell_type": "code",
   "execution_count": 141,
   "metadata": {},
   "outputs": [
    {
     "data": {
      "text/html": [
       "<div>\n",
       "<style>\n",
       "    .dataframe thead tr:only-child th {\n",
       "        text-align: right;\n",
       "    }\n",
       "\n",
       "    .dataframe thead th {\n",
       "        text-align: left;\n",
       "    }\n",
       "\n",
       "    .dataframe tbody tr th {\n",
       "        vertical-align: top;\n",
       "    }\n",
       "</style>\n",
       "<table border=\"1\" class=\"dataframe\">\n",
       "  <thead>\n",
       "    <tr style=\"text-align: right;\">\n",
       "      <th></th>\n",
       "      <th>Gender</th>\n",
       "      <th>Age</th>\n",
       "      <th>Scholarship</th>\n",
       "      <th>Hipertension</th>\n",
       "      <th>Diabetes</th>\n",
       "      <th>Alcoholism</th>\n",
       "      <th>Handcap</th>\n",
       "      <th>SMS_received</th>\n",
       "      <th>AwaitingTime</th>\n",
       "      <th>AppointmentDate_day</th>\n",
       "      <th>...</th>\n",
       "      <th>N50</th>\n",
       "      <th>N51</th>\n",
       "      <th>N52</th>\n",
       "      <th>N53</th>\n",
       "      <th>N54</th>\n",
       "      <th>N55</th>\n",
       "      <th>N56</th>\n",
       "      <th>N57</th>\n",
       "      <th>N58</th>\n",
       "      <th>N59</th>\n",
       "    </tr>\n",
       "  </thead>\n",
       "  <tbody>\n",
       "    <tr>\n",
       "      <th>0</th>\n",
       "      <td>1</td>\n",
       "      <td>7</td>\n",
       "      <td>0</td>\n",
       "      <td>0</td>\n",
       "      <td>0</td>\n",
       "      <td>0</td>\n",
       "      <td>0</td>\n",
       "      <td>0</td>\n",
       "      <td>6</td>\n",
       "      <td>18</td>\n",
       "      <td>...</td>\n",
       "      <td>0.007920</td>\n",
       "      <td>0.001866</td>\n",
       "      <td>0.001243</td>\n",
       "      <td>0.000357</td>\n",
       "      <td>0.000173</td>\n",
       "      <td>0.000026</td>\n",
       "      <td>0.000005</td>\n",
       "      <td>1.154041e-06</td>\n",
       "      <td>9.130991e-07</td>\n",
       "      <td>1.405271e-08</td>\n",
       "    </tr>\n",
       "    <tr>\n",
       "      <th>1</th>\n",
       "      <td>1</td>\n",
       "      <td>51</td>\n",
       "      <td>0</td>\n",
       "      <td>1</td>\n",
       "      <td>0</td>\n",
       "      <td>0</td>\n",
       "      <td>0</td>\n",
       "      <td>0</td>\n",
       "      <td>21</td>\n",
       "      <td>19</td>\n",
       "      <td>...</td>\n",
       "      <td>0.001581</td>\n",
       "      <td>0.000394</td>\n",
       "      <td>0.000269</td>\n",
       "      <td>0.000081</td>\n",
       "      <td>0.000040</td>\n",
       "      <td>0.000006</td>\n",
       "      <td>0.000001</td>\n",
       "      <td>2.774949e-07</td>\n",
       "      <td>2.196602e-07</td>\n",
       "      <td>3.391468e-09</td>\n",
       "    </tr>\n",
       "    <tr>\n",
       "      <th>2</th>\n",
       "      <td>0</td>\n",
       "      <td>20</td>\n",
       "      <td>0</td>\n",
       "      <td>0</td>\n",
       "      <td>0</td>\n",
       "      <td>0</td>\n",
       "      <td>0</td>\n",
       "      <td>0</td>\n",
       "      <td>28</td>\n",
       "      <td>18</td>\n",
       "      <td>...</td>\n",
       "      <td>0.231071</td>\n",
       "      <td>0.018403</td>\n",
       "      <td>0.009823</td>\n",
       "      <td>0.002038</td>\n",
       "      <td>0.000888</td>\n",
       "      <td>0.000114</td>\n",
       "      <td>0.000020</td>\n",
       "      <td>4.820661e-06</td>\n",
       "      <td>3.806874e-06</td>\n",
       "      <td>5.781486e-08</td>\n",
       "    </tr>\n",
       "    <tr>\n",
       "      <th>3</th>\n",
       "      <td>1</td>\n",
       "      <td>37</td>\n",
       "      <td>1</td>\n",
       "      <td>0</td>\n",
       "      <td>0</td>\n",
       "      <td>1</td>\n",
       "      <td>0</td>\n",
       "      <td>1</td>\n",
       "      <td>13</td>\n",
       "      <td>12</td>\n",
       "      <td>...</td>\n",
       "      <td>0.005577</td>\n",
       "      <td>0.001342</td>\n",
       "      <td>0.000901</td>\n",
       "      <td>0.000263</td>\n",
       "      <td>0.000128</td>\n",
       "      <td>0.000019</td>\n",
       "      <td>0.000004</td>\n",
       "      <td>8.671078e-07</td>\n",
       "      <td>6.861752e-07</td>\n",
       "      <td>1.057141e-08</td>\n",
       "    </tr>\n",
       "    <tr>\n",
       "      <th>4</th>\n",
       "      <td>0</td>\n",
       "      <td>34</td>\n",
       "      <td>0</td>\n",
       "      <td>0</td>\n",
       "      <td>0</td>\n",
       "      <td>0</td>\n",
       "      <td>0</td>\n",
       "      <td>0</td>\n",
       "      <td>12</td>\n",
       "      <td>19</td>\n",
       "      <td>...</td>\n",
       "      <td>0.003902</td>\n",
       "      <td>0.000953</td>\n",
       "      <td>0.000644</td>\n",
       "      <td>0.000190</td>\n",
       "      <td>0.000093</td>\n",
       "      <td>0.000014</td>\n",
       "      <td>0.000003</td>\n",
       "      <td>6.372721e-07</td>\n",
       "      <td>5.043584e-07</td>\n",
       "      <td>7.776832e-09</td>\n",
       "    </tr>\n",
       "  </tbody>\n",
       "</table>\n",
       "<p>5 rows × 71 columns</p>\n",
       "</div>"
      ],
      "text/plain": [
       "   Gender  Age  Scholarship  Hipertension  Diabetes  Alcoholism  Handcap  \\\n",
       "0       1    7            0             0         0           0        0   \n",
       "1       1   51            0             1         0           0        0   \n",
       "2       0   20            0             0         0           0        0   \n",
       "3       1   37            1             0         0           1        0   \n",
       "4       0   34            0             0         0           0        0   \n",
       "\n",
       "   SMS_received  AwaitingTime  AppointmentDate_day      ...            N50  \\\n",
       "0             0             6                   18      ...       0.007920   \n",
       "1             0            21                   19      ...       0.001581   \n",
       "2             0            28                   18      ...       0.231071   \n",
       "3             1            13                   12      ...       0.005577   \n",
       "4             0            12                   19      ...       0.003902   \n",
       "\n",
       "        N51       N52       N53       N54       N55       N56           N57  \\\n",
       "0  0.001866  0.001243  0.000357  0.000173  0.000026  0.000005  1.154041e-06   \n",
       "1  0.000394  0.000269  0.000081  0.000040  0.000006  0.000001  2.774949e-07   \n",
       "2  0.018403  0.009823  0.002038  0.000888  0.000114  0.000020  4.820661e-06   \n",
       "3  0.001342  0.000901  0.000263  0.000128  0.000019  0.000004  8.671078e-07   \n",
       "4  0.000953  0.000644  0.000190  0.000093  0.000014  0.000003  6.372721e-07   \n",
       "\n",
       "            N58           N59  \n",
       "0  9.130991e-07  1.405271e-08  \n",
       "1  2.196602e-07  3.391468e-09  \n",
       "2  3.806874e-06  5.781486e-08  \n",
       "3  6.861752e-07  1.057141e-08  \n",
       "4  5.043584e-07  7.776832e-09  \n",
       "\n",
       "[5 rows x 71 columns]"
      ]
     },
     "execution_count": 141,
     "metadata": {},
     "output_type": "execute_result"
    }
   ],
   "source": [
    "featureData = dataset.loc[:, original_features]\n",
    "featureData.head()"
   ]
  },
  {
   "cell_type": "markdown",
   "metadata": {},
   "source": [
    "Create train/test splits"
   ]
  },
  {
   "cell_type": "code",
   "execution_count": 142,
   "metadata": {
    "collapsed": true
   },
   "outputs": [],
   "source": [
    "from sklearn.model_selection import train_test_split\n",
    "\n",
    "X = scale(np.array(featureData))\n",
    "y = np.array(dataset[\"No-show\"])\n",
    "\n",
    "X_train, X_test, y_train, y_test = train_test_split(X, y, test_size = 0.2)"
   ]
  },
  {
   "cell_type": "markdown",
   "metadata": {},
   "source": [
    "Let's fit a feature selector"
   ]
  },
  {
   "cell_type": "code",
   "execution_count": 143,
   "metadata": {},
   "outputs": [
    {
     "data": {
      "text/plain": [
       "SelectKBest(k=20, score_func=<function f_classif at 0x00000211B6161AE8>)"
      ]
     },
     "execution_count": 143,
     "metadata": {},
     "output_type": "execute_result"
    }
   ],
   "source": [
    "selector = SelectKBest(f_classif, k = 20)\n",
    "selector.fit(X_train, y_train)"
   ]
  },
  {
   "cell_type": "code",
   "execution_count": 144,
   "metadata": {},
   "outputs": [
    {
     "data": {
      "text/plain": [
       "array([False,  True,  True,  True,  True, False, False,  True,  True,\n",
       "       False,  True,  True, False, False,  True,  True, False,  True,\n",
       "        True,  True,  True,  True, False, False,  True, False,  True,\n",
       "       False, False, False,  True, False,  True, False, False, False,\n",
       "       False, False, False, False, False,  True, False, False, False,\n",
       "       False, False, False, False, False, False, False, False, False,\n",
       "       False, False, False, False, False, False, False, False, False,\n",
       "       False, False, False, False, False, False, False, False], dtype=bool)"
      ]
     },
     "execution_count": 144,
     "metadata": {},
     "output_type": "execute_result"
    }
   ],
   "source": [
    "selector.get_support()"
   ]
  },
  {
   "cell_type": "code",
   "execution_count": 147,
   "metadata": {},
   "outputs": [
    {
     "name": "stdout",
     "output_type": "stream",
     "text": [
      "['Age' 'Scholarship' 'Hipertension' 'Diabetes' 'SMS_received'\n",
      " 'AwaitingTime' 'AppointmentDate_month' 'N0' 'N3' 'N4' 'N6' 'N7' 'N8' 'N9'\n",
      " 'N10' 'N13' 'N15' 'N19' 'N21' 'N30']\n"
     ]
    }
   ],
   "source": [
    "selected_features = column_names[original_features][selector.get_support()]\n",
    "print(selected_features)"
   ]
  },
  {
   "cell_type": "markdown",
   "metadata": {},
   "source": [
    "## Create a linear SVM classifier"
   ]
  },
  {
   "cell_type": "code",
   "execution_count": 148,
   "metadata": {
    "collapsed": true
   },
   "outputs": [],
   "source": [
    "import tensorflow as tf\n",
    "\n",
    "tf.logging.set_verbosity(tf.logging.ERROR)\n",
    "import tf_threads\n",
    "estimator_config = tf.contrib.learn.RunConfig(session_config = tf_threads.limit(tf, 4))"
   ]
  },
  {
   "cell_type": "code",
   "execution_count": 150,
   "metadata": {},
   "outputs": [
    {
     "data": {
      "text/plain": [
       "[_RealValuedColumn(column_name='Age', dimension=1, default_value=None, dtype=tf.float32, normalizer=None),\n",
       " _RealValuedColumn(column_name='Scholarship', dimension=1, default_value=None, dtype=tf.float32, normalizer=None),\n",
       " _RealValuedColumn(column_name='Hipertension', dimension=1, default_value=None, dtype=tf.float32, normalizer=None),\n",
       " _RealValuedColumn(column_name='Diabetes', dimension=1, default_value=None, dtype=tf.float32, normalizer=None),\n",
       " _RealValuedColumn(column_name='SMS_received', dimension=1, default_value=None, dtype=tf.float32, normalizer=None),\n",
       " _RealValuedColumn(column_name='AwaitingTime', dimension=1, default_value=None, dtype=tf.float32, normalizer=None),\n",
       " _RealValuedColumn(column_name='AppointmentDate_month', dimension=1, default_value=None, dtype=tf.float32, normalizer=None),\n",
       " _RealValuedColumn(column_name='N0', dimension=1, default_value=None, dtype=tf.float32, normalizer=None),\n",
       " _RealValuedColumn(column_name='N3', dimension=1, default_value=None, dtype=tf.float32, normalizer=None),\n",
       " _RealValuedColumn(column_name='N4', dimension=1, default_value=None, dtype=tf.float32, normalizer=None),\n",
       " _RealValuedColumn(column_name='N6', dimension=1, default_value=None, dtype=tf.float32, normalizer=None),\n",
       " _RealValuedColumn(column_name='N7', dimension=1, default_value=None, dtype=tf.float32, normalizer=None),\n",
       " _RealValuedColumn(column_name='N8', dimension=1, default_value=None, dtype=tf.float32, normalizer=None),\n",
       " _RealValuedColumn(column_name='N9', dimension=1, default_value=None, dtype=tf.float32, normalizer=None),\n",
       " _RealValuedColumn(column_name='N10', dimension=1, default_value=None, dtype=tf.float32, normalizer=None),\n",
       " _RealValuedColumn(column_name='N13', dimension=1, default_value=None, dtype=tf.float32, normalizer=None),\n",
       " _RealValuedColumn(column_name='N15', dimension=1, default_value=None, dtype=tf.float32, normalizer=None),\n",
       " _RealValuedColumn(column_name='N19', dimension=1, default_value=None, dtype=tf.float32, normalizer=None),\n",
       " _RealValuedColumn(column_name='N21', dimension=1, default_value=None, dtype=tf.float32, normalizer=None),\n",
       " _RealValuedColumn(column_name='N30', dimension=1, default_value=None, dtype=tf.float32, normalizer=None)]"
      ]
     },
     "execution_count": 150,
     "metadata": {},
     "output_type": "execute_result"
    }
   ],
   "source": [
    "# prepare feature columns as tf placeholders\n",
    "\n",
    "feature_columns = [tf.contrib.layers.real_valued_column(selected_feature)\n",
    "                      for selected_feature in selected_features]\n",
    "\n",
    "feature_columns"
   ]
  },
  {
   "cell_type": "code",
   "execution_count": 151,
   "metadata": {
    "collapsed": true
   },
   "outputs": [],
   "source": [
    "# create an SVM classifier\n",
    "\n",
    "classifier = tf.contrib.learn.SVM(\"example_id\", \n",
    "                                     feature_columns = feature_columns, \n",
    "                                     l2_regularization = 1.0)"
   ]
  },
  {
   "cell_type": "code",
   "execution_count": 152,
   "metadata": {
    "collapsed": true
   },
   "outputs": [],
   "source": [
    "# prepare input_fn() to supply training data\n",
    "\n",
    "def input_fn():\n",
    "    X_selected = selector.transform(X_train) # select features based on the feature selection method\n",
    "    \n",
    "    columns = {\n",
    "        feature_name: tf.constant(np.expand_dims(X_selected[:, i], 1))\n",
    "            for i, feature_name in enumerate(selected_features)\n",
    "    }\n",
    "    \n",
    "    columns[\"example_id\"] = tf.constant([str(i + 1) for i in range(len(X_selected))])\n",
    "    labels = tf.constant(y_train)\n",
    "    return columns, labels"
   ]
  },
  {
   "cell_type": "markdown",
   "metadata": {},
   "source": [
    "## Train the SVM"
   ]
  },
  {
   "cell_type": "code",
   "execution_count": 153,
   "metadata": {},
   "outputs": [
    {
     "name": "stdout",
     "output_type": "stream",
     "text": [
      "Wall time: 1min 5s\n"
     ]
    },
    {
     "data": {
      "text/plain": [
       "SVM(params={'head': <tensorflow.contrib.learn.python.learn.estimators.head._BinarySvmHead object at 0x0000021183780550>, 'feature_columns': [_RealValuedColumn(column_name='Age', dimension=1, default_value=None, dtype=tf.float32, normalizer=None), _RealValuedColumn(column_name='Scholarship', dimension=1, default_value=None, dtype=tf.float32, normalizer=None), _RealValuedColumn(column_name='Hipertension', dimension=1, default_value=None, dtype=tf.float32, normalizer=None), _RealValuedColumn(column_name='Diabetes', dimension=1, default_value=None, dtype=tf.float32, normalizer=None), _RealValuedColumn(column_name='SMS_received', dimension=1, default_value=None, dtype=tf.float32, normalizer=None), _RealValuedColumn(column_name='AwaitingTime', dimension=1, default_value=None, dtype=tf.float32, normalizer=None), _RealValuedColumn(column_name='AppointmentDate_month', dimension=1, default_value=None, dtype=tf.float32, normalizer=None), _RealValuedColumn(column_name='N0', dimension=1, default_value=None, dtype=tf.float32, normalizer=None), _RealValuedColumn(column_name='N3', dimension=1, default_value=None, dtype=tf.float32, normalizer=None), _RealValuedColumn(column_name='N4', dimension=1, default_value=None, dtype=tf.float32, normalizer=None), _RealValuedColumn(column_name='N6', dimension=1, default_value=None, dtype=tf.float32, normalizer=None), _RealValuedColumn(column_name='N7', dimension=1, default_value=None, dtype=tf.float32, normalizer=None), _RealValuedColumn(column_name='N8', dimension=1, default_value=None, dtype=tf.float32, normalizer=None), _RealValuedColumn(column_name='N9', dimension=1, default_value=None, dtype=tf.float32, normalizer=None), _RealValuedColumn(column_name='N10', dimension=1, default_value=None, dtype=tf.float32, normalizer=None), _RealValuedColumn(column_name='N13', dimension=1, default_value=None, dtype=tf.float32, normalizer=None), _RealValuedColumn(column_name='N15', dimension=1, default_value=None, dtype=tf.float32, normalizer=None), _RealValuedColumn(column_name='N19', dimension=1, default_value=None, dtype=tf.float32, normalizer=None), _RealValuedColumn(column_name='N21', dimension=1, default_value=None, dtype=tf.float32, normalizer=None), _RealValuedColumn(column_name='N30', dimension=1, default_value=None, dtype=tf.float32, normalizer=None)], 'optimizer': <tensorflow.contrib.linear_optimizer.python.sdca_optimizer.SDCAOptimizer object at 0x0000021183780518>, 'weight_column_name': None, 'update_weights_hook': <tensorflow.contrib.learn.python.learn.estimators.linear._SdcaUpdateWeightsHook object at 0x00000211837805C0>})"
      ]
     },
     "execution_count": 153,
     "metadata": {},
     "output_type": "execute_result"
    }
   ],
   "source": [
    "%%time\n",
    "\n",
    "classifier.fit(input_fn = input_fn, steps = 30)"
   ]
  },
  {
   "cell_type": "markdown",
   "metadata": {},
   "source": [
    "## Evaluation"
   ]
  },
  {
   "cell_type": "code",
   "execution_count": 154,
   "metadata": {
    "collapsed": true
   },
   "outputs": [],
   "source": [
    "def predict_fn():\n",
    "    X_selected = selector.transform(X_test)\n",
    "    \n",
    "    columns = {\n",
    "        feature_name: tf.constant(np.expand_dims(X_selected[:, i], 1))\n",
    "            for i, feature_name in enumerate(selected_features)\n",
    "    }\n",
    "    \n",
    "    columns[\"example_id\"] = tf.constant([str(i + 1) for i in range(len(X_selected))])\n",
    "    return columns"
   ]
  },
  {
   "cell_type": "markdown",
   "metadata": {},
   "source": [
    "Let's make a prediction now"
   ]
  },
  {
   "cell_type": "code",
   "execution_count": 155,
   "metadata": {},
   "outputs": [
    {
     "name": "stdout",
     "output_type": "stream",
     "text": [
      "[0, 0, 1, 1, 0, 0, 0, 1, 0, 0, 1, 1, 1, 0, 0, 1, 1, 0, 1, 1]\n"
     ]
    }
   ],
   "source": [
    "y_pred = classifier.predict(input_fn = predict_fn)\n",
    "y_pred = list(map(lambda i: i[\"classes\"], y_pred))\n",
    "print(y_pred[0:20])"
   ]
  },
  {
   "cell_type": "code",
   "execution_count": 156,
   "metadata": {},
   "outputs": [
    {
     "name": "stdout",
     "output_type": "stream",
     "text": [
      "Accuracy: 0.601792535998\n"
     ]
    }
   ],
   "source": [
    "from sklearn.metrics import accuracy_score, confusion_matrix\n",
    "\n",
    "print(\"Accuracy:\", accuracy_score(y_test, y_pred))"
   ]
  },
  {
   "cell_type": "code",
   "execution_count": 157,
   "metadata": {},
   "outputs": [
    {
     "data": {
      "text/plain": [
       "<matplotlib.image.AxesImage at 0x2118c5554a8>"
      ]
     },
     "execution_count": 157,
     "metadata": {},
     "output_type": "execute_result"
    },
    {
     "data": {
      "image/png": "[encoded data removed]",
      "text/plain": [
       "<matplotlib.figure.Figure at 0x21183780f60>"
      ]
     },
     "metadata": {},
     "output_type": "display_data"
    }
   ],
   "source": [
    "plt.imshow(confusion_matrix(y_test, y_pred))"
   ]
  }
 ],
 "metadata": {
  "kernelspec": {
   "display_name": "Python 3",
   "language": "python",
   "name": "python3"
  },
  "language_info": {
   "codemirror_mode": {
    "name": "ipython",
    "version": 3
   },
   "file_extension": ".py",
   "mimetype": "text/x-python",
   "name": "python",
   "nbconvert_exporter": "python",
   "pygments_lexer": "ipython3",
   "version": "3.6.1"
  }
 },
 "nbformat": 4,
 "nbformat_minor": 2
}

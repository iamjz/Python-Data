{
 "cells": [
  {
   "cell_type": "code",
   "execution_count": 1,
   "metadata": {
    "collapsed": true
   },
   "outputs": [],
   "source": [
    "import os, sys\n",
    "from collections import Counter\n",
    "import numpy as np\n",
    "import pandas as pd\n",
    "import sklearn.model_selection\n",
    "from sklearn.naive_bayes import GaussianNB\n",
    "\n",
    "np.random.seed(18937)"
   ]
  },
  {
   "cell_type": "code",
   "execution_count": 2,
   "metadata": {},
   "outputs": [
    {
     "name": "stdout",
     "output_type": "stream",
     "text": [
      "True\n"
     ]
    }
   ],
   "source": [
    "datasource = \"datasets/titanic.csv\"\n",
    "print(os.path.exists(datasource))"
   ]
  },
  {
   "cell_type": "code",
   "execution_count": 4,
   "metadata": {},
   "outputs": [
    {
     "data": {
      "text/html": [
       "<div>\n",
       "<style>\n",
       "    .dataframe thead tr:only-child th {\n",
       "        text-align: right;\n",
       "    }\n",
       "\n",
       "    .dataframe thead th {\n",
       "        text-align: left;\n",
       "    }\n",
       "\n",
       "    .dataframe tbody tr th {\n",
       "        vertical-align: top;\n",
       "    }\n",
       "</style>\n",
       "<table border=\"1\" class=\"dataframe\">\n",
       "  <thead>\n",
       "    <tr style=\"text-align: right;\">\n",
       "      <th></th>\n",
       "      <th>index</th>\n",
       "      <th>pclass</th>\n",
       "      <th>sex</th>\n",
       "      <th>age</th>\n",
       "      <th>sibsp</th>\n",
       "      <th>parch</th>\n",
       "      <th>fare</th>\n",
       "      <th>embarked</th>\n",
       "      <th>survived</th>\n",
       "    </tr>\n",
       "  </thead>\n",
       "  <tbody>\n",
       "    <tr>\n",
       "      <th>0</th>\n",
       "      <td>360</td>\n",
       "      <td>1</td>\n",
       "      <td>1</td>\n",
       "      <td>27.0</td>\n",
       "      <td>0</td>\n",
       "      <td>0</td>\n",
       "      <td>30.5000</td>\n",
       "      <td>1</td>\n",
       "      <td>1</td>\n",
       "    </tr>\n",
       "    <tr>\n",
       "      <th>1</th>\n",
       "      <td>317</td>\n",
       "      <td>2</td>\n",
       "      <td>0</td>\n",
       "      <td>31.0</td>\n",
       "      <td>1</td>\n",
       "      <td>1</td>\n",
       "      <td>26.2500</td>\n",
       "      <td>1</td>\n",
       "      <td>1</td>\n",
       "    </tr>\n",
       "    <tr>\n",
       "      <th>2</th>\n",
       "      <td>145</td>\n",
       "      <td>3</td>\n",
       "      <td>1</td>\n",
       "      <td>12.0</td>\n",
       "      <td>1</td>\n",
       "      <td>0</td>\n",
       "      <td>11.2417</td>\n",
       "      <td>0</td>\n",
       "      <td>1</td>\n",
       "    </tr>\n",
       "    <tr>\n",
       "      <th>3</th>\n",
       "      <td>62</td>\n",
       "      <td>3</td>\n",
       "      <td>1</td>\n",
       "      <td>24.5</td>\n",
       "      <td>0</td>\n",
       "      <td>0</td>\n",
       "      <td>8.0500</td>\n",
       "      <td>1</td>\n",
       "      <td>0</td>\n",
       "    </tr>\n",
       "    <tr>\n",
       "      <th>4</th>\n",
       "      <td>21</td>\n",
       "      <td>1</td>\n",
       "      <td>1</td>\n",
       "      <td>37.0</td>\n",
       "      <td>1</td>\n",
       "      <td>0</td>\n",
       "      <td>53.1000</td>\n",
       "      <td>1</td>\n",
       "      <td>0</td>\n",
       "    </tr>\n",
       "  </tbody>\n",
       "</table>\n",
       "</div>"
      ],
      "text/plain": [
       "   index  pclass  sex   age  sibsp  parch     fare  embarked  survived\n",
       "0    360       1    1  27.0      0      0  30.5000         1         1\n",
       "1    317       2    0  31.0      1      1  26.2500         1         1\n",
       "2    145       3    1  12.0      1      0  11.2417         0         1\n",
       "3     62       3    1  24.5      0      0   8.0500         1         0\n",
       "4     21       1    1  37.0      1      0  53.1000         1         0"
      ]
     },
     "execution_count": 4,
     "metadata": {},
     "output_type": "execute_result"
    }
   ],
   "source": [
    "df = pd.read_csv(datasource).sample(frac = 1).reset_index()\n",
    "df.head()"
   ]
  },
  {
   "cell_type": "code",
   "execution_count": 5,
   "metadata": {},
   "outputs": [
    {
     "data": {
      "text/html": [
       "<div>\n",
       "<style>\n",
       "    .dataframe thead tr:only-child th {\n",
       "        text-align: right;\n",
       "    }\n",
       "\n",
       "    .dataframe thead th {\n",
       "        text-align: left;\n",
       "    }\n",
       "\n",
       "    .dataframe tbody tr th {\n",
       "        vertical-align: top;\n",
       "    }\n",
       "</style>\n",
       "<table border=\"1\" class=\"dataframe\">\n",
       "  <thead>\n",
       "    <tr style=\"text-align: right;\">\n",
       "      <th></th>\n",
       "      <th>index</th>\n",
       "      <th>pclass</th>\n",
       "      <th>sex</th>\n",
       "      <th>age</th>\n",
       "      <th>sibsp</th>\n",
       "      <th>parch</th>\n",
       "      <th>fare</th>\n",
       "      <th>embarked</th>\n",
       "      <th>survived</th>\n",
       "    </tr>\n",
       "  </thead>\n",
       "  <tbody>\n",
       "    <tr>\n",
       "      <th>count</th>\n",
       "      <td>890.000000</td>\n",
       "      <td>890.000000</td>\n",
       "      <td>890.000000</td>\n",
       "      <td>890.000000</td>\n",
       "      <td>890.000000</td>\n",
       "      <td>890.000000</td>\n",
       "      <td>890.000000</td>\n",
       "      <td>890.000000</td>\n",
       "      <td>890.000000</td>\n",
       "    </tr>\n",
       "    <tr>\n",
       "      <th>mean</th>\n",
       "      <td>444.500000</td>\n",
       "      <td>2.312360</td>\n",
       "      <td>0.642697</td>\n",
       "      <td>29.548697</td>\n",
       "      <td>0.503371</td>\n",
       "      <td>0.351685</td>\n",
       "      <td>32.865772</td>\n",
       "      <td>0.895506</td>\n",
       "      <td>0.389888</td>\n",
       "    </tr>\n",
       "    <tr>\n",
       "      <th>std</th>\n",
       "      <td>257.065167</td>\n",
       "      <td>0.837241</td>\n",
       "      <td>0.479475</td>\n",
       "      <td>13.379025</td>\n",
       "      <td>1.095286</td>\n",
       "      <td>0.790069</td>\n",
       "      <td>52.639685</td>\n",
       "      <td>0.529535</td>\n",
       "      <td>0.487999</td>\n",
       "    </tr>\n",
       "    <tr>\n",
       "      <th>min</th>\n",
       "      <td>0.000000</td>\n",
       "      <td>1.000000</td>\n",
       "      <td>0.000000</td>\n",
       "      <td>0.170000</td>\n",
       "      <td>0.000000</td>\n",
       "      <td>0.000000</td>\n",
       "      <td>0.000000</td>\n",
       "      <td>0.000000</td>\n",
       "      <td>0.000000</td>\n",
       "    </tr>\n",
       "    <tr>\n",
       "      <th>25%</th>\n",
       "      <td>222.250000</td>\n",
       "      <td>2.000000</td>\n",
       "      <td>0.000000</td>\n",
       "      <td>21.000000</td>\n",
       "      <td>0.000000</td>\n",
       "      <td>0.000000</td>\n",
       "      <td>7.895800</td>\n",
       "      <td>1.000000</td>\n",
       "      <td>0.000000</td>\n",
       "    </tr>\n",
       "    <tr>\n",
       "      <th>50%</th>\n",
       "      <td>444.500000</td>\n",
       "      <td>3.000000</td>\n",
       "      <td>1.000000</td>\n",
       "      <td>28.000000</td>\n",
       "      <td>0.000000</td>\n",
       "      <td>0.000000</td>\n",
       "      <td>13.775000</td>\n",
       "      <td>1.000000</td>\n",
       "      <td>0.000000</td>\n",
       "    </tr>\n",
       "    <tr>\n",
       "      <th>75%</th>\n",
       "      <td>666.750000</td>\n",
       "      <td>3.000000</td>\n",
       "      <td>1.000000</td>\n",
       "      <td>37.000000</td>\n",
       "      <td>1.000000</td>\n",
       "      <td>0.000000</td>\n",
       "      <td>29.925000</td>\n",
       "      <td>1.000000</td>\n",
       "      <td>1.000000</td>\n",
       "    </tr>\n",
       "    <tr>\n",
       "      <th>max</th>\n",
       "      <td>889.000000</td>\n",
       "      <td>3.000000</td>\n",
       "      <td>1.000000</td>\n",
       "      <td>80.000000</td>\n",
       "      <td>8.000000</td>\n",
       "      <td>9.000000</td>\n",
       "      <td>512.329200</td>\n",
       "      <td>2.000000</td>\n",
       "      <td>1.000000</td>\n",
       "    </tr>\n",
       "  </tbody>\n",
       "</table>\n",
       "</div>"
      ],
      "text/plain": [
       "            index      pclass         sex         age       sibsp       parch  \\\n",
       "count  890.000000  890.000000  890.000000  890.000000  890.000000  890.000000   \n",
       "mean   444.500000    2.312360    0.642697   29.548697    0.503371    0.351685   \n",
       "std    257.065167    0.837241    0.479475   13.379025    1.095286    0.790069   \n",
       "min      0.000000    1.000000    0.000000    0.170000    0.000000    0.000000   \n",
       "25%    222.250000    2.000000    0.000000   21.000000    0.000000    0.000000   \n",
       "50%    444.500000    3.000000    1.000000   28.000000    0.000000    0.000000   \n",
       "75%    666.750000    3.000000    1.000000   37.000000    1.000000    0.000000   \n",
       "max    889.000000    3.000000    1.000000   80.000000    8.000000    9.000000   \n",
       "\n",
       "             fare    embarked    survived  \n",
       "count  890.000000  890.000000  890.000000  \n",
       "mean    32.865772    0.895506    0.389888  \n",
       "std     52.639685    0.529535    0.487999  \n",
       "min      0.000000    0.000000    0.000000  \n",
       "25%      7.895800    1.000000    0.000000  \n",
       "50%     13.775000    1.000000    0.000000  \n",
       "75%     29.925000    1.000000    1.000000  \n",
       "max    512.329200    2.000000    1.000000  "
      ]
     },
     "execution_count": 5,
     "metadata": {},
     "output_type": "execute_result"
    }
   ],
   "source": [
    "df.describe()"
   ]
  },
  {
   "cell_type": "code",
   "execution_count": 6,
   "metadata": {
    "collapsed": true
   },
   "outputs": [],
   "source": [
    "m = GaussianNB()"
   ]
  },
  {
   "cell_type": "code",
   "execution_count": 7,
   "metadata": {
    "collapsed": true
   },
   "outputs": [],
   "source": [
    "X = np.array(df.iloc[:, :-1]) # give me everything except for the last column (label)\n",
    "y = np.array(df[\"survived\"]) # just give me the label column (survived)"
   ]
  },
  {
   "cell_type": "code",
   "execution_count": 8,
   "metadata": {},
   "outputs": [
    {
     "data": {
      "text/plain": [
       "array([ 0.65217391,  0.86956522,  0.7173913 ,  0.71111111,  0.75555556,\n",
       "        0.82222222,  0.84444444,  0.75      ,  0.77272727,  0.79545455,\n",
       "        0.72727273,  0.81818182,  0.75      ,  0.79545455,  0.81818182,\n",
       "        0.75      ,  0.75      ,  0.86363636,  0.72727273,  0.72727273])"
      ]
     },
     "execution_count": 8,
     "metadata": {},
     "output_type": "execute_result"
    }
   ],
   "source": [
    "sklearn.model_selection.cross_val_score(m, X, y, cv = 20)"
   ]
  },
  {
   "cell_type": "markdown",
   "metadata": {},
   "source": [
    "Let's try this manually"
   ]
  },
  {
   "cell_type": "code",
   "execution_count": 11,
   "metadata": {
    "collapsed": true
   },
   "outputs": [],
   "source": [
    "def cross_val_score(model, X, y, cv):\n",
    "    X_folds = np.array_split(X, cv)\n",
    "    y_folds = np.array_split(y, cv)\n",
    "    \n",
    "    for i in range(cv):\n",
    "        X_train = np.concatenate([X_folds[j] for j in range(cv) if j != i])\n",
    "        X_test = X_folds[i]\n",
    "        \n",
    "        y_train = np.concatenate([y_folds[j] for j in range(cv) if j != i])\n",
    "        y_test = y_folds[i]\n",
    "        \n",
    "        model.fit(X_train, y_train)\n",
    "        yield model.score(X_test, y_test)"
   ]
  },
  {
   "cell_type": "code",
   "execution_count": 14,
   "metadata": {},
   "outputs": [
    {
     "name": "stdout",
     "output_type": "stream",
     "text": [
      "Score for CV # 0 is  0.666666666667\n",
      "Score for CV # 1 is  0.777777777778\n",
      "Score for CV # 2 is  0.8\n",
      "Score for CV # 3 is  0.755555555556\n",
      "Score for CV # 4 is  0.622222222222\n",
      "Score for CV # 5 is  0.822222222222\n",
      "Score for CV # 6 is  0.844444444444\n",
      "Score for CV # 7 is  0.755555555556\n",
      "Score for CV # 8 is  0.755555555556\n",
      "Score for CV # 9 is  0.844444444444\n",
      "Score for CV # 10 is  0.772727272727\n",
      "Score for CV # 11 is  0.772727272727\n",
      "Score for CV # 12 is  0.75\n",
      "Score for CV # 13 is  0.795454545455\n",
      "Score for CV # 14 is  0.840909090909\n",
      "Score for CV # 15 is  0.681818181818\n",
      "Score for CV # 16 is  0.863636363636\n",
      "Score for CV # 17 is  0.75\n",
      "Score for CV # 18 is  0.75\n",
      "Score for CV # 19 is  0.772727272727\n"
     ]
    }
   ],
   "source": [
    "for i, score in enumerate(cross_val_score(m, X, y, cv = 20)):\n",
    "    print(\"Score for CV #\", i, \"is \", score)"
   ]
  },
  {
   "cell_type": "code",
   "execution_count": null,
   "metadata": {
    "collapsed": true
   },
   "outputs": [],
   "source": []
  }
 ],
 "metadata": {
  "kernelspec": {
   "display_name": "Python 3",
   "language": "python",
   "name": "python3"
  },
  "language_info": {
   "codemirror_mode": {
    "name": "ipython",
    "version": 3
   },
   "file_extension": ".py",
   "mimetype": "text/x-python",
   "name": "python",
   "nbconvert_exporter": "python",
   "pygments_lexer": "ipython3",
   "version": "3.6.1"
  }
 },
 "nbformat": 4,
 "nbformat_minor": 2
}

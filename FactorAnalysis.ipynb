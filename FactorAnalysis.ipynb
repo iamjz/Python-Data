{
 "cells": [
  {
   "cell_type": "markdown",
   "metadata": {},
   "source": [
    "Factor Analysis (FA) is a linear factor model that not only assumes observables are linear combination of factors (or latent variables) plus noise, but they follow the Gaussian distribution as well. In addition, observed variables are assumed to be conditionally independent, given latent variables. \n",
    "\n",
    "* Fewer factors than original features in data space. \n",
    "* Different types of methods and solutions.\n",
    "* More elaborate framework than PCA"
   ]
  },
  {
   "cell_type": "code",
   "execution_count": 1,
   "metadata": {
    "collapsed": true
   },
   "outputs": [],
   "source": [
    "import matplotlib.pyplot as plt\n",
    "%matplotlib inline   hai jacki i lahve yew\n",
    "\n",
    "import os, sys\n",
    "import numpy as np\n",
    "import pandas as pd\n",
    "from sklearn.decomposition import FactorAnalysis\n",
    "from sklearn.preprocessing import scale"
   ]
  },
  {
   "cell_type": "code",
   "execution_count": 2,
   "metadata": {},
   "outputs": [
    {
     "name": "stdout",
     "output_type": "stream",
     "text": [
      "True\n"
     ]
    }
   ],
   "source": [
    "datasource = \"datasets/winequality-red.csv\"\n",
    "print(os.path.exists(datasource))"
   ]
  },
  {
   "cell_type": "code",
   "execution_count": 3,
   "metadata": {
    "collapsed": true
   },
   "outputs": [],
   "source": [
    "df = pd.read_csv(datasource).sample(frac = 1).reset_index(drop = True)"
   ]
  },
  {
   "cell_type": "code",
   "execution_count": 4,
   "metadata": {},
   "outputs": [
    {
     "data": {
      "text/html": [
       "<div>\n",
       "<style>\n",
       "    .dataframe thead tr:only-child th {\n",
       "        text-align: right;\n",
       "    }\n",
       "\n",
       "    .dataframe thead th {\n",
       "        text-align: left;\n",
       "    }\n",
       "\n",
       "    .dataframe tbody tr th {\n",
       "        vertical-align: top;\n",
       "    }\n",
       "</style>\n",
       "<table border=\"1\" class=\"dataframe\">\n",
       "  <thead>\n",
       "    <tr style=\"text-align: right;\">\n",
       "      <th></th>\n",
       "      <th>Unnamed: 0</th>\n",
       "      <th>fixed acidity</th>\n",
       "      <th>volatile acidity</th>\n",
       "      <th>citric acid</th>\n",
       "      <th>residual sugar</th>\n",
       "      <th>chlorides</th>\n",
       "      <th>free sulfur dioxide</th>\n",
       "      <th>total sulfur dioxide</th>\n",
       "      <th>density</th>\n",
       "      <th>pH</th>\n",
       "      <th>sulphates</th>\n",
       "      <th>alcohol</th>\n",
       "      <th>quality</th>\n",
       "    </tr>\n",
       "  </thead>\n",
       "  <tbody>\n",
       "    <tr>\n",
       "      <th>0</th>\n",
       "      <td>1180</td>\n",
       "      <td>6.8</td>\n",
       "      <td>0.65</td>\n",
       "      <td>0.02</td>\n",
       "      <td>2.1</td>\n",
       "      <td>0.078</td>\n",
       "      <td>8.0</td>\n",
       "      <td>15.0</td>\n",
       "      <td>0.99498</td>\n",
       "      <td>3.35</td>\n",
       "      <td>0.62</td>\n",
       "      <td>10.4</td>\n",
       "      <td>6</td>\n",
       "    </tr>\n",
       "    <tr>\n",
       "      <th>1</th>\n",
       "      <td>430</td>\n",
       "      <td>9.6</td>\n",
       "      <td>0.77</td>\n",
       "      <td>0.12</td>\n",
       "      <td>2.9</td>\n",
       "      <td>0.082</td>\n",
       "      <td>30.0</td>\n",
       "      <td>74.0</td>\n",
       "      <td>0.99865</td>\n",
       "      <td>3.30</td>\n",
       "      <td>0.64</td>\n",
       "      <td>10.4</td>\n",
       "      <td>6</td>\n",
       "    </tr>\n",
       "    <tr>\n",
       "      <th>2</th>\n",
       "      <td>113</td>\n",
       "      <td>7.0</td>\n",
       "      <td>0.60</td>\n",
       "      <td>0.30</td>\n",
       "      <td>4.5</td>\n",
       "      <td>0.068</td>\n",
       "      <td>20.0</td>\n",
       "      <td>110.0</td>\n",
       "      <td>0.99914</td>\n",
       "      <td>3.30</td>\n",
       "      <td>1.17</td>\n",
       "      <td>10.2</td>\n",
       "      <td>5</td>\n",
       "    </tr>\n",
       "    <tr>\n",
       "      <th>3</th>\n",
       "      <td>256</td>\n",
       "      <td>7.1</td>\n",
       "      <td>0.53</td>\n",
       "      <td>0.07</td>\n",
       "      <td>1.7</td>\n",
       "      <td>0.071</td>\n",
       "      <td>15.0</td>\n",
       "      <td>24.0</td>\n",
       "      <td>0.99510</td>\n",
       "      <td>3.29</td>\n",
       "      <td>0.66</td>\n",
       "      <td>10.8</td>\n",
       "      <td>6</td>\n",
       "    </tr>\n",
       "    <tr>\n",
       "      <th>4</th>\n",
       "      <td>1211</td>\n",
       "      <td>13.3</td>\n",
       "      <td>0.43</td>\n",
       "      <td>0.58</td>\n",
       "      <td>1.9</td>\n",
       "      <td>0.070</td>\n",
       "      <td>15.0</td>\n",
       "      <td>40.0</td>\n",
       "      <td>1.00040</td>\n",
       "      <td>3.06</td>\n",
       "      <td>0.49</td>\n",
       "      <td>9.0</td>\n",
       "      <td>5</td>\n",
       "    </tr>\n",
       "  </tbody>\n",
       "</table>\n",
       "</div>"
      ],
      "text/plain": [
       "   Unnamed: 0  fixed acidity  volatile acidity  citric acid  residual sugar  \\\n",
       "0        1180            6.8              0.65         0.02             2.1   \n",
       "1         430            9.6              0.77         0.12             2.9   \n",
       "2         113            7.0              0.60         0.30             4.5   \n",
       "3         256            7.1              0.53         0.07             1.7   \n",
       "4        1211           13.3              0.43         0.58             1.9   \n",
       "\n",
       "   chlorides  free sulfur dioxide  total sulfur dioxide  density    pH  \\\n",
       "0      0.078                  8.0                  15.0  0.99498  3.35   \n",
       "1      0.082                 30.0                  74.0  0.99865  3.30   \n",
       "2      0.068                 20.0                 110.0  0.99914  3.30   \n",
       "3      0.071                 15.0                  24.0  0.99510  3.29   \n",
       "4      0.070                 15.0                  40.0  1.00040  3.06   \n",
       "\n",
       "   sulphates  alcohol  quality  \n",
       "0       0.62     10.4        6  \n",
       "1       0.64     10.4        6  \n",
       "2       1.17     10.2        5  \n",
       "3       0.66     10.8        6  \n",
       "4       0.49      9.0        5  "
      ]
     },
     "execution_count": 4,
     "metadata": {},
     "output_type": "execute_result"
    }
   ],
   "source": [
    "df.head()"
   ]
  },
  {
   "cell_type": "code",
   "execution_count": 5,
   "metadata": {
    "collapsed": true
   },
   "outputs": [],
   "source": [
    "del df[\"Unnamed: 0\"]"
   ]
  },
  {
   "cell_type": "code",
   "execution_count": 6,
   "metadata": {},
   "outputs": [
    {
     "data": {
      "text/html": [
       "<div>\n",
       "<style>\n",
       "    .dataframe thead tr:only-child th {\n",
       "        text-align: right;\n",
       "    }\n",
       "\n",
       "    .dataframe thead th {\n",
       "        text-align: left;\n",
       "    }\n",
       "\n",
       "    .dataframe tbody tr th {\n",
       "        vertical-align: top;\n",
       "    }\n",
       "</style>\n",
       "<table border=\"1\" class=\"dataframe\">\n",
       "  <thead>\n",
       "    <tr style=\"text-align: right;\">\n",
       "      <th></th>\n",
       "      <th>fixed acidity</th>\n",
       "      <th>volatile acidity</th>\n",
       "      <th>citric acid</th>\n",
       "      <th>residual sugar</th>\n",
       "      <th>chlorides</th>\n",
       "      <th>free sulfur dioxide</th>\n",
       "      <th>total sulfur dioxide</th>\n",
       "      <th>density</th>\n",
       "      <th>pH</th>\n",
       "      <th>sulphates</th>\n",
       "      <th>alcohol</th>\n",
       "      <th>quality</th>\n",
       "    </tr>\n",
       "  </thead>\n",
       "  <tbody>\n",
       "    <tr>\n",
       "      <th>0</th>\n",
       "      <td>6.8</td>\n",
       "      <td>0.65</td>\n",
       "      <td>0.02</td>\n",
       "      <td>2.1</td>\n",
       "      <td>0.078</td>\n",
       "      <td>8.0</td>\n",
       "      <td>15.0</td>\n",
       "      <td>0.99498</td>\n",
       "      <td>3.35</td>\n",
       "      <td>0.62</td>\n",
       "      <td>10.4</td>\n",
       "      <td>6</td>\n",
       "    </tr>\n",
       "    <tr>\n",
       "      <th>1</th>\n",
       "      <td>9.6</td>\n",
       "      <td>0.77</td>\n",
       "      <td>0.12</td>\n",
       "      <td>2.9</td>\n",
       "      <td>0.082</td>\n",
       "      <td>30.0</td>\n",
       "      <td>74.0</td>\n",
       "      <td>0.99865</td>\n",
       "      <td>3.30</td>\n",
       "      <td>0.64</td>\n",
       "      <td>10.4</td>\n",
       "      <td>6</td>\n",
       "    </tr>\n",
       "    <tr>\n",
       "      <th>2</th>\n",
       "      <td>7.0</td>\n",
       "      <td>0.60</td>\n",
       "      <td>0.30</td>\n",
       "      <td>4.5</td>\n",
       "      <td>0.068</td>\n",
       "      <td>20.0</td>\n",
       "      <td>110.0</td>\n",
       "      <td>0.99914</td>\n",
       "      <td>3.30</td>\n",
       "      <td>1.17</td>\n",
       "      <td>10.2</td>\n",
       "      <td>5</td>\n",
       "    </tr>\n",
       "    <tr>\n",
       "      <th>3</th>\n",
       "      <td>7.1</td>\n",
       "      <td>0.53</td>\n",
       "      <td>0.07</td>\n",
       "      <td>1.7</td>\n",
       "      <td>0.071</td>\n",
       "      <td>15.0</td>\n",
       "      <td>24.0</td>\n",
       "      <td>0.99510</td>\n",
       "      <td>3.29</td>\n",
       "      <td>0.66</td>\n",
       "      <td>10.8</td>\n",
       "      <td>6</td>\n",
       "    </tr>\n",
       "    <tr>\n",
       "      <th>4</th>\n",
       "      <td>13.3</td>\n",
       "      <td>0.43</td>\n",
       "      <td>0.58</td>\n",
       "      <td>1.9</td>\n",
       "      <td>0.070</td>\n",
       "      <td>15.0</td>\n",
       "      <td>40.0</td>\n",
       "      <td>1.00040</td>\n",
       "      <td>3.06</td>\n",
       "      <td>0.49</td>\n",
       "      <td>9.0</td>\n",
       "      <td>5</td>\n",
       "    </tr>\n",
       "  </tbody>\n",
       "</table>\n",
       "</div>"
      ],
      "text/plain": [
       "   fixed acidity  volatile acidity  citric acid  residual sugar  chlorides  \\\n",
       "0            6.8              0.65         0.02             2.1      0.078   \n",
       "1            9.6              0.77         0.12             2.9      0.082   \n",
       "2            7.0              0.60         0.30             4.5      0.068   \n",
       "3            7.1              0.53         0.07             1.7      0.071   \n",
       "4           13.3              0.43         0.58             1.9      0.070   \n",
       "\n",
       "   free sulfur dioxide  total sulfur dioxide  density    pH  sulphates  \\\n",
       "0                  8.0                  15.0  0.99498  3.35       0.62   \n",
       "1                 30.0                  74.0  0.99865  3.30       0.64   \n",
       "2                 20.0                 110.0  0.99914  3.30       1.17   \n",
       "3                 15.0                  24.0  0.99510  3.29       0.66   \n",
       "4                 15.0                  40.0  1.00040  3.06       0.49   \n",
       "\n",
       "   alcohol  quality  \n",
       "0     10.4        6  \n",
       "1     10.4        6  \n",
       "2     10.2        5  \n",
       "3     10.8        6  \n",
       "4      9.0        5  "
      ]
     },
     "execution_count": 6,
     "metadata": {},
     "output_type": "execute_result"
    }
   ],
   "source": [
    "df.head()"
   ]
  },
  {
   "cell_type": "code",
   "execution_count": 7,
   "metadata": {
    "collapsed": true
   },
   "outputs": [],
   "source": [
    "X = np.array(df.iloc[:, :-1])"
   ]
  },
  {
   "cell_type": "code",
   "execution_count": 8,
   "metadata": {
    "collapsed": true
   },
   "outputs": [],
   "source": [
    "y = np.array(df[\"quality\"])"
   ]
  },
  {
   "cell_type": "code",
   "execution_count": 9,
   "metadata": {},
   "outputs": [
    {
     "data": {
      "text/html": [
       "<div>\n",
       "<style>\n",
       "    .dataframe thead tr:only-child th {\n",
       "        text-align: right;\n",
       "    }\n",
       "\n",
       "    .dataframe thead th {\n",
       "        text-align: left;\n",
       "    }\n",
       "\n",
       "    .dataframe tbody tr th {\n",
       "        vertical-align: top;\n",
       "    }\n",
       "</style>\n",
       "<table border=\"1\" class=\"dataframe\">\n",
       "  <thead>\n",
       "    <tr style=\"text-align: right;\">\n",
       "      <th></th>\n",
       "      <th>fixed acidity</th>\n",
       "      <th>volatile acidity</th>\n",
       "      <th>citric acid</th>\n",
       "      <th>residual sugar</th>\n",
       "      <th>chlorides</th>\n",
       "      <th>free sulfur dioxide</th>\n",
       "      <th>total sulfur dioxide</th>\n",
       "      <th>density</th>\n",
       "      <th>pH</th>\n",
       "      <th>sulphates</th>\n",
       "      <th>alcohol</th>\n",
       "      <th>quality</th>\n",
       "    </tr>\n",
       "  </thead>\n",
       "  <tbody>\n",
       "    <tr>\n",
       "      <th>count</th>\n",
       "      <td>1599.000000</td>\n",
       "      <td>1599.000000</td>\n",
       "      <td>1599.000000</td>\n",
       "      <td>1599.000000</td>\n",
       "      <td>1599.000000</td>\n",
       "      <td>1599.000000</td>\n",
       "      <td>1599.000000</td>\n",
       "      <td>1599.000000</td>\n",
       "      <td>1599.000000</td>\n",
       "      <td>1599.000000</td>\n",
       "      <td>1599.000000</td>\n",
       "      <td>1599.000000</td>\n",
       "    </tr>\n",
       "    <tr>\n",
       "      <th>mean</th>\n",
       "      <td>8.319637</td>\n",
       "      <td>0.527821</td>\n",
       "      <td>0.270976</td>\n",
       "      <td>2.538806</td>\n",
       "      <td>0.087467</td>\n",
       "      <td>15.874922</td>\n",
       "      <td>46.467792</td>\n",
       "      <td>0.996747</td>\n",
       "      <td>3.311113</td>\n",
       "      <td>0.658149</td>\n",
       "      <td>10.422983</td>\n",
       "      <td>5.636023</td>\n",
       "    </tr>\n",
       "    <tr>\n",
       "      <th>std</th>\n",
       "      <td>1.741096</td>\n",
       "      <td>0.179060</td>\n",
       "      <td>0.194801</td>\n",
       "      <td>1.409928</td>\n",
       "      <td>0.047065</td>\n",
       "      <td>10.460157</td>\n",
       "      <td>32.895324</td>\n",
       "      <td>0.001887</td>\n",
       "      <td>0.154386</td>\n",
       "      <td>0.169507</td>\n",
       "      <td>1.065668</td>\n",
       "      <td>0.807569</td>\n",
       "    </tr>\n",
       "    <tr>\n",
       "      <th>min</th>\n",
       "      <td>4.600000</td>\n",
       "      <td>0.120000</td>\n",
       "      <td>0.000000</td>\n",
       "      <td>0.900000</td>\n",
       "      <td>0.012000</td>\n",
       "      <td>1.000000</td>\n",
       "      <td>6.000000</td>\n",
       "      <td>0.990070</td>\n",
       "      <td>2.740000</td>\n",
       "      <td>0.330000</td>\n",
       "      <td>8.400000</td>\n",
       "      <td>3.000000</td>\n",
       "    </tr>\n",
       "    <tr>\n",
       "      <th>25%</th>\n",
       "      <td>7.100000</td>\n",
       "      <td>0.390000</td>\n",
       "      <td>0.090000</td>\n",
       "      <td>1.900000</td>\n",
       "      <td>0.070000</td>\n",
       "      <td>7.000000</td>\n",
       "      <td>22.000000</td>\n",
       "      <td>0.995600</td>\n",
       "      <td>3.210000</td>\n",
       "      <td>0.550000</td>\n",
       "      <td>9.500000</td>\n",
       "      <td>5.000000</td>\n",
       "    </tr>\n",
       "    <tr>\n",
       "      <th>50%</th>\n",
       "      <td>7.900000</td>\n",
       "      <td>0.520000</td>\n",
       "      <td>0.260000</td>\n",
       "      <td>2.200000</td>\n",
       "      <td>0.079000</td>\n",
       "      <td>14.000000</td>\n",
       "      <td>38.000000</td>\n",
       "      <td>0.996750</td>\n",
       "      <td>3.310000</td>\n",
       "      <td>0.620000</td>\n",
       "      <td>10.200000</td>\n",
       "      <td>6.000000</td>\n",
       "    </tr>\n",
       "    <tr>\n",
       "      <th>75%</th>\n",
       "      <td>9.200000</td>\n",
       "      <td>0.640000</td>\n",
       "      <td>0.420000</td>\n",
       "      <td>2.600000</td>\n",
       "      <td>0.090000</td>\n",
       "      <td>21.000000</td>\n",
       "      <td>62.000000</td>\n",
       "      <td>0.997835</td>\n",
       "      <td>3.400000</td>\n",
       "      <td>0.730000</td>\n",
       "      <td>11.100000</td>\n",
       "      <td>6.000000</td>\n",
       "    </tr>\n",
       "    <tr>\n",
       "      <th>max</th>\n",
       "      <td>15.900000</td>\n",
       "      <td>1.580000</td>\n",
       "      <td>1.000000</td>\n",
       "      <td>15.500000</td>\n",
       "      <td>0.611000</td>\n",
       "      <td>72.000000</td>\n",
       "      <td>289.000000</td>\n",
       "      <td>1.003690</td>\n",
       "      <td>4.010000</td>\n",
       "      <td>2.000000</td>\n",
       "      <td>14.900000</td>\n",
       "      <td>8.000000</td>\n",
       "    </tr>\n",
       "  </tbody>\n",
       "</table>\n",
       "</div>"
      ],
      "text/plain": [
       "       fixed acidity  volatile acidity  citric acid  residual sugar  \\\n",
       "count    1599.000000       1599.000000  1599.000000     1599.000000   \n",
       "mean        8.319637          0.527821     0.270976        2.538806   \n",
       "std         1.741096          0.179060     0.194801        1.409928   \n",
       "min         4.600000          0.120000     0.000000        0.900000   \n",
       "25%         7.100000          0.390000     0.090000        1.900000   \n",
       "50%         7.900000          0.520000     0.260000        2.200000   \n",
       "75%         9.200000          0.640000     0.420000        2.600000   \n",
       "max        15.900000          1.580000     1.000000       15.500000   \n",
       "\n",
       "         chlorides  free sulfur dioxide  total sulfur dioxide      density  \\\n",
       "count  1599.000000          1599.000000           1599.000000  1599.000000   \n",
       "mean      0.087467            15.874922             46.467792     0.996747   \n",
       "std       0.047065            10.460157             32.895324     0.001887   \n",
       "min       0.012000             1.000000              6.000000     0.990070   \n",
       "25%       0.070000             7.000000             22.000000     0.995600   \n",
       "50%       0.079000            14.000000             38.000000     0.996750   \n",
       "75%       0.090000            21.000000             62.000000     0.997835   \n",
       "max       0.611000            72.000000            289.000000     1.003690   \n",
       "\n",
       "                pH    sulphates      alcohol      quality  \n",
       "count  1599.000000  1599.000000  1599.000000  1599.000000  \n",
       "mean      3.311113     0.658149    10.422983     5.636023  \n",
       "std       0.154386     0.169507     1.065668     0.807569  \n",
       "min       2.740000     0.330000     8.400000     3.000000  \n",
       "25%       3.210000     0.550000     9.500000     5.000000  \n",
       "50%       3.310000     0.620000    10.200000     6.000000  \n",
       "75%       3.400000     0.730000    11.100000     6.000000  \n",
       "max       4.010000     2.000000    14.900000     8.000000  "
      ]
     },
     "execution_count": 9,
     "metadata": {},
     "output_type": "execute_result"
    }
   ],
   "source": [
    "df.describe()"
   ]
  },
  {
   "cell_type": "markdown",
   "metadata": {},
   "source": [
    "## Factor Analysis with sklearn"
   ]
  },
  {
   "cell_type": "code",
   "execution_count": 10,
   "metadata": {
    "collapsed": true
   },
   "outputs": [],
   "source": [
    "fa = FactorAnalysis(n_components = 5)"
   ]
  },
  {
   "cell_type": "code",
   "execution_count": 11,
   "metadata": {
    "collapsed": true
   },
   "outputs": [],
   "source": [
    "X_features = fa.fit_transform(X)"
   ]
  },
  {
   "cell_type": "code",
   "execution_count": 12,
   "metadata": {},
   "outputs": [
    {
     "name": "stdout",
     "output_type": "stream",
     "text": [
      "Features shape \n",
      " (1599, 5)\n"
     ]
    }
   ],
   "source": [
    "print(\"Features shape \\n\", X_features.shape)"
   ]
  },
  {
   "cell_type": "markdown",
   "metadata": {},
   "source": [
    "## Estimation of the factor model\n",
    "Factor analysis essentially proposes the following to explain the structure of the observables. Obervables are linear combinations of latent variables plus noise. "
   ]
  },
  {
   "cell_type": "markdown",
   "metadata": {},
   "source": [
    "### Factor loadings\n",
    "The factor loadings is the matrix. L would take latent variables and transform them to observables X minus its mean and noise. "
   ]
  },
  {
   "cell_type": "code",
   "execution_count": 13,
   "metadata": {},
   "outputs": [
    {
     "data": {
      "text/html": [
       "<div>\n",
       "<style>\n",
       "    .dataframe thead tr:only-child th {\n",
       "        text-align: right;\n",
       "    }\n",
       "\n",
       "    .dataframe thead th {\n",
       "        text-align: left;\n",
       "    }\n",
       "\n",
       "    .dataframe tbody tr th {\n",
       "        vertical-align: top;\n",
       "    }\n",
       "</style>\n",
       "<table border=\"1\" class=\"dataframe\">\n",
       "  <thead>\n",
       "    <tr style=\"text-align: right;\">\n",
       "      <th></th>\n",
       "      <th>Factor 1</th>\n",
       "      <th>Factor 2</th>\n",
       "      <th>Factor 3</th>\n",
       "      <th>Factor 4</th>\n",
       "      <th>Factor 5</th>\n",
       "    </tr>\n",
       "  </thead>\n",
       "  <tbody>\n",
       "    <tr>\n",
       "      <th>fixed acidity</th>\n",
       "      <td>-0.161692</td>\n",
       "      <td>-1.145026</td>\n",
       "      <td>0.525767</td>\n",
       "      <td>0.412258</td>\n",
       "      <td>0.964023</td>\n",
       "    </tr>\n",
       "    <tr>\n",
       "      <th>volatile acidity</th>\n",
       "      <td>0.013626</td>\n",
       "      <td>-0.005764</td>\n",
       "      <td>-0.041384</td>\n",
       "      <td>-0.011233</td>\n",
       "      <td>-0.072485</td>\n",
       "    </tr>\n",
       "    <tr>\n",
       "      <th>citric acid</th>\n",
       "      <td>0.007791</td>\n",
       "      <td>-0.065046</td>\n",
       "      <td>0.057872</td>\n",
       "      <td>0.058579</td>\n",
       "      <td>0.108214</td>\n",
       "    </tr>\n",
       "    <tr>\n",
       "      <th>residual sugar</th>\n",
       "      <td>0.306013</td>\n",
       "      <td>-0.417179</td>\n",
       "      <td>0.445379</td>\n",
       "      <td>0.131728</td>\n",
       "      <td>-0.280869</td>\n",
       "    </tr>\n",
       "    <tr>\n",
       "      <th>chlorides</th>\n",
       "      <td>0.002664</td>\n",
       "      <td>-0.009901</td>\n",
       "      <td>-0.004634</td>\n",
       "      <td>-0.002355</td>\n",
       "      <td>0.006367</td>\n",
       "    </tr>\n",
       "    <tr>\n",
       "      <th>free sulfur dioxide</th>\n",
       "      <td>7.338024</td>\n",
       "      <td>1.253900</td>\n",
       "      <td>4.149618</td>\n",
       "      <td>-5.979583</td>\n",
       "      <td>0.106642</td>\n",
       "    </tr>\n",
       "    <tr>\n",
       "      <th>total sulfur dioxide</th>\n",
       "      <td>32.795243</td>\n",
       "      <td>1.303346</td>\n",
       "      <td>-0.671834</td>\n",
       "      <td>1.656218</td>\n",
       "      <td>-0.013853</td>\n",
       "    </tr>\n",
       "    <tr>\n",
       "      <th>density</th>\n",
       "      <td>0.000209</td>\n",
       "      <td>-0.001862</td>\n",
       "      <td>0.000187</td>\n",
       "      <td>0.000068</td>\n",
       "      <td>-0.000032</td>\n",
       "    </tr>\n",
       "    <tr>\n",
       "      <th>pH</th>\n",
       "      <td>-0.011372</td>\n",
       "      <td>0.054082</td>\n",
       "      <td>0.005221</td>\n",
       "      <td>-0.020063</td>\n",
       "      <td>-0.117808</td>\n",
       "    </tr>\n",
       "    <tr>\n",
       "      <th>sulphates</th>\n",
       "      <td>0.008098</td>\n",
       "      <td>-0.020796</td>\n",
       "      <td>0.035236</td>\n",
       "      <td>0.015193</td>\n",
       "      <td>0.026729</td>\n",
       "    </tr>\n",
       "    <tr>\n",
       "      <th>alcohol</th>\n",
       "      <td>-0.251029</td>\n",
       "      <td>0.595888</td>\n",
       "      <td>0.713490</td>\n",
       "      <td>0.440771</td>\n",
       "      <td>-0.031926</td>\n",
       "    </tr>\n",
       "  </tbody>\n",
       "</table>\n",
       "</div>"
      ],
      "text/plain": [
       "                       Factor 1  Factor 2  Factor 3  Factor 4  Factor 5\n",
       "fixed acidity         -0.161692 -1.145026  0.525767  0.412258  0.964023\n",
       "volatile acidity       0.013626 -0.005764 -0.041384 -0.011233 -0.072485\n",
       "citric acid            0.007791 -0.065046  0.057872  0.058579  0.108214\n",
       "residual sugar         0.306013 -0.417179  0.445379  0.131728 -0.280869\n",
       "chlorides              0.002664 -0.009901 -0.004634 -0.002355  0.006367\n",
       "free sulfur dioxide    7.338024  1.253900  4.149618 -5.979583  0.106642\n",
       "total sulfur dioxide  32.795243  1.303346 -0.671834  1.656218 -0.013853\n",
       "density                0.000209 -0.001862  0.000187  0.000068 -0.000032\n",
       "pH                    -0.011372  0.054082  0.005221 -0.020063 -0.117808\n",
       "sulphates              0.008098 -0.020796  0.035236  0.015193  0.026729\n",
       "alcohol               -0.251029  0.595888  0.713490  0.440771 -0.031926"
      ]
     },
     "execution_count": 13,
     "metadata": {},
     "output_type": "execute_result"
    }
   ],
   "source": [
    "def FactorLoadings(components, n_components = 5):\n",
    "    \"\"\"This function puts a frame on the loadings matrix for pretty printing\"\"\"\n",
    "    return pd.DataFrame(components.T, \n",
    "                       columns = ['Factor {}'.format(i + 1) for i in range(n_components)],\n",
    "                       index = df.columns[: -1])\n",
    "\n",
    "FactorLoadings(fa.components_)"
   ]
  },
  {
   "cell_type": "code",
   "execution_count": 14,
   "metadata": {},
   "outputs": [
    {
     "data": {
      "text/plain": [
       "array([  3.16564061e-01,   2.47304841e-02,   1.51411722e-02,\n",
       "         1.42437402e+00,   2.04105829e-03,   9.41611024e-01,\n",
       "         1.00434986e+00,   9.56654549e-09,   6.45761177e-03,\n",
       "         2.60298530e-02,   1.25044888e-02])"
      ]
     },
     "execution_count": 14,
     "metadata": {},
     "output_type": "execute_result"
    }
   ],
   "source": [
    "fa.noise_variance_\n",
    "# diagonal matrix representing the variances of noise in the model with the following elements on the diagonal"
   ]
  },
  {
   "cell_type": "markdown",
   "metadata": {},
   "source": [
    "## Reconstruction of data space\n",
    "The factor analysis models the observables X as linear combination of factors plus noise. Therefore, it should be interesting to reconstruct data space with some solution appropriate for the formulation of factor analysis. "
   ]
  },
  {
   "cell_type": "code",
   "execution_count": 15,
   "metadata": {},
   "outputs": [
    {
     "name": "stdout",
     "output_type": "stream",
     "text": [
      "Factors shapes: (5, 11)\n",
      "Reconstructed dataset shape (1599, 11)\n"
     ]
    }
   ],
   "source": [
    "print(\"Factors shapes:\", fa.components_.shape)\n",
    "noise = np.random.multivariate_normal(np.mean(X, axis = 0), np.diag(fa.noise_variance_), X.shape[0])\n",
    "X_reconstructed = np.dot(X_features, fa.components_) + noise\n",
    "print(\"Reconstructed dataset shape\", X_reconstructed.shape)"
   ]
  },
  {
   "cell_type": "code",
   "execution_count": 16,
   "metadata": {},
   "outputs": [
    {
     "data": {
      "text/html": [
       "<div>\n",
       "<style>\n",
       "    .dataframe thead tr:only-child th {\n",
       "        text-align: right;\n",
       "    }\n",
       "\n",
       "    .dataframe thead th {\n",
       "        text-align: left;\n",
       "    }\n",
       "\n",
       "    .dataframe tbody tr th {\n",
       "        vertical-align: top;\n",
       "    }\n",
       "</style>\n",
       "<table border=\"1\" class=\"dataframe\">\n",
       "  <thead>\n",
       "    <tr style=\"text-align: right;\">\n",
       "      <th></th>\n",
       "      <th>fixed acidity</th>\n",
       "      <th>volatile acidity</th>\n",
       "      <th>citric acid</th>\n",
       "      <th>residual sugar</th>\n",
       "      <th>chlorides</th>\n",
       "      <th>free sulfur dioxide</th>\n",
       "      <th>total sulfur dioxide</th>\n",
       "      <th>density</th>\n",
       "      <th>pH</th>\n",
       "      <th>sulphates</th>\n",
       "      <th>alcohol</th>\n",
       "    </tr>\n",
       "  </thead>\n",
       "  <tbody>\n",
       "    <tr>\n",
       "      <th>0</th>\n",
       "      <td>6.789571</td>\n",
       "      <td>0.786453</td>\n",
       "      <td>-0.056854</td>\n",
       "      <td>-0.275442</td>\n",
       "      <td>0.110821</td>\n",
       "      <td>9.304135</td>\n",
       "      <td>15.727361</td>\n",
       "      <td>0.994931</td>\n",
       "      <td>3.609026</td>\n",
       "      <td>0.435462</td>\n",
       "      <td>10.361170</td>\n",
       "    </tr>\n",
       "    <tr>\n",
       "      <th>1</th>\n",
       "      <td>8.750185</td>\n",
       "      <td>0.537150</td>\n",
       "      <td>0.378438</td>\n",
       "      <td>3.858834</td>\n",
       "      <td>0.120154</td>\n",
       "      <td>31.800369</td>\n",
       "      <td>74.171957</td>\n",
       "      <td>0.998665</td>\n",
       "      <td>3.250620</td>\n",
       "      <td>0.442363</td>\n",
       "      <td>10.334868</td>\n",
       "    </tr>\n",
       "    <tr>\n",
       "      <th>2</th>\n",
       "      <td>8.982969</td>\n",
       "      <td>0.456116</td>\n",
       "      <td>0.008272</td>\n",
       "      <td>3.750259</td>\n",
       "      <td>0.069445</td>\n",
       "      <td>19.405274</td>\n",
       "      <td>110.190284</td>\n",
       "      <td>0.999104</td>\n",
       "      <td>3.362300</td>\n",
       "      <td>0.665820</td>\n",
       "      <td>10.005048</td>\n",
       "    </tr>\n",
       "    <tr>\n",
       "      <th>3</th>\n",
       "      <td>7.388021</td>\n",
       "      <td>0.536705</td>\n",
       "      <td>0.079907</td>\n",
       "      <td>2.438473</td>\n",
       "      <td>0.112574</td>\n",
       "      <td>15.454174</td>\n",
       "      <td>23.810526</td>\n",
       "      <td>0.995145</td>\n",
       "      <td>3.231831</td>\n",
       "      <td>0.662316</td>\n",
       "      <td>10.770410</td>\n",
       "    </tr>\n",
       "    <tr>\n",
       "      <th>4</th>\n",
       "      <td>13.514382</td>\n",
       "      <td>0.232175</td>\n",
       "      <td>0.531212</td>\n",
       "      <td>2.817416</td>\n",
       "      <td>0.167603</td>\n",
       "      <td>14.903087</td>\n",
       "      <td>37.991964</td>\n",
       "      <td>1.000525</td>\n",
       "      <td>3.071682</td>\n",
       "      <td>0.675061</td>\n",
       "      <td>8.858514</td>\n",
       "    </tr>\n",
       "  </tbody>\n",
       "</table>\n",
       "</div>"
      ],
      "text/plain": [
       "   fixed acidity  volatile acidity  citric acid  residual sugar  chlorides  \\\n",
       "0       6.789571          0.786453    -0.056854       -0.275442   0.110821   \n",
       "1       8.750185          0.537150     0.378438        3.858834   0.120154   \n",
       "2       8.982969          0.456116     0.008272        3.750259   0.069445   \n",
       "3       7.388021          0.536705     0.079907        2.438473   0.112574   \n",
       "4      13.514382          0.232175     0.531212        2.817416   0.167603   \n",
       "\n",
       "   free sulfur dioxide  total sulfur dioxide   density        pH  sulphates  \\\n",
       "0             9.304135             15.727361  0.994931  3.609026   0.435462   \n",
       "1            31.800369             74.171957  0.998665  3.250620   0.442363   \n",
       "2            19.405274            110.190284  0.999104  3.362300   0.665820   \n",
       "3            15.454174             23.810526  0.995145  3.231831   0.662316   \n",
       "4            14.903087             37.991964  1.000525  3.071682   0.675061   \n",
       "\n",
       "     alcohol  \n",
       "0  10.361170  \n",
       "1  10.334868  \n",
       "2  10.005048  \n",
       "3  10.770410  \n",
       "4   8.858514  "
      ]
     },
     "execution_count": 16,
     "metadata": {},
     "output_type": "execute_result"
    }
   ],
   "source": [
    "# reconstructed dataset is an approximation of the original dataset\n",
    "pd.DataFrame(X_reconstructed, columns = df.columns[:-1])[:5]"
   ]
  },
  {
   "cell_type": "code",
   "execution_count": 17,
   "metadata": {},
   "outputs": [
    {
     "data": {
      "text/html": [
       "<div>\n",
       "<style>\n",
       "    .dataframe thead tr:only-child th {\n",
       "        text-align: right;\n",
       "    }\n",
       "\n",
       "    .dataframe thead th {\n",
       "        text-align: left;\n",
       "    }\n",
       "\n",
       "    .dataframe tbody tr th {\n",
       "        vertical-align: top;\n",
       "    }\n",
       "</style>\n",
       "<table border=\"1\" class=\"dataframe\">\n",
       "  <thead>\n",
       "    <tr style=\"text-align: right;\">\n",
       "      <th></th>\n",
       "      <th>fixed acidity</th>\n",
       "      <th>volatile acidity</th>\n",
       "      <th>citric acid</th>\n",
       "      <th>residual sugar</th>\n",
       "      <th>chlorides</th>\n",
       "      <th>free sulfur dioxide</th>\n",
       "      <th>total sulfur dioxide</th>\n",
       "      <th>density</th>\n",
       "      <th>pH</th>\n",
       "      <th>sulphates</th>\n",
       "      <th>alcohol</th>\n",
       "    </tr>\n",
       "  </thead>\n",
       "  <tbody>\n",
       "    <tr>\n",
       "      <th>0</th>\n",
       "      <td>6.8</td>\n",
       "      <td>0.65</td>\n",
       "      <td>0.02</td>\n",
       "      <td>2.1</td>\n",
       "      <td>0.078</td>\n",
       "      <td>8.0</td>\n",
       "      <td>15.0</td>\n",
       "      <td>0.99498</td>\n",
       "      <td>3.35</td>\n",
       "      <td>0.62</td>\n",
       "      <td>10.4</td>\n",
       "    </tr>\n",
       "    <tr>\n",
       "      <th>1</th>\n",
       "      <td>9.6</td>\n",
       "      <td>0.77</td>\n",
       "      <td>0.12</td>\n",
       "      <td>2.9</td>\n",
       "      <td>0.082</td>\n",
       "      <td>30.0</td>\n",
       "      <td>74.0</td>\n",
       "      <td>0.99865</td>\n",
       "      <td>3.30</td>\n",
       "      <td>0.64</td>\n",
       "      <td>10.4</td>\n",
       "    </tr>\n",
       "    <tr>\n",
       "      <th>2</th>\n",
       "      <td>7.0</td>\n",
       "      <td>0.60</td>\n",
       "      <td>0.30</td>\n",
       "      <td>4.5</td>\n",
       "      <td>0.068</td>\n",
       "      <td>20.0</td>\n",
       "      <td>110.0</td>\n",
       "      <td>0.99914</td>\n",
       "      <td>3.30</td>\n",
       "      <td>1.17</td>\n",
       "      <td>10.2</td>\n",
       "    </tr>\n",
       "    <tr>\n",
       "      <th>3</th>\n",
       "      <td>7.1</td>\n",
       "      <td>0.53</td>\n",
       "      <td>0.07</td>\n",
       "      <td>1.7</td>\n",
       "      <td>0.071</td>\n",
       "      <td>15.0</td>\n",
       "      <td>24.0</td>\n",
       "      <td>0.99510</td>\n",
       "      <td>3.29</td>\n",
       "      <td>0.66</td>\n",
       "      <td>10.8</td>\n",
       "    </tr>\n",
       "    <tr>\n",
       "      <th>4</th>\n",
       "      <td>13.3</td>\n",
       "      <td>0.43</td>\n",
       "      <td>0.58</td>\n",
       "      <td>1.9</td>\n",
       "      <td>0.070</td>\n",
       "      <td>15.0</td>\n",
       "      <td>40.0</td>\n",
       "      <td>1.00040</td>\n",
       "      <td>3.06</td>\n",
       "      <td>0.49</td>\n",
       "      <td>9.0</td>\n",
       "    </tr>\n",
       "  </tbody>\n",
       "</table>\n",
       "</div>"
      ],
      "text/plain": [
       "   fixed acidity  volatile acidity  citric acid  residual sugar  chlorides  \\\n",
       "0            6.8              0.65         0.02             2.1      0.078   \n",
       "1            9.6              0.77         0.12             2.9      0.082   \n",
       "2            7.0              0.60         0.30             4.5      0.068   \n",
       "3            7.1              0.53         0.07             1.7      0.071   \n",
       "4           13.3              0.43         0.58             1.9      0.070   \n",
       "\n",
       "   free sulfur dioxide  total sulfur dioxide  density    pH  sulphates  \\\n",
       "0                  8.0                  15.0  0.99498  3.35       0.62   \n",
       "1                 30.0                  74.0  0.99865  3.30       0.64   \n",
       "2                 20.0                 110.0  0.99914  3.30       1.17   \n",
       "3                 15.0                  24.0  0.99510  3.29       0.66   \n",
       "4                 15.0                  40.0  1.00040  3.06       0.49   \n",
       "\n",
       "   alcohol  \n",
       "0     10.4  \n",
       "1     10.4  \n",
       "2     10.2  \n",
       "3     10.8  \n",
       "4      9.0  "
      ]
     },
     "execution_count": 17,
     "metadata": {},
     "output_type": "execute_result"
    }
   ],
   "source": [
    "df.iloc[0:5, :-1]"
   ]
  },
  {
   "cell_type": "markdown",
   "metadata": {},
   "source": [
    "The comparison shows that the values are VERY different...although it still follows some general pattern. "
   ]
  },
  {
   "cell_type": "markdown",
   "metadata": {
    "collapsed": true
   },
   "source": [
    "## Verify covariance structure of FA\n",
    "A more meaningful thing to try than restructuring data space could be verifying its covariance structure because unlike the previous example, we don't have to reintroduce noise which was lost during factor analysis"
   ]
  },
  {
   "cell_type": "code",
   "execution_count": 20,
   "metadata": {},
   "outputs": [
    {
     "name": "stdout",
     "output_type": "stream",
     "text": [
      "False\n"
     ]
    }
   ],
   "source": [
    "X_centered = scale(X, with_std = False)\n",
    "\n",
    "print(np.allclose(\n",
    "    np.dot(X_centered.T, X_centered) / X.shape[0], # Left Hand Side: covariance matrix of X\n",
    "    np.dot(fa.components_.T, fa.components_) + np.diag(fa.noise_variance_) # right hand side\n",
    "))"
   ]
  },
  {
   "cell_type": "code",
   "execution_count": 23,
   "metadata": {},
   "outputs": [
    {
     "name": "stdout",
     "output_type": "stream",
     "text": [
      "[[1 1 1 0 1 1 1 1 1 1 1]\n",
      " [1 1 1 1 1 1 1 1 1 1 1]\n",
      " [1 1 1 1 1 1 1 1 1 1 1]\n",
      " [0 1 1 1 1 1 1 1 1 1 1]\n",
      " [1 1 1 1 1 1 1 1 1 1 1]\n",
      " [1 1 1 1 1 1 1 1 1 1 1]\n",
      " [1 1 1 1 1 1 1 1 1 1 1]\n",
      " [1 1 1 1 1 1 1 1 1 1 1]\n",
      " [1 1 1 1 1 1 1 1 1 1 1]\n",
      " [1 1 1 1 1 1 1 1 1 1 1]\n",
      " [1 1 1 1 1 1 1 1 1 1 1]]\n"
     ]
    }
   ],
   "source": [
    "print(np.isclose(\n",
    "    np.dot(X_centered.T, X_centered) / X.shape[0], # left Hand Side: covariance matrix of X\n",
    "    np.dot(fa.components_.T, fa.components_) + np.diag(fa.noise_variance_), # right hand side\n",
    "    atol = 1e-1, rtol = 1e-1).astype(\"i4\")\n",
    ")"
   ]
  },
  {
   "cell_type": "markdown",
   "metadata": {},
   "source": [
    "Although this FA solution provided by sklearn wasn't very precise, it is still close and useful. "
   ]
  },
  {
   "cell_type": "markdown",
   "metadata": {},
   "source": [
    "## Factor Analysis vs Principal Component Analysis\n",
    "* FA imposes a structure with fixed number of factors; PCA analyzes the eigenstructure of data and provides principal components in decreasing order of importance. \n",
    "* FA focuses on intepretation of data; PCA focuses on maximizing variances. \n",
    "* FA provides a model that needs estimation techniques to solve; PCA is a well-defined algorithm with a unique solution. \n",
    "* FA and PCA both assume the linear structure of the data and utilize similar set of mathematical tools. "
   ]
  },
  {
   "cell_type": "markdown",
   "metadata": {},
   "source": [
    "## Scree plot\n"
   ]
  },
  {
   "cell_type": "code",
   "execution_count": 25,
   "metadata": {},
   "outputs": [
    {
     "data": {
      "text/plain": [
       "[<matplotlib.lines.Line2D at 0x257271fa828>]"
      ]
     },
     "execution_count": 25,
     "metadata": {},
     "output_type": "execute_result"
    },
    {
     "data": {
      "image/png": "[encoded data removed]",
      "text/plain": [
       "<matplotlib.figure.Figure at 0x257271fa860>"
      ]
     },
     "metadata": {},
     "output_type": "display_data"
    }
   ],
   "source": [
    "explained_variance = np.flip(np.sort(np.sum(fa.components_**2, axis = 1)), axis = 0)\n",
    "x_ticks = np.arange(len(fa.components_)) + 1\n",
    "plt.xticks(x_ticks)\n",
    "plt.plot(x_ticks, explained_variance)"
   ]
  },
  {
   "cell_type": "markdown",
   "metadata": {},
   "source": [
    "Similarly, we can also plot the explained variance ratio. FA should not have a total explained variance ratio of 1 because of the noise variance. "
   ]
  },
  {
   "cell_type": "code",
   "execution_count": null,
   "metadata": {
    "collapsed": true
   },
   "outputs": [],
   "source": []
  }
 ],
 "metadata": {
  "kernelspec": {
   "display_name": "Python 3",
   "language": "python",
   "name": "python3"
  },
  "language_info": {
   "codemirror_mode": {
    "name": "ipython",
    "version": 3
   },
   "file_extension": ".py",
   "mimetype": "text/x-python",
   "name": "python",
   "nbconvert_exporter": "python",
   "pygments_lexer": "ipython3",
   "version": "3.6.1"
  }
 },
 "nbformat": 4,
 "nbformat_minor": 2
}

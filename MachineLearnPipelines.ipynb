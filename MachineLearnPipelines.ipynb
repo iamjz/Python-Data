{
 "cells": [
  {
   "cell_type": "code",
   "execution_count": 1,
   "metadata": {
    "collapsed": true
   },
   "outputs": [],
   "source": [
    "from __future__ import print_function, division\n",
    "\n",
    "import numpy as np\n",
    "from sklearn.datasets import load_digits\n",
    "from sklearn.model_selection import GridSearchCV\n",
    "from sklearn.pipeline import Pipeline\n",
    "from sklearn.svm import LinearSVC\n",
    "from sklearn.decomposition import PCA, NMF\n",
    "from sklearn.feature_selection import SelectKBest, chi2"
   ]
  },
  {
   "cell_type": "markdown",
   "metadata": {},
   "source": [
    "## Defining the segments of the pipe\n",
    "\n",
    "* Data > PCA > Data Features\n",
    "\n",
    "* Data Features > Linear SVC > Classifications\n",
    "\n",
    "Data > Pipeline > Classification"
   ]
  },
  {
   "cell_type": "code",
   "execution_count": 3,
   "metadata": {
    "collapsed": true
   },
   "outputs": [],
   "source": [
    "pipe = Pipeline([\n",
    "    \n",
    "    # Named step \"reduce dim\" ... uses code module PCA\n",
    "    (\"reduce_dim\", PCA()), \n",
    "    \n",
    "    # Named steps \"classify\" ... uses code module LinearSVC\n",
    "    (\"classify\", LinearSVC())\n",
    "])"
   ]
  },
  {
   "cell_type": "markdown",
   "metadata": {},
   "source": [
    "## Hyperparametric tuning\n",
    "\n",
    "The process of evaluating a collection of model hyperparameters when seeking optimal performance. "
   ]
  },
  {
   "cell_type": "code",
   "execution_count": 4,
   "metadata": {
    "collapsed": true
   },
   "outputs": [],
   "source": [
    "# these are the possible number of features to reduce to\n",
    "N_FEATURES_OPTIONS = [2, 4, 8]\n",
    "\n",
    "# classify C parameter to explore\n",
    "C_OPTIONS = [1, 10, 100, 1000]\n",
    "\n",
    "param_grid = [\n",
    "    {\n",
    "        # options to instantiate the PCA model\n",
    "        \"reduce_dim\": [PCA(iterated_power = 7), NMF()],\n",
    "        \n",
    "        ###############################\n",
    "        # Parameters of the estimators in the \n",
    "        # pipeline can be accessed using the \n",
    "        # estimator parameter syntax\n",
    "        # So: reduce = <estimator> and the PCA takes a parameter of n_components\n",
    "        \"reduce_dim__n_components\": N_FEATURES_OPTIONS,\n",
    "        # So: classify = <estimator> and the LinearSVC takes a parameter C\n",
    "        \"classify__C\": C_OPTIONS\n",
    "    }, \n",
    "    {\n",
    "        # A second set of test cases for hyperparameters\n",
    "        \"reduce_dim\": [SelectKBest(chi2)],\n",
    "        \"reduce_dim__k\": N_FEATURES_OPTIONS,\n",
    "        \"classify__C\": C_OPTIONS\n",
    "    }    \n",
    "]\n",
    "\n",
    "reducer_labels = [\"PCA\", \"NMF\", \"KBest(chi2)\"]"
   ]
  },
  {
   "cell_type": "markdown",
   "metadata": {},
   "source": [
    "## Define a search grid (collection of parameters)"
   ]
  },
  {
   "cell_type": "code",
   "execution_count": 5,
   "metadata": {
    "collapsed": true
   },
   "outputs": [],
   "source": [
    "grid = GridSearchCV(pipe, cv = 3, n_jobs = 1, param_grid = param_grid)"
   ]
  },
  {
   "cell_type": "code",
   "execution_count": 6,
   "metadata": {},
   "outputs": [
    {
     "data": {
      "text/plain": [
       "GridSearchCV(cv=3, error_score='raise',\n",
       "       estimator=Pipeline(memory=None,\n",
       "     steps=[('reduce_dim', PCA(copy=True, iterated_power='auto', n_components=None, random_state=None,\n",
       "  svd_solver='auto', tol=0.0, whiten=False)), ('classify', LinearSVC(C=1.0, class_weight=None, dual=True, fit_intercept=True,\n",
       "     intercept_scaling=1, loss='squared_hinge', max_iter=1000,\n",
       "     multi_class='ovr', penalty='l2', random_state=None, tol=0.0001,\n",
       "     verbose=0))]),\n",
       "       fit_params=None, iid=True, n_jobs=1,\n",
       "       param_grid=[{'reduce_dim': [PCA(copy=True, iterated_power=7, n_components=None, random_state=None,\n",
       "  svd_solver='auto', tol=0.0, whiten=False), NMF(alpha=0.0, beta_loss='frobenius', init=None, l1_ratio=0.0, max_iter=200,\n",
       "  n_components=None, random_state=None, shuffle=False, solver='cd',\n",
       "  tol=0.000...ction chi2 at 0x0000019C57FE9B70>)], 'reduce_dim__k': [2, 4, 8], 'classify__C': [1, 10, 100, 1000]}],\n",
       "       pre_dispatch='2*n_jobs', refit=True, return_train_score=True,\n",
       "       scoring=None, verbose=0)"
      ]
     },
     "execution_count": 6,
     "metadata": {},
     "output_type": "execute_result"
    }
   ],
   "source": [
    "grid"
   ]
  },
  {
   "cell_type": "markdown",
   "metadata": {},
   "source": [
    "### Load the data then fit the grid\n",
    "\n",
    "This fitting does an exhaustive search across the hyperparamter space, each time re-using the pipeline for the movement from raw data to classification results. "
   ]
  },
  {
   "cell_type": "code",
   "execution_count": 7,
   "metadata": {},
   "outputs": [
    {
     "data": {
      "text/plain": [
       "GridSearchCV(cv=3, error_score='raise',\n",
       "       estimator=Pipeline(memory=None,\n",
       "     steps=[('reduce_dim', PCA(copy=True, iterated_power='auto', n_components=None, random_state=None,\n",
       "  svd_solver='auto', tol=0.0, whiten=False)), ('classify', LinearSVC(C=1.0, class_weight=None, dual=True, fit_intercept=True,\n",
       "     intercept_scaling=1, loss='squared_hinge', max_iter=1000,\n",
       "     multi_class='ovr', penalty='l2', random_state=None, tol=0.0001,\n",
       "     verbose=0))]),\n",
       "       fit_params=None, iid=True, n_jobs=1,\n",
       "       param_grid=[{'reduce_dim': [PCA(copy=True, iterated_power=7, n_components=8, random_state=None,\n",
       "  svd_solver='auto', tol=0.0, whiten=False), NMF(alpha=0.0, beta_loss='frobenius', init=None, l1_ratio=0.0, max_iter=200,\n",
       "  n_components=8, random_state=None, shuffle=False, solver='cd',\n",
       "  tol=0.0001, ver...ction chi2 at 0x0000019C57FE9B70>)], 'reduce_dim__k': [2, 4, 8], 'classify__C': [1, 10, 100, 1000]}],\n",
       "       pre_dispatch='2*n_jobs', refit=True, return_train_score=True,\n",
       "       scoring=None, verbose=0)"
      ]
     },
     "execution_count": 7,
     "metadata": {},
     "output_type": "execute_result"
    }
   ],
   "source": [
    "digits = load_digits()\n",
    "grid.fit(digits.data, digits.target)"
   ]
  },
  {
   "cell_type": "markdown",
   "metadata": {},
   "source": [
    "## Evaluate"
   ]
  },
  {
   "cell_type": "code",
   "execution_count": 25,
   "metadata": {},
   "outputs": [
    {
     "data": {
      "text/plain": [
       "array([ 0.47356706,  0.72008904,  0.84474124,  0.32109071,  0.65831942,\n",
       "        0.82025598,  0.39510295,  0.52754591,  0.79243183,  0.32609905,\n",
       "        0.65831942,  0.82804674,  0.2687813 ,  0.51252087,  0.74902615,\n",
       "        0.28380634,  0.63383417,  0.82025598,  0.29104062,  0.5837507 ,\n",
       "        0.7801892 ,  0.27045075,  0.55648303,  0.77685031,  0.28380634,\n",
       "        0.46299388,  0.68725654,  0.26933779,  0.3706177 ,  0.62548692,\n",
       "        0.22815804,  0.27045075,  0.46076795,  0.12520868,  0.28102393,\n",
       "        0.53478019])"
      ]
     },
     "execution_count": 25,
     "metadata": {},
     "output_type": "execute_result"
    }
   ],
   "source": [
    "# the grid has cross-validation results stored in .cv_results_[\"mean_test_score\"]\n",
    "mean_scores = np.array(grid.cv_results_[\"mean_test_score\"])\n",
    "\n",
    "mean_scores"
   ]
  },
  {
   "cell_type": "code",
   "execution_count": 26,
   "metadata": {},
   "outputs": [
    {
     "data": {
      "text/plain": [
       "array([[[ 0.47356706,  0.72008904,  0.84474124],\n",
       "        [ 0.32109071,  0.65831942,  0.82025598],\n",
       "        [ 0.39510295,  0.52754591,  0.79243183]],\n",
       "\n",
       "       [[ 0.32609905,  0.65831942,  0.82804674],\n",
       "        [ 0.2687813 ,  0.51252087,  0.74902615],\n",
       "        [ 0.28380634,  0.63383417,  0.82025598]],\n",
       "\n",
       "       [[ 0.29104062,  0.5837507 ,  0.7801892 ],\n",
       "        [ 0.27045075,  0.55648303,  0.77685031],\n",
       "        [ 0.28380634,  0.46299388,  0.68725654]],\n",
       "\n",
       "       [[ 0.26933779,  0.3706177 ,  0.62548692],\n",
       "        [ 0.22815804,  0.27045075,  0.46076795],\n",
       "        [ 0.12520868,  0.28102393,  0.53478019]]])"
      ]
     },
     "execution_count": 26,
     "metadata": {},
     "output_type": "execute_result"
    }
   ],
   "source": [
    "# scores are in the order of param_grid iteration, which is alphabetical\n",
    "mean_scores = mean_scores.reshape(len(C_OPTIONS), -1, len(N_FEATURES_OPTIONS))\n",
    "\n",
    "mean_scores"
   ]
  },
  {
   "cell_type": "code",
   "execution_count": 27,
   "metadata": {},
   "outputs": [
    {
     "data": {
      "text/plain": [
       "array([[ 0.47356706,  0.72008904,  0.84474124],\n",
       "       [ 0.32109071,  0.65831942,  0.82025598],\n",
       "       [ 0.39510295,  0.63383417,  0.82025598]])"
      ]
     },
     "execution_count": 27,
     "metadata": {},
     "output_type": "execute_result"
    }
   ],
   "source": [
    "# select score for best C\n",
    "mean_scores = mean_scores.max(axis = 0)\n",
    "\n",
    "mean_scores"
   ]
  },
  {
   "cell_type": "code",
   "execution_count": 28,
   "metadata": {},
   "outputs": [
    {
     "data": {
      "text/plain": [
       "array([ 0.5,  4.5,  8.5])"
      ]
     },
     "execution_count": 28,
     "metadata": {},
     "output_type": "execute_result"
    }
   ],
   "source": [
    "bar_offsets = (np.arange(len(N_FEATURES_OPTIONS)) *\n",
    "               (len(reducer_labels) + 1) + .5)\n",
    "\n",
    "bar_offsets"
   ]
  },
  {
   "cell_type": "code",
   "execution_count": 29,
   "metadata": {},
   "outputs": [
    {
     "data": {
      "text/plain": [
       "<matplotlib.legend.Legend at 0x19c59813908>"
      ]
     },
     "execution_count": 29,
     "metadata": {},
     "output_type": "execute_result"
    },
    {
     "data": {
      "image/png": "[encoded data removed]",
      "text/plain": [
       "<matplotlib.figure.Figure at 0x19c597c6668>"
      ]
     },
     "metadata": {},
     "output_type": "display_data"
    }
   ],
   "source": [
    "import matplotlib.pyplot as plt\n",
    "%matplotlib inline\n",
    "\n",
    "COLORS = 'bgrcmyk'\n",
    "for i, (label, reducer_scores) in enumerate(zip(reducer_labels, mean_scores)):\n",
    "    plt.bar(bar_offsets + i, reducer_scores, label = label, color = COLORS[i])\n",
    "\n",
    "plt.title(\"Comparing feature reduction techniques\")\n",
    "plt.xlabel('Reduced number of features')\n",
    "plt.xticks(bar_offsets + len(reducer_labels) / 2, N_FEATURES_OPTIONS)\n",
    "plt.ylabel('Digit classification accuracy')\n",
    "plt.ylim((0, 1))\n",
    "plt.legend(loc='upper left')"
   ]
  },
  {
   "cell_type": "markdown",
   "metadata": {},
   "source": [
    "Reducing the digits data to 8 features through PCA gets us the best classification performance. We can now go back and build our model using this knowledge of the performance and hyperparameter relationship. "
   ]
  }
 ],
 "metadata": {
  "kernelspec": {
   "display_name": "Python 3",
   "language": "python",
   "name": "python3"
  },
  "language_info": {
   "codemirror_mode": {
    "name": "ipython",
    "version": 3
   },
   "file_extension": ".py",
   "mimetype": "text/x-python",
   "name": "python",
   "nbconvert_exporter": "python",
   "pygments_lexer": "ipython3",
   "version": "3.6.1"
  }
 },
 "nbformat": 4,
 "nbformat_minor": 2
}

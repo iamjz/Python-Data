{
 "cells": [
  {
   "cell_type": "code",
   "execution_count": 2,
   "metadata": {
    "collapsed": true
   },
   "outputs": [],
   "source": [
    "# import libraries\n",
    "import requests\n",
    "from bs4 import BeautifulSoup\n",
    "import pandas as pd\n",
    "import numpy as np\n",
    "import praw"
   ]
  },
  {
   "cell_type": "code",
   "execution_count": 108,
   "metadata": {
    "collapsed": true
   },
   "outputs": [],
   "source": [
    "# https://praw.readthedocs.io/en/latest/getting_started/\n",
    "# https://www.reddit.com/dev/api/"
   ]
  },
  {
   "cell_type": "code",
   "execution_count": 10,
   "metadata": {},
   "outputs": [],
   "source": [
    "reddit = praw.Reddit(client_id='WiZtgXBv260p5g',\n",
    "                     client_secret='vgwQr-Hjp80x69gjAo_9dpthRYs',\n",
    "                     user_agent='WiZtgXBv260p5g')"
   ]
  },
  {
   "cell_type": "code",
   "execution_count": 11,
   "metadata": {},
   "outputs": [
    {
     "name": "stdout",
     "output_type": "stream",
     "text": [
      "True\n"
     ]
    }
   ],
   "source": [
    "print(reddit.read_only)"
   ]
  },
  {
   "cell_type": "code",
   "execution_count": 14,
   "metadata": {},
   "outputs": [
    {
     "name": "stdout",
     "output_type": "stream",
     "text": [
      "8bhad8\n",
      "8biu88\n",
      "8bi8h3\n",
      "8bh146\n",
      "8bhwe2\n"
     ]
    }
   ],
   "source": [
    "for submission in reddit.subreddit('nba').hot(limit=5):\n",
    "    print(submission)"
   ]
  },
  {
   "cell_type": "code",
   "execution_count": 15,
   "metadata": {},
   "outputs": [
    {
     "name": "stdout",
     "output_type": "stream",
     "text": [
      "consulting\n",
      "A Reddit for consultants!\n",
      "# [Recruiting Megathread](https://www.reddit.com/r/consulting/comments/89wmx1/recruiting_for_consulting_post_here_for/)  ||| [New Consultant Megathread](https://www.reddit.com/r/consulting/comments/89wn37/starting_a_new_job_in_consulting_post_here_for/?sort=new) ||| [Posting Guidelines](https://www.reddit.com/r/consulting/wiki/index/rules)\n",
      "\n",
      "Welcome to /r/Consulting, a place for all topics surrounding the consulting industry. Submissions can range from changing buyer behavior, consulting firm activity, M&A in the market place, layoffs, bad PR, government hiring of consultants, how to get into consulting, what it's like to be a consultant. Any consulting industry is welcome. \n",
      "\n",
      "&nbsp;\n",
      "\n",
      "**Posting Guideline Highlights**\n",
      "\n",
      "**Rule 1.** Posts should be relevant to consulting or to consultants.\n",
      "\n",
      "**Rule 2.** Job search / recruiting posts and 'starting in consulting' posts should go into the respective stickied threads. Opinions / requests for information about specific firms should also go into the recruiting sticky.  Posts of this nature on the front page will be removed without notice. Please read the [wiki](https://www.reddit.com/r/consulting/wiki/index) for commonly asked questions.\n",
      "\n",
      "**Rule 3.** Do not post illegal content or confidential materials.\n",
      "\n",
      "**Rule 4.** Be a professional and be constructive / Don't be an asshole and don't be abusive.\n",
      "\n",
      "For more details about these rules, please read the [Posting Guidelines](https://www.reddit.com/r/consulting/wiki/index/rules).\n",
      "\n",
      "\n",
      "&nbsp;\n",
      "  \n",
      "**Flair**  \n",
      "Feel free to edit your flair to reflect the industry you consult in or program you're studying!  \n",
      "\n",
      "&nbsp;\n",
      "\n",
      "&nbsp;\n",
      "  \n",
      "**Sponsored Links**  \n",
      "/r/Business  \n",
      "/r/Technology  \n",
      "/r/SAP  \n",
      "/r/finance  \n",
      "/r/Accounting  \n",
      "/r/MBA  \n",
      "\n",
      "**Please no head hunter job postings** \n"
     ]
    }
   ],
   "source": [
    "subreddit = reddit.subreddit(\"consulting\")\n",
    "\n",
    "print(subreddit.display_name)\n",
    "print(subreddit.title)\n",
    "print(subreddit.description)"
   ]
  },
  {
   "cell_type": "code",
   "execution_count": 21,
   "metadata": {},
   "outputs": [
    {
     "name": "stdout",
     "output_type": "stream",
     "text": [
      "89wmx1\n",
      "https://www.reddit.com/r/consulting/comments/89wmx1/recruiting_for_consulting_post_here_for/\n",
      "Recruiting for Consulting? Post here for recruitment advice, resume reviews, questions about offers/firms or general insecurity (10)\n",
      "QiuYiDio\n",
      "---\n",
      "89wn37\n",
      "https://www.reddit.com/r/consulting/comments/89wn37/starting_a_new_job_in_consulting_post_here_for/\n",
      "Starting a new job in consulting? Post here for advice, cities/housing-concerns, questions you're too embarrassed to ask your coworkers, or general insecurity (April)\n",
      "QiuYiDio\n",
      "---\n",
      "8bh6pn\n",
      "https://loyaltylobby.com/2018/04/09/marriott-rewards-announcement-coming-next-week-programs-spg-marriott-ritz-carlton-rewards-merged-in-august-info-leaked/\n",
      "Marriott-SPG-Ritz Rewards Merger details leaked. Accounts to remain separate, but shared status progress, points, and rewards.\n",
      "Makeshiftmule\n",
      "---\n"
     ]
    }
   ],
   "source": [
    "for submission in subreddit.hot(limit = 3):\n",
    "    print(submission.id)\n",
    "    print(submission.url)\n",
    "    print(submission.title)\n",
    "    print(submission.author.name)\n",
    "    print(\"---\")"
   ]
  },
  {
   "cell_type": "code",
   "execution_count": 52,
   "metadata": {},
   "outputs": [
    {
     "name": "stdout",
     "output_type": "stream",
     "text": [
      "76\n"
     ]
    }
   ],
   "source": [
    "redditor = reddit.redditor(\"ohai123456789\")\n",
    "print(redditor.link_karma)"
   ]
  },
  {
   "cell_type": "code",
   "execution_count": 54,
   "metadata": {
    "scrolled": false
   },
   "outputs": [
    {
     "name": "stdout",
     "output_type": "stream",
     "text": [
      "Haha agreed. Logan is a dick but he's prob thinking \"Omfg, Billy is totally bugging out right now\"\n",
      "My advice is going to be a little off-topic and may even sound a bit boring but I wish someone had t\n",
      "Nobody knows when it's safe to catch a falling knife.\n",
      "Relatafreude\n",
      "Best TLDR ever\n",
      "I'm Asian, 25 y/o, used to live in NYC, and I moved to Austin almost a few years ago for a job. I un\n",
      "Diet and exercise. Seriously, just eat well (cut down on bad carbs, sugary things, and alcohol. Eat \n",
      "Node/Python for startups/mid-sized companies. Java/.NET for large corporate enterprises. There's ton\n",
      "Software and hardware engineering\n",
      "Some companies off the top of my head with big offices here: IBM, Dell, Samsung, Apple, Qualcomm, In\n",
      "I'm pretty sure the $9k/year is for in-state tuition. I think Out of State is around $35k so the tui\n",
      "Michigan! Only because I'm an alum (not CS though). Honestly, both programs are top 10 in the nation\n",
      "Who cares?\n",
      "If they merge, their acronym is TWATT\n",
      "Agreed. All over Italy when I visited. Def helped a bunch when the only Italian words I know are \"gr\n",
      "Yo is there a subreddit for 'how things are made' gifs?\n",
      "Chromecast for $35. Stream almost anything from your phone to your TV. \n",
      "\n",
      "Anker backup phone charger \n",
      "Signed! I'll spread this around too\n",
      "I recommend:\n",
      "\n",
      "- Zero to One by Peter Thiel (http://www.amazon.com/gp/product/0804139296/ref=pd_lpo_s\n",
      "I was in your shoes. Accepted to both umich and uiuc's engineering program. I ended up picking umich\n",
      "Don't think that's true. I used to work at Samsung Semiconductor. Semiconductor profit is tiny compa\n",
      "Keep an eye on the clothing. Suit = Bernard. No Suit = Arnold. \n",
      "Try Austin as well. Low cost of living, huge tech town, and BBQ!\n",
      "Haha - The menu page is just a filler for now. I'm still in the process of recruiting chefs. I'm not\n",
      "Not a lot of people know this but Spec's has an amazing deli selection. \n",
      "If you do end up doing this, can you please do an AMA? I would love to hear about your experiences s\n",
      "I know Samsung Austin Semiconductor is always looking for good technicians. \n",
      "Austin , Texas. 25 years old making $85k-ish. Switched to Software Engineering from Industrial Engin\n",
      " share for everyone!\n",
      "Chapter 11 and 12 shows you how to webscrape  and work with Excel. \n",
      "\n",
      "Automate the Boring Stuff with \n",
      "GT's program seems really good. It's 15 credits (5 classes) of machine learning unlike 9 credits (3 \n",
      "Please stay safe, guys!!\n",
      ":O\n",
      "Episode 4 during the campfire scene. Two dudes approached him and he was like \"gtfo, this is my fuck\n",
      "That was actually Tom Brady in disguise teheeh\n",
      "Just skeptical since it takes over 3 million XP to go from 30 to 35.\n",
      "Great explanation!!\n",
      "\n",
      "How can Starboard be so influential with only a 0.75% stake in Yahoo?  Who are \n",
      "I may be mistaken but don't military folks get better interest rates on mortgage loans? There was a \n",
      "i always respect people who admit to their mistakes. also people who can take a joke.\n",
      "Yea, I def agree with this. With regular watching, I let myself build up the excitement for the next\n",
      "Sa-Ten is pretty good\n",
      "Yep, that's correct. I wanted to create something that will have an immediate and beneficial impact \n",
      "Oakenspoon is for Austin chefs and customers only. I figured this would be a good place to get feedb\n",
      "haha\n",
      "I was in your shoes not too long ago. I'm a developer and I was so focused on trying to come up with\n",
      "oh man, i love cajun food! feel free to PM me if your husband is interested in becoming a personal c\n",
      "Thanks for the link, man! I actually contacted him this morning. Unfortunately, he moved to Phoenix \n",
      "Thanks, guys! I actually contacted him this morning as well but it looks like he moved to Phoenix re\n",
      "Would you say the MBA accelerated your path or would you have gone into a leadership role anyway?\n",
      "UNSUBSCRIBE\n",
      "Read their financials. They're public\n",
      "Exactly this. The Semiconductor industry is not as lucrative as you think. The cost of operations is\n",
      "What school?\n",
      "Literally this whole subreddit lol\n",
      "Nah, I didn't say anything about the order. It's just a matter of preference for you. Node, Python, \n",
      "Is there a subreddit for gifs like this? Like how things/foods are manufactured.\n",
      "great album! just picked up the Megir Yachtsman  as a nice beater watch.\n",
      "Phew, I'm not crazy! Haha\n",
      "I had that discussion with my gf as well. She thought they were just on the other side of the train.\n",
      "Lol nah, man. I love a good discussion. Bring on the debate!\n",
      "The MiB scenes could still be in the past. I took that statement as \"wow... I still remember when I \n",
      "Agreed - not trying to point fingers but i was just a little skeptical since it takes A LOT more XPs\n",
      "I work right by there. The koi pond where I take breaks is a pokestop! \n",
      "Everlane modern snapbacks. Get them!\n",
      "Software engineer. Low 90k, 26 years old, Austin Texas.\n",
      "For the sake of learning. I find your field particularly interesting. \n",
      "I'm in your shoes as well. Software development engineer trying to transition into data science. I'm\n",
      "Totally false. Recruiters make money off of you. They have to fill up roles to earn their \"commissio\n",
      "Yup, referring to CVS/Target/Walmart-type pharmacists only. \n",
      "\n",
      "I'm currently in the Healthcare Tech s\n",
      "I absolutely love the fight scenes in Jackie Chan Adventures (the cartoon series)\n",
      "A lot of my time will now be spent on this list...\n",
      "Buy whatever the fuck I want that costs less than 10k. Then spend the rest on index funds. If I need\n",
      "Hah, I actually arrived in Japan from Austin, TX today.\n",
      "Serious question: \n",
      "\n",
      "When reviewing applications, do you guys redact racially identifying information\n",
      "I love CH\n",
      "Nice!!\n",
      "Do you guys also have a separate fund for investments?\n",
      "not wiping their sweat from the seats. that irks me so much.\n",
      "You're absolutely right. I don't want a show that spoonfeeds me. But imo, season 1 didn't spoonfeed \n",
      "thanks, man! i really appreciate the support. i'll be sure to give you a PM when the beta is out. \n",
      "Ah - I apologize for the jargon. Bootstrapping = completely self-funded. This just means I'm not fun\n",
      "Haven't launched yet. I wanted to see what you guys think of it so far.\n",
      "Thanks for the comment! It's support like this that keeps me going :D\n",
      "Ah, the GM Innovation Center. I used to work pretty close to them so I see a lot of GM developers at\n",
      "Austin is loads of fun! It's a tech-centric city/college-town so it's really liberal and chill. The \n",
      "Look up jqgrid. You can send json over to a sexy looking interactive table. I believe they're moving\n",
      "We're here!\n",
      "awesome credentials! I sent you a PM.\n",
      "Thanks, man! Culinary degree is preferred but def not required. My biggest requirement is that the c\n",
      "Gotcha, will do.\n",
      "Asian male here - I just go to a salon. Highly recommend Benjamin Beau. It's around $70/cut. If you'\n",
      "i'm from Austin and can confirm this. Engineers will thrive here. we have tons of tech companies bas\n",
      "you should look up \"Industrial Engineers\". we're a good combo of business analytics + technology. \n",
      "i work in a manufacturing environment (engineer) so the six sigma BOK was applicable to what i do on\n",
      "i'm an ASQ certified six sigma black belt. took a training course that was offered by my company and\n",
      "you should apply for a dev job at the client company. state on your resume that you made the fucking\n",
      "True. I remember when I would only spend a couple hundred a month in college. I thought I would be s\n",
      "Interesting....I too have an engineering degree from a top 5 engineering university. I always hear a\n",
      "Anybody??\n",
      "Haha idiot here with the massive student loans. the hard work is definitely a given but how big of a\n"
     ]
    }
   ],
   "source": [
    "for i in redditor.comments.top('all'):\n",
    "    print(i.body[0:100])"
   ]
  },
  {
   "cell_type": "code",
   "execution_count": null,
   "metadata": {
    "collapsed": true
   },
   "outputs": [],
   "source": []
  }
 ],
 "metadata": {
  "kernelspec": {
   "display_name": "Python 3",
   "language": "python",
   "name": "python3"
  },
  "language_info": {
   "codemirror_mode": {
    "name": "ipython",
    "version": 3
   },
   "file_extension": ".py",
   "mimetype": "text/x-python",
   "name": "python",
   "nbconvert_exporter": "python",
   "pygments_lexer": "ipython3",
   "version": "3.6.1"
  }
 },
 "nbformat": 4,
 "nbformat_minor": 2
}

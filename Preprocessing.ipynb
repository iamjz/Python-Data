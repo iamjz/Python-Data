{
 "cells": [
  {
   "cell_type": "markdown",
   "metadata": {},
   "source": [
    "# Preprocessing"
   ]
  },
  {
   "cell_type": "code",
   "execution_count": 1,
   "metadata": {
    "collapsed": true
   },
   "outputs": [],
   "source": [
    "import os, sys\n",
    "import itertools\n",
    "import random\n",
    "import numpy as np\n",
    "import pandas as pd"
   ]
  },
  {
   "cell_type": "code",
   "execution_count": 7,
   "metadata": {
    "collapsed": true
   },
   "outputs": [],
   "source": [
    "class Example(object):\n",
    "    def __init__(self, inspecting = True):\n",
    "        \"\"\" Reset dataset for each example. \"\"\"\n",
    "        global dataset\n",
    "        dataset = pd.read_csv('datasets/processing_examples.csv')\n",
    "        self.inspecting = inspecting\n",
    "        \n",
    "    def __enter__(self):\n",
    "        if self.inspecting:\n",
    "            print('====== before ======')\n",
    "            print(dataset)\n",
    "            \n",
    "    def __exit__(self, type, value, traceback):\n",
    "        if self.inspecting:\n",
    "            print('====== after ======')\n",
    "            print(dataset)"
   ]
  },
  {
   "cell_type": "markdown",
   "metadata": {},
   "source": [
    "This shows an example of zeroing out all elements in a dataset. "
   ]
  },
  {
   "cell_type": "code",
   "execution_count": 8,
   "metadata": {},
   "outputs": [
    {
     "name": "stdout",
     "output_type": "stream",
     "text": [
      "====== before ======\n",
      "      float  int yes/no        date categorical\n",
      "0  0.283405    4     No  2017-10-06           E\n",
      "1  0.034334    5    Yes  2017-10-07           F\n",
      "2  0.773453    6    Yes  2017-10-08           G\n",
      "3  0.550071    8     No  2017-10-10           B\n",
      "4  0.382113    9     No  2017-10-11           C\n",
      "5  0.921326    1     No  2017-10-03           B\n",
      "6  0.691557    9    Yes  2017-10-11           C\n",
      "7  0.526204    1     No  2017-10-03           B\n",
      "====== after ======\n",
      "   float  int  yes/no  date  categorical\n",
      "0      0    0       0     0            0\n",
      "1      0    0       0     0            0\n",
      "2      0    0       0     0            0\n",
      "3      0    0       0     0            0\n",
      "4      0    0       0     0            0\n",
      "5      0    0       0     0            0\n",
      "6      0    0       0     0            0\n",
      "7      0    0       0     0            0\n"
     ]
    }
   ],
   "source": [
    "with Example():\n",
    "    dataset.iloc[:, :] = 0"
   ]
  },
  {
   "cell_type": "markdown",
   "metadata": {},
   "source": [
    "## Delete a column"
   ]
  },
  {
   "cell_type": "code",
   "execution_count": 12,
   "metadata": {},
   "outputs": [
    {
     "name": "stdout",
     "output_type": "stream",
     "text": [
      "====== before ======\n",
      "      float  int yes/no        date categorical\n",
      "0  0.283405    4     No  2017-10-06           E\n",
      "1  0.034334    5    Yes  2017-10-07           F\n",
      "2  0.773453    6    Yes  2017-10-08           G\n",
      "3  0.550071    8     No  2017-10-10           B\n",
      "4  0.382113    9     No  2017-10-11           C\n",
      "5  0.921326    1     No  2017-10-03           B\n",
      "6  0.691557    9    Yes  2017-10-11           C\n",
      "7  0.526204    1     No  2017-10-03           B\n",
      "\n",
      " \n",
      " ======returns=======\n",
      "   int yes/no        date categorical\n",
      "0    4     No  2017-10-06           E\n",
      "1    5    Yes  2017-10-07           F\n",
      "2    6    Yes  2017-10-08           G\n",
      "3    8     No  2017-10-10           B\n",
      "4    9     No  2017-10-11           C\n",
      "5    1     No  2017-10-03           B\n",
      "6    9    Yes  2017-10-11           C\n",
      "7    1     No  2017-10-03           B\n",
      "====== after ======\n",
      "      float  int yes/no        date categorical\n",
      "0  0.283405    4     No  2017-10-06           E\n",
      "1  0.034334    5    Yes  2017-10-07           F\n",
      "2  0.773453    6    Yes  2017-10-08           G\n",
      "3  0.550071    8     No  2017-10-10           B\n",
      "4  0.382113    9     No  2017-10-11           C\n",
      "5  0.921326    1     No  2017-10-03           B\n",
      "6  0.691557    9    Yes  2017-10-11           C\n",
      "7  0.526204    1     No  2017-10-03           B\n"
     ]
    }
   ],
   "source": [
    "with Example():\n",
    "    ret = dataset.drop(\"float\", axis = 1)\n",
    "    print(\"\\n \\n ======returns=======\")\n",
    "    print(ret)"
   ]
  },
  {
   "cell_type": "code",
   "execution_count": 14,
   "metadata": {},
   "outputs": [
    {
     "name": "stdout",
     "output_type": "stream",
     "text": [
      "====== before ======\n",
      "      float  int yes/no        date categorical\n",
      "0  0.283405    4     No  2017-10-06           E\n",
      "1  0.034334    5    Yes  2017-10-07           F\n",
      "2  0.773453    6    Yes  2017-10-08           G\n",
      "3  0.550071    8     No  2017-10-10           B\n",
      "4  0.382113    9     No  2017-10-11           C\n",
      "5  0.921326    1     No  2017-10-03           B\n",
      "6  0.691557    9    Yes  2017-10-11           C\n",
      "7  0.526204    1     No  2017-10-03           B\n",
      "\n",
      " \n",
      " =========returns===========\n",
      "None\n",
      "====== after ======\n",
      "   int yes/no        date categorical\n",
      "0    4     No  2017-10-06           E\n",
      "1    5    Yes  2017-10-07           F\n",
      "2    6    Yes  2017-10-08           G\n",
      "3    8     No  2017-10-10           B\n",
      "4    9     No  2017-10-11           C\n",
      "5    1     No  2017-10-03           B\n",
      "6    9    Yes  2017-10-11           C\n",
      "7    1     No  2017-10-03           B\n"
     ]
    }
   ],
   "source": [
    "with Example():\n",
    "    ret = dataset.drop(\"float\", inplace = True, axis = 1)\n",
    "    print(\"\\n \\n =========returns===========\")\n",
    "    print(ret)"
   ]
  },
  {
   "cell_type": "markdown",
   "metadata": {},
   "source": [
    "### Recommended way:"
   ]
  },
  {
   "cell_type": "code",
   "execution_count": 15,
   "metadata": {},
   "outputs": [
    {
     "name": "stdout",
     "output_type": "stream",
     "text": [
      "====== before ======\n",
      "      float  int yes/no        date categorical\n",
      "0  0.283405    4     No  2017-10-06           E\n",
      "1  0.034334    5    Yes  2017-10-07           F\n",
      "2  0.773453    6    Yes  2017-10-08           G\n",
      "3  0.550071    8     No  2017-10-10           B\n",
      "4  0.382113    9     No  2017-10-11           C\n",
      "5  0.921326    1     No  2017-10-03           B\n",
      "6  0.691557    9    Yes  2017-10-11           C\n",
      "7  0.526204    1     No  2017-10-03           B\n",
      "====== after ======\n",
      "   int yes/no        date categorical\n",
      "0    4     No  2017-10-06           E\n",
      "1    5    Yes  2017-10-07           F\n",
      "2    6    Yes  2017-10-08           G\n",
      "3    8     No  2017-10-10           B\n",
      "4    9     No  2017-10-11           C\n",
      "5    1     No  2017-10-03           B\n",
      "6    9    Yes  2017-10-11           C\n",
      "7    1     No  2017-10-03           B\n"
     ]
    }
   ],
   "source": [
    "with Example():\n",
    "    del dataset[\"float\"]"
   ]
  },
  {
   "cell_type": "markdown",
   "metadata": {},
   "source": [
    "## Convert column in binary"
   ]
  },
  {
   "cell_type": "code",
   "execution_count": 16,
   "metadata": {},
   "outputs": [
    {
     "name": "stdout",
     "output_type": "stream",
     "text": [
      "====== before ======\n",
      "      float  int yes/no        date categorical\n",
      "0  0.283405    4     No  2017-10-06           E\n",
      "1  0.034334    5    Yes  2017-10-07           F\n",
      "2  0.773453    6    Yes  2017-10-08           G\n",
      "3  0.550071    8     No  2017-10-10           B\n",
      "4  0.382113    9     No  2017-10-11           C\n",
      "5  0.921326    1     No  2017-10-03           B\n",
      "6  0.691557    9    Yes  2017-10-11           C\n",
      "7  0.526204    1     No  2017-10-03           B\n",
      "====== after ======\n",
      "      float  int  yes/no        date categorical\n",
      "0  0.283405    4       1  2017-10-06           E\n",
      "1  0.034334    5       0  2017-10-07           F\n",
      "2  0.773453    6       0  2017-10-08           G\n",
      "3  0.550071    8       1  2017-10-10           B\n",
      "4  0.382113    9       1  2017-10-11           C\n",
      "5  0.921326    1       1  2017-10-03           B\n",
      "6  0.691557    9       0  2017-10-11           C\n",
      "7  0.526204    1       1  2017-10-03           B\n"
     ]
    }
   ],
   "source": [
    "with Example():\n",
    "    dataset[\"yes/no\"] = dataset[\"yes/no\"].apply([\"Yes\", \"No\"].index)"
   ]
  },
  {
   "cell_type": "code",
   "execution_count": 17,
   "metadata": {},
   "outputs": [
    {
     "name": "stdout",
     "output_type": "stream",
     "text": [
      "====== before ======\n",
      "      float  int yes/no        date categorical\n",
      "0  0.283405    4     No  2017-10-06           E\n",
      "1  0.034334    5    Yes  2017-10-07           F\n",
      "2  0.773453    6    Yes  2017-10-08           G\n",
      "3  0.550071    8     No  2017-10-10           B\n",
      "4  0.382113    9     No  2017-10-11           C\n",
      "5  0.921326    1     No  2017-10-03           B\n",
      "6  0.691557    9    Yes  2017-10-11           C\n",
      "7  0.526204    1     No  2017-10-03           B\n",
      "====== after ======\n",
      "      float  int  yes/no        date categorical\n",
      "0  0.283405    4       1  2017-10-06           E\n",
      "1  0.034334    5       0  2017-10-07           F\n",
      "2  0.773453    6       0  2017-10-08           G\n",
      "3  0.550071    8       1  2017-10-10           B\n",
      "4  0.382113    9       1  2017-10-11           C\n",
      "5  0.921326    1       1  2017-10-03           B\n",
      "6  0.691557    9       0  2017-10-11           C\n",
      "7  0.526204    1       1  2017-10-03           B\n"
     ]
    }
   ],
   "source": [
    "with Example():\n",
    "    dataset[\"yes/no\"] = list(map([\"Yes\", \"No\"].index, dataset[\"yes/no\"]))"
   ]
  },
  {
   "cell_type": "markdown",
   "metadata": {},
   "source": [
    "map() takes a function and an iterable object and applies the function to all elements of that iterable object"
   ]
  },
  {
   "cell_type": "code",
   "execution_count": 19,
   "metadata": {},
   "outputs": [
    {
     "data": {
      "text/plain": [
       "[0, 2, 4]"
      ]
     },
     "execution_count": 19,
     "metadata": {},
     "output_type": "execute_result"
    }
   ],
   "source": [
    "a = [0, 2, 4]\n",
    "a"
   ]
  },
  {
   "cell_type": "code",
   "execution_count": 22,
   "metadata": {},
   "outputs": [
    {
     "data": {
      "text/plain": [
       "[1, 3, 5]"
      ]
     },
     "execution_count": 22,
     "metadata": {},
     "output_type": "execute_result"
    }
   ],
   "source": [
    "list(map(lambda x: x + 1, a))"
   ]
  },
  {
   "cell_type": "markdown",
   "metadata": {},
   "source": [
    "## Convert column into np.datetime64"
   ]
  },
  {
   "cell_type": "code",
   "execution_count": 23,
   "metadata": {},
   "outputs": [
    {
     "name": "stdout",
     "output_type": "stream",
     "text": [
      "====== before ======\n",
      "      float  int yes/no        date categorical\n",
      "0  0.283405    4     No  2017-10-06           E\n",
      "1  0.034334    5    Yes  2017-10-07           F\n",
      "2  0.773453    6    Yes  2017-10-08           G\n",
      "3  0.550071    8     No  2017-10-10           B\n",
      "4  0.382113    9     No  2017-10-11           C\n",
      "5  0.921326    1     No  2017-10-03           B\n",
      "6  0.691557    9    Yes  2017-10-11           C\n",
      "7  0.526204    1     No  2017-10-03           B\n",
      "====== after ======\n",
      "      float  int yes/no       date categorical\n",
      "0  0.283405    4     No 2017-10-06           E\n",
      "1  0.034334    5    Yes 2017-10-07           F\n",
      "2  0.773453    6    Yes 2017-10-08           G\n",
      "3  0.550071    8     No 2017-10-10           B\n",
      "4  0.382113    9     No 2017-10-11           C\n",
      "5  0.921326    1     No 2017-10-03           B\n",
      "6  0.691557    9    Yes 2017-10-11           C\n",
      "7  0.526204    1     No 2017-10-03           B\n"
     ]
    }
   ],
   "source": [
    "with Example():\n",
    "    dataset[\"date\"] = dataset[\"date\"].apply(np.datetime64)"
   ]
  },
  {
   "cell_type": "code",
   "execution_count": 24,
   "metadata": {},
   "outputs": [
    {
     "data": {
      "text/plain": [
       "pandas._libs.tslib.Timestamp"
      ]
     },
     "execution_count": 24,
     "metadata": {},
     "output_type": "execute_result"
    }
   ],
   "source": [
    "type(dataset[\"date\"][0])"
   ]
  },
  {
   "cell_type": "code",
   "execution_count": 25,
   "metadata": {},
   "outputs": [
    {
     "name": "stdout",
     "output_type": "stream",
     "text": [
      "====== before ======\n",
      "      float  int yes/no        date categorical\n",
      "0  0.283405    4     No  2017-10-06           E\n",
      "1  0.034334    5    Yes  2017-10-07           F\n",
      "2  0.773453    6    Yes  2017-10-08           G\n",
      "3  0.550071    8     No  2017-10-10           B\n",
      "4  0.382113    9     No  2017-10-11           C\n",
      "5  0.921326    1     No  2017-10-03           B\n",
      "6  0.691557    9    Yes  2017-10-11           C\n",
      "7  0.526204    1     No  2017-10-03           B\n",
      "=======day==========\n",
      "0     6\n",
      "1     7\n",
      "2     8\n",
      "3    10\n",
      "4    11\n",
      "5     3\n",
      "6    11\n",
      "7     3\n",
      "Name: date, dtype: int64\n",
      "====== after ======\n",
      "      float  int yes/no       date categorical\n",
      "0  0.283405    4     No 2017-10-06           E\n",
      "1  0.034334    5    Yes 2017-10-07           F\n",
      "2  0.773453    6    Yes 2017-10-08           G\n",
      "3  0.550071    8     No 2017-10-10           B\n",
      "4  0.382113    9     No 2017-10-11           C\n",
      "5  0.921326    1     No 2017-10-03           B\n",
      "6  0.691557    9    Yes 2017-10-11           C\n",
      "7  0.526204    1     No 2017-10-03           B\n"
     ]
    }
   ],
   "source": [
    "with Example():\n",
    "    dataset[\"date\"] = dataset[\"date\"].apply(np.datetime64)\n",
    "    print(\"=======day==========\")\n",
    "    print(dataset[\"date\"].apply(lambda d: d.day))"
   ]
  },
  {
   "cell_type": "code",
   "execution_count": 26,
   "metadata": {},
   "outputs": [
    {
     "name": "stdout",
     "output_type": "stream",
     "text": [
      "====== before ======\n",
      "      float  int yes/no        date categorical\n",
      "0  0.283405    4     No  2017-10-06           E\n",
      "1  0.034334    5    Yes  2017-10-07           F\n",
      "2  0.773453    6    Yes  2017-10-08           G\n",
      "3  0.550071    8     No  2017-10-10           B\n",
      "4  0.382113    9     No  2017-10-11           C\n",
      "5  0.921326    1     No  2017-10-03           B\n",
      "6  0.691557    9    Yes  2017-10-11           C\n",
      "7  0.526204    1     No  2017-10-03           B\n",
      "=======month========\n",
      "0    10\n",
      "1    10\n",
      "2    10\n",
      "3    10\n",
      "4    10\n",
      "5    10\n",
      "6    10\n",
      "7    10\n",
      "Name: date, dtype: int64\n",
      "====== after ======\n",
      "      float  int yes/no       date categorical\n",
      "0  0.283405    4     No 2017-10-06           E\n",
      "1  0.034334    5    Yes 2017-10-07           F\n",
      "2  0.773453    6    Yes 2017-10-08           G\n",
      "3  0.550071    8     No 2017-10-10           B\n",
      "4  0.382113    9     No 2017-10-11           C\n",
      "5  0.921326    1     No 2017-10-03           B\n",
      "6  0.691557    9    Yes 2017-10-11           C\n",
      "7  0.526204    1     No 2017-10-03           B\n"
     ]
    }
   ],
   "source": [
    "with Example():\n",
    "    dataset[\"date\"] = dataset[\"date\"].apply(np.datetime64)\n",
    "    print(\"=======month========\")\n",
    "    print(dataset[\"date\"].apply(lambda d: d.month))"
   ]
  },
  {
   "cell_type": "markdown",
   "metadata": {},
   "source": [
    "## Find unique values in a column"
   ]
  },
  {
   "cell_type": "code",
   "execution_count": 27,
   "metadata": {},
   "outputs": [
    {
     "data": {
      "text/plain": [
       "array(['B', 'C', 'E', 'F', 'G'], dtype=object)"
      ]
     },
     "execution_count": 27,
     "metadata": {},
     "output_type": "execute_result"
    }
   ],
   "source": [
    "Example(inspecting = False)\n",
    "np.unique(dataset[\"categorical\"])"
   ]
  },
  {
   "cell_type": "markdown",
   "metadata": {},
   "source": [
    "## Iterating through columns"
   ]
  },
  {
   "cell_type": "code",
   "execution_count": 28,
   "metadata": {},
   "outputs": [
    {
     "name": "stdout",
     "output_type": "stream",
     "text": [
      "0    4\n",
      "1    5\n",
      "2    6\n",
      "3    8\n",
      "4    9\n",
      "Name: int, dtype: int64\n",
      "0    E\n",
      "1    F\n",
      "2    G\n",
      "3    B\n",
      "4    C\n",
      "Name: categorical, dtype: object\n"
     ]
    }
   ],
   "source": [
    "Example(inspecting = False)\n",
    "\n",
    "for column_name in [\"int\", \"categorical\"]:\n",
    "    print(dataset[column_name].head())"
   ]
  },
  {
   "cell_type": "code",
   "execution_count": 29,
   "metadata": {},
   "outputs": [
    {
     "name": "stdout",
     "output_type": "stream",
     "text": [
      "0    0.283405\n",
      "1    0.034334\n",
      "2    0.773453\n",
      "3    0.550071\n",
      "4    0.382113\n",
      "Name: float, dtype: float64\n",
      "0    4\n",
      "1    5\n",
      "2    6\n",
      "3    8\n",
      "4    9\n",
      "Name: int, dtype: int64\n",
      "0     No\n",
      "1    Yes\n",
      "2    Yes\n",
      "3     No\n",
      "4     No\n",
      "Name: yes/no, dtype: object\n",
      "0    2017-10-06\n",
      "1    2017-10-07\n",
      "2    2017-10-08\n",
      "3    2017-10-10\n",
      "4    2017-10-11\n",
      "Name: date, dtype: object\n",
      "0    E\n",
      "1    F\n",
      "2    G\n",
      "3    B\n",
      "4    C\n",
      "Name: categorical, dtype: object\n"
     ]
    }
   ],
   "source": [
    "Example(inspecting = False)\n",
    "\n",
    "for column_name in dataset.columns:\n",
    "    print(dataset[column_name].head())"
   ]
  },
  {
   "cell_type": "code",
   "execution_count": 30,
   "metadata": {},
   "outputs": [
    {
     "name": "stdout",
     "output_type": "stream",
     "text": [
      "0     No\n",
      "1    Yes\n",
      "2    Yes\n",
      "3     No\n",
      "4     No\n",
      "Name: yes/no, dtype: object\n",
      "0    E\n",
      "1    F\n",
      "2    G\n",
      "3    B\n",
      "4    C\n",
      "Name: categorical, dtype: object\n"
     ]
    }
   ],
   "source": [
    "Example(inspecting = False)\n",
    "\n",
    "for column_name in np.array(dataset.columns)[[2, 4]]:\n",
    "    print(dataset[column_name].head())"
   ]
  },
  {
   "cell_type": "code",
   "execution_count": 31,
   "metadata": {},
   "outputs": [
    {
     "name": "stdout",
     "output_type": "stream",
     "text": [
      "0    4\n",
      "1    5\n",
      "2    6\n",
      "3    8\n",
      "4    9\n",
      "Name: int, dtype: int64\n",
      "0    E\n",
      "1    F\n",
      "2    G\n",
      "3    B\n",
      "4    C\n",
      "Name: categorical, dtype: object\n"
     ]
    }
   ],
   "source": [
    "Example(inspecting = False)\n",
    "\n",
    "for column_name in np.array(dataset.columns)[[False, True, False, False, True]]:\n",
    "    print(dataset[column_name].head())"
   ]
  },
  {
   "cell_type": "markdown",
   "metadata": {},
   "source": [
    "## Iterating through columns with exclusions"
   ]
  },
  {
   "cell_type": "code",
   "execution_count": 35,
   "metadata": {},
   "outputs": [
    {
     "name": "stdout",
     "output_type": "stream",
     "text": [
      "0    4\n",
      "1    5\n",
      "2    6\n",
      "3    8\n",
      "4    9\n",
      "Name: int, dtype: int64\n",
      "0    E\n",
      "1    F\n",
      "2    G\n",
      "3    B\n",
      "4    C\n",
      "Name: categorical, dtype: object\n"
     ]
    }
   ],
   "source": [
    "Example(inspecting = False)\n",
    "exclusion = [\"float\", \"yes/no\", \"date\"]\n",
    "\n",
    "for column_name in set(dataset.columns)-set(exclusion):\n",
    "    print(dataset[column_name].head())"
   ]
  },
  {
   "cell_type": "code",
   "execution_count": 37,
   "metadata": {},
   "outputs": [
    {
     "name": "stdout",
     "output_type": "stream",
     "text": [
      "0    4\n",
      "1    5\n",
      "2    6\n",
      "3    8\n",
      "4    9\n",
      "Name: int, dtype: int64\n",
      "0    E\n",
      "1    F\n",
      "2    G\n",
      "3    B\n",
      "4    C\n",
      "Name: categorical, dtype: object\n"
     ]
    }
   ],
   "source": [
    "Example(inspecting = False)\n",
    "exclusion = [0, 2, 3]\n",
    "\n",
    "for column_name in set(dataset.columns) - set(np.array(dataset.columns)[exclusion]):\n",
    "    print(dataset[column_name].head())"
   ]
  },
  {
   "cell_type": "code",
   "execution_count": 38,
   "metadata": {},
   "outputs": [
    {
     "name": "stdout",
     "output_type": "stream",
     "text": [
      "0    4\n",
      "1    5\n",
      "2    6\n",
      "3    8\n",
      "4    9\n",
      "Name: int, dtype: int64\n",
      "0    E\n",
      "1    F\n",
      "2    G\n",
      "3    B\n",
      "4    C\n",
      "Name: categorical, dtype: object\n"
     ]
    }
   ],
   "source": [
    "Example(inspecting = False)\n",
    "\n",
    "exclusion = [0, 2, 3]\n",
    "\n",
    "for column_name in [v for i, v in enumerate(dataset.columns) if i not in exclusion]:\n",
    "    print(dataset[column_name].head())"
   ]
  },
  {
   "cell_type": "code",
   "execution_count": 40,
   "metadata": {},
   "outputs": [
    {
     "name": "stdout",
     "output_type": "stream",
     "text": [
      "0    4\n",
      "1    5\n",
      "2    6\n",
      "3    8\n",
      "4    9\n",
      "Name: int, dtype: int64\n",
      "0    E\n",
      "1    F\n",
      "2    G\n",
      "3    B\n",
      "4    C\n",
      "Name: categorical, dtype: object\n"
     ]
    }
   ],
   "source": [
    "Example(inspecting = False)\n",
    "\n",
    "exclusion = [True, False, True, True, False]\n",
    "\n",
    "for column_name in np.array(dataset.columns)[~ np.array(exclusion)]:\n",
    "    print(dataset[column_name].head())"
   ]
  },
  {
   "cell_type": "markdown",
   "metadata": {},
   "source": [
    "## Drop rows from dataframe"
   ]
  },
  {
   "cell_type": "code",
   "execution_count": 41,
   "metadata": {},
   "outputs": [
    {
     "name": "stdout",
     "output_type": "stream",
     "text": [
      "====== before ======\n",
      "      float  int yes/no        date categorical\n",
      "0  0.283405    4     No  2017-10-06           E\n",
      "1  0.034334    5    Yes  2017-10-07           F\n",
      "2  0.773453    6    Yes  2017-10-08           G\n",
      "3  0.550071    8     No  2017-10-10           B\n",
      "4  0.382113    9     No  2017-10-11           C\n",
      "5  0.921326    1     No  2017-10-03           B\n",
      "6  0.691557    9    Yes  2017-10-11           C\n",
      "7  0.526204    1     No  2017-10-03           B\n",
      "====== after ======\n",
      "      float  int yes/no        date categorical\n",
      "0  0.283405    4     No  2017-10-06           E\n",
      "1  0.034334    5    Yes  2017-10-07           F\n",
      "2  0.773453    6    Yes  2017-10-08           G\n",
      "6  0.691557    9    Yes  2017-10-11           C\n",
      "7  0.526204    1     No  2017-10-03           B\n"
     ]
    }
   ],
   "source": [
    "with Example():\n",
    "    dataset.drop([3, 4, 5], inplace = True)"
   ]
  },
  {
   "cell_type": "code",
   "execution_count": 42,
   "metadata": {},
   "outputs": [
    {
     "name": "stdout",
     "output_type": "stream",
     "text": [
      "====== before ======\n",
      "      float  int yes/no        date categorical\n",
      "0  0.283405    4     No  2017-10-06           E\n",
      "1  0.034334    5    Yes  2017-10-07           F\n",
      "2  0.773453    6    Yes  2017-10-08           G\n",
      "3  0.550071    8     No  2017-10-10           B\n",
      "4  0.382113    9     No  2017-10-11           C\n",
      "5  0.921326    1     No  2017-10-03           B\n",
      "6  0.691557    9    Yes  2017-10-11           C\n",
      "7  0.526204    1     No  2017-10-03           B\n",
      "====== after ======\n",
      "      float  int yes/no        date categorical\n",
      "0  0.283405    4     No  2017-10-06           E\n",
      "1  0.034334    5    Yes  2017-10-07           F\n",
      "2  0.773453    6    Yes  2017-10-08           G\n",
      "3  0.691557    9    Yes  2017-10-11           C\n",
      "4  0.526204    1     No  2017-10-03           B\n"
     ]
    }
   ],
   "source": [
    "with Example():\n",
    "    dataset.drop([3, 4, 5], inplace = True)\n",
    "    dataset.reset_index(drop = True, inplace = True)"
   ]
  },
  {
   "cell_type": "markdown",
   "metadata": {},
   "source": [
    "## One hot encoding string column"
   ]
  },
  {
   "cell_type": "code",
   "execution_count": 43,
   "metadata": {
    "collapsed": true
   },
   "outputs": [],
   "source": [
    "from sklearn.preprocessing import LabelBinarizer"
   ]
  },
  {
   "cell_type": "code",
   "execution_count": 45,
   "metadata": {},
   "outputs": [
    {
     "name": "stdout",
     "output_type": "stream",
     "text": [
      "[[0 0 1 0 0]\n",
      " [0 0 0 1 0]\n",
      " [0 0 0 0 1]\n",
      " [1 0 0 0 0]\n",
      " [0 1 0 0 0]\n",
      " [1 0 0 0 0]\n",
      " [0 1 0 0 0]\n",
      " [1 0 0 0 0]]\n"
     ]
    }
   ],
   "source": [
    "Example(inspecting = False)\n",
    "\n",
    "encoder = LabelBinarizer()\n",
    "onehot = encoder.fit_transform(dataset[\"categorical\"])\n",
    "print(onehot)"
   ]
  },
  {
   "cell_type": "code",
   "execution_count": 46,
   "metadata": {},
   "outputs": [
    {
     "name": "stdout",
     "output_type": "stream",
     "text": [
      "====== before ======\n",
      "      float  int yes/no        date categorical\n",
      "0  0.283405    4     No  2017-10-06           E\n",
      "1  0.034334    5    Yes  2017-10-07           F\n",
      "2  0.773453    6    Yes  2017-10-08           G\n",
      "3  0.550071    8     No  2017-10-10           B\n",
      "4  0.382113    9     No  2017-10-11           C\n",
      "5  0.921326    1     No  2017-10-03           B\n",
      "6  0.691557    9    Yes  2017-10-11           C\n",
      "7  0.526204    1     No  2017-10-03           B\n",
      "====== after ======\n",
      "      float  int yes/no        date categorical  c(B)  c(C)  c(E)  c(F)  c(G)\n",
      "0  0.283405    4     No  2017-10-06           E     0     0     1     0     0\n",
      "1  0.034334    5    Yes  2017-10-07           F     0     0     0     1     0\n",
      "2  0.773453    6    Yes  2017-10-08           G     0     0     0     0     1\n",
      "3  0.550071    8     No  2017-10-10           B     1     0     0     0     0\n",
      "4  0.382113    9     No  2017-10-11           C     0     1     0     0     0\n",
      "5  0.921326    1     No  2017-10-03           B     1     0     0     0     0\n",
      "6  0.691557    9    Yes  2017-10-11           C     0     1     0     0     0\n",
      "7  0.526204    1     No  2017-10-03           B     1     0     0     0     0\n"
     ]
    }
   ],
   "source": [
    "with Example():\n",
    "    encoder = LabelBinarizer()\n",
    "    onehot = encoder.fit_transform(dataset[\"categorical\"])\n",
    "    \n",
    "    for j, class_ in enumerate(encoder.classes_):\n",
    "        dataset['c({})'.format(class_)] = onehot[:, j]"
   ]
  },
  {
   "cell_type": "code",
   "execution_count": 48,
   "metadata": {},
   "outputs": [
    {
     "name": "stdout",
     "output_type": "stream",
     "text": [
      "====== before ======\n",
      "      float  int yes/no        date categorical\n",
      "0  0.283405    4     No  2017-10-06           E\n",
      "1  0.034334    5    Yes  2017-10-07           F\n",
      "2  0.773453    6    Yes  2017-10-08           G\n",
      "3  0.550071    8     No  2017-10-10           B\n",
      "4  0.382113    9     No  2017-10-11           C\n",
      "5  0.921326    1     No  2017-10-03           B\n",
      "6  0.691557    9    Yes  2017-10-11           C\n",
      "7  0.526204    1     No  2017-10-03           B\n",
      "====== after ======\n",
      "      float  int yes/no        date  c(B)  c(C)  c(E)  c(F)  c(G)\n",
      "0  0.283405    4     No  2017-10-06     0     0     1     0     0\n",
      "1  0.034334    5    Yes  2017-10-07     0     0     0     1     0\n",
      "2  0.773453    6    Yes  2017-10-08     0     0     0     0     1\n",
      "3  0.550071    8     No  2017-10-10     1     0     0     0     0\n",
      "4  0.382113    9     No  2017-10-11     0     1     0     0     0\n",
      "5  0.921326    1     No  2017-10-03     1     0     0     0     0\n",
      "6  0.691557    9    Yes  2017-10-11     0     1     0     0     0\n",
      "7  0.526204    1     No  2017-10-03     1     0     0     0     0\n"
     ]
    }
   ],
   "source": [
    "with Example():\n",
    "    encoder = LabelBinarizer()\n",
    "    onehot = encoder.fit_transform(dataset[\"categorical\"])\n",
    "    \n",
    "    for j, class_ in enumerate(encoder.classes_):\n",
    "        dataset[\"c({})\".format(class_)] = onehot[:, j]\n",
    "        \n",
    "    del dataset[\"categorical\"]"
   ]
  },
  {
   "cell_type": "markdown",
   "metadata": {},
   "source": [
    "## Subset dataframe by columns"
   ]
  },
  {
   "cell_type": "code",
   "execution_count": 49,
   "metadata": {},
   "outputs": [
    {
     "data": {
      "text/html": [
       "<div>\n",
       "<style>\n",
       "    .dataframe thead tr:only-child th {\n",
       "        text-align: right;\n",
       "    }\n",
       "\n",
       "    .dataframe thead th {\n",
       "        text-align: left;\n",
       "    }\n",
       "\n",
       "    .dataframe tbody tr th {\n",
       "        vertical-align: top;\n",
       "    }\n",
       "</style>\n",
       "<table border=\"1\" class=\"dataframe\">\n",
       "  <thead>\n",
       "    <tr style=\"text-align: right;\">\n",
       "      <th></th>\n",
       "      <th>int</th>\n",
       "      <th>yes/no</th>\n",
       "    </tr>\n",
       "  </thead>\n",
       "  <tbody>\n",
       "    <tr>\n",
       "      <th>0</th>\n",
       "      <td>4</td>\n",
       "      <td>No</td>\n",
       "    </tr>\n",
       "    <tr>\n",
       "      <th>1</th>\n",
       "      <td>5</td>\n",
       "      <td>Yes</td>\n",
       "    </tr>\n",
       "    <tr>\n",
       "      <th>2</th>\n",
       "      <td>6</td>\n",
       "      <td>Yes</td>\n",
       "    </tr>\n",
       "    <tr>\n",
       "      <th>3</th>\n",
       "      <td>8</td>\n",
       "      <td>No</td>\n",
       "    </tr>\n",
       "    <tr>\n",
       "      <th>4</th>\n",
       "      <td>9</td>\n",
       "      <td>No</td>\n",
       "    </tr>\n",
       "    <tr>\n",
       "      <th>5</th>\n",
       "      <td>1</td>\n",
       "      <td>No</td>\n",
       "    </tr>\n",
       "    <tr>\n",
       "      <th>6</th>\n",
       "      <td>9</td>\n",
       "      <td>Yes</td>\n",
       "    </tr>\n",
       "    <tr>\n",
       "      <th>7</th>\n",
       "      <td>1</td>\n",
       "      <td>No</td>\n",
       "    </tr>\n",
       "  </tbody>\n",
       "</table>\n",
       "</div>"
      ],
      "text/plain": [
       "   int yes/no\n",
       "0    4     No\n",
       "1    5    Yes\n",
       "2    6    Yes\n",
       "3    8     No\n",
       "4    9     No\n",
       "5    1     No\n",
       "6    9    Yes\n",
       "7    1     No"
      ]
     },
     "execution_count": 49,
     "metadata": {},
     "output_type": "execute_result"
    }
   ],
   "source": [
    "Example(inspecting = False)\n",
    "\n",
    "dataset.iloc[:, [1, 2]]"
   ]
  },
  {
   "cell_type": "code",
   "execution_count": 53,
   "metadata": {},
   "outputs": [
    {
     "data": {
      "text/html": [
       "<div>\n",
       "<style>\n",
       "    .dataframe thead tr:only-child th {\n",
       "        text-align: right;\n",
       "    }\n",
       "\n",
       "    .dataframe thead th {\n",
       "        text-align: left;\n",
       "    }\n",
       "\n",
       "    .dataframe tbody tr th {\n",
       "        vertical-align: top;\n",
       "    }\n",
       "</style>\n",
       "<table border=\"1\" class=\"dataframe\">\n",
       "  <thead>\n",
       "    <tr style=\"text-align: right;\">\n",
       "      <th></th>\n",
       "      <th>int</th>\n",
       "      <th>yes/no</th>\n",
       "    </tr>\n",
       "  </thead>\n",
       "  <tbody>\n",
       "    <tr>\n",
       "      <th>0</th>\n",
       "      <td>4</td>\n",
       "      <td>No</td>\n",
       "    </tr>\n",
       "    <tr>\n",
       "      <th>1</th>\n",
       "      <td>5</td>\n",
       "      <td>Yes</td>\n",
       "    </tr>\n",
       "    <tr>\n",
       "      <th>2</th>\n",
       "      <td>6</td>\n",
       "      <td>Yes</td>\n",
       "    </tr>\n",
       "    <tr>\n",
       "      <th>3</th>\n",
       "      <td>8</td>\n",
       "      <td>No</td>\n",
       "    </tr>\n",
       "    <tr>\n",
       "      <th>4</th>\n",
       "      <td>9</td>\n",
       "      <td>No</td>\n",
       "    </tr>\n",
       "    <tr>\n",
       "      <th>5</th>\n",
       "      <td>1</td>\n",
       "      <td>No</td>\n",
       "    </tr>\n",
       "    <tr>\n",
       "      <th>6</th>\n",
       "      <td>9</td>\n",
       "      <td>Yes</td>\n",
       "    </tr>\n",
       "    <tr>\n",
       "      <th>7</th>\n",
       "      <td>1</td>\n",
       "      <td>No</td>\n",
       "    </tr>\n",
       "  </tbody>\n",
       "</table>\n",
       "</div>"
      ],
      "text/plain": [
       "   int yes/no\n",
       "0    4     No\n",
       "1    5    Yes\n",
       "2    6    Yes\n",
       "3    8     No\n",
       "4    9     No\n",
       "5    1     No\n",
       "6    9    Yes\n",
       "7    1     No"
      ]
     },
     "execution_count": 53,
     "metadata": {},
     "output_type": "execute_result"
    }
   ],
   "source": [
    "Example(inspecting = False)\n",
    "\n",
    "dataset.loc[:, [\"int\", \"yes/no\"]]"
   ]
  },
  {
   "cell_type": "code",
   "execution_count": 54,
   "metadata": {},
   "outputs": [
    {
     "data": {
      "text/html": [
       "<div>\n",
       "<style>\n",
       "    .dataframe thead tr:only-child th {\n",
       "        text-align: right;\n",
       "    }\n",
       "\n",
       "    .dataframe thead th {\n",
       "        text-align: left;\n",
       "    }\n",
       "\n",
       "    .dataframe tbody tr th {\n",
       "        vertical-align: top;\n",
       "    }\n",
       "</style>\n",
       "<table border=\"1\" class=\"dataframe\">\n",
       "  <thead>\n",
       "    <tr style=\"text-align: right;\">\n",
       "      <th></th>\n",
       "      <th>float</th>\n",
       "      <th>date</th>\n",
       "      <th>categorical</th>\n",
       "    </tr>\n",
       "  </thead>\n",
       "  <tbody>\n",
       "    <tr>\n",
       "      <th>0</th>\n",
       "      <td>0.283405</td>\n",
       "      <td>2017-10-06</td>\n",
       "      <td>E</td>\n",
       "    </tr>\n",
       "    <tr>\n",
       "      <th>1</th>\n",
       "      <td>0.034334</td>\n",
       "      <td>2017-10-07</td>\n",
       "      <td>F</td>\n",
       "    </tr>\n",
       "    <tr>\n",
       "      <th>2</th>\n",
       "      <td>0.773453</td>\n",
       "      <td>2017-10-08</td>\n",
       "      <td>G</td>\n",
       "    </tr>\n",
       "    <tr>\n",
       "      <th>3</th>\n",
       "      <td>0.550071</td>\n",
       "      <td>2017-10-10</td>\n",
       "      <td>B</td>\n",
       "    </tr>\n",
       "    <tr>\n",
       "      <th>4</th>\n",
       "      <td>0.382113</td>\n",
       "      <td>2017-10-11</td>\n",
       "      <td>C</td>\n",
       "    </tr>\n",
       "    <tr>\n",
       "      <th>5</th>\n",
       "      <td>0.921326</td>\n",
       "      <td>2017-10-03</td>\n",
       "      <td>B</td>\n",
       "    </tr>\n",
       "    <tr>\n",
       "      <th>6</th>\n",
       "      <td>0.691557</td>\n",
       "      <td>2017-10-11</td>\n",
       "      <td>C</td>\n",
       "    </tr>\n",
       "    <tr>\n",
       "      <th>7</th>\n",
       "      <td>0.526204</td>\n",
       "      <td>2017-10-03</td>\n",
       "      <td>B</td>\n",
       "    </tr>\n",
       "  </tbody>\n",
       "</table>\n",
       "</div>"
      ],
      "text/plain": [
       "      float        date categorical\n",
       "0  0.283405  2017-10-06           E\n",
       "1  0.034334  2017-10-07           F\n",
       "2  0.773453  2017-10-08           G\n",
       "3  0.550071  2017-10-10           B\n",
       "4  0.382113  2017-10-11           C\n",
       "5  0.921326  2017-10-03           B\n",
       "6  0.691557  2017-10-11           C\n",
       "7  0.526204  2017-10-03           B"
      ]
     },
     "execution_count": 54,
     "metadata": {},
     "output_type": "execute_result"
    }
   ],
   "source": [
    "Example(inspecting = False)\n",
    "\n",
    "dataset.loc[:, filter(lambda i: \"a\" in i, dataset.columns)]"
   ]
  },
  {
   "cell_type": "code",
   "execution_count": 55,
   "metadata": {},
   "outputs": [
    {
     "data": {
      "text/html": [
       "<div>\n",
       "<style>\n",
       "    .dataframe thead tr:only-child th {\n",
       "        text-align: right;\n",
       "    }\n",
       "\n",
       "    .dataframe thead th {\n",
       "        text-align: left;\n",
       "    }\n",
       "\n",
       "    .dataframe tbody tr th {\n",
       "        vertical-align: top;\n",
       "    }\n",
       "</style>\n",
       "<table border=\"1\" class=\"dataframe\">\n",
       "  <thead>\n",
       "    <tr style=\"text-align: right;\">\n",
       "      <th></th>\n",
       "      <th>date</th>\n",
       "      <th>categorical</th>\n",
       "    </tr>\n",
       "  </thead>\n",
       "  <tbody>\n",
       "    <tr>\n",
       "      <th>0</th>\n",
       "      <td>2017-10-06</td>\n",
       "      <td>E</td>\n",
       "    </tr>\n",
       "    <tr>\n",
       "      <th>1</th>\n",
       "      <td>2017-10-07</td>\n",
       "      <td>F</td>\n",
       "    </tr>\n",
       "    <tr>\n",
       "      <th>2</th>\n",
       "      <td>2017-10-08</td>\n",
       "      <td>G</td>\n",
       "    </tr>\n",
       "    <tr>\n",
       "      <th>3</th>\n",
       "      <td>2017-10-10</td>\n",
       "      <td>B</td>\n",
       "    </tr>\n",
       "    <tr>\n",
       "      <th>4</th>\n",
       "      <td>2017-10-11</td>\n",
       "      <td>C</td>\n",
       "    </tr>\n",
       "    <tr>\n",
       "      <th>5</th>\n",
       "      <td>2017-10-03</td>\n",
       "      <td>B</td>\n",
       "    </tr>\n",
       "    <tr>\n",
       "      <th>6</th>\n",
       "      <td>2017-10-11</td>\n",
       "      <td>C</td>\n",
       "    </tr>\n",
       "    <tr>\n",
       "      <th>7</th>\n",
       "      <td>2017-10-03</td>\n",
       "      <td>B</td>\n",
       "    </tr>\n",
       "  </tbody>\n",
       "</table>\n",
       "</div>"
      ],
      "text/plain": [
       "         date categorical\n",
       "0  2017-10-06           E\n",
       "1  2017-10-07           F\n",
       "2  2017-10-08           G\n",
       "3  2017-10-10           B\n",
       "4  2017-10-11           C\n",
       "5  2017-10-03           B\n",
       "6  2017-10-11           C\n",
       "7  2017-10-03           B"
      ]
     },
     "execution_count": 55,
     "metadata": {},
     "output_type": "execute_result"
    }
   ],
   "source": [
    "Example(inspecting = False)\n",
    "\n",
    "dataset.loc[:, filter(lambda i: i.startswith('c') or i.startswith('d'), dataset.columns)]"
   ]
  },
  {
   "cell_type": "code",
   "execution_count": 58,
   "metadata": {},
   "outputs": [
    {
     "data": {
      "text/html": [
       "<div>\n",
       "<style>\n",
       "    .dataframe thead tr:only-child th {\n",
       "        text-align: right;\n",
       "    }\n",
       "\n",
       "    .dataframe thead th {\n",
       "        text-align: left;\n",
       "    }\n",
       "\n",
       "    .dataframe tbody tr th {\n",
       "        vertical-align: top;\n",
       "    }\n",
       "</style>\n",
       "<table border=\"1\" class=\"dataframe\">\n",
       "  <thead>\n",
       "    <tr style=\"text-align: right;\">\n",
       "      <th></th>\n",
       "      <th>date</th>\n",
       "      <th>categorical</th>\n",
       "    </tr>\n",
       "  </thead>\n",
       "  <tbody>\n",
       "    <tr>\n",
       "      <th>0</th>\n",
       "      <td>2017-10-06</td>\n",
       "      <td>E</td>\n",
       "    </tr>\n",
       "    <tr>\n",
       "      <th>1</th>\n",
       "      <td>2017-10-07</td>\n",
       "      <td>F</td>\n",
       "    </tr>\n",
       "    <tr>\n",
       "      <th>2</th>\n",
       "      <td>2017-10-08</td>\n",
       "      <td>G</td>\n",
       "    </tr>\n",
       "    <tr>\n",
       "      <th>3</th>\n",
       "      <td>2017-10-10</td>\n",
       "      <td>B</td>\n",
       "    </tr>\n",
       "    <tr>\n",
       "      <th>4</th>\n",
       "      <td>2017-10-11</td>\n",
       "      <td>C</td>\n",
       "    </tr>\n",
       "    <tr>\n",
       "      <th>5</th>\n",
       "      <td>2017-10-03</td>\n",
       "      <td>B</td>\n",
       "    </tr>\n",
       "    <tr>\n",
       "      <th>6</th>\n",
       "      <td>2017-10-11</td>\n",
       "      <td>C</td>\n",
       "    </tr>\n",
       "    <tr>\n",
       "      <th>7</th>\n",
       "      <td>2017-10-03</td>\n",
       "      <td>B</td>\n",
       "    </tr>\n",
       "  </tbody>\n",
       "</table>\n",
       "</div>"
      ],
      "text/plain": [
       "         date categorical\n",
       "0  2017-10-06           E\n",
       "1  2017-10-07           F\n",
       "2  2017-10-08           G\n",
       "3  2017-10-10           B\n",
       "4  2017-10-11           C\n",
       "5  2017-10-03           B\n",
       "6  2017-10-11           C\n",
       "7  2017-10-03           B"
      ]
     },
     "execution_count": 58,
     "metadata": {},
     "output_type": "execute_result"
    }
   ],
   "source": [
    "Example(inspecting = False)\n",
    "\n",
    "dataset.loc[:, [i for i in dataset.columns if i.startswith(\"c\") or i.startswith(\"d\")]]"
   ]
  },
  {
   "cell_type": "markdown",
   "metadata": {},
   "source": [
    "## Subset dataframe by rows"
   ]
  },
  {
   "cell_type": "code",
   "execution_count": 59,
   "metadata": {},
   "outputs": [
    {
     "data": {
      "text/html": [
       "<div>\n",
       "<style>\n",
       "    .dataframe thead tr:only-child th {\n",
       "        text-align: right;\n",
       "    }\n",
       "\n",
       "    .dataframe thead th {\n",
       "        text-align: left;\n",
       "    }\n",
       "\n",
       "    .dataframe tbody tr th {\n",
       "        vertical-align: top;\n",
       "    }\n",
       "</style>\n",
       "<table border=\"1\" class=\"dataframe\">\n",
       "  <thead>\n",
       "    <tr style=\"text-align: right;\">\n",
       "      <th></th>\n",
       "      <th>float</th>\n",
       "      <th>int</th>\n",
       "      <th>yes/no</th>\n",
       "      <th>date</th>\n",
       "      <th>categorical</th>\n",
       "    </tr>\n",
       "  </thead>\n",
       "  <tbody>\n",
       "    <tr>\n",
       "      <th>3</th>\n",
       "      <td>0.550071</td>\n",
       "      <td>8</td>\n",
       "      <td>No</td>\n",
       "      <td>2017-10-10</td>\n",
       "      <td>B</td>\n",
       "    </tr>\n",
       "    <tr>\n",
       "      <th>4</th>\n",
       "      <td>0.382113</td>\n",
       "      <td>9</td>\n",
       "      <td>No</td>\n",
       "      <td>2017-10-11</td>\n",
       "      <td>C</td>\n",
       "    </tr>\n",
       "    <tr>\n",
       "      <th>5</th>\n",
       "      <td>0.921326</td>\n",
       "      <td>1</td>\n",
       "      <td>No</td>\n",
       "      <td>2017-10-03</td>\n",
       "      <td>B</td>\n",
       "    </tr>\n",
       "  </tbody>\n",
       "</table>\n",
       "</div>"
      ],
      "text/plain": [
       "      float  int yes/no        date categorical\n",
       "3  0.550071    8     No  2017-10-10           B\n",
       "4  0.382113    9     No  2017-10-11           C\n",
       "5  0.921326    1     No  2017-10-03           B"
      ]
     },
     "execution_count": 59,
     "metadata": {},
     "output_type": "execute_result"
    }
   ],
   "source": [
    "Example(inspecting = False)\n",
    "\n",
    "dataset.iloc[[3, 4, 5], :]"
   ]
  },
  {
   "cell_type": "code",
   "execution_count": 61,
   "metadata": {},
   "outputs": [
    {
     "name": "stdout",
     "output_type": "stream",
     "text": [
      "0    False\n",
      "1    False\n",
      "2     True\n",
      "3     True\n",
      "4     True\n",
      "5    False\n",
      "6     True\n",
      "7    False\n",
      "Name: int, dtype: bool\n"
     ]
    },
    {
     "data": {
      "text/html": [
       "<div>\n",
       "<style>\n",
       "    .dataframe thead tr:only-child th {\n",
       "        text-align: right;\n",
       "    }\n",
       "\n",
       "    .dataframe thead th {\n",
       "        text-align: left;\n",
       "    }\n",
       "\n",
       "    .dataframe tbody tr th {\n",
       "        vertical-align: top;\n",
       "    }\n",
       "</style>\n",
       "<table border=\"1\" class=\"dataframe\">\n",
       "  <thead>\n",
       "    <tr style=\"text-align: right;\">\n",
       "      <th></th>\n",
       "      <th>float</th>\n",
       "      <th>int</th>\n",
       "      <th>yes/no</th>\n",
       "      <th>date</th>\n",
       "      <th>categorical</th>\n",
       "    </tr>\n",
       "  </thead>\n",
       "  <tbody>\n",
       "    <tr>\n",
       "      <th>2</th>\n",
       "      <td>0.773453</td>\n",
       "      <td>6</td>\n",
       "      <td>Yes</td>\n",
       "      <td>2017-10-08</td>\n",
       "      <td>G</td>\n",
       "    </tr>\n",
       "    <tr>\n",
       "      <th>3</th>\n",
       "      <td>0.550071</td>\n",
       "      <td>8</td>\n",
       "      <td>No</td>\n",
       "      <td>2017-10-10</td>\n",
       "      <td>B</td>\n",
       "    </tr>\n",
       "    <tr>\n",
       "      <th>4</th>\n",
       "      <td>0.382113</td>\n",
       "      <td>9</td>\n",
       "      <td>No</td>\n",
       "      <td>2017-10-11</td>\n",
       "      <td>C</td>\n",
       "    </tr>\n",
       "    <tr>\n",
       "      <th>6</th>\n",
       "      <td>0.691557</td>\n",
       "      <td>9</td>\n",
       "      <td>Yes</td>\n",
       "      <td>2017-10-11</td>\n",
       "      <td>C</td>\n",
       "    </tr>\n",
       "  </tbody>\n",
       "</table>\n",
       "</div>"
      ],
      "text/plain": [
       "      float  int yes/no        date categorical\n",
       "2  0.773453    6    Yes  2017-10-08           G\n",
       "3  0.550071    8     No  2017-10-10           B\n",
       "4  0.382113    9     No  2017-10-11           C\n",
       "6  0.691557    9    Yes  2017-10-11           C"
      ]
     },
     "execution_count": 61,
     "metadata": {},
     "output_type": "execute_result"
    }
   ],
   "source": [
    "Example(inspecting = False)\n",
    "\n",
    "print(dataset[\"int\"] > 5)\n",
    "\n",
    "dataset[dataset[\"int\"] > 5]"
   ]
  },
  {
   "cell_type": "code",
   "execution_count": 62,
   "metadata": {},
   "outputs": [
    {
     "data": {
      "text/html": [
       "<div>\n",
       "<style>\n",
       "    .dataframe thead tr:only-child th {\n",
       "        text-align: right;\n",
       "    }\n",
       "\n",
       "    .dataframe thead th {\n",
       "        text-align: left;\n",
       "    }\n",
       "\n",
       "    .dataframe tbody tr th {\n",
       "        vertical-align: top;\n",
       "    }\n",
       "</style>\n",
       "<table border=\"1\" class=\"dataframe\">\n",
       "  <thead>\n",
       "    <tr style=\"text-align: right;\">\n",
       "      <th></th>\n",
       "      <th>float</th>\n",
       "      <th>int</th>\n",
       "      <th>yes/no</th>\n",
       "      <th>date</th>\n",
       "      <th>categorical</th>\n",
       "    </tr>\n",
       "  </thead>\n",
       "  <tbody>\n",
       "    <tr>\n",
       "      <th>2</th>\n",
       "      <td>0.773453</td>\n",
       "      <td>6</td>\n",
       "      <td>Yes</td>\n",
       "      <td>2017-10-08</td>\n",
       "      <td>G</td>\n",
       "    </tr>\n",
       "    <tr>\n",
       "      <th>6</th>\n",
       "      <td>0.691557</td>\n",
       "      <td>9</td>\n",
       "      <td>Yes</td>\n",
       "      <td>2017-10-11</td>\n",
       "      <td>C</td>\n",
       "    </tr>\n",
       "  </tbody>\n",
       "</table>\n",
       "</div>"
      ],
      "text/plain": [
       "      float  int yes/no        date categorical\n",
       "2  0.773453    6    Yes  2017-10-08           G\n",
       "6  0.691557    9    Yes  2017-10-11           C"
      ]
     },
     "execution_count": 62,
     "metadata": {},
     "output_type": "execute_result"
    }
   ],
   "source": [
    "Example(inspecting = False)\n",
    "\n",
    "dataset[(dataset[\"float\"] > 0.5) & (dataset[\"yes/no\"] == 'Yes')]"
   ]
  },
  {
   "cell_type": "code",
   "execution_count": 63,
   "metadata": {},
   "outputs": [
    {
     "data": {
      "text/plain": [
       "2"
      ]
     },
     "execution_count": 63,
     "metadata": {},
     "output_type": "execute_result"
    }
   ],
   "source": [
    "Example(inspecting = False)\n",
    "\n",
    "np.sum((dataset[\"float\"] > 0.5) & (dataset[\"yes/no\"] == \"Yes\"))"
   ]
  },
  {
   "cell_type": "markdown",
   "metadata": {},
   "source": [
    "Notice the usage of dataset[]. It acts on either rows or columns depending on the context"
   ]
  },
  {
   "cell_type": "code",
   "execution_count": 64,
   "metadata": {},
   "outputs": [
    {
     "data": {
      "text/plain": [
       "0    E\n",
       "1    F\n",
       "2    G\n",
       "3    B\n",
       "4    C\n",
       "5    B\n",
       "6    C\n",
       "7    B\n",
       "Name: categorical, dtype: object"
      ]
     },
     "execution_count": 64,
     "metadata": {},
     "output_type": "execute_result"
    }
   ],
   "source": [
    "Example(inspecting = False)\n",
    "\n",
    "obj = \"categorical\"\n",
    "dataset[obj]"
   ]
  },
  {
   "cell_type": "code",
   "execution_count": 66,
   "metadata": {},
   "outputs": [
    {
     "data": {
      "text/html": [
       "<div>\n",
       "<style>\n",
       "    .dataframe thead tr:only-child th {\n",
       "        text-align: right;\n",
       "    }\n",
       "\n",
       "    .dataframe thead th {\n",
       "        text-align: left;\n",
       "    }\n",
       "\n",
       "    .dataframe tbody tr th {\n",
       "        vertical-align: top;\n",
       "    }\n",
       "</style>\n",
       "<table border=\"1\" class=\"dataframe\">\n",
       "  <thead>\n",
       "    <tr style=\"text-align: right;\">\n",
       "      <th></th>\n",
       "      <th>float</th>\n",
       "      <th>int</th>\n",
       "      <th>yes/no</th>\n",
       "      <th>date</th>\n",
       "      <th>categorical</th>\n",
       "    </tr>\n",
       "  </thead>\n",
       "  <tbody>\n",
       "    <tr>\n",
       "      <th>4</th>\n",
       "      <td>0.382113</td>\n",
       "      <td>9</td>\n",
       "      <td>No</td>\n",
       "      <td>2017-10-11</td>\n",
       "      <td>C</td>\n",
       "    </tr>\n",
       "    <tr>\n",
       "      <th>6</th>\n",
       "      <td>0.691557</td>\n",
       "      <td>9</td>\n",
       "      <td>Yes</td>\n",
       "      <td>2017-10-11</td>\n",
       "      <td>C</td>\n",
       "    </tr>\n",
       "  </tbody>\n",
       "</table>\n",
       "</div>"
      ],
      "text/plain": [
       "      float  int yes/no        date categorical\n",
       "4  0.382113    9     No  2017-10-11           C\n",
       "6  0.691557    9    Yes  2017-10-11           C"
      ]
     },
     "execution_count": 66,
     "metadata": {},
     "output_type": "execute_result"
    }
   ],
   "source": [
    "Example(inspecting = False)\n",
    "\n",
    "obj = [False,False,False,False,True,False,True,False]\n",
    "dataset[obj]"
   ]
  },
  {
   "cell_type": "code",
   "execution_count": 67,
   "metadata": {},
   "outputs": [
    {
     "data": {
      "text/html": [
       "<div>\n",
       "<style>\n",
       "    .dataframe thead tr:only-child th {\n",
       "        text-align: right;\n",
       "    }\n",
       "\n",
       "    .dataframe thead th {\n",
       "        text-align: left;\n",
       "    }\n",
       "\n",
       "    .dataframe tbody tr th {\n",
       "        vertical-align: top;\n",
       "    }\n",
       "</style>\n",
       "<table border=\"1\" class=\"dataframe\">\n",
       "  <thead>\n",
       "    <tr style=\"text-align: right;\">\n",
       "      <th></th>\n",
       "      <th>float</th>\n",
       "      <th>int</th>\n",
       "      <th>yes/no</th>\n",
       "      <th>date</th>\n",
       "      <th>categorical</th>\n",
       "    </tr>\n",
       "  </thead>\n",
       "  <tbody>\n",
       "    <tr>\n",
       "      <th>4</th>\n",
       "      <td>0.382113</td>\n",
       "      <td>9</td>\n",
       "      <td>No</td>\n",
       "      <td>2017-10-11</td>\n",
       "      <td>C</td>\n",
       "    </tr>\n",
       "    <tr>\n",
       "      <th>6</th>\n",
       "      <td>0.691557</td>\n",
       "      <td>9</td>\n",
       "      <td>Yes</td>\n",
       "      <td>2017-10-11</td>\n",
       "      <td>C</td>\n",
       "    </tr>\n",
       "  </tbody>\n",
       "</table>\n",
       "</div>"
      ],
      "text/plain": [
       "      float  int yes/no        date categorical\n",
       "4  0.382113    9     No  2017-10-11           C\n",
       "6  0.691557    9    Yes  2017-10-11           C"
      ]
     },
     "execution_count": 67,
     "metadata": {},
     "output_type": "execute_result"
    }
   ],
   "source": [
    "Example(inspecting = False)\n",
    "dataset[dataset[\"categorical\"] == \"C\"]"
   ]
  },
  {
   "cell_type": "code",
   "execution_count": 68,
   "metadata": {},
   "outputs": [
    {
     "name": "stdout",
     "output_type": "stream",
     "text": [
      "====== before ======\n",
      "      float  int yes/no        date categorical\n",
      "0  0.283405    4     No  2017-10-06           E\n",
      "1  0.034334    5    Yes  2017-10-07           F\n",
      "2  0.773453    6    Yes  2017-10-08           G\n",
      "3  0.550071    8     No  2017-10-10           B\n",
      "4  0.382113    9     No  2017-10-11           C\n",
      "5  0.921326    1     No  2017-10-03           B\n",
      "6  0.691557    9    Yes  2017-10-11           C\n",
      "7  0.526204    1     No  2017-10-03           B\n",
      "====== after ======\n",
      "      float  int yes/no        date categorical\n",
      "0  0.283405    4     No  2017-10-06           A\n",
      "1  0.034334    5    Yes  2017-10-07           A\n",
      "2  0.773453    6    Yes  2017-10-08           A\n",
      "3  0.550071    8     No  2017-10-10           A\n",
      "4  0.382113    9     No  2017-10-11           A\n",
      "5  0.921326    1     No  2017-10-03           A\n",
      "6  0.691557    9    Yes  2017-10-11           A\n",
      "7  0.526204    1     No  2017-10-03           A\n"
     ]
    }
   ],
   "source": [
    "with Example():\n",
    "    dataset[\"categorical\"] = [\"A\"] * 8"
   ]
  },
  {
   "cell_type": "code",
   "execution_count": 69,
   "metadata": {},
   "outputs": [
    {
     "name": "stdout",
     "output_type": "stream",
     "text": [
      "====== before ======\n",
      "      float  int yes/no        date categorical\n",
      "0  0.283405    4     No  2017-10-06           E\n",
      "1  0.034334    5    Yes  2017-10-07           F\n",
      "2  0.773453    6    Yes  2017-10-08           G\n",
      "3  0.550071    8     No  2017-10-10           B\n",
      "4  0.382113    9     No  2017-10-11           C\n",
      "5  0.921326    1     No  2017-10-03           B\n",
      "6  0.691557    9    Yes  2017-10-11           C\n",
      "7  0.526204    1     No  2017-10-03           B\n",
      "====== after ======\n",
      "      float  int yes/no        date categorical\n",
      "0  0.283405    4     No  2017-10-06           E\n",
      "1  0.034334    5    Yes  2017-10-07           F\n",
      "2  0.773453    6    Yes  2017-10-08           G\n",
      "3  0.550071    8     No  2017-10-10           B\n",
      "4 -1.000000 -128     No  0000-00-00         <<<\n",
      "5  0.921326    1     No  2017-10-03           B\n",
      "6 -1.000000 -128     No  0000-00-00         <<<\n",
      "7  0.526204    1     No  2017-10-03           B\n"
     ]
    }
   ],
   "source": [
    "with Example():\n",
    "    dataset[dataset['categorical']=='C'] = [-1, -128, 'No', '0000-00-00', '<<<']"
   ]
  },
  {
   "cell_type": "code",
   "execution_count": 70,
   "metadata": {},
   "outputs": [
    {
     "name": "stdout",
     "output_type": "stream",
     "text": [
      "====== before ======\n",
      "      float  int yes/no        date categorical\n",
      "0  0.283405    4     No  2017-10-06           E\n",
      "1  0.034334    5    Yes  2017-10-07           F\n",
      "2  0.773453    6    Yes  2017-10-08           G\n",
      "3  0.550071    8     No  2017-10-10           B\n",
      "4  0.382113    9     No  2017-10-11           C\n",
      "5  0.921326    1     No  2017-10-03           B\n",
      "6  0.691557    9    Yes  2017-10-11           C\n",
      "7  0.526204    1     No  2017-10-03           B\n",
      "====== after ======\n",
      "      float  int yes/no        date categorical\n",
      "0  0.283405    4     No  2017-10-06           E\n",
      "1  0.034334    5    Yes  2017-10-07           F\n",
      "2  0.773453    6    Yes  2017-10-08           G\n",
      "3  0.550071    8     No  2017-10-10           B\n",
      "4 -1.000000 -128     No  0000-00-00         <<<\n",
      "5  0.921326    1     No  2017-10-03           B\n",
      "6  0.000000  127    Yes  1900-12-01         <<<\n",
      "7  0.526204    1     No  2017-10-03           B\n"
     ]
    }
   ],
   "source": [
    "with Example():\n",
    "    dataset[dataset['categorical']=='C'] = [\n",
    "        [-1, -128, 'No', '0000-00-00', '<<<'],\n",
    "        [0, 127, 'Yes', '1900-12-01', '<<<']\n",
    "    ]"
   ]
  },
  {
   "cell_type": "markdown",
   "metadata": {},
   "source": [
    "## Resample dataset"
   ]
  },
  {
   "cell_type": "code",
   "execution_count": 71,
   "metadata": {},
   "outputs": [
    {
     "name": "stdout",
     "output_type": "stream",
     "text": [
      "====== before ======\n",
      "      float  int yes/no        date categorical\n",
      "0  0.283405    4     No  2017-10-06           E\n",
      "1  0.034334    5    Yes  2017-10-07           F\n",
      "2  0.773453    6    Yes  2017-10-08           G\n",
      "3  0.550071    8     No  2017-10-10           B\n",
      "4  0.382113    9     No  2017-10-11           C\n",
      "5  0.921326    1     No  2017-10-03           B\n",
      "6  0.691557    9    Yes  2017-10-11           C\n",
      "7  0.526204    1     No  2017-10-03           B\n",
      "====== after ======\n",
      "      float  int yes/no        date categorical\n",
      "1  0.034334    5    Yes  2017-10-07           F\n",
      "2  0.773453    6    Yes  2017-10-08           G\n"
     ]
    }
   ],
   "source": [
    "with Example():\n",
    "    dataset = dataset.sample(frac = 0.2)"
   ]
  },
  {
   "cell_type": "code",
   "execution_count": 72,
   "metadata": {},
   "outputs": [
    {
     "name": "stdout",
     "output_type": "stream",
     "text": [
      "====== before ======\n",
      "      float  int yes/no        date categorical\n",
      "0  0.283405    4     No  2017-10-06           E\n",
      "1  0.034334    5    Yes  2017-10-07           F\n",
      "2  0.773453    6    Yes  2017-10-08           G\n",
      "3  0.550071    8     No  2017-10-10           B\n",
      "4  0.382113    9     No  2017-10-11           C\n",
      "5  0.921326    1     No  2017-10-03           B\n",
      "6  0.691557    9    Yes  2017-10-11           C\n",
      "7  0.526204    1     No  2017-10-03           B\n",
      "====== after ======\n",
      "      float  int yes/no        date categorical\n",
      "2  0.773453    6    Yes  2017-10-08           G\n",
      "5  0.921326    1     No  2017-10-03           B\n",
      "5  0.921326    1     No  2017-10-03           B\n",
      "3  0.550071    8     No  2017-10-10           B\n",
      "1  0.034334    5    Yes  2017-10-07           F\n",
      "6  0.691557    9    Yes  2017-10-11           C\n",
      "7  0.526204    1     No  2017-10-03           B\n"
     ]
    }
   ],
   "source": [
    "with Example():\n",
    "    dataset = dataset.sample(frac = 0.9, replace = True)"
   ]
  },
  {
   "cell_type": "code",
   "execution_count": 73,
   "metadata": {},
   "outputs": [
    {
     "name": "stdout",
     "output_type": "stream",
     "text": [
      "====== before ======\n",
      "      float  int yes/no        date categorical\n",
      "0  0.283405    4     No  2017-10-06           E\n",
      "1  0.034334    5    Yes  2017-10-07           F\n",
      "2  0.773453    6    Yes  2017-10-08           G\n",
      "3  0.550071    8     No  2017-10-10           B\n",
      "4  0.382113    9     No  2017-10-11           C\n",
      "5  0.921326    1     No  2017-10-03           B\n",
      "6  0.691557    9    Yes  2017-10-11           C\n",
      "7  0.526204    1     No  2017-10-03           B\n",
      "====== after ======\n",
      "      float  int yes/no        date categorical\n",
      "4  0.382113    9     No  2017-10-11           C\n",
      "6  0.691557    9    Yes  2017-10-11           C\n",
      "2  0.773453    6    Yes  2017-10-08           G\n",
      "0  0.283405    4     No  2017-10-06           E\n",
      "7  0.526204    1     No  2017-10-03           B\n",
      "1  0.034334    5    Yes  2017-10-07           F\n",
      "5  0.921326    1     No  2017-10-03           B\n",
      "3  0.550071    8     No  2017-10-10           B\n"
     ]
    }
   ],
   "source": [
    "with Example():\n",
    "    dataset = dataset.sample(frac = 1)"
   ]
  },
  {
   "cell_type": "code",
   "execution_count": 74,
   "metadata": {},
   "outputs": [
    {
     "name": "stdout",
     "output_type": "stream",
     "text": [
      "====== before ======\n",
      "      float  int yes/no        date categorical\n",
      "0  0.283405    4     No  2017-10-06           E\n",
      "1  0.034334    5    Yes  2017-10-07           F\n",
      "2  0.773453    6    Yes  2017-10-08           G\n",
      "3  0.550071    8     No  2017-10-10           B\n",
      "4  0.382113    9     No  2017-10-11           C\n",
      "5  0.921326    1     No  2017-10-03           B\n",
      "6  0.691557    9    Yes  2017-10-11           C\n",
      "7  0.526204    1     No  2017-10-03           B\n",
      "====== after ======\n",
      "      float  int yes/no        date categorical\n",
      "4  0.382113    9     No  2017-10-11           C\n",
      "1  0.034334    5    Yes  2017-10-07           F\n",
      "6  0.691557    9    Yes  2017-10-11           C\n",
      "0  0.283405    4     No  2017-10-06           E\n",
      "4  0.382113    9     No  2017-10-11           C\n",
      "4  0.382113    9     No  2017-10-11           C\n",
      "4  0.382113    9     No  2017-10-11           C\n",
      "4  0.382113    9     No  2017-10-11           C\n",
      "5  0.921326    1     No  2017-10-03           B\n",
      "6  0.691557    9    Yes  2017-10-11           C\n",
      "5  0.921326    1     No  2017-10-03           B\n",
      "0  0.283405    4     No  2017-10-06           E\n"
     ]
    }
   ],
   "source": [
    "with Example():\n",
    "    dataset = dataset.sample(frac = 1.5, replace = True)"
   ]
  },
  {
   "cell_type": "code",
   "execution_count": 75,
   "metadata": {},
   "outputs": [
    {
     "name": "stdout",
     "output_type": "stream",
     "text": [
      "====== before ======\n",
      "      float  int yes/no        date categorical\n",
      "0  0.283405    4     No  2017-10-06           E\n",
      "1  0.034334    5    Yes  2017-10-07           F\n",
      "2  0.773453    6    Yes  2017-10-08           G\n",
      "3  0.550071    8     No  2017-10-10           B\n",
      "4  0.382113    9     No  2017-10-11           C\n",
      "5  0.921326    1     No  2017-10-03           B\n",
      "6  0.691557    9    Yes  2017-10-11           C\n",
      "7  0.526204    1     No  2017-10-03           B\n",
      "====== after ======\n",
      "       float  int yes/no        date categorical\n",
      "0   0.283405    4     No  2017-10-06           E\n",
      "1   0.382113    9     No  2017-10-11           C\n",
      "2   0.773453    6    Yes  2017-10-08           G\n",
      "3   0.382113    9     No  2017-10-11           C\n",
      "4   0.921326    1     No  2017-10-03           B\n",
      "5   0.691557    9    Yes  2017-10-11           C\n",
      "6   0.921326    1     No  2017-10-03           B\n",
      "7   0.921326    1     No  2017-10-03           B\n",
      "8   0.921326    1     No  2017-10-03           B\n",
      "9   0.283405    4     No  2017-10-06           E\n",
      "10  0.691557    9    Yes  2017-10-11           C\n",
      "11  0.034334    5    Yes  2017-10-07           F\n"
     ]
    }
   ],
   "source": [
    "with Example():\n",
    "    dataset = dataset.sample(frac = 1.5, replace = True).reset_index(drop=True)"
   ]
  },
  {
   "cell_type": "markdown",
   "metadata": {},
   "source": [
    "## EllipticEnvelope"
   ]
  },
  {
   "cell_type": "code",
   "execution_count": 76,
   "metadata": {},
   "outputs": [
    {
     "name": "stdout",
     "output_type": "stream",
     "text": [
      "====== before ======\n",
      "      float  int yes/no        date categorical\n",
      "0  0.283405    4     No  2017-10-06           E\n",
      "1  0.034334    5    Yes  2017-10-07           F\n",
      "2  0.773453    6    Yes  2017-10-08           G\n",
      "3  0.550071    8     No  2017-10-10           B\n",
      "4  0.382113    9     No  2017-10-11           C\n",
      "5  0.921326    1     No  2017-10-03           B\n",
      "6  0.691557    9    Yes  2017-10-11           C\n",
      "7  0.526204    1     No  2017-10-03           B\n",
      "====== after ======\n",
      "      float  int yes/no        date categorical\n",
      "0  0.283405    4     No  2017-10-06           E\n",
      "1  0.550071    8     No  2017-10-10           B\n",
      "2  0.382113    9     No  2017-10-11           C\n",
      "3  0.691557    9    Yes  2017-10-11           C\n",
      "4  0.526204    1     No  2017-10-03           B\n"
     ]
    }
   ],
   "source": [
    "from sklearn.covariance import EllipticEnvelope\n",
    "\n",
    "with Example():\n",
    "    envelope = EllipticEnvelope(contamination = 0.3)\n",
    "    envelope.fit(np.array(dataset['float']).reshape((-1, 1)))\n",
    "    outliers = envelope.predict(np.array(dataset['float']).reshape((-1, 1))) == -1\n",
    "    dataset.drop(np.flatnonzero(outliers), inplace=True)\n",
    "    dataset.reset_index(drop=True, inplace=True)"
   ]
  },
  {
   "cell_type": "markdown",
   "metadata": {},
   "source": [
    "## PCA"
   ]
  },
  {
   "cell_type": "code",
   "execution_count": 77,
   "metadata": {},
   "outputs": [
    {
     "name": "stdout",
     "output_type": "stream",
     "text": [
      "====== before ======\n",
      "      float  int yes/no        date categorical\n",
      "0  0.283405    4     No  2017-10-06           E\n",
      "1  0.034334    5    Yes  2017-10-07           F\n",
      "2  0.773453    6    Yes  2017-10-08           G\n",
      "3  0.550071    8     No  2017-10-10           B\n",
      "4  0.382113    9     No  2017-10-11           C\n",
      "5  0.921326    1     No  2017-10-03           B\n",
      "6  0.691557    9    Yes  2017-10-11           C\n",
      "7  0.526204    1     No  2017-10-03           B\n",
      "====== after ======\n",
      "      float  int yes/no        date categorical      PCA0      PCA1\n",
      "0  0.283405    4     No  2017-10-06           E  1.371933  0.254063\n",
      "1  0.034334    5    Yes  2017-10-07           F  0.368899  0.490621\n",
      "2  0.773453    6    Yes  2017-10-08           G -0.621789 -0.260934\n",
      "3  0.550071    8     No  2017-10-10           B -2.624423 -0.062556\n",
      "4  0.382113    9     No  2017-10-11           C -3.626444  0.092894\n",
      "5  0.921326    1     No  2017-10-03           B  4.379669 -0.346327\n",
      "6  0.691557    9    Yes  2017-10-11           C -3.622578 -0.216525\n",
      "7  0.526204    1     No  2017-10-03           B  4.374732  0.048764\n"
     ]
    }
   ],
   "source": [
    "from sklearn.decomposition import PCA\n",
    "\n",
    "with Example():\n",
    "    pca = PCA(n_components = 2)\n",
    "    X_PCA = pca.fit_transform(dataset.iloc[:,:2])\n",
    "    for j in range(X_PCA.shape[1]):\n",
    "        dataset['PCA{}'.format(j)] = X_PCA[:, j]"
   ]
  }
 ],
 "metadata": {
  "kernelspec": {
   "display_name": "Python 3",
   "language": "python",
   "name": "python3"
  },
  "language_info": {
   "codemirror_mode": {
    "name": "ipython",
    "version": 3
   },
   "file_extension": ".py",
   "mimetype": "text/x-python",
   "name": "python",
   "nbconvert_exporter": "python",
   "pygments_lexer": "ipython3",
   "version": "3.6.1"
  }
 },
 "nbformat": 4,
 "nbformat_minor": 2
}

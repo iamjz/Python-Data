{
 "cells": [
  {
   "cell_type": "markdown",
   "metadata": {},
   "source": [
    "## Parameter estimation by optimization\n",
    "\n",
    "When doing statistical inference, we speak the language of probability. A probability distribution that describes your data has parameters. So, a major goal of statistical inference is to estimate the values of these parameters, which allows us to concisely and unambiguously describe our data and draw conclusions from it. "
   ]
  },
  {
   "cell_type": "code",
   "execution_count": 27,
   "metadata": {},
   "outputs": [],
   "source": [
    "import pandas as pd\n",
    "import seaborn as sns\n",
    "import numpy as np\n",
    "import matplotlib.pyplot as plt\n",
    "\n",
    "# set seaborn settings\n",
    "sns.set()\n",
    "plt.rcParams[\"patch.force_edgecolor\"] = True # set lines\n",
    "sns.set_style(\"whitegrid\")\n",
    "\n",
    "np.random.seed(88)"
   ]
  },
  {
   "cell_type": "code",
   "execution_count": 21,
   "metadata": {
    "collapsed": true
   },
   "outputs": [],
   "source": [
    "def ecdf(data):\n",
    "    n = len(data)\n",
    "    x = np.sort(data)\n",
    "    y = np.arange(1, n + 1) / n\n",
    "    return x, y"
   ]
  },
  {
   "cell_type": "code",
   "execution_count": 4,
   "metadata": {},
   "outputs": [
    {
     "data": {
      "text/html": [
       "<div>\n",
       "<style>\n",
       "    .dataframe thead tr:only-child th {\n",
       "        text-align: right;\n",
       "    }\n",
       "\n",
       "    .dataframe thead th {\n",
       "        text-align: left;\n",
       "    }\n",
       "\n",
       "    .dataframe tbody tr th {\n",
       "        vertical-align: top;\n",
       "    }\n",
       "</style>\n",
       "<table border=\"1\" class=\"dataframe\">\n",
       "  <thead>\n",
       "    <tr style=\"text-align: right;\">\n",
       "      <th></th>\n",
       "      <th>date</th>\n",
       "      <th>distinctness of image</th>\n",
       "      <th>temperature (F)</th>\n",
       "      <th>position of deflected image</th>\n",
       "      <th>position of slit</th>\n",
       "      <th>displacement of image in divisions</th>\n",
       "      <th>difference between greatest and least</th>\n",
       "      <th>B</th>\n",
       "      <th>Cor</th>\n",
       "      <th>revolutions per second</th>\n",
       "      <th>radius (ft)</th>\n",
       "      <th>value of one turn of screw</th>\n",
       "      <th>velocity of light in air (km/s)</th>\n",
       "      <th>remarks</th>\n",
       "    </tr>\n",
       "  </thead>\n",
       "  <tbody>\n",
       "    <tr>\n",
       "      <th>0</th>\n",
       "      <td>5-Jun</td>\n",
       "      <td>3</td>\n",
       "      <td>76</td>\n",
       "      <td>114.85</td>\n",
       "      <td>0.300</td>\n",
       "      <td>114.55</td>\n",
       "      <td>0.17</td>\n",
       "      <td>1.423</td>\n",
       "      <td>-0.132</td>\n",
       "      <td>257.36</td>\n",
       "      <td>28.672</td>\n",
       "      <td>0.99614</td>\n",
       "      <td>299850</td>\n",
       "      <td>Electric light.</td>\n",
       "    </tr>\n",
       "    <tr>\n",
       "      <th>1</th>\n",
       "      <td>June  7</td>\n",
       "      <td>2</td>\n",
       "      <td>72</td>\n",
       "      <td>114.64</td>\n",
       "      <td>0.074</td>\n",
       "      <td>114.56</td>\n",
       "      <td>0.1</td>\n",
       "      <td>1.533</td>\n",
       "      <td>-0.084</td>\n",
       "      <td>257.52</td>\n",
       "      <td>28.655</td>\n",
       "      <td>0.99614</td>\n",
       "      <td>299740</td>\n",
       "      <td>P.M. Frame inclined at various angles</td>\n",
       "    </tr>\n",
       "    <tr>\n",
       "      <th>2</th>\n",
       "      <td>June  7</td>\n",
       "      <td>2</td>\n",
       "      <td>72</td>\n",
       "      <td>114.58</td>\n",
       "      <td>0.074</td>\n",
       "      <td>114.5</td>\n",
       "      <td>0.08</td>\n",
       "      <td>1.533</td>\n",
       "      <td>-0.084</td>\n",
       "      <td>257.52</td>\n",
       "      <td>28.647</td>\n",
       "      <td>0.99614</td>\n",
       "      <td>299900</td>\n",
       "      <td>P.M. Frame inclined at various angles</td>\n",
       "    </tr>\n",
       "    <tr>\n",
       "      <th>3</th>\n",
       "      <td>June  7</td>\n",
       "      <td>2</td>\n",
       "      <td>72</td>\n",
       "      <td>85.91</td>\n",
       "      <td>0.074</td>\n",
       "      <td>85.84</td>\n",
       "      <td>0.12</td>\n",
       "      <td>1.533</td>\n",
       "      <td>-0.084</td>\n",
       "      <td>193.14</td>\n",
       "      <td>28.647</td>\n",
       "      <td>0.99598</td>\n",
       "      <td>300070</td>\n",
       "      <td>P.M. Frame inclined at various angles</td>\n",
       "    </tr>\n",
       "    <tr>\n",
       "      <th>4</th>\n",
       "      <td>June  7</td>\n",
       "      <td>2</td>\n",
       "      <td>72</td>\n",
       "      <td>85.97</td>\n",
       "      <td>0.074</td>\n",
       "      <td>85.89</td>\n",
       "      <td>O.07</td>\n",
       "      <td>1.533</td>\n",
       "      <td>-0.084</td>\n",
       "      <td>193.14</td>\n",
       "      <td>28.650</td>\n",
       "      <td>0.99598</td>\n",
       "      <td>299930</td>\n",
       "      <td>P.M. Frame inclined at various angles</td>\n",
       "    </tr>\n",
       "  </tbody>\n",
       "</table>\n",
       "</div>"
      ],
      "text/plain": [
       "         date  distinctness of image  temperature (F)  \\\n",
       "0       5-Jun                      3               76   \n",
       "1     June  7                      2               72   \n",
       "2     June  7                      2               72   \n",
       "3     June  7                      2               72   \n",
       "4     June  7                      2               72   \n",
       "\n",
       "   position of deflected image  position of slit  \\\n",
       "0                       114.85             0.300   \n",
       "1                       114.64             0.074   \n",
       "2                       114.58             0.074   \n",
       "3                        85.91             0.074   \n",
       "4                        85.97             0.074   \n",
       "\n",
       "  displacement of image in divisions difference between greatest and least  \\\n",
       "0                             114.55                                  0.17   \n",
       "1                             114.56                                   0.1   \n",
       "2                              114.5                                  0.08   \n",
       "3                              85.84                                  0.12   \n",
       "4                              85.89                                  O.07   \n",
       "\n",
       "       B    Cor revolutions per second  radius (ft)  \\\n",
       "0  1.423 -0.132                 257.36       28.672   \n",
       "1  1.533 -0.084                 257.52       28.655   \n",
       "2  1.533 -0.084                 257.52       28.647   \n",
       "3  1.533 -0.084                 193.14       28.647   \n",
       "4  1.533 -0.084                 193.14       28.650   \n",
       "\n",
       "   value of one turn of screw  velocity of light in air (km/s)  \\\n",
       "0                     0.99614                           299850   \n",
       "1                     0.99614                           299740   \n",
       "2                     0.99614                           299900   \n",
       "3                     0.99598                           300070   \n",
       "4                     0.99598                           299930   \n",
       "\n",
       "                                 remarks  \n",
       "0                        Electric light.  \n",
       "1  P.M. Frame inclined at various angles  \n",
       "2  P.M. Frame inclined at various angles  \n",
       "3  P.M. Frame inclined at various angles  \n",
       "4  P.M. Frame inclined at various angles  "
      ]
     },
     "execution_count": 4,
     "metadata": {},
     "output_type": "execute_result"
    }
   ],
   "source": [
    "light = pd.read_csv(\"datasets/st1/michelson_speed_of_light.csv\")\n",
    "light.head()"
   ]
  },
  {
   "cell_type": "code",
   "execution_count": 5,
   "metadata": {},
   "outputs": [
    {
     "data": {
      "text/plain": [
       "0    299850\n",
       "1    299740\n",
       "2    299900\n",
       "3    300070\n",
       "4    299930\n",
       "Name: velocity of light in air (km/s), dtype: int64"
      ]
     },
     "execution_count": 5,
     "metadata": {},
     "output_type": "execute_result"
    }
   ],
   "source": [
    "speed = light[\"velocity of light in air (km/s)\"]\n",
    "speed.head()"
   ]
  },
  {
   "cell_type": "code",
   "execution_count": 26,
   "metadata": {},
   "outputs": [
    {
     "data": {
      "image/png": "[encoded data removed]",
      "text/plain": [
       "<matplotlib.figure.Figure at 0x18708a9c9b0>"
      ]
     },
     "metadata": {},
     "output_type": "display_data"
    }
   ],
   "source": [
    "mean = np.mean(speed)\n",
    "std = np.std(speed)\n",
    "\n",
    "samples = np.random.normal(mean, std, size = 10000)\n",
    "\n",
    "x, y = ecdf(speed)\n",
    "x_theory, y_theory = ecdf(samples)\n",
    "\n",
    "_ = plt.plot(x, y, marker = \".\", linestyle = \"none\")\n",
    "_ = plt.plot(x_theory, y_theory)\n",
    "\n",
    "_ = plt.xlabel(\"velocity of light in air (km/s)\")\n",
    "_ = plt.ylabel(\"CDF\")\n",
    "\n",
    "plt.margins(0.02)\n",
    "plt.show()"
   ]
  },
  {
   "cell_type": "markdown",
   "metadata": {},
   "source": [
    "Optimal parameters are parameter values that bring the model in closest agreement with the data."
   ]
  },
  {
   "cell_type": "markdown",
   "metadata": {},
   "source": [
    "### Linear regression by least squares\n",
    "\n",
    "* Least squares: The process of finding the parameters for which the sum of the squares of the residuals is minimal."
   ]
  },
  {
   "cell_type": "code",
   "execution_count": 28,
   "metadata": {},
   "outputs": [
    {
     "data": {
      "text/html": [
       "<div>\n",
       "<style>\n",
       "    .dataframe thead tr:only-child th {\n",
       "        text-align: right;\n",
       "    }\n",
       "\n",
       "    .dataframe thead th {\n",
       "        text-align: left;\n",
       "    }\n",
       "\n",
       "    .dataframe tbody tr th {\n",
       "        vertical-align: top;\n",
       "    }\n",
       "</style>\n",
       "<table border=\"1\" class=\"dataframe\">\n",
       "  <thead>\n",
       "    <tr style=\"text-align: right;\">\n",
       "      <th></th>\n",
       "      <th>state</th>\n",
       "      <th>county</th>\n",
       "      <th>total_votes</th>\n",
       "      <th>dem_votes</th>\n",
       "      <th>rep_votes</th>\n",
       "      <th>other_votes</th>\n",
       "      <th>dem_share</th>\n",
       "      <th>east_west</th>\n",
       "    </tr>\n",
       "  </thead>\n",
       "  <tbody>\n",
       "    <tr>\n",
       "      <th>0</th>\n",
       "      <td>AK</td>\n",
       "      <td>State House District 8, Denali-University</td>\n",
       "      <td>10320</td>\n",
       "      <td>4995</td>\n",
       "      <td>4983</td>\n",
       "      <td>342</td>\n",
       "      <td>50.06</td>\n",
       "      <td>west</td>\n",
       "    </tr>\n",
       "    <tr>\n",
       "      <th>1</th>\n",
       "      <td>AK</td>\n",
       "      <td>State House District 37, Bristol Bay-Aleuti</td>\n",
       "      <td>4665</td>\n",
       "      <td>1868</td>\n",
       "      <td>2661</td>\n",
       "      <td>136</td>\n",
       "      <td>41.24</td>\n",
       "      <td>west</td>\n",
       "    </tr>\n",
       "    <tr>\n",
       "      <th>2</th>\n",
       "      <td>AK</td>\n",
       "      <td>State House District 12, Richardson-Glenn H</td>\n",
       "      <td>7589</td>\n",
       "      <td>1914</td>\n",
       "      <td>5467</td>\n",
       "      <td>208</td>\n",
       "      <td>25.93</td>\n",
       "      <td>west</td>\n",
       "    </tr>\n",
       "    <tr>\n",
       "      <th>3</th>\n",
       "      <td>AK</td>\n",
       "      <td>State House District 13, Greater Palmer</td>\n",
       "      <td>11526</td>\n",
       "      <td>2800</td>\n",
       "      <td>8432</td>\n",
       "      <td>294</td>\n",
       "      <td>24.93</td>\n",
       "      <td>west</td>\n",
       "    </tr>\n",
       "    <tr>\n",
       "      <th>4</th>\n",
       "      <td>AK</td>\n",
       "      <td>State House District 14, Greater Wasilla</td>\n",
       "      <td>10456</td>\n",
       "      <td>2132</td>\n",
       "      <td>8108</td>\n",
       "      <td>216</td>\n",
       "      <td>20.82</td>\n",
       "      <td>west</td>\n",
       "    </tr>\n",
       "  </tbody>\n",
       "</table>\n",
       "</div>"
      ],
      "text/plain": [
       "  state                                       county  total_votes  dem_votes  \\\n",
       "0    AK    State House District 8, Denali-University        10320       4995   \n",
       "1    AK  State House District 37, Bristol Bay-Aleuti         4665       1868   \n",
       "2    AK  State House District 12, Richardson-Glenn H         7589       1914   \n",
       "3    AK      State House District 13, Greater Palmer        11526       2800   \n",
       "4    AK     State House District 14, Greater Wasilla        10456       2132   \n",
       "\n",
       "   rep_votes  other_votes  dem_share east_west  \n",
       "0       4983          342      50.06      west  \n",
       "1       2661          136      41.24      west  \n",
       "2       5467          208      25.93      west  \n",
       "3       8432          294      24.93      west  \n",
       "4       8108          216      20.82      west  "
      ]
     },
     "execution_count": 28,
     "metadata": {},
     "output_type": "execute_result"
    }
   ],
   "source": [
    "df_all_states = pd.read_csv(\"datasets/st1/2008_all_states.csv\")\n",
    "df_all_states.head()"
   ]
  },
  {
   "cell_type": "code",
   "execution_count": 29,
   "metadata": {
    "collapsed": true
   },
   "outputs": [],
   "source": [
    "total_votes = df_all_states[\"total_votes\"]\n",
    "dem_share = df_all_states[\"dem_share\"]"
   ]
  },
  {
   "cell_type": "code",
   "execution_count": 30,
   "metadata": {},
   "outputs": [
    {
     "name": "stdout",
     "output_type": "stream",
     "text": [
      "Slope: 3.37055368645e-05\n",
      "Intercept: 40.8087905358\n"
     ]
    }
   ],
   "source": [
    "slope, intercept = np.polyfit(total_votes, dem_share, 1)\n",
    "\n",
    "print(\"Slope:\", slope)\n",
    "print(\"Intercept:\", intercept)"
   ]
  },
  {
   "cell_type": "code",
   "execution_count": 35,
   "metadata": {},
   "outputs": [],
   "source": [
    "litfert = pd.read_csv(\"datasets/st2/female_literacy_fertility.csv\")"
   ]
  },
  {
   "cell_type": "code",
   "execution_count": 36,
   "metadata": {},
   "outputs": [
    {
     "data": {
      "text/html": [
       "<div>\n",
       "<style>\n",
       "    .dataframe thead tr:only-child th {\n",
       "        text-align: right;\n",
       "    }\n",
       "\n",
       "    .dataframe thead th {\n",
       "        text-align: left;\n",
       "    }\n",
       "\n",
       "    .dataframe tbody tr th {\n",
       "        vertical-align: top;\n",
       "    }\n",
       "</style>\n",
       "<table border=\"1\" class=\"dataframe\">\n",
       "  <thead>\n",
       "    <tr style=\"text-align: right;\">\n",
       "      <th></th>\n",
       "      <th>Country</th>\n",
       "      <th>Continent</th>\n",
       "      <th>female literacy</th>\n",
       "      <th>fertility</th>\n",
       "      <th>population</th>\n",
       "      <th>illiteracy</th>\n",
       "    </tr>\n",
       "  </thead>\n",
       "  <tbody>\n",
       "    <tr>\n",
       "      <th>0</th>\n",
       "      <td>Chine</td>\n",
       "      <td>ASI</td>\n",
       "      <td>90.5</td>\n",
       "      <td>1.769</td>\n",
       "      <td>1,324,655,000</td>\n",
       "      <td>9.5</td>\n",
       "    </tr>\n",
       "    <tr>\n",
       "      <th>1</th>\n",
       "      <td>Inde</td>\n",
       "      <td>ASI</td>\n",
       "      <td>50.8</td>\n",
       "      <td>2.682</td>\n",
       "      <td>1,139,964,932</td>\n",
       "      <td>49.2</td>\n",
       "    </tr>\n",
       "    <tr>\n",
       "      <th>2</th>\n",
       "      <td>USA</td>\n",
       "      <td>NAM</td>\n",
       "      <td>99.0</td>\n",
       "      <td>2.077</td>\n",
       "      <td>304,060,000</td>\n",
       "      <td>1.0</td>\n",
       "    </tr>\n",
       "    <tr>\n",
       "      <th>3</th>\n",
       "      <td>Indonésie</td>\n",
       "      <td>ASI</td>\n",
       "      <td>88.8</td>\n",
       "      <td>2.132</td>\n",
       "      <td>227,345,082</td>\n",
       "      <td>11.2</td>\n",
       "    </tr>\n",
       "    <tr>\n",
       "      <th>4</th>\n",
       "      <td>Brésil</td>\n",
       "      <td>LAT</td>\n",
       "      <td>90.2</td>\n",
       "      <td>1.827</td>\n",
       "      <td>191,971,506</td>\n",
       "      <td>9.8</td>\n",
       "    </tr>\n",
       "  </tbody>\n",
       "</table>\n",
       "</div>"
      ],
      "text/plain": [
       "    Country  Continent  female literacy  fertility     population  illiteracy\n",
       "0      Chine       ASI             90.5      1.769  1,324,655,000         9.5\n",
       "1       Inde       ASI             50.8      2.682  1,139,964,932        49.2\n",
       "2        USA       NAM             99.0      2.077    304,060,000         1.0\n",
       "3  Indonésie       ASI             88.8      2.132    227,345,082        11.2\n",
       "4     Brésil       LAT             90.2      1.827    191,971,506         9.8"
      ]
     },
     "execution_count": 36,
     "metadata": {},
     "output_type": "execute_result"
    }
   ],
   "source": [
    "litfert[\"illiteracy\"] = 100 - litfert[\"female literacy\"]\n",
    "litfert.head()"
   ]
  },
  {
   "cell_type": "code",
   "execution_count": 37,
   "metadata": {
    "collapsed": true
   },
   "outputs": [],
   "source": [
    "illiteracy = litfert[\"illiteracy\"]\n",
    "fertility = litfert[\"fertility\"]"
   ]
  },
  {
   "cell_type": "code",
   "execution_count": 40,
   "metadata": {},
   "outputs": [
    {
     "data": {
      "image/png": "[encoded data removed]",
      "text/plain": [
       "<matplotlib.figure.Figure at 0x18708cfbf60>"
      ]
     },
     "metadata": {},
     "output_type": "display_data"
    }
   ],
   "source": [
    "_ = plt.plot(illiteracy, fertility, marker = \".\", linestyle = \"none\")\n",
    "_ = plt.xlabel(\"percent illiterate\")\n",
    "_ = plt.ylabel(\"fertility\")\n",
    "\n",
    "plt.margins(0.02)\n",
    "\n",
    "plt.show()"
   ]
  },
  {
   "cell_type": "code",
   "execution_count": 41,
   "metadata": {
    "collapsed": true
   },
   "outputs": [],
   "source": [
    "def pearson_r(x, y):\n",
    "    corr_mat = np.corrcoef(x, y)\n",
    "    return corr_mat[0, 1]"
   ]
  },
  {
   "cell_type": "code",
   "execution_count": 42,
   "metadata": {},
   "outputs": [
    {
     "name": "stdout",
     "output_type": "stream",
     "text": [
      "0.804132402682\n"
     ]
    }
   ],
   "source": [
    "print(pearson_r(illiteracy, fertility))"
   ]
  },
  {
   "cell_type": "code",
   "execution_count": null,
   "metadata": {
    "collapsed": true
   },
   "outputs": [],
   "source": []
  }
 ],
 "metadata": {
  "kernelspec": {
   "display_name": "Python 3",
   "language": "python",
   "name": "python3"
  },
  "language_info": {
   "codemirror_mode": {
    "name": "ipython",
    "version": 3
   },
   "file_extension": ".py",
   "mimetype": "text/x-python",
   "name": "python",
   "nbconvert_exporter": "python",
   "pygments_lexer": "ipython3",
   "version": "3.6.1"
  }
 },
 "nbformat": 4,
 "nbformat_minor": 2
}

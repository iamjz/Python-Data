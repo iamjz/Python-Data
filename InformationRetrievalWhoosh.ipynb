{
 "cells": [
  {
   "cell_type": "markdown",
   "metadata": {},
   "source": [
    "Whoosh is a fast pure python search engine library. The primary design impetus of whoosh is that it is pure python. Whoosh isn't a search engine. Rather, it is a developer library for creating a search engineer. Let's create some search capability within Python. "
   ]
  },
  {
   "cell_type": "code",
   "execution_count": 731,
   "metadata": {},
   "outputs": [],
   "source": [
    "import sys, os, os.path\n",
    "from os.path import join\n",
    "from whoosh import index\n",
    "from whoosh.fields import Schema, TEXT, KEYWORD, ID, STORED\n",
    "from whoosh.analysis import StemmingAnalyzer"
   ]
  },
  {
   "cell_type": "code",
   "execution_count": 732,
   "metadata": {},
   "outputs": [
    {
     "name": "stdout",
     "output_type": "stream",
     "text": [
      "True\n"
     ]
    }
   ],
   "source": [
    "booksource = \"datasets/books-lite\"\n",
    "print(os.path.exists(booksource))"
   ]
  },
  {
   "cell_type": "code",
   "execution_count": 733,
   "metadata": {},
   "outputs": [],
   "source": [
    "bookSourceDirectory = os.listdir(booksource)"
   ]
  },
  {
   "cell_type": "markdown",
   "metadata": {},
   "source": [
    "## Clean up files in the book directory"
   ]
  },
  {
   "cell_type": "code",
   "execution_count": 734,
   "metadata": {
    "collapsed": true
   },
   "outputs": [],
   "source": [
    "def cleanUp(bookSourceDirectory):\n",
    "    for file in bookSourceDirectory:\n",
    "        if not file.endswith(\".txt\"):\n",
    "            filePath = os.path.join(booksource, file)\n",
    "            print(\"Deleting:\", filePath)        \n",
    "            os.remove(filePath)"
   ]
  },
  {
   "cell_type": "code",
   "execution_count": 735,
   "metadata": {},
   "outputs": [
    {
     "name": "stdout",
     "output_type": "stream",
     "text": [
      "Deleting: datasets/books-lite\\MAIN_18k5gdaboatzal4e.seg\n",
      "Deleting: datasets/books-lite\\MAIN_WRITELOCK\n",
      "Deleting: datasets/books-lite\\_MAIN_1.toc\n"
     ]
    }
   ],
   "source": [
    "try:\n",
    "    try:\n",
    "        cleanUp(bookSourceDirectory)\n",
    "    except:\n",
    "        writer.cancel()\n",
    "        cleanUp(bookSourceDirectory)\n",
    "except:\n",
    "    print(\"ERROR:\\n\", sys.exc_info()[0])"
   ]
  },
  {
   "cell_type": "code",
   "execution_count": 736,
   "metadata": {},
   "outputs": [
    {
     "name": "stdout",
     "output_type": "stream",
     "text": [
      "['acts.txt', 'numbers.txt', 'romans.txt']\n"
     ]
    }
   ],
   "source": [
    "print(os.listdir(booksource))"
   ]
  },
  {
   "cell_type": "markdown",
   "metadata": {},
   "source": [
    "## Create schema and load the data"
   ]
  },
  {
   "cell_type": "code",
   "execution_count": 737,
   "metadata": {
    "collapsed": true
   },
   "outputs": [],
   "source": [
    "schema = Schema(filename = ID (stored = True),\n",
    "                content = TEXT (analyzer = StemmingAnalyzer())\n",
    "               )"
   ]
  },
  {
   "cell_type": "code",
   "execution_count": 738,
   "metadata": {},
   "outputs": [],
   "source": [
    "# this clears the existing index in the directory\n",
    "ix = index.create_in(booksource, schema)"
   ]
  },
  {
   "cell_type": "code",
   "execution_count": 739,
   "metadata": {},
   "outputs": [],
   "source": [
    "# get a writer from the created index\n",
    "writer = ix.writer()"
   ]
  },
  {
   "cell_type": "code",
   "execution_count": 740,
   "metadata": {},
   "outputs": [],
   "source": [
    "def loadFile(writer, fileName):\n",
    "    # read contents of a file and load it into a database\n",
    "    with open(fileName, \"r\") as infile:\n",
    "        content = infile.read()\n",
    "        print(content[0:25])\n",
    "        writer.add_document(filename = fileName, content = content)\n",
    "        print(\"Indexed:\", fileName)\n",
    "        print(\"================\")"
   ]
  },
  {
   "cell_type": "code",
   "execution_count": 741,
   "metadata": {
    "collapsed": true
   },
   "outputs": [],
   "source": [
    "def processFolder(writer, folder):\n",
    "    # process a folder for files and subfolders\n",
    "    print(\"Processing folder:\", folder)\n",
    "    for root, dirs, files in os.walk(folder):\n",
    "        print(\"root = \", root)\n",
    "        \n",
    "        # process the files\n",
    "        for file in files:\n",
    "            filename = os.path.join(root, file)\n",
    "            if file.endswith(\".txt\"):                \n",
    "                print(\"Processing File:\", filename)\n",
    "                loadFile(writer, filename)\n",
    "            else:\n",
    "                print(\"Unhandled File:\", filename)\n",
    "                \n",
    "        # recurse into the subfolders\n",
    "        for d in dirs:\n",
    "            print(\"Recursing into:\", d)\n",
    "            processFolder(writer, d)"
   ]
  },
  {
   "cell_type": "code",
   "execution_count": 742,
   "metadata": {},
   "outputs": [
    {
     "name": "stdout",
     "output_type": "stream",
     "text": [
      "Processing folder: datasets/books-lite\n",
      "root =  datasets/books-lite\n",
      "Processing File: datasets/books-lite\\acts.txt\n",
      "ACTS OF THE APOSTLES \n",
      "1:1\n",
      "Indexed: datasets/books-lite\\acts.txt\n",
      "================\n",
      "Unhandled File: datasets/books-lite\\MAIN_r56illgb683xbhv5.pst\n",
      "Unhandled File: datasets/books-lite\\MAIN_r56illgb683xbhv5.trm\n",
      "Unhandled File: datasets/books-lite\\MAIN_WRITELOCK\n",
      "Processing File: datasets/books-lite\\numbers.txt\n",
      "The Fourth Book of Moses \n",
      "Indexed: datasets/books-lite\\numbers.txt\n",
      "================\n",
      "Processing File: datasets/books-lite\\romans.txt\n",
      "ROMANS\n",
      "  1:1: Paul, a ser\n",
      "Indexed: datasets/books-lite\\romans.txt\n",
      "================\n",
      "Unhandled File: datasets/books-lite\\_MAIN_0.toc\n",
      "Recursing into: MAIN.tmp\n",
      "Processing folder: MAIN.tmp\n",
      "root =  datasets/books-lite\\MAIN.tmp\n",
      "Unhandled File: datasets/books-lite\\MAIN.tmp\\i40h0vblm6b2dofx8movploakss3.ctmp\n"
     ]
    }
   ],
   "source": [
    "processFolder(writer, booksource)\n",
    "writer.commit()"
   ]
  },
  {
   "cell_type": "markdown",
   "metadata": {},
   "source": [
    "## Executing Queries\n",
    "http://whoosh.readthedocs.io/en/latest/searching.html"
   ]
  },
  {
   "cell_type": "code",
   "execution_count": 743,
   "metadata": {
    "collapsed": true
   },
   "outputs": [],
   "source": [
    "from whoosh.qparser import QueryParser"
   ]
  },
  {
   "cell_type": "code",
   "execution_count": 744,
   "metadata": {},
   "outputs": [],
   "source": [
    "def search(query):\n",
    "    qp = QueryParser(\"content\", schema = ix.schema)\n",
    "    q = qp.parse(query)\n",
    "    with ix.searcher() as s:\n",
    "        results = s.search(q)\n",
    "        print(\"Results:\", len(results))\n",
    "        print(\"\\n\")\n",
    "        for hit in results:\n",
    "            print(hit)"
   ]
  },
  {
   "cell_type": "code",
   "execution_count": 745,
   "metadata": {},
   "outputs": [
    {
     "name": "stdout",
     "output_type": "stream",
     "text": [
      "Results: 3\n",
      "\n",
      "\n",
      "<Hit {'filename': 'datasets/books-lite\\\\romans.txt'}>\n",
      "<Hit {'filename': 'datasets/books-lite\\\\acts.txt'}>\n",
      "<Hit {'filename': 'datasets/books-lite\\\\numbers.txt'}>\n"
     ]
    }
   ],
   "source": [
    "search(u\"judged OR power\")"
   ]
  },
  {
   "cell_type": "code",
   "execution_count": 746,
   "metadata": {},
   "outputs": [
    {
     "name": "stdout",
     "output_type": "stream",
     "text": [
      "Results: 2\n",
      "\n",
      "\n",
      "<Hit {'filename': 'datasets/books-lite\\\\acts.txt'}>\n",
      "<Hit {'filename': 'datasets/books-lite\\\\numbers.txt'}>\n"
     ]
    }
   ],
   "source": [
    "search(u\"abode\")"
   ]
  },
  {
   "cell_type": "code",
   "execution_count": 747,
   "metadata": {},
   "outputs": [
    {
     "name": "stdout",
     "output_type": "stream",
     "text": [
      "Results: 1\n",
      "\n",
      "\n",
      "<Hit {'filename': 'datasets/books-lite\\\\acts.txt'}>\n"
     ]
    }
   ],
   "source": [
    "search(u\"wealth\")"
   ]
  },
  {
   "cell_type": "code",
   "execution_count": 748,
   "metadata": {},
   "outputs": [
    {
     "name": "stdout",
     "output_type": "stream",
     "text": [
      "Results: 3\n",
      "\n",
      "\n",
      "<Hit {'filename': 'datasets/books-lite\\\\romans.txt'}>\n",
      "<Hit {'filename': 'datasets/books-lite\\\\numbers.txt'}>\n",
      "<Hit {'filename': 'datasets/books-lite\\\\acts.txt'}>\n"
     ]
    }
   ],
   "source": [
    "search(u\"strong AND powerful\")"
   ]
  },
  {
   "cell_type": "code",
   "execution_count": 749,
   "metadata": {},
   "outputs": [
    {
     "name": "stdout",
     "output_type": "stream",
     "text": [
      "Results: 0\n",
      "\n",
      "\n"
     ]
    }
   ],
   "source": [
    "search(u\"weak AND powerless\")"
   ]
  }
 ],
 "metadata": {
  "kernelspec": {
   "display_name": "Python 3",
   "language": "python",
   "name": "python3"
  },
  "language_info": {
   "codemirror_mode": {
    "name": "ipython",
    "version": 3
   },
   "file_extension": ".py",
   "mimetype": "text/x-python",
   "name": "python",
   "nbconvert_exporter": "python",
   "pygments_lexer": "ipython3",
   "version": "3.6.1"
  }
 },
 "nbformat": 4,
 "nbformat_minor": 2
}

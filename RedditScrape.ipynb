{
 "cells": [
  {
   "cell_type": "code",
   "execution_count": 2,
   "metadata": {},
   "outputs": [],
   "source": [
    "# import libraries\n",
    "import requests\n",
    "from bs4 import BeautifulSoup\n",
    "import pandas as pd\n",
    "import numpy as np"
   ]
  },
  {
   "cell_type": "code",
   "execution_count": 24,
   "metadata": {
    "collapsed": true
   },
   "outputs": [],
   "source": [
    "url = \"https://www.reddit.com/r/consulting/comments/8b3xev/whats_the_toughest_and_most_unexpected_feedback/\""
   ]
  },
  {
   "cell_type": "code",
   "execution_count": 25,
   "metadata": {
    "collapsed": true
   },
   "outputs": [],
   "source": [
    "response = requests.get(url)"
   ]
  },
  {
   "cell_type": "code",
   "execution_count": 26,
   "metadata": {
    "collapsed": true
   },
   "outputs": [],
   "source": [
    "soup = BeautifulSoup(response.text, 'lxml')"
   ]
  },
  {
   "cell_type": "code",
   "execution_count": 31,
   "metadata": {},
   "outputs": [
    {
     "name": "stdout",
     "output_type": "stream",
     "text": [
      "<!DOCTYPE html>\n",
      "<html lang=\"en\" xml:lang=\"en\" xmlns=\"http://www.w3.org/1999/xhtml\"><head><title>What’s the toughest and most unexpected feedback you’ve received from a manager? : consulting</title><meta content=\" reddit, reddit.com, vote, comment, submit \" name=\"keywords\"/><meta content=\"23 year old female consultant here, been 10 months out of school and 8 months into consulting. I’m selfishly posting this because of my own...\" name=\"description\"/><meta content=\"always\" name=\"referrer\"/><meta content=\"text/html; charset=utf-8\" http-equiv=\"Content-Type\"/><link href=\"/static/opensearch.xml\" rel=\"search\" type=\"application/opensearchdescription+xml\"/><link href=\"https://www.reddit.com/r/consulting/comments/8b3xev/whats_the_toughest_and_most_unexpected_feedback/\" rel=\"canonical\"/><link href=\"https://amp.reddit.com/r/consulting/comments/8b3xev/whats_the_toughest_and_most_unexpected_feedback/\" rel=\"amphtml\"/><meta content=\"width=1024\" name=\"viewport\"/><link href=\"https://redd.it/8b3xev\" rel=\n"
     ]
    }
   ],
   "source": [
    "print(str(soup)[0:1000])"
   ]
  },
  {
   "cell_type": "code",
   "execution_count": null,
   "metadata": {
    "collapsed": true
   },
   "outputs": [],
   "source": []
  }
 ],
 "metadata": {
  "kernelspec": {
   "display_name": "Python 3",
   "language": "python",
   "name": "python3"
  },
  "language_info": {
   "codemirror_mode": {
    "name": "ipython",
    "version": 3
   },
   "file_extension": ".py",
   "mimetype": "text/x-python",
   "name": "python",
   "nbconvert_exporter": "python",
   "pygments_lexer": "ipython3",
   "version": "3.6.1"
  }
 },
 "nbformat": 4,
 "nbformat_minor": 2
}

{
 "cells": [
  {
   "cell_type": "code",
   "execution_count": 1,
   "metadata": {
    "collapsed": true
   },
   "outputs": [],
   "source": [
    "# import libraries\n",
    "import requests\n",
    "from bs4 import BeautifulSoup\n",
    "import pandas as pd\n",
    "import numpy as np"
   ]
  },
  {
   "cell_type": "code",
   "execution_count": 2,
   "metadata": {
    "collapsed": true
   },
   "outputs": [],
   "source": [
    "#url = \"http://www.truckstopsandservices.com/location_details.php?id=9796\"\n",
    "\n",
    "url = \"http://www.truckstopsandservices.com/location_details.php?id=5243\""
   ]
  },
  {
   "cell_type": "code",
   "execution_count": 3,
   "metadata": {
    "collapsed": true
   },
   "outputs": [],
   "source": [
    "response = requests.get(url)"
   ]
  },
  {
   "cell_type": "code",
   "execution_count": 4,
   "metadata": {
    "collapsed": true
   },
   "outputs": [],
   "source": [
    "soup = BeautifulSoup(response.text, 'lxml')"
   ]
  },
  {
   "cell_type": "code",
   "execution_count": 5,
   "metadata": {
    "collapsed": true,
    "scrolled": false
   },
   "outputs": [],
   "source": [
    "##print(soup.get_text()[0:5000])\n",
    "\n",
    "##print(str(soup))"
   ]
  },
  {
   "cell_type": "code",
   "execution_count": 6,
   "metadata": {
    "collapsed": true
   },
   "outputs": [],
   "source": [
    "soupString = str(soup)"
   ]
  },
  {
   "cell_type": "code",
   "execution_count": 7,
   "metadata": {
    "collapsed": true
   },
   "outputs": [],
   "source": [
    "lat = soupString.find(\"latitude\", 0)\n",
    "long = soupString.find(\"longitude\", 0)"
   ]
  },
  {
   "cell_type": "code",
   "execution_count": 8,
   "metadata": {},
   "outputs": [
    {
     "data": {
      "text/plain": [
       "'latitude\":\"35.899875'"
      ]
     },
     "execution_count": 8,
     "metadata": {},
     "output_type": "execute_result"
    }
   ],
   "source": [
    "soupString[lat:lat+20]"
   ]
  },
  {
   "cell_type": "code",
   "execution_count": 9,
   "metadata": {},
   "outputs": [
    {
     "data": {
      "text/plain": [
       "'longitude\":\"-84.781338\"'"
      ]
     },
     "execution_count": 9,
     "metadata": {},
     "output_type": "execute_result"
    }
   ],
   "source": [
    "soupString[long:long+23]"
   ]
  },
  {
   "cell_type": "code",
   "execution_count": 10,
   "metadata": {},
   "outputs": [
    {
     "data": {
      "text/plain": [
       "'name=\"keywords\"/>\\n<meta content=\"Find more information about Weigh Station and more businesses in ROCKWOOD on our large truck stop directory\" name=\"description\"/>\\n<link href=\"http://www.truckstopsands'"
      ]
     },
     "execution_count": 10,
     "metadata": {},
     "output_type": "execute_result"
    }
   ],
   "source": [
    "name = soupString.find(\"name\", 0)\n",
    "soupString[name:name+200]"
   ]
  },
  {
   "cell_type": "code",
   "execution_count": 11,
   "metadata": {},
   "outputs": [
    {
     "data": {
      "text/plain": [
       "'http://schema.org\",\"@type\":\"LocalBusiness\",\"@id\":\"//www.truckstopsandservices.com/location_details.php?id=5243\",\"name\":\"Weigh Station\",\"address\":{\"@type\":\"PostalAddress\",\"streetAddress\":\"\",\"addressLocality\":\"ROCKWOOD\",\"addressRegion\":\"TN\",\"postalCode\":\"\"},\"url\":\"\",\"geo\":{\"@type\":\"GeoCoordinates\",\"latitude\":\"35.899875\",\"longitude\":\"-84.781338\"},\"telephone\":\"\",\"image\":\"http://www.truckstopsandservices.com/use_images/ads/weighstation_new.jpg\"}</script></div><div class=\"innerwidth\"><div class=\"clearfix\"><div class=\"section centered\"><h2>This Trucking Database is Free Thanks to the Following Sponsors:</h2'"
      ]
     },
     "execution_count": 11,
     "metadata": {},
     "output_type": "execute_result"
    }
   ],
   "source": [
    "address = soupString.find(\"http://schema.org\", 0)\n",
    "\n",
    "soupString[address:address+700].replace(\"\\r\", \"\").replace(\"\\n\", \"\").replace(\"\\t\", \"\")"
   ]
  },
  {
   "cell_type": "code",
   "execution_count": 13,
   "metadata": {},
   "outputs": [
    {
     "data": {
      "text/plain": [
       "'WEIGH STATION'"
      ]
     },
     "execution_count": 13,
     "metadata": {},
     "output_type": "execute_result"
    }
   ],
   "source": [
    "pageType = soup.find(\"h1\", {\"class\", \"locdetupper\"})\n",
    "pageType.text"
   ]
  },
  {
   "cell_type": "code",
   "execution_count": null,
   "metadata": {
    "collapsed": true
   },
   "outputs": [],
   "source": []
  },
  {
   "cell_type": "code",
   "execution_count": null,
   "metadata": {
    "collapsed": true
   },
   "outputs": [],
   "source": []
  },
  {
   "cell_type": "markdown",
   "metadata": {},
   "source": [
    "## Combine existing Dfs"
   ]
  },
  {
   "cell_type": "code",
   "execution_count": 23,
   "metadata": {},
   "outputs": [],
   "source": [
    "from os import listdir\n",
    "from os.path import isfile, join"
   ]
  },
  {
   "cell_type": "code",
   "execution_count": 24,
   "metadata": {},
   "outputs": [
    {
     "data": {
      "text/plain": [
       "['scraped_4001_4501.csv', 'scraped_4501_5001.csv']"
      ]
     },
     "execution_count": 24,
     "metadata": {},
     "output_type": "execute_result"
    }
   ],
   "source": [
    "mypath = \"datasets\\\\trucking\"\n",
    "files = [f for f in listdir(mypath) if isfile(join(mypath, f))]\n",
    "files"
   ]
  },
  {
   "cell_type": "code",
   "execution_count": 37,
   "metadata": {},
   "outputs": [
    {
     "name": "stdout",
     "output_type": "stream",
     "text": [
      "337\n",
      "499\n"
     ]
    }
   ],
   "source": [
    "df_array = []\n",
    "\n",
    "for f in files:\n",
    "    df = pd.read_csv(\"datasets/trucking/\" + f)\n",
    "    print(len(df))\n",
    "    df_array.append(df)"
   ]
  },
  {
   "cell_type": "code",
   "execution_count": 33,
   "metadata": {},
   "outputs": [
    {
     "data": {
      "text/plain": [
       "2"
      ]
     },
     "execution_count": 33,
     "metadata": {},
     "output_type": "execute_result"
    }
   ],
   "source": [
    "len(df_array)"
   ]
  },
  {
   "cell_type": "code",
   "execution_count": 34,
   "metadata": {
    "collapsed": true
   },
   "outputs": [],
   "source": [
    "final_df = pd.concat(df_array)"
   ]
  },
  {
   "cell_type": "code",
   "execution_count": 38,
   "metadata": {},
   "outputs": [
    {
     "data": {
      "text/plain": [
       "836"
      ]
     },
     "execution_count": 38,
     "metadata": {},
     "output_type": "execute_result"
    }
   ],
   "source": [
    "len(final_df)"
   ]
  },
  {
   "cell_type": "code",
   "execution_count": 39,
   "metadata": {},
   "outputs": [
    {
     "data": {
      "text/html": [
       "<div>\n",
       "<style>\n",
       "    .dataframe thead tr:only-child th {\n",
       "        text-align: right;\n",
       "    }\n",
       "\n",
       "    .dataframe thead th {\n",
       "        text-align: left;\n",
       "    }\n",
       "\n",
       "    .dataframe tbody tr th {\n",
       "        vertical-align: top;\n",
       "    }\n",
       "</style>\n",
       "<table border=\"1\" class=\"dataframe\">\n",
       "  <thead>\n",
       "    <tr style=\"text-align: right;\">\n",
       "      <th></th>\n",
       "      <th>sourceID</th>\n",
       "      <th>sourceType</th>\n",
       "      <th>addressType</th>\n",
       "      <th>addressLocality</th>\n",
       "      <th>addressRegion</th>\n",
       "      <th>addressZipCode</th>\n",
       "      <th>ratingValue</th>\n",
       "      <th>ratingCount</th>\n",
       "      <th>latitude</th>\n",
       "      <th>longitude</th>\n",
       "      <th>sourceName</th>\n",
       "      <th>name</th>\n",
       "      <th>telephone</th>\n",
       "      <th>url</th>\n",
       "      <th>desc</th>\n",
       "    </tr>\n",
       "  </thead>\n",
       "  <tbody>\n",
       "    <tr>\n",
       "      <th>0</th>\n",
       "      <td>//www.truckstopsandservices.com/location_detai...</td>\n",
       "      <td>LocalBusiness</td>\n",
       "      <td>PostalAddress</td>\n",
       "      <td>NaN</td>\n",
       "      <td>OK</td>\n",
       "      <td>NaN</td>\n",
       "      <td>1.6667</td>\n",
       "      <td>3.0</td>\n",
       "      <td>NaN</td>\n",
       "      <td>NaN</td>\n",
       "      <td>ARMADILLO ESCORTS</td>\n",
       "      <td>ARMADILLO ESCORTS</td>\n",
       "      <td>316-648-2425</td>\n",
       "      <td>NaN</td>\n",
       "      <td>NEW BRAUNSFELS, TX. SPECIALIZING IN OVERSIZE/O...</td>\n",
       "    </tr>\n",
       "    <tr>\n",
       "      <th>1</th>\n",
       "      <td>//www.truckstopsandservices.com/location_detai...</td>\n",
       "      <td>LocalBusiness</td>\n",
       "      <td>PostalAddress</td>\n",
       "      <td>NaN</td>\n",
       "      <td>OK</td>\n",
       "      <td>NaN</td>\n",
       "      <td>5.0000</td>\n",
       "      <td>1.0</td>\n",
       "      <td>NaN</td>\n",
       "      <td>NaN</td>\n",
       "      <td>TRAILBLAZER PILOT CAR SERVICES, LLC.</td>\n",
       "      <td>TRAILBLAZER PILOT CAR SERVICES, LLC.</td>\n",
       "      <td>800-745-0384</td>\n",
       "      <td>http://www.trailblazerpilotcar.com/</td>\n",
       "      <td>âOUR BUSINESS IS SAFETYâ San Antonio based...</td>\n",
       "    </tr>\n",
       "    <tr>\n",
       "      <th>2</th>\n",
       "      <td>//www.truckstopsandservices.com/location_detai...</td>\n",
       "      <td>LocalBusiness</td>\n",
       "      <td>PostalAddress</td>\n",
       "      <td>NaN</td>\n",
       "      <td>OR</td>\n",
       "      <td>NaN</td>\n",
       "      <td>NaN</td>\n",
       "      <td>NaN</td>\n",
       "      <td>NaN</td>\n",
       "      <td>NaN</td>\n",
       "      <td>G &amp; J PILOT CAR DISPATCHING SERVICE INC</td>\n",
       "      <td>G &amp; J PILOT CAR DISPATCHING SERVICE INC</td>\n",
       "      <td>618-483-5058</td>\n",
       "      <td>NaN</td>\n",
       "      <td>\" YOUR ONE STOP SHOP FOR ALL YOUR PILOT CAR NE...</td>\n",
       "    </tr>\n",
       "    <tr>\n",
       "      <th>3</th>\n",
       "      <td>//www.truckstopsandservices.com/location_detai...</td>\n",
       "      <td>LocalBusiness</td>\n",
       "      <td>PostalAddress</td>\n",
       "      <td>NaN</td>\n",
       "      <td>PA</td>\n",
       "      <td>NaN</td>\n",
       "      <td>4.0000</td>\n",
       "      <td>1.0</td>\n",
       "      <td>NaN</td>\n",
       "      <td>NaN</td>\n",
       "      <td>G &amp; J PILOT CAR DISPATCHING SERVICE INC</td>\n",
       "      <td>G &amp; J PILOT CAR DISPATCHING SERVICE INC</td>\n",
       "      <td>618-483-5058</td>\n",
       "      <td>NaN</td>\n",
       "      <td>\" YOUR ONE STOP SHOP FOR ALL YOUR PILOT CAR NE...</td>\n",
       "    </tr>\n",
       "    <tr>\n",
       "      <th>4</th>\n",
       "      <td>//www.truckstopsandservices.com/location_detai...</td>\n",
       "      <td>LocalBusiness</td>\n",
       "      <td>PostalAddress</td>\n",
       "      <td>NaN</td>\n",
       "      <td>RI</td>\n",
       "      <td>NaN</td>\n",
       "      <td>NaN</td>\n",
       "      <td>NaN</td>\n",
       "      <td>NaN</td>\n",
       "      <td>NaN</td>\n",
       "      <td>G &amp; J PILOT CAR DISPATCHING SERVICE INC</td>\n",
       "      <td>G &amp; J PILOT CAR DISPATCHING SERVICE INC</td>\n",
       "      <td>618-483-5058</td>\n",
       "      <td>NaN</td>\n",
       "      <td>\" YOUR ONE STOP SHOP FOR ALL YOUR PILOT CAR NE...</td>\n",
       "    </tr>\n",
       "  </tbody>\n",
       "</table>\n",
       "</div>"
      ],
      "text/plain": [
       "                                            sourceID     sourceType  \\\n",
       "0  //www.truckstopsandservices.com/location_detai...  LocalBusiness   \n",
       "1  //www.truckstopsandservices.com/location_detai...  LocalBusiness   \n",
       "2  //www.truckstopsandservices.com/location_detai...  LocalBusiness   \n",
       "3  //www.truckstopsandservices.com/location_detai...  LocalBusiness   \n",
       "4  //www.truckstopsandservices.com/location_detai...  LocalBusiness   \n",
       "\n",
       "     addressType addressLocality addressRegion  addressZipCode  ratingValue  \\\n",
       "0  PostalAddress             NaN            OK             NaN       1.6667   \n",
       "1  PostalAddress             NaN            OK             NaN       5.0000   \n",
       "2  PostalAddress             NaN            OR             NaN          NaN   \n",
       "3  PostalAddress             NaN            PA             NaN       4.0000   \n",
       "4  PostalAddress             NaN            RI             NaN          NaN   \n",
       "\n",
       "   ratingCount  latitude  longitude                               sourceName  \\\n",
       "0          3.0       NaN        NaN                        ARMADILLO ESCORTS   \n",
       "1          1.0       NaN        NaN     TRAILBLAZER PILOT CAR SERVICES, LLC.   \n",
       "2          NaN       NaN        NaN  G & J PILOT CAR DISPATCHING SERVICE INC   \n",
       "3          1.0       NaN        NaN  G & J PILOT CAR DISPATCHING SERVICE INC   \n",
       "4          NaN       NaN        NaN  G & J PILOT CAR DISPATCHING SERVICE INC   \n",
       "\n",
       "                                      name     telephone  \\\n",
       "0                        ARMADILLO ESCORTS  316-648-2425   \n",
       "1     TRAILBLAZER PILOT CAR SERVICES, LLC.  800-745-0384   \n",
       "2  G & J PILOT CAR DISPATCHING SERVICE INC  618-483-5058   \n",
       "3  G & J PILOT CAR DISPATCHING SERVICE INC  618-483-5058   \n",
       "4  G & J PILOT CAR DISPATCHING SERVICE INC  618-483-5058   \n",
       "\n",
       "                                   url  \\\n",
       "0                                  NaN   \n",
       "1  http://www.trailblazerpilotcar.com/   \n",
       "2                                  NaN   \n",
       "3                                  NaN   \n",
       "4                                  NaN   \n",
       "\n",
       "                                                desc  \n",
       "0  NEW BRAUNSFELS, TX. SPECIALIZING IN OVERSIZE/O...  \n",
       "1  âOUR BUSINESS IS SAFETYâ San Antonio based...  \n",
       "2  \" YOUR ONE STOP SHOP FOR ALL YOUR PILOT CAR NE...  \n",
       "3  \" YOUR ONE STOP SHOP FOR ALL YOUR PILOT CAR NE...  \n",
       "4  \" YOUR ONE STOP SHOP FOR ALL YOUR PILOT CAR NE...  "
      ]
     },
     "execution_count": 39,
     "metadata": {},
     "output_type": "execute_result"
    }
   ],
   "source": [
    "final_df.head()"
   ]
  },
  {
   "cell_type": "code",
   "execution_count": 40,
   "metadata": {},
   "outputs": [
    {
     "data": {
      "text/html": [
       "<div>\n",
       "<style>\n",
       "    .dataframe thead tr:only-child th {\n",
       "        text-align: right;\n",
       "    }\n",
       "\n",
       "    .dataframe thead th {\n",
       "        text-align: left;\n",
       "    }\n",
       "\n",
       "    .dataframe tbody tr th {\n",
       "        vertical-align: top;\n",
       "    }\n",
       "</style>\n",
       "<table border=\"1\" class=\"dataframe\">\n",
       "  <thead>\n",
       "    <tr style=\"text-align: right;\">\n",
       "      <th></th>\n",
       "      <th>sourceID</th>\n",
       "      <th>sourceType</th>\n",
       "      <th>addressType</th>\n",
       "      <th>addressLocality</th>\n",
       "      <th>addressRegion</th>\n",
       "      <th>addressZipCode</th>\n",
       "      <th>ratingValue</th>\n",
       "      <th>ratingCount</th>\n",
       "      <th>latitude</th>\n",
       "      <th>longitude</th>\n",
       "      <th>sourceName</th>\n",
       "      <th>name</th>\n",
       "      <th>telephone</th>\n",
       "      <th>url</th>\n",
       "      <th>desc</th>\n",
       "    </tr>\n",
       "  </thead>\n",
       "  <tbody>\n",
       "    <tr>\n",
       "      <th>494</th>\n",
       "      <td>//www.truckstopsandservices.com/location_detai...</td>\n",
       "      <td>LocalBusiness</td>\n",
       "      <td>PostalAddress</td>\n",
       "      <td>NaN</td>\n",
       "      <td>WY</td>\n",
       "      <td>NaN</td>\n",
       "      <td>NaN</td>\n",
       "      <td>NaN</td>\n",
       "      <td>NaN</td>\n",
       "      <td>NaN</td>\n",
       "      <td>DALEY INT. AT MILEPOST 201.16</td>\n",
       "      <td>Daley Int. at Milepost 201.16</td>\n",
       "      <td>NaN</td>\n",
       "      <td>NaN</td>\n",
       "      <td>13' 8\"</td>\n",
       "    </tr>\n",
       "    <tr>\n",
       "      <th>495</th>\n",
       "      <td>//www.truckstopsandservices.com/location_detai...</td>\n",
       "      <td>LocalBusiness</td>\n",
       "      <td>PostalAddress</td>\n",
       "      <td>NaN</td>\n",
       "      <td>WY</td>\n",
       "      <td>NaN</td>\n",
       "      <td>NaN</td>\n",
       "      <td>NaN</td>\n",
       "      <td>NaN</td>\n",
       "      <td>NaN</td>\n",
       "      <td>HADSELL INT AT MILEPOST 206.18</td>\n",
       "      <td>Hadsell Int at Milepost 206.18</td>\n",
       "      <td>NaN</td>\n",
       "      <td>NaN</td>\n",
       "      <td>13' 9\"</td>\n",
       "    </tr>\n",
       "    <tr>\n",
       "      <th>496</th>\n",
       "      <td>//www.truckstopsandservices.com/location_detai...</td>\n",
       "      <td>LocalBusiness</td>\n",
       "      <td>PostalAddress</td>\n",
       "      <td>NaN</td>\n",
       "      <td>WY</td>\n",
       "      <td>NaN</td>\n",
       "      <td>NaN</td>\n",
       "      <td>NaN</td>\n",
       "      <td>NaN</td>\n",
       "      <td>NaN</td>\n",
       "      <td>INYAN KARA INT. AT MILEPOST 172.09</td>\n",
       "      <td>Inyan Kara Int. at Milepost 172.09</td>\n",
       "      <td>NaN</td>\n",
       "      <td>NaN</td>\n",
       "      <td>13'  9\"</td>\n",
       "    </tr>\n",
       "    <tr>\n",
       "      <th>497</th>\n",
       "      <td>//www.truckstopsandservices.com/location_detai...</td>\n",
       "      <td>LocalBusiness</td>\n",
       "      <td>PostalAddress</td>\n",
       "      <td>NaN</td>\n",
       "      <td>WY</td>\n",
       "      <td>NaN</td>\n",
       "      <td>NaN</td>\n",
       "      <td>NaN</td>\n",
       "      <td>NaN</td>\n",
       "      <td>NaN</td>\n",
       "      <td>I-25 INTECHANGE AT MILEPOST 3.11</td>\n",
       "      <td>I-25 Intechange at Milepost 3.11</td>\n",
       "      <td>NaN</td>\n",
       "      <td>NaN</td>\n",
       "      <td>13'  0\"</td>\n",
       "    </tr>\n",
       "    <tr>\n",
       "      <th>498</th>\n",
       "      <td>//www.truckstopsandservices.com/location_detai...</td>\n",
       "      <td>LocalBusiness</td>\n",
       "      <td>PostalAddress</td>\n",
       "      <td>GA AND AL BORDER</td>\n",
       "      <td>AL</td>\n",
       "      <td>NaN</td>\n",
       "      <td>2.3333</td>\n",
       "      <td>3.0</td>\n",
       "      <td>33.645313</td>\n",
       "      <td>-85.439246</td>\n",
       "      <td>WEIGH STATION</td>\n",
       "      <td>Weigh Station</td>\n",
       "      <td>NaN</td>\n",
       "      <td>NaN</td>\n",
       "      <td>Parking: exit 5 in GA has a Noble truckstop, P...</td>\n",
       "    </tr>\n",
       "  </tbody>\n",
       "</table>\n",
       "</div>"
      ],
      "text/plain": [
       "                                              sourceID     sourceType  \\\n",
       "494  //www.truckstopsandservices.com/location_detai...  LocalBusiness   \n",
       "495  //www.truckstopsandservices.com/location_detai...  LocalBusiness   \n",
       "496  //www.truckstopsandservices.com/location_detai...  LocalBusiness   \n",
       "497  //www.truckstopsandservices.com/location_detai...  LocalBusiness   \n",
       "498  //www.truckstopsandservices.com/location_detai...  LocalBusiness   \n",
       "\n",
       "       addressType   addressLocality addressRegion  addressZipCode  \\\n",
       "494  PostalAddress               NaN            WY             NaN   \n",
       "495  PostalAddress               NaN            WY             NaN   \n",
       "496  PostalAddress               NaN            WY             NaN   \n",
       "497  PostalAddress               NaN            WY             NaN   \n",
       "498  PostalAddress  GA AND AL BORDER            AL             NaN   \n",
       "\n",
       "     ratingValue  ratingCount   latitude  longitude  \\\n",
       "494          NaN          NaN        NaN        NaN   \n",
       "495          NaN          NaN        NaN        NaN   \n",
       "496          NaN          NaN        NaN        NaN   \n",
       "497          NaN          NaN        NaN        NaN   \n",
       "498       2.3333          3.0  33.645313 -85.439246   \n",
       "\n",
       "                             sourceName                                name  \\\n",
       "494       DALEY INT. AT MILEPOST 201.16       Daley Int. at Milepost 201.16   \n",
       "495      HADSELL INT AT MILEPOST 206.18      Hadsell Int at Milepost 206.18   \n",
       "496  INYAN KARA INT. AT MILEPOST 172.09  Inyan Kara Int. at Milepost 172.09   \n",
       "497    I-25 INTECHANGE AT MILEPOST 3.11    I-25 Intechange at Milepost 3.11   \n",
       "498                       WEIGH STATION                       Weigh Station   \n",
       "\n",
       "    telephone  url                                               desc  \n",
       "494       NaN  NaN                                             13' 8\"  \n",
       "495       NaN  NaN                                             13' 9\"  \n",
       "496       NaN  NaN                                            13'  9\"  \n",
       "497       NaN  NaN                                            13'  0\"  \n",
       "498       NaN  NaN  Parking: exit 5 in GA has a Noble truckstop, P...  "
      ]
     },
     "execution_count": 40,
     "metadata": {},
     "output_type": "execute_result"
    }
   ],
   "source": [
    "final_df.tail()"
   ]
  },
  {
   "cell_type": "code",
   "execution_count": null,
   "metadata": {
    "collapsed": true
   },
   "outputs": [],
   "source": []
  }
 ],
 "metadata": {
  "kernelspec": {
   "display_name": "Python 3",
   "language": "python",
   "name": "python3"
  },
  "language_info": {
   "codemirror_mode": {
    "name": "ipython",
    "version": 3
   },
   "file_extension": ".py",
   "mimetype": "text/x-python",
   "name": "python",
   "nbconvert_exporter": "python",
   "pygments_lexer": "ipython3",
   "version": "3.6.1"
  }
 },
 "nbformat": 4,
 "nbformat_minor": 2
}

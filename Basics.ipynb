{
 "cells": [
  {
   "cell_type": "markdown",
   "metadata": {},
   "source": [
    "## Reading in data"
   ]
  },
  {
   "cell_type": "code",
   "execution_count": 4,
   "metadata": {
    "collapsed": false
   },
   "outputs": [],
   "source": [
    "file = open('datasets/baby-names/NationalNames1.csv', 'r')"
   ]
  },
  {
   "cell_type": "code",
   "execution_count": 5,
   "metadata": {
    "collapsed": true
   },
   "outputs": [],
   "source": [
    "data = file.read()"
   ]
  },
  {
   "cell_type": "code",
   "execution_count": 12,
   "metadata": {
    "collapsed": false
   },
   "outputs": [
    {
     "name": "stdout",
     "output_type": "stream",
     "text": [
      "Id,Name,Year,Gender,Count\n",
      "2,Anna,1880,F,2604\n",
      "3,Emma,1880,F,2003\n",
      "6,Margaret,1880,F,1578\n",
      "10,Sarah,1880\n"
     ]
    }
   ],
   "source": [
    "print(data[0:100])"
   ]
  },
  {
   "cell_type": "code",
   "execution_count": 14,
   "metadata": {
    "collapsed": false
   },
   "outputs": [
    {
     "name": "stdout",
     "output_type": "stream",
     "text": [
      "'Id,Name,Year,Gender,Count\\n2,Anna,1880,F,2604\\n3,Emma,1880,F,2003\\n6,Margaret,1880,F,1578\\n10,Sarah,1880,'\n"
     ]
    }
   ],
   "source": [
    "print(repr(data[0:101]))"
   ]
  },
  {
   "cell_type": "markdown",
   "metadata": {},
   "source": [
    "repr() takes in an input and returns a string output format without escape/special characters. "
   ]
  },
  {
   "cell_type": "code",
   "execution_count": 15,
   "metadata": {
    "collapsed": false
   },
   "outputs": [
    {
     "name": "stdout",
     "output_type": "stream",
     "text": [
      "[['Id,Name,Year,Gender,Count'], ['2,Anna,1880,F,2604'], ['3,Emma,1880,F,2003'], ['6,Margaret,1880,F,1578'], ['10,Sarah,1880,F,1288'], ['11,Annie,1880,F,1258'], ['14,Florence,1880,F,1063'], ['26,Julia,1880,F,783'], ['28,Edith,1880,F,768'], ['30,Rose,1880,F,700'], ['36,Jessie,1880,F,635'], ['44,Lucy,1880,F,590'], ['45,Edna,1880,F,588'], ['53,Katherine,1880,F,502'], ['61,Ellen,1880,F,411'], ['68,Flora,1880,F,365'], ['69,Susie,1880,F,361'], ['74,Sadie,1880,F,317'], ['76,Katie,1880,F,303'], ['82,Alma,1880,F,277']]\n"
     ]
    }
   ],
   "source": [
    "with open('datasets/baby-names/NationalNames1.csv', 'r') as file:\n",
    "    data = file.read()\n",
    "    data_lists = data.split(\"\\n\")\n",
    "    \n",
    "    list_of_lists = []\n",
    "    for line in data_lists:\n",
    "        row = line.split(';')\n",
    "        list_of_lists.append(row)\n",
    "        \n",
    "print(list_of_lists[:20])"
   ]
  },
  {
   "cell_type": "code",
   "execution_count": 20,
   "metadata": {
    "collapsed": false
   },
   "outputs": [],
   "source": [
    "import csv\n",
    "\n",
    "dataList = list(csv.reader(open('datasets/baby-names/NationalNames1.csv'), \\\n",
    "                           delimiter=','))"
   ]
  },
  {
   "cell_type": "code",
   "execution_count": 21,
   "metadata": {
    "collapsed": false
   },
   "outputs": [
    {
     "name": "stdout",
     "output_type": "stream",
     "text": [
      "[['Id', 'Name', 'Year', 'Gender', 'Count'], ['2', 'Anna', '1880', 'F', '2604'], ['3', 'Emma', '1880', 'F', '2003'], ['6', 'Margaret', '1880', 'F', '1578'], ['10', 'Sarah', '1880', 'F', '1288'], ['11', 'Annie', '1880', 'F', '1258'], ['14', 'Florence', '1880', 'F', '1063'], ['26', 'Julia', '1880', 'F', '783'], ['28', 'Edith', '1880', 'F', '768'], ['30', 'Rose', '1880', 'F', '700']]\n"
     ]
    }
   ],
   "source": [
    "print(dataList[:10])"
   ]
  },
  {
   "cell_type": "code",
   "execution_count": 28,
   "metadata": {
    "collapsed": false
   },
   "outputs": [
    {
     "data": {
      "text/plain": [
       "[2604.0, 2003.0, 1578.0, 1288.0, 1258.0]"
      ]
     },
     "execution_count": 28,
     "metadata": {},
     "output_type": "execute_result"
    }
   ],
   "source": [
    "subsetData = dataList[1:1000]\n",
    "\n",
    "count_floats = []\n",
    "\n",
    "for row in subsetData:\n",
    "    count_flo = float(row[4])\n",
    "    count_floats.append(count_flo)\n",
    "    \n",
    "count_floats[0:5]"
   ]
  },
  {
   "cell_type": "code",
   "execution_count": 29,
   "metadata": {
    "collapsed": true
   },
   "outputs": [
    {
     "name": "stdout",
     "output_type": "stream",
     "text": [
      "George\n",
      "Henry\n",
      "Edward\n",
      "Harry\n",
      "Arthur\n",
      "Fred\n",
      "Louis\n",
      "Charlie\n",
      "Clarence\n",
      "Lewis\n",
      "Frederick\n",
      "Roy\n",
      "Tom\n",
      "Martin\n",
      "Herman\n",
      "Francis\n",
      "Harvey\n",
      "Eugene\n",
      "Edwin\n",
      "Ben\n",
      "Charley\n",
      "Paul\n",
      "Luther\n",
      "Lawrence\n",
      "Patrick\n",
      "Oliver\n",
      "August\n",
      "Jack\n",
      "Horace\n",
      "Raymond\n",
      "Warren\n",
      "Ray\n",
      "Anthony\n",
      "Eddie\n",
      "Dennis\n",
      "Alonzo\n",
      "Leon\n",
      "Matthew\n",
      "Levi\n",
      "Moses\n",
      "Everett\n",
      "Winfield\n",
      "Lloyd\n",
      "Mack\n",
      "Jay\n",
      "Jess\n",
      "Noah\n",
      "Aaron\n",
      "Alvin\n",
      "Norman\n",
      "Gilbert\n",
      "Nelson\n",
      "Jasper\n",
      "Silas\n",
      "Christopher\n",
      "Mike\n",
      "Percy\n",
      "Reuben\n",
      "Sylvester\n",
      "Earnest\n",
      "Otis\n",
      "Willard\n",
      "Jose\n",
      "Elbert\n",
      "Wiley\n",
      "Emmett\n",
      "Newton\n",
      "Marvin\n",
      "Ross\n",
      "Edmund\n",
      "Lon\n",
      "Ora\n",
      "Solomon\n",
      "Clayton\n",
      "Irving\n",
      "Hubert\n",
      "Bill\n",
      "Chas\n",
      "Lonnie\n",
      "Byron\n",
      "Edd\n",
      "Emery\n",
      "Jerome\n",
      "Mose\n",
      "Steve\n",
      "Gordon\n",
      "Pete\n",
      "Orville\n",
      "Lorenzo\n",
      "Bob\n",
      "Dock\n",
      "Barney\n",
      "Luke\n",
      "Ike\n",
      "Tony\n",
      "Vincent\n",
      "Emory\n",
      "Isaiah\n",
      "Ezra\n",
      "Lucius\n",
      "Spencer\n",
      "Louie\n",
      "Ned\n",
      "Van\n",
      "Ferdinand\n",
      "Julian\n",
      "Lyman\n",
      "Pink\n",
      "Ruben\n",
      "Sanford\n",
      "Ulysses\n",
      "Walker\n",
      "Wilbert\n",
      "Archibald\n",
      "Caleb\n",
      "Earle\n",
      "Laurence\n",
      "Roger\n",
      "Frederic\n",
      "Madison\n",
      "Karl\n",
      "Wilfred\n",
      "Alphonse\n",
      "Dee\n",
      "Johnny\n",
      "Orin\n",
      "Adrian\n",
      "Ephraim\n",
      "Fritz\n",
      "Giles\n",
      "Harris\n",
      "Isom\n",
      "Jonathan\n",
      "Perley\n",
      "Rolla\n",
      "Sandy\n",
      "Wilford\n",
      "Leander\n",
      "Boyd\n",
      "Ezekiel\n",
      "Issac\n",
      "Orlando\n",
      "Prince\n",
      "Rollie\n",
      "Rollin\n",
      "Stuart\n",
      "Dell\n",
      "Egbert\n",
      "Dean\n",
      "Dorsey\n",
      "Mahlon\n",
      "Nat\n",
      "Raleigh\n",
      "Reginald\n",
      "Rubin\n",
      "Benjamine\n",
      "Carey\n",
      "Eldridge\n",
      "Johnson\n",
      "Mont\n",
      "Pierre\n",
      "Rex\n",
      "Rodney\n",
      "Wheeler\n",
      "Al\n",
      "Alvie\n",
      "Augustine\n",
      "Benjaman\n",
      "Coleman\n",
      "Duncan\n",
      "Luis\n",
      "Nels\n",
      "Pat\n",
      "Santiago\n",
      "Sydney\n",
      "Thaddeus\n",
      "Thornton\n",
      "Travis\n",
      "Basil\n",
      "Baxter\n",
      "Bertrand\n",
      "Buford\n",
      "Gabe\n",
      "Herschel\n",
      "Hezekiah\n",
      "Olin\n",
      "Rolland\n",
      "Turner\n",
      "Almon\n",
      "Denis\n",
      "Doctor\n",
      "Eric\n",
      "Evans\n",
      "Haywood\n",
      "Hilliard\n",
      "Hosea\n",
      "Malachi\n",
      "Orie\n",
      "Shirley\n",
      "Uriah\n",
      "Waldo\n",
      "Warner\n",
      "Wong\n",
      "Alden\n",
      "Carson\n",
      "Doc\n",
      "Eben\n",
      "Elige\n",
      "Elizabeth\n",
      "Freddie\n",
      "Guss\n",
      "Hamp\n",
      "Isadore\n",
      "Jones\n",
      "Lacy\n",
      "Leland\n",
      "Minnie\n",
      "Obie\n",
      "Orrin\n",
      "Oswald\n",
      "Ramon\n",
      "Aron\n",
      "Ashley\n",
      "Bernhard\n",
      "Buster\n",
      "Carleton\n",
      "Clara\n",
      "Clarance\n",
      "Dolphus\n",
      "Elder\n",
      "Flem\n",
      "Florence\n",
      "Hoy\n",
      "Ida\n",
      "Lenard\n",
      "Leopold\n",
      "Manley\n",
      "Odie\n",
      "Oral\n",
      "Orley\n",
      "Press\n",
      "Randall\n",
      "Tilden\n",
      "Worth\n",
      "Bart\n",
      "Benito\n",
      "Billy\n",
      "Bird\n",
      "Claus\n",
      "Cliff\n",
      "Connie\n",
      "Emmitt\n",
      "Gene\n",
      "Hollis\n",
      "Ivey\n",
      "Lyle\n",
      "Mac\n",
      "Mal\n",
      "Rafael\n",
      "Raoul\n",
      "Rose\n",
      "Shelton\n",
      "Tobias\n",
      "Walton\n",
      "Adolf\n",
      "Allison\n",
      "Alpheus\n",
      "Anastacio\n",
      "Annie\n",
      "Arlington\n",
      "Asbury\n",
      "Caesar\n",
      "Candido\n",
      "Clemente\n",
      "Dora\n",
      "Drew\n",
      "Eliza\n",
      "Elsie\n",
      "Garry\n",
      "Gustaf\n",
      "Hallie\n",
      "Holmes\n",
      "Hope\n",
      "Junious\n",
      "Mervin\n",
      "Milford\n",
      "Oda\n",
      "Ottis\n",
      "Rafe\n",
      "Redden\n",
      "Rube\n",
      "Ruby\n",
      "Rupert\n",
      "Salomon\n",
      "Sanders\n",
      "Thad\n",
      "Titus\n",
      "Tracy\n",
      "Vernie\n",
      "Wendell\n",
      "Yee\n",
      "Zeke\n",
      "Abbott\n",
      "Agustus\n",
      "Albertus\n",
      "Artie\n",
      "Baldwin\n",
      "Barnett\n",
      "Bartholomew\n",
      "Blaine\n",
      "Boston\n",
      "Brad\n",
      "Bradford\n",
      "Bradley\n",
      "Cleo\n",
      "Crockett\n",
      "Elie\n",
      "Eliga\n",
      "Gee\n",
      "Gottlieb\n",
      "Gregory\n",
      "Gustavus\n",
      "Halsey\n",
      "Hayden\n",
      "Hermon\n",
      "Humphrey\n",
      "Ivy\n",
      "Justice\n",
      "Katherine\n",
      "Leonidas\n",
      "Lillie\n",
      "Loran\n",
      "Mace\n",
      "Malcom\n",
      "Manly\n",
      "Matthias\n",
      "Merida\n",
      "Miner\n",
      "Myrtle\n",
      "Nate\n",
      "Nora\n",
      "Norval\n",
      "Nova\n",
      "Payton\n",
      "Philo\n",
      "Ransom\n",
      "Reece\n",
      "Sampson\n",
      "Theadore\n",
      "Tilmon\n",
      "Vann\n",
      "Wes\n",
      "Winston\n",
      "Woodie\n",
      "Worthy\n",
      "Wright\n",
      "Zachariah\n",
      "John\n",
      "William\n",
      "George\n",
      "Henry\n",
      "Arthur\n",
      "Clarence\n",
      "Joe\n",
      "Jesse\n",
      "Benjamin\n",
      "Lewis\n",
      "Frederick\n",
      "Tom\n",
      "Earl\n",
      "Eugene\n",
      "Bert\n",
      "Claude\n",
      "Michael\n",
      "Ben\n",
      "Ira\n",
      "Harvey\n",
      "Chester\n",
      "Edwin\n",
      "Luther\n"
     ]
    }
   ],
   "source": [
    "for row in subsetData:\n",
    "    if row[3] == 'M':\n",
    "        print(row[1])"
   ]
  },
  {
   "cell_type": "markdown",
   "metadata": {},
   "source": [
    "## Pandas!"
   ]
  },
  {
   "cell_type": "code",
   "execution_count": 30,
   "metadata": {
    "collapsed": true
   },
   "outputs": [],
   "source": [
    "import pandas as pd\n",
    "\n",
    "with open('datasets/baby-names/NationalNames1.csv', 'r') as file:\n",
    "    df = pd.read_csv(file)\n",
    "    del df['Id']"
   ]
  },
  {
   "cell_type": "code",
   "execution_count": 31,
   "metadata": {
    "collapsed": false
   },
   "outputs": [
    {
     "data": {
      "text/html": [
       "<div>\n",
       "<table border=\"1\" class=\"dataframe\">\n",
       "  <thead>\n",
       "    <tr style=\"text-align: right;\">\n",
       "      <th></th>\n",
       "      <th>Name</th>\n",
       "      <th>Year</th>\n",
       "      <th>Gender</th>\n",
       "      <th>Count</th>\n",
       "    </tr>\n",
       "  </thead>\n",
       "  <tbody>\n",
       "    <tr>\n",
       "      <th>0</th>\n",
       "      <td>Anna</td>\n",
       "      <td>1880</td>\n",
       "      <td>F</td>\n",
       "      <td>2604</td>\n",
       "    </tr>\n",
       "    <tr>\n",
       "      <th>1</th>\n",
       "      <td>Emma</td>\n",
       "      <td>1880</td>\n",
       "      <td>F</td>\n",
       "      <td>2003</td>\n",
       "    </tr>\n",
       "    <tr>\n",
       "      <th>2</th>\n",
       "      <td>Margaret</td>\n",
       "      <td>1880</td>\n",
       "      <td>F</td>\n",
       "      <td>1578</td>\n",
       "    </tr>\n",
       "    <tr>\n",
       "      <th>3</th>\n",
       "      <td>Sarah</td>\n",
       "      <td>1880</td>\n",
       "      <td>F</td>\n",
       "      <td>1288</td>\n",
       "    </tr>\n",
       "    <tr>\n",
       "      <th>4</th>\n",
       "      <td>Annie</td>\n",
       "      <td>1880</td>\n",
       "      <td>F</td>\n",
       "      <td>1258</td>\n",
       "    </tr>\n",
       "  </tbody>\n",
       "</table>\n",
       "</div>"
      ],
      "text/plain": [
       "       Name  Year Gender  Count\n",
       "0      Anna  1880      F   2604\n",
       "1      Emma  1880      F   2003\n",
       "2  Margaret  1880      F   1578\n",
       "3     Sarah  1880      F   1288\n",
       "4     Annie  1880      F   1258"
      ]
     },
     "execution_count": 31,
     "metadata": {},
     "output_type": "execute_result"
    }
   ],
   "source": [
    "df.head()"
   ]
  },
  {
   "cell_type": "code",
   "execution_count": 32,
   "metadata": {
    "collapsed": true
   },
   "outputs": [],
   "source": [
    "df2 = pd.read_csv('datasets/baby-names/NationalNames1.csv')"
   ]
  },
  {
   "cell_type": "code",
   "execution_count": 33,
   "metadata": {
    "collapsed": false
   },
   "outputs": [
    {
     "data": {
      "text/html": [
       "<div>\n",
       "<table border=\"1\" class=\"dataframe\">\n",
       "  <thead>\n",
       "    <tr style=\"text-align: right;\">\n",
       "      <th></th>\n",
       "      <th>Id</th>\n",
       "      <th>Name</th>\n",
       "      <th>Year</th>\n",
       "      <th>Gender</th>\n",
       "      <th>Count</th>\n",
       "    </tr>\n",
       "  </thead>\n",
       "  <tbody>\n",
       "    <tr>\n",
       "      <th>0</th>\n",
       "      <td>2</td>\n",
       "      <td>Anna</td>\n",
       "      <td>1880</td>\n",
       "      <td>F</td>\n",
       "      <td>2604</td>\n",
       "    </tr>\n",
       "    <tr>\n",
       "      <th>1</th>\n",
       "      <td>3</td>\n",
       "      <td>Emma</td>\n",
       "      <td>1880</td>\n",
       "      <td>F</td>\n",
       "      <td>2003</td>\n",
       "    </tr>\n",
       "    <tr>\n",
       "      <th>2</th>\n",
       "      <td>6</td>\n",
       "      <td>Margaret</td>\n",
       "      <td>1880</td>\n",
       "      <td>F</td>\n",
       "      <td>1578</td>\n",
       "    </tr>\n",
       "    <tr>\n",
       "      <th>3</th>\n",
       "      <td>10</td>\n",
       "      <td>Sarah</td>\n",
       "      <td>1880</td>\n",
       "      <td>F</td>\n",
       "      <td>1288</td>\n",
       "    </tr>\n",
       "    <tr>\n",
       "      <th>4</th>\n",
       "      <td>11</td>\n",
       "      <td>Annie</td>\n",
       "      <td>1880</td>\n",
       "      <td>F</td>\n",
       "      <td>1258</td>\n",
       "    </tr>\n",
       "  </tbody>\n",
       "</table>\n",
       "</div>"
      ],
      "text/plain": [
       "   Id      Name  Year Gender  Count\n",
       "0   2      Anna  1880      F   2604\n",
       "1   3      Emma  1880      F   2003\n",
       "2   6  Margaret  1880      F   1578\n",
       "3  10     Sarah  1880      F   1288\n",
       "4  11     Annie  1880      F   1258"
      ]
     },
     "execution_count": 33,
     "metadata": {},
     "output_type": "execute_result"
    }
   ],
   "source": [
    "df2.head()"
   ]
  },
  {
   "cell_type": "markdown",
   "metadata": {},
   "source": [
    "## Filters"
   ]
  },
  {
   "cell_type": "code",
   "execution_count": 34,
   "metadata": {
    "collapsed": false
   },
   "outputs": [
    {
     "data": {
      "text/html": [
       "<div>\n",
       "<table border=\"1\" class=\"dataframe\">\n",
       "  <thead>\n",
       "    <tr style=\"text-align: right;\">\n",
       "      <th></th>\n",
       "      <th>Name</th>\n",
       "      <th>Year</th>\n",
       "      <th>Gender</th>\n",
       "      <th>Count</th>\n",
       "    </tr>\n",
       "  </thead>\n",
       "  <tbody>\n",
       "    <tr>\n",
       "      <th>0</th>\n",
       "      <td>Anna</td>\n",
       "      <td>1880</td>\n",
       "      <td>F</td>\n",
       "      <td>2604</td>\n",
       "    </tr>\n",
       "    <tr>\n",
       "      <th>2751</th>\n",
       "      <td>Anna</td>\n",
       "      <td>1884</td>\n",
       "      <td>F</td>\n",
       "      <td>3860</td>\n",
       "    </tr>\n",
       "    <tr>\n",
       "      <th>5074</th>\n",
       "      <td>Anna</td>\n",
       "      <td>1887</td>\n",
       "      <td>F</td>\n",
       "      <td>4227</td>\n",
       "    </tr>\n",
       "    <tr>\n",
       "      <th>5683</th>\n",
       "      <td>Anna</td>\n",
       "      <td>1887</td>\n",
       "      <td>M</td>\n",
       "      <td>12</td>\n",
       "    </tr>\n",
       "    <tr>\n",
       "      <th>5848</th>\n",
       "      <td>Anna</td>\n",
       "      <td>1888</td>\n",
       "      <td>F</td>\n",
       "      <td>4982</td>\n",
       "    </tr>\n",
       "  </tbody>\n",
       "</table>\n",
       "</div>"
      ],
      "text/plain": [
       "      Name  Year Gender  Count\n",
       "0     Anna  1880      F   2604\n",
       "2751  Anna  1884      F   3860\n",
       "5074  Anna  1887      F   4227\n",
       "5683  Anna  1887      M     12\n",
       "5848  Anna  1888      F   4982"
      ]
     },
     "execution_count": 34,
     "metadata": {},
     "output_type": "execute_result"
    }
   ],
   "source": [
    "df[df['Name'] == 'Anna'].head()"
   ]
  },
  {
   "cell_type": "code",
   "execution_count": 36,
   "metadata": {
    "collapsed": false
   },
   "outputs": [
    {
     "data": {
      "text/html": [
       "<div>\n",
       "<table border=\"1\" class=\"dataframe\">\n",
       "  <thead>\n",
       "    <tr style=\"text-align: right;\">\n",
       "      <th></th>\n",
       "      <th>Name</th>\n",
       "      <th>Year</th>\n",
       "      <th>Gender</th>\n",
       "      <th>Count</th>\n",
       "    </tr>\n",
       "  </thead>\n",
       "  <tbody>\n",
       "    <tr>\n",
       "      <th>32142</th>\n",
       "      <td>James</td>\n",
       "      <td>1911</td>\n",
       "      <td>M</td>\n",
       "      <td>9951</td>\n",
       "    </tr>\n",
       "  </tbody>\n",
       "</table>\n",
       "</div>"
      ],
      "text/plain": [
       "        Name  Year Gender  Count\n",
       "32142  James  1911      M   9951"
      ]
     },
     "execution_count": 36,
     "metadata": {},
     "output_type": "execute_result"
    }
   ],
   "source": [
    "df[(df['Name'] == 'James') & (df['Count'] > 6000) & (df['Count'] < 10000)] "
   ]
  },
  {
   "cell_type": "markdown",
   "metadata": {},
   "source": [
    "## Sorting"
   ]
  },
  {
   "cell_type": "code",
   "execution_count": 37,
   "metadata": {
    "collapsed": false
   },
   "outputs": [
    {
     "data": {
      "text/html": [
       "<div>\n",
       "<table border=\"1\" class=\"dataframe\">\n",
       "  <thead>\n",
       "    <tr style=\"text-align: right;\">\n",
       "      <th></th>\n",
       "      <th>Name</th>\n",
       "      <th>Year</th>\n",
       "      <th>Gender</th>\n",
       "      <th>Count</th>\n",
       "    </tr>\n",
       "  </thead>\n",
       "  <tbody>\n",
       "    <tr>\n",
       "      <th>431634</th>\n",
       "      <td>Zyshonne</td>\n",
       "      <td>1998</td>\n",
       "      <td>M</td>\n",
       "      <td>26</td>\n",
       "    </tr>\n",
       "    <tr>\n",
       "      <th>586226</th>\n",
       "      <td>Zytaevius</td>\n",
       "      <td>2012</td>\n",
       "      <td>M</td>\n",
       "      <td>5</td>\n",
       "    </tr>\n",
       "    <tr>\n",
       "      <th>607316</th>\n",
       "      <td>Zytaveon</td>\n",
       "      <td>2014</td>\n",
       "      <td>M</td>\n",
       "      <td>7</td>\n",
       "    </tr>\n",
       "    <tr>\n",
       "      <th>562931</th>\n",
       "      <td>Zytavious</td>\n",
       "      <td>2010</td>\n",
       "      <td>M</td>\n",
       "      <td>6</td>\n",
       "    </tr>\n",
       "    <tr>\n",
       "      <th>607762</th>\n",
       "      <td>Zyyon</td>\n",
       "      <td>2014</td>\n",
       "      <td>M</td>\n",
       "      <td>6</td>\n",
       "    </tr>\n",
       "  </tbody>\n",
       "</table>\n",
       "</div>"
      ],
      "text/plain": [
       "             Name  Year Gender  Count\n",
       "431634   Zyshonne  1998      M     26\n",
       "586226  Zytaevius  2012      M      5\n",
       "607316   Zytaveon  2014      M      7\n",
       "562931  Zytavious  2010      M      6\n",
       "607762      Zyyon  2014      M      6"
      ]
     },
     "execution_count": 37,
     "metadata": {},
     "output_type": "execute_result"
    }
   ],
   "source": [
    "df.sort_values(by = ['Name'], ascending = True).tail()"
   ]
  }
 ],
 "metadata": {
  "kernelspec": {
   "display_name": "Python 3",
   "language": "python",
   "name": "python3"
  },
  "language_info": {
   "codemirror_mode": {
    "name": "ipython",
    "version": 3
   },
   "file_extension": ".py",
   "mimetype": "text/x-python",
   "name": "python",
   "nbconvert_exporter": "python",
   "pygments_lexer": "ipython3",
   "version": "3.6.0"
  }
 },
 "nbformat": 4,
 "nbformat_minor": 2
}

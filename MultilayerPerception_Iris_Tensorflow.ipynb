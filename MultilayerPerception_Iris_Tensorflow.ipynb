{
 "cells": [
  {
   "cell_type": "markdown",
   "metadata": {},
   "source": [
    "Let's use Multilayer Perceptron (MLP) model for the Iris dataset. \n",
    "* https://www.tensorflow.org/api_docs/python/tf/placeholder\n",
    "* https://www.tensorflow.org/api_docs/python/tf/train/GradientDescentOptimizer\n",
    "* https://www.tensorflow.org/api_docs/python/tf/train/AdamOptimizer\n",
    "* https://www.tensorflow.org/api_docs/python/tf/Session\n",
    "* https://www.tensorflow.org/api_docs/python/tf/layers/dense"
   ]
  },
  {
   "cell_type": "code",
   "execution_count": 15,
   "metadata": {},
   "outputs": [],
   "source": [
    "import matplotlib.pyplot as plt\n",
    "%matplotlib inline\n",
    "\n",
    "import os, sys\n",
    "import itertools\n",
    "import numpy as np\n",
    "import pandas as pd\n",
    "import tensorflow as tf\n",
    "\n",
    "import tf_threads\n",
    "tfconfig = tf_threads.limit(tf, 2)\n",
    "\n",
    "from sklearn.preprocessing import scale, LabelBinarizer\n",
    "from sklearn.metrics import f1_score, confusion_matrix\n",
    "from sklearn.metrics import accuracy_score\n",
    "from sklearn.model_selection import train_test_split\n",
    "from sklearn import datasets"
   ]
  },
  {
   "cell_type": "code",
   "execution_count": 16,
   "metadata": {
    "collapsed": true
   },
   "outputs": [],
   "source": [
    "iris = datasets.load_iris()"
   ]
  },
  {
   "cell_type": "code",
   "execution_count": 17,
   "metadata": {
    "collapsed": true
   },
   "outputs": [],
   "source": [
    "X = iris[\"data\"]"
   ]
  },
  {
   "cell_type": "code",
   "execution_count": 18,
   "metadata": {
    "collapsed": true
   },
   "outputs": [],
   "source": [
    "y = iris[\"target\"]"
   ]
  },
  {
   "cell_type": "code",
   "execution_count": 19,
   "metadata": {},
   "outputs": [
    {
     "data": {
      "text/plain": [
       "(150, 4)"
      ]
     },
     "execution_count": 19,
     "metadata": {},
     "output_type": "execute_result"
    }
   ],
   "source": [
    "X.shape"
   ]
  },
  {
   "cell_type": "code",
   "execution_count": 20,
   "metadata": {},
   "outputs": [
    {
     "data": {
      "text/plain": [
       "(150,)"
      ]
     },
     "execution_count": 20,
     "metadata": {},
     "output_type": "execute_result"
    }
   ],
   "source": [
    "y.shape"
   ]
  },
  {
   "cell_type": "code",
   "execution_count": 21,
   "metadata": {
    "collapsed": true
   },
   "outputs": [],
   "source": [
    "X_train, y_train, X_test, y_test = train_test_split(X, y, test_size = 0.05)"
   ]
  },
  {
   "cell_type": "code",
   "execution_count": 22,
   "metadata": {},
   "outputs": [
    {
     "name": "stdout",
     "output_type": "stream",
     "text": [
      "Class distribution: {0: 50, 1: 50, 2: 50}\n"
     ]
    }
   ],
   "source": [
    "print(\"Class distribution:\", {i: np.sum(y == i) for i in np.unique(y)})"
   ]
  },
  {
   "cell_type": "markdown",
   "metadata": {},
   "source": [
    "## Create MLP classifier"
   ]
  },
  {
   "cell_type": "code",
   "execution_count": 23,
   "metadata": {
    "collapsed": true
   },
   "outputs": [],
   "source": [
    "class MultilayerPerceptron(object):\n",
    "    def __init__(self, session, features, labels):\n",
    "        hidden_layer = tf.layers.dense(features, 4, tf.tanh)\n",
    "        hidden_layer2 = tf.layers.dense(hidden_layer, 3, tf.tanh)\n",
    "        predictions = tf.layers.dense(hidden_layer2, 3, tf.sigmoid)\n",
    "\n",
    "        # Loss function\n",
    "        loss = tf.losses.mean_squared_error(labels, tf.squeeze(predictions))\n",
    "\n",
    "        # An optimizer defines the operation for updating parameters within the model.\n",
    "        optimizer = tf.train.AdamOptimizer(learning_rate=0.03)\n",
    "\n",
    "        # Training is defined as minimizing the loss function using gradient descent.\n",
    "        training = optimizer.minimize(loss)\n",
    "        \n",
    "        self.context = [session, training, loss, predictions]\n",
    "        \n",
    "    def fit(self, X_train, y_train, N_BATCH=32):\n",
    "        sess, training, loss, _  = self.context\n",
    "        label_encoding=LabelBinarizer()\n",
    "        label_encoding.fit(y)\n",
    "        \n",
    "        training_loss = []\n",
    "        for epoch in range(25):\n",
    "            epoch_loss = []\n",
    "            for i in range(0, X_train.shape[0], N_BATCH):\n",
    "                _, batch_loss = sess.run([training, loss], feed_dict={\n",
    "                    features: X_train[i: i + N_BATCH],\n",
    "                    labels: label_encoding.transform(y_train[i: i + N_BATCH])\n",
    "                })\n",
    "                epoch_loss.append(batch_loss)\n",
    "            training_loss.append(np.mean(epoch_loss))\n",
    "            print('epoch', epoch, 'loss:', training_loss[-1])\n",
    "        self.training_loss = training_loss\n",
    "        self.label_encoding = label_encoding\n",
    "        \n",
    "    def predict(self, X_test, N_BATCH=32):\n",
    "        sess, _, _, predictions  = self.context\n",
    "        \n",
    "        y_pred = []\n",
    "        for i in range(0, X_test.shape[0], N_BATCH):\n",
    "            batch_prediction = sess.run(predictions, feed_dict={\n",
    "                features: X_test[i: i + N_BATCH]\n",
    "            })\n",
    "            class_probablity = self.label_encoding.inverse_transform(np.exp(batch_prediction))\n",
    "            y_pred.extend(class_probablity)\n",
    "        return np.array(y_pred)"
   ]
  },
  {
   "cell_type": "markdown",
   "metadata": {},
   "source": [
    "Fit the model"
   ]
  },
  {
   "cell_type": "code",
   "execution_count": 24,
   "metadata": {},
   "outputs": [
    {
     "ename": "ValueError",
     "evalue": "Multioutput target data is not supported with label binarization",
     "output_type": "error",
     "traceback": [
      "\u001b[1;31m---------------------------------------------------------------------------\u001b[0m",
      "\u001b[1;31mValueError\u001b[0m                                Traceback (most recent call last)",
      "\u001b[1;32m<ipython-input-24-4f56a5eb488d>\u001b[0m in \u001b[0;36m<module>\u001b[1;34m()\u001b[0m\n\u001b[0;32m      4\u001b[0m     \u001b[0mmlp\u001b[0m \u001b[1;33m=\u001b[0m \u001b[0mMultilayerPerceptron\u001b[0m\u001b[1;33m(\u001b[0m\u001b[0msess\u001b[0m\u001b[1;33m,\u001b[0m \u001b[0mfeatures\u001b[0m\u001b[1;33m,\u001b[0m \u001b[0mlabels\u001b[0m\u001b[1;33m)\u001b[0m\u001b[1;33m\u001b[0m\u001b[0m\n\u001b[0;32m      5\u001b[0m     \u001b[0msess\u001b[0m\u001b[1;33m.\u001b[0m\u001b[0mrun\u001b[0m\u001b[1;33m(\u001b[0m\u001b[0mtf\u001b[0m\u001b[1;33m.\u001b[0m\u001b[0mglobal_variables_initializer\u001b[0m\u001b[1;33m(\u001b[0m\u001b[1;33m)\u001b[0m\u001b[1;33m)\u001b[0m\u001b[1;33m\u001b[0m\u001b[0m\n\u001b[1;32m----> 6\u001b[1;33m     \u001b[0mmlp\u001b[0m\u001b[1;33m.\u001b[0m\u001b[0mfit\u001b[0m\u001b[1;33m(\u001b[0m\u001b[0mX_train\u001b[0m\u001b[1;33m,\u001b[0m \u001b[0my_train\u001b[0m\u001b[1;33m)\u001b[0m\u001b[1;33m\u001b[0m\u001b[0m\n\u001b[0m\u001b[0;32m      7\u001b[0m \u001b[1;33m\u001b[0m\u001b[0m\n\u001b[0;32m      8\u001b[0m     \u001b[0mplt\u001b[0m\u001b[1;33m.\u001b[0m\u001b[0mfigure\u001b[0m\u001b[1;33m(\u001b[0m\u001b[0mfigsize\u001b[0m\u001b[1;33m=\u001b[0m\u001b[1;33m(\u001b[0m\u001b[1;36m6\u001b[0m\u001b[1;33m,\u001b[0m\u001b[1;36m4\u001b[0m\u001b[1;33m)\u001b[0m\u001b[1;33m)\u001b[0m\u001b[1;33m\u001b[0m\u001b[0m\n",
      "\u001b[1;32m<ipython-input-23-17ee43a7bfb1>\u001b[0m in \u001b[0;36mfit\u001b[1;34m(self, X_train, y_train, N_BATCH)\u001b[0m\n\u001b[0;32m     27\u001b[0m                 _, batch_loss = sess.run([training, loss], feed_dict={\n\u001b[0;32m     28\u001b[0m                     \u001b[0mfeatures\u001b[0m\u001b[1;33m:\u001b[0m \u001b[0mX_train\u001b[0m\u001b[1;33m[\u001b[0m\u001b[0mi\u001b[0m\u001b[1;33m:\u001b[0m \u001b[0mi\u001b[0m \u001b[1;33m+\u001b[0m \u001b[0mN_BATCH\u001b[0m\u001b[1;33m]\u001b[0m\u001b[1;33m,\u001b[0m\u001b[1;33m\u001b[0m\u001b[0m\n\u001b[1;32m---> 29\u001b[1;33m                     \u001b[0mlabels\u001b[0m\u001b[1;33m:\u001b[0m \u001b[0mlabel_encoding\u001b[0m\u001b[1;33m.\u001b[0m\u001b[0mtransform\u001b[0m\u001b[1;33m(\u001b[0m\u001b[0my_train\u001b[0m\u001b[1;33m[\u001b[0m\u001b[0mi\u001b[0m\u001b[1;33m:\u001b[0m \u001b[0mi\u001b[0m \u001b[1;33m+\u001b[0m \u001b[0mN_BATCH\u001b[0m\u001b[1;33m]\u001b[0m\u001b[1;33m)\u001b[0m\u001b[1;33m\u001b[0m\u001b[0m\n\u001b[0m\u001b[0;32m     30\u001b[0m                 })\n\u001b[0;32m     31\u001b[0m                 \u001b[0mepoch_loss\u001b[0m\u001b[1;33m.\u001b[0m\u001b[0mappend\u001b[0m\u001b[1;33m(\u001b[0m\u001b[0mbatch_loss\u001b[0m\u001b[1;33m)\u001b[0m\u001b[1;33m\u001b[0m\u001b[0m\n",
      "\u001b[1;32mC:\\Users\\Jacky Zhao\\Anaconda3\\lib\\site-packages\\sklearn\\preprocessing\\label.py\u001b[0m in \u001b[0;36mtransform\u001b[1;34m(self, y)\u001b[0m\n\u001b[0;32m    336\u001b[0m                               \u001b[0mpos_label\u001b[0m\u001b[1;33m=\u001b[0m\u001b[0mself\u001b[0m\u001b[1;33m.\u001b[0m\u001b[0mpos_label\u001b[0m\u001b[1;33m,\u001b[0m\u001b[1;33m\u001b[0m\u001b[0m\n\u001b[0;32m    337\u001b[0m                               \u001b[0mneg_label\u001b[0m\u001b[1;33m=\u001b[0m\u001b[0mself\u001b[0m\u001b[1;33m.\u001b[0m\u001b[0mneg_label\u001b[0m\u001b[1;33m,\u001b[0m\u001b[1;33m\u001b[0m\u001b[0m\n\u001b[1;32m--> 338\u001b[1;33m                               sparse_output=self.sparse_output)\n\u001b[0m\u001b[0;32m    339\u001b[0m \u001b[1;33m\u001b[0m\u001b[0m\n\u001b[0;32m    340\u001b[0m     \u001b[1;32mdef\u001b[0m \u001b[0minverse_transform\u001b[0m\u001b[1;33m(\u001b[0m\u001b[0mself\u001b[0m\u001b[1;33m,\u001b[0m \u001b[0mY\u001b[0m\u001b[1;33m,\u001b[0m \u001b[0mthreshold\u001b[0m\u001b[1;33m=\u001b[0m\u001b[1;32mNone\u001b[0m\u001b[1;33m)\u001b[0m\u001b[1;33m:\u001b[0m\u001b[1;33m\u001b[0m\u001b[0m\n",
      "\u001b[1;32mC:\\Users\\Jacky Zhao\\Anaconda3\\lib\\site-packages\\sklearn\\preprocessing\\label.py\u001b[0m in \u001b[0;36mlabel_binarize\u001b[1;34m(y, classes, neg_label, pos_label, sparse_output)\u001b[0m\n\u001b[0;32m    471\u001b[0m     \u001b[0my_type\u001b[0m \u001b[1;33m=\u001b[0m \u001b[0mtype_of_target\u001b[0m\u001b[1;33m(\u001b[0m\u001b[0my\u001b[0m\u001b[1;33m)\u001b[0m\u001b[1;33m\u001b[0m\u001b[0m\n\u001b[0;32m    472\u001b[0m     \u001b[1;32mif\u001b[0m \u001b[1;34m'multioutput'\u001b[0m \u001b[1;32min\u001b[0m \u001b[0my_type\u001b[0m\u001b[1;33m:\u001b[0m\u001b[1;33m\u001b[0m\u001b[0m\n\u001b[1;32m--> 473\u001b[1;33m         raise ValueError(\"Multioutput target data is not supported with label \"\n\u001b[0m\u001b[0;32m    474\u001b[0m                          \"binarization\")\n\u001b[0;32m    475\u001b[0m     \u001b[1;32mif\u001b[0m \u001b[0my_type\u001b[0m \u001b[1;33m==\u001b[0m \u001b[1;34m'unknown'\u001b[0m\u001b[1;33m:\u001b[0m\u001b[1;33m\u001b[0m\u001b[0m\n",
      "\u001b[1;31mValueError\u001b[0m: Multioutput target data is not supported with label binarization"
     ]
    }
   ],
   "source": [
    "with tf.Session(config=tfconfig) as sess:\n",
    "    features = tf.placeholder(\"float\", (None, 4))\n",
    "    labels = tf.placeholder(\"float\", (None, 3))\n",
    "    mlp = MultilayerPerceptron(sess, features, labels)\n",
    "    sess.run(tf.global_variables_initializer())\n",
    "    mlp.fit(X_train, y_train)\n",
    "    \n",
    "    plt.figure(figsize=(6,4))\n",
    "    plt.title('loss')\n",
    "    plt.plot(range(len(mlp.training_loss)), mlp.training_loss)\n",
    "    \n",
    "    plt.figure(figsize=(4,4))\n",
    "    y_pred = mlp.predict(X_test)\n",
    "    print('accuracy', accuracy_score(y_test, y_pred))\n",
    "    plt.imshow(confusion_matrix(y_test, y_pred))"
   ]
  },
  {
   "cell_type": "code",
   "execution_count": null,
   "metadata": {
    "collapsed": true
   },
   "outputs": [],
   "source": []
  }
 ],
 "metadata": {
  "kernelspec": {
   "display_name": "Python 3",
   "language": "python",
   "name": "python3"
  },
  "language_info": {
   "codemirror_mode": {
    "name": "ipython",
    "version": 3
   },
   "file_extension": ".py",
   "mimetype": "text/x-python",
   "name": "python",
   "nbconvert_exporter": "python",
   "pygments_lexer": "ipython3",
   "version": "3.6.1"
  }
 },
 "nbformat": 4,
 "nbformat_minor": 2
}
